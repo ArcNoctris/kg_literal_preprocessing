{
 "cells": [
  {
   "cell_type": "code",
   "execution_count": null,
   "metadata": {},
   "outputs": [],
   "source": []
  },
  {
   "cell_type": "code",
   "execution_count": 1,
   "metadata": {},
   "outputs": [
    {
     "ename": "FileNotFoundError",
     "evalue": "Please build the library first!",
     "output_type": "error",
     "traceback": [
      "\u001b[1;31m---------------------------------------------------------------------------\u001b[0m",
      "\u001b[1;31mFileNotFoundError\u001b[0m                         Traceback (most recent call last)",
      "Cell \u001b[1;32mIn[1], line 1\u001b[0m\n\u001b[1;32m----> 1\u001b[0m \u001b[39mfrom\u001b[39;00m \u001b[39mthundersvm\u001b[39;00m \u001b[39mimport\u001b[39;00m SVC\n\u001b[0;32m      2\u001b[0m clf \u001b[39m=\u001b[39m SVC()\n\u001b[0;32m      3\u001b[0m X \u001b[39m=\u001b[39m [[\u001b[39m1\u001b[39m,\u001b[39m0\u001b[39m],[\u001b[39m0\u001b[39m,\u001b[39m1\u001b[39m]]\n",
      "File \u001b[1;32mc:\\Users\\Noctris\\.virtualenvs\\rdf-literal-preprocessing-20b3_M0v\\lib\\site-packages\\thundersvm\\__init__.py:10\u001b[0m\n\u001b[0;32m      3\u001b[0m \u001b[39m\"\"\"\u001b[39;00m\n\u001b[0;32m      4\u001b[0m \u001b[39m * Name        : __init__.py\u001b[39;00m\n\u001b[0;32m      5\u001b[0m \u001b[39m * Author      : Locke <luojiahuan001@gmail.com>\u001b[39;00m\n\u001b[0;32m      6\u001b[0m \u001b[39m * Version     : 0.0.1\u001b[39;00m\n\u001b[0;32m      7\u001b[0m \u001b[39m * Description :\u001b[39;00m\n\u001b[0;32m      8\u001b[0m \u001b[39m\"\"\"\u001b[39;00m\n\u001b[0;32m      9\u001b[0m name \u001b[39m=\u001b[39m \u001b[39m\"\u001b[39m\u001b[39mthundersvm\u001b[39m\u001b[39m\"\u001b[39m\n\u001b[1;32m---> 10\u001b[0m \u001b[39mfrom\u001b[39;00m \u001b[39m.\u001b[39;00m\u001b[39mthundersvm\u001b[39;00m \u001b[39mimport\u001b[39;00m \u001b[39m*\u001b[39m\n",
      "File \u001b[1;32mc:\\Users\\Noctris\\.virtualenvs\\rdf-literal-preprocessing-20b3_M0v\\lib\\site-packages\\thundersvm\\thundersvm.py:52\u001b[0m\n\u001b[0;32m     50\u001b[0m         thundersvm \u001b[39m=\u001b[39m CDLL(lib_path)\n\u001b[0;32m     51\u001b[0m     \u001b[39melse\u001b[39;00m:\n\u001b[1;32m---> 52\u001b[0m         \u001b[39mraise\u001b[39;00m \u001b[39mFileNotFoundError\u001b[39;00m(\u001b[39m\"\u001b[39m\u001b[39mPlease build the library first!\u001b[39m\u001b[39m\"\u001b[39m)\n\u001b[0;32m     53\u001b[0m SVM_TYPE \u001b[39m=\u001b[39m [\u001b[39m'\u001b[39m\u001b[39mc_svc\u001b[39m\u001b[39m'\u001b[39m, \u001b[39m'\u001b[39m\u001b[39mnu_svc\u001b[39m\u001b[39m'\u001b[39m, \u001b[39m'\u001b[39m\u001b[39mone_class\u001b[39m\u001b[39m'\u001b[39m, \u001b[39m'\u001b[39m\u001b[39mepsilon_svr\u001b[39m\u001b[39m'\u001b[39m, \u001b[39m'\u001b[39m\u001b[39mnu_svr\u001b[39m\u001b[39m'\u001b[39m]\n\u001b[0;32m     54\u001b[0m KERNEL_TYPE \u001b[39m=\u001b[39m [\u001b[39m'\u001b[39m\u001b[39mlinear\u001b[39m\u001b[39m'\u001b[39m, \u001b[39m'\u001b[39m\u001b[39mpolynomial\u001b[39m\u001b[39m'\u001b[39m, \u001b[39m'\u001b[39m\u001b[39mrbf\u001b[39m\u001b[39m'\u001b[39m, \u001b[39m'\u001b[39m\u001b[39msigmoid\u001b[39m\u001b[39m'\u001b[39m, \u001b[39m'\u001b[39m\u001b[39mprecomputed\u001b[39m\u001b[39m'\u001b[39m]\n",
      "\u001b[1;31mFileNotFoundError\u001b[0m: Please build the library first!"
     ]
    }
   ],
   "source": [
    "from thundersvm import SVC\n",
    "clf = SVC()\n",
    "X = [[1,0],[0,1]]\n",
    "y = [1,0]\n",
    "clf.fit(X,y)"
   ]
  },
  {
   "cell_type": "code",
   "execution_count": null,
   "metadata": {},
   "outputs": [],
   "source": []
  }
 ],
 "metadata": {
  "kernelspec": {
   "display_name": "rdf-literal-preprocessing-20b3_M0v",
   "language": "python",
   "name": "python3"
  },
  "language_info": {
   "codemirror_mode": {
    "name": "ipython",
    "version": 3
   },
   "file_extension": ".py",
   "mimetype": "text/x-python",
   "name": "python",
   "nbconvert_exporter": "python",
   "pygments_lexer": "ipython3",
   "version": "3.8.10"
  },
  "orig_nbformat": 4
 },
 "nbformat": 4,
 "nbformat_minor": 2
}
