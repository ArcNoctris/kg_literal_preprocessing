{
 "cells": [
  {
   "cell_type": "code",
   "execution_count": null,
   "metadata": {},
   "outputs": [],
   "source": [
    "%cd ../../src\n"
   ]
  },
  {
   "cell_type": "code",
   "execution_count": 5,
   "metadata": {},
   "outputs": [
    {
     "name": "stdout",
     "output_type": "stream",
     "text": [
      "loaded data dmg777k (70.45s).\n",
      "pruned (12.38s).\n"
     ]
    }
   ],
   "source": [
    "from dataload import dmg777k\n",
    "data = dmg777k()"
   ]
  },
  {
   "cell_type": "code",
   "execution_count": 14,
   "metadata": {},
   "outputs": [],
   "source": [
    "from utils import get_relevant_relations, ALL_LITERALS\n",
    "import torch\n",
    "rr = get_relevant_relations(data, ALL_LITERALS)\n",
    "for r in rr:\n",
    "    df = data.triples[data.triples[:,1]==r]\n",
    "    new_df = df.clone().detach()\n",
    "\n",
    "    new_df[:, 1] = data.num_relations\n",
    "    new_df[:, 2] = data.num_entities\n",
    "\n",
    "    data.i2r.append(f\"https://master-thesis.com/relations#one-relation-{r}\")\n",
    "    data.r2i[f'https://master-thesis.com/relations#one-relation-{r}'] = data.num_relations\n",
    "\n",
    "    data.i2e.append(\n",
    "                (f'https://master-thesis.com/entitys#one-literal-{r}', 'preprocessed'))\n",
    "    data.e2i[(\n",
    "                f'https://master-thesis.com/entitys#one-literal-{r}', 'preprocessed')] = data.num_entities\n",
    "\n",
    "    data.triples = torch.cat((data.triples, new_df), 0)\n",
    "    data.num_relations += 1\n",
    "    data.num_entities += 1\n"
   ]
  },
  {
   "cell_type": "code",
   "execution_count": 8,
   "metadata": {},
   "outputs": [
    {
     "data": {
      "text/plain": [
       "tensor([[130685,     28,  54795],\n",
       "        [130685,     31, 201822],\n",
       "        [130690,     28,  58948],\n",
       "        ...,\n",
       "        [271591,     31, 211084],\n",
       "        [271593,     31, 211084],\n",
       "        [271598,     31, 211084]], dtype=torch.int32)"
      ]
     },
     "execution_count": 8,
     "metadata": {},
     "output_type": "execute_result"
    }
   ],
   "source": [
    "data.triples[data.triples[:,1]]"
   ]
  },
  {
   "cell_type": "code",
   "execution_count": null,
   "metadata": {},
   "outputs": [],
   "source": [
    "def bin_numbers(data: Data, num_bins=3):\n",
    "    relevent_relations = get_relevant_relations(\n",
    "        data, relevant_types=RDF_NUMBER_TYPES)\n",
    "\n",
    "    i = 0\n",
    "    cumsum = 0\n",
    "    bins = np.arange(num_bins)\n",
    "\n",
    "    for r in relevent_relations:\n",
    "        current_bins = 0\n",
    "        df_sub = data.triples[data.triples[:, 1] == r]\n",
    "        # bins = np.digitize(sub_list,np.histogram(sub_list,num_bins,density = True)[1])\n",
    "        sub_list = np.array([data.i2e[x][0]\n",
    "                            for x in df_sub[:, 2]], dtype=np.float32)\n",
    "        # mean = torch.round(torch.mean(df_sub[:,2],dtype = torch.float64)).to(torch.long)\n",
    "\n",
    "        new = torch.tensor(df_sub[:, 0])\n",
    "\n",
    "        new_df = torch.ones((new.size()[0], 3), dtype=torch.long)\n",
    "\n",
    "        new_df[:, 0] = torch.tensor(df_sub[:, 0])  # values at place 0 (iri)\n",
    "        new_df[:, 1] = data.num_relations + i\n",
    "        binned_list = torch.from_numpy(np.digitize(\n",
    "            sub_list, np.histogram(sub_list, num_bins)[1]))\n",
    "        bi = 0\n",
    "        while len(np.unique(binned_list)) < num_bins - bi:\n",
    "\n",
    "            # print(f'{len(np.unique(binned_list))} vs {num_bins-bi}')\n",
    "            bi += 1\n",
    "            binned_list = torch.from_numpy(np.digitize(\n",
    "                sub_list, np.histogram(sub_list, num_bins - bi)[1]))\n",
    "\n",
    "        current_bins = len(np.unique(binned_list))\n",
    "        new_df[:, 2] = binned_list\n",
    "        new_df[:, 2] += (data.num_entities + ((i - 1) * num_bins)) - 1\n",
    "\n",
    "        data.i2r.append(\n",
    "            f\"https://master-thesis.com/relations#sanity-check-{i}\")\n",
    "        data.r2i[f'https://master-thesis.com/relations#sanity-check-{i}'] = data.num_relations + i\n",
    "\n",
    "        for e in range(current_bins):\n",
    "            data.i2e.append(\n",
    "                (f'https://master-thesis.com/entitys#sanity-check-target-{i}-{e}', 'preprocessed'))\n",
    "            data.e2i[(\n",
    "                f'https://master-thesis.com/entitys#sanity-check-target-{i}-{e}', 'preprocessed')] = data.num_entities + cumsum + e\n",
    "\n",
    "        # i += 1\n",
    "        # cumsum += current_bins\n",
    "\n",
    "        # print(new_df)\n",
    "        # break\n",
    "        data.triples = torch.cat((data.triples, new_df), 0)\n",
    "    data.num_relations += 1\n",
    "    data.num_entities += num_bins\n",
    "\n",
    "    return data"
   ]
  },
  {
   "cell_type": "code",
   "execution_count": null,
   "metadata": {},
   "outputs": [],
   "source": []
  }
 ],
 "metadata": {
  "kernelspec": {
   "display_name": "rdf-literal-preprocessing-20b3_M0v",
   "language": "python",
   "name": "python3"
  },
  "language_info": {
   "codemirror_mode": {
    "name": "ipython",
    "version": 3
   },
   "file_extension": ".py",
   "mimetype": "text/x-python",
   "name": "python",
   "nbconvert_exporter": "python",
   "pygments_lexer": "ipython3",
   "version": "3.8.10"
  },
  "orig_nbformat": 4
 },
 "nbformat": 4,
 "nbformat_minor": 2
}
