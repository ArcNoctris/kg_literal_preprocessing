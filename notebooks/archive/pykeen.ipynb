{
 "cells": [
  {
   "cell_type": "code",
   "execution_count": null,
   "metadata": {},
   "outputs": [],
   "source": [
    "%cd ../../src"
   ]
  },
  {
   "cell_type": "code",
   "execution_count": 7,
   "metadata": {},
   "outputs": [
    {
     "name": "stderr",
     "output_type": "stream",
     "text": [
      "WARNING:pykeen.pipeline.api:No random seed is specified. Setting to 1629162249.\n",
      "INFO:pykeen.pipeline.api:Using device: None\n",
      "INFO:pykeen.datasets.utils:Loading cached preprocessed dataset from file:///C:/Users/Noctris/.data/pykeen/datasets/nations/cache/47DEQpj8HBSa-_TImW-5JCeuQeRkm5NM\n",
      "INFO:pykeen.triples.triples_factory:Loading from file:///C:/Users/Noctris/.data/pykeen/datasets/nations/cache/47DEQpj8HBSa-_TImW-5JCeuQeRkm5NM/training\n",
      "INFO:pykeen.triples.triples_factory:Loading from file:///C:/Users/Noctris/.data/pykeen/datasets/nations/cache/47DEQpj8HBSa-_TImW-5JCeuQeRkm5NM/testing\n",
      "INFO:pykeen.triples.triples_factory:Loading from file:///C:/Users/Noctris/.data/pykeen/datasets/nations/cache/47DEQpj8HBSa-_TImW-5JCeuQeRkm5NM/validation\n",
      "Training epochs on cuda:0: 100%|██████████| 5/5 [00:00<00:00,  5.56epoch/s, loss=1.44, prev_loss=1.39]\n",
      "INFO:pykeen.evaluation.evaluator:Starting batch_size search for evaluation now...\n",
      "INFO:pykeen.evaluation.evaluator:Concluded batch_size search with batch_size=201.\n",
      "Evaluating on cuda:0: 100%|██████████| 201/201 [00:00<00:00, 4.19ktriple/s]\n",
      "INFO:pykeen.evaluation.evaluator:Evaluation took 0.06s seconds\n",
      "INFO:pykeen.triples.triples_factory:Stored TriplesFactory(num_entities=14, num_relations=55, create_inverse_triples=False, num_triples=1592, path=\"C:\\Users\\Noctris\\.virtualenvs\\rdf-literal-preprocessing-20b3_M0v\\Lib\\site-packages\\pykeen\\datasets\\nations\\train.txt\") to file:///E:/00_CODE/03_Master_Thesis/rdf-literal-preprocessing/src/notations_transe/training_triples\n",
      "INFO:pykeen.pipeline.api:Saved to directory: file:///E:/00_CODE/03_Master_Thesis/rdf-literal-preprocessing/src/notations_transe\n"
     ]
    }
   ],
   "source": [
    "from pykeen.pipeline import pipeline\n",
    "from pykeen.evaluation import ClassificationEvaluator, MacroRankBasedEvaluator, RankBasedEvaluator\n",
    "results = pipeline(dataset='Nations', model='TransE',evaluator=RankBasedEvaluator)\n",
    "results.save_to_directory(\"./notations_transe\")"
   ]
  },
  {
   "cell_type": "code",
   "execution_count": 2,
   "metadata": {},
   "outputs": [
    {
     "name": "stderr",
     "output_type": "stream",
     "text": [
      "INFO:pykeen.triples.triples_factory:Stored TriplesFactory(num_entities=14, num_relations=55, create_inverse_triples=False, num_triples=1592, path=\"C:\\Users\\Noctris\\.virtualenvs\\rdf-literal-preprocessing-20b3_M0v\\Lib\\site-packages\\pykeen\\datasets\\nations\\train.txt\") to file:///E:/00_CODE/03_Master_Thesis/rdf-literal-preprocessing/src/notations_transe/training_triples\n",
      "INFO:pykeen.pipeline.api:Saved to directory: file:///E:/00_CODE/03_Master_Thesis/rdf-literal-preprocessing/src/notations_transe\n"
     ]
    }
   ],
   "source": [
    "results.save_to_directory(\"./notations_transe\")"
   ]
  },
  {
   "cell_type": "code",
   "execution_count": 25,
   "metadata": {},
   "outputs": [
    {
     "name": "stderr",
     "output_type": "stream",
     "text": [
      "WARNING:pykeen.triples.triples_factory:You're trying to map triples with 11247 entities and 22 relations that are not in the training set. These triples will be excluded from the mapping.\n",
      "WARNING:pykeen.triples.triples_factory:In total 8871 from 10969 triples were filtered out\n"
     ]
    }
   ],
   "source": [
    "from pykeen.datasets import Nations,CoDExLarge, DBpedia50\n",
    "import torch\n",
    "triples_factory = DBpedia50().training\n",
    "\n",
    "\n",
    "#entity_ids = torch.as_tensor(triples_factory.entities_to_ids([\"ussr\", \"egypt\"]))\n"
   ]
  },
  {
   "cell_type": "code",
   "execution_count": 17,
   "metadata": {},
   "outputs": [
    {
     "data": {
      "text/plain": [
       "tensor([13,  4])"
      ]
     },
     "execution_count": 17,
     "metadata": {},
     "output_type": "execute_result"
    }
   ],
   "source": [
    "entity_ids"
   ]
  },
  {
   "cell_type": "code",
   "execution_count": 28,
   "metadata": {},
   "outputs": [
    {
     "data": {
      "text/plain": [
       "TriplesFactory(num_entities=24624, num_relations=351, create_inverse_triples=False, num_triples=32203, path=\"C:\\Users\\Noctris\\.data\\pykeen\\datasets\\dbpedia50\\train.txt\")"
      ]
     },
     "execution_count": 28,
     "metadata": {},
     "output_type": "execute_result"
    }
   ],
   "source": [
    "triples_factory"
   ]
  },
  {
   "cell_type": "code",
   "execution_count": 32,
   "metadata": {},
   "outputs": [],
   "source": [
    "from pykeen.datasets.nations import NationsLiteral\n",
    "df =NationsLiteral()"
   ]
  },
  {
   "cell_type": "code",
   "execution_count": 42,
   "metadata": {},
   "outputs": [
    {
     "name": "stderr",
     "output_type": "stream",
     "text": [
      "WARNING:pykeen.triples.triples_factory:Reconstructing all label-based triples. This is expensive and rarely needed.\n"
     ]
    },
    {
     "data": {
      "text/plain": [
       "array([['brazil', 'commonbloc1', 'indonesia'],\n",
       "       ['brazil', 'conferences', 'poland'],\n",
       "       ['brazil', 'conferences', 'uk'],\n",
       "       ['brazil', 'embassy', 'indonesia'],\n",
       "       ['brazil', 'independence', 'poland'],\n",
       "       ['brazil', 'intergovorgs3', 'israel'],\n",
       "       ['brazil', 'ngo', 'israel'],\n",
       "       ['brazil', 'ngoorgs3', 'israel'],\n",
       "       ['brazil', 'reltreaties', 'egypt'],\n",
       "       ['brazil', 'reltreaties', 'india'],\n",
       "       ['brazil', 'reltreaties', 'usa'],\n",
       "       ['burma', 'commonbloc2', 'egypt'],\n",
       "       ['burma', 'commonbloc2', 'israel'],\n",
       "       ['burma', 'embassy', 'china'],\n",
       "       ['burma', 'embassy', 'indonesia'],\n",
       "       ['burma', 'embassy', 'israel'],\n",
       "       ['burma', 'embassy', 'ussr'],\n",
       "       ['burma', 'intergovorgs3', 'netherlands'],\n",
       "       ['burma', 'ngoorgs3', 'india'],\n",
       "       ['burma', 'ngoorgs3', 'uk'],\n",
       "       ['burma', 'relbooktranslations', 'uk'],\n",
       "       ['burma', 'reldiplomacy', 'china'],\n",
       "       ['burma', 'reldiplomacy', 'poland'],\n",
       "       ['burma', 'relintergovorgs', 'indonesia'],\n",
       "       ['burma', 'relngo', 'egypt'],\n",
       "       ['burma', 'weightedunvote', 'usa'],\n",
       "       ['china', 'blockpositionindex', 'netherlands'],\n",
       "       ['china', 'commonbloc1', 'indonesia'],\n",
       "       ['china', 'duration', 'india'],\n",
       "       ['china', 'economicaid', 'egypt'],\n",
       "       ['china', 'embassy', 'cuba'],\n",
       "       ['china', 'embassy', 'uk'],\n",
       "       ['china', 'independence', 'egypt'],\n",
       "       ['china', 'intergovorgs3', 'brazil'],\n",
       "       ['china', 'negativecomm', 'indonesia'],\n",
       "       ['china', 'negativecomm', 'usa'],\n",
       "       ['china', 'negativecomm', 'ussr'],\n",
       "       ['china', 'nonviolentbehavior', 'ussr'],\n",
       "       ['china', 'reldiplomacy', 'burma'],\n",
       "       ['china', 'relintergovorgs', 'india'],\n",
       "       ['china', 'reltourism', 'ussr'],\n",
       "       ['china', 'reltreaties', 'indonesia'],\n",
       "       ['china', 'timesinceally', 'egypt'],\n",
       "       ['china', 'timesinceally', 'india'],\n",
       "       ['china', 'timesinceally', 'netherlands'],\n",
       "       ['china', 'treaties', 'ussr'],\n",
       "       ['cuba', 'blockpositionindex', 'uk'],\n",
       "       ['cuba', 'commonbloc1', 'brazil'],\n",
       "       ['cuba', 'commonbloc1', 'india'],\n",
       "       ['cuba', 'conferences', 'poland'],\n",
       "       ['cuba', 'dependent', 'usa'],\n",
       "       ['cuba', 'embassy', 'india'],\n",
       "       ['cuba', 'embassy', 'indonesia'],\n",
       "       ['cuba', 'embassy', 'uk'],\n",
       "       ['cuba', 'independence', 'uk'],\n",
       "       ['cuba', 'intergovorgs', 'brazil'],\n",
       "       ['cuba', 'negativebehavior', 'indonesia'],\n",
       "       ['cuba', 'negativecomm', 'usa'],\n",
       "       ['cuba', 'ngoorgs3', 'brazil'],\n",
       "       ['cuba', 'officialvisits', 'egypt'],\n",
       "       ['cuba', 'reldiplomacy', 'india'],\n",
       "       ['cuba', 'timesinceally', 'india'],\n",
       "       ['cuba', 'treaties', 'china'],\n",
       "       ['cuba', 'weightedunvote', 'israel'],\n",
       "       ['egypt', 'commonbloc1', 'cuba'],\n",
       "       ['egypt', 'exports3', 'uk'],\n",
       "       ['egypt', 'intergovorgs', 'israel'],\n",
       "       ['egypt', 'intergovorgs3', 'israel'],\n",
       "       ['egypt', 'negativecomm', 'israel'],\n",
       "       ['egypt', 'ngo', 'brazil'],\n",
       "       ['egypt', 'reldiplomacy', 'burma'],\n",
       "       ['egypt', 'relintergovorgs', 'indonesia'],\n",
       "       ['egypt', 'timesinceally', 'brazil'],\n",
       "       ['india', 'commonbloc2', 'egypt'],\n",
       "       ['india', 'embassy', 'egypt'],\n",
       "       ['india', 'embassy', 'uk'],\n",
       "       ['india', 'intergovorgs3', 'brazil'],\n",
       "       ['india', 'militaryactions', 'china'],\n",
       "       ['india', 'negativecomm', 'china'],\n",
       "       ['india', 'relintergovorgs', 'egypt'],\n",
       "       ['india', 'relintergovorgs', 'indonesia'],\n",
       "       ['india', 'reltreaties', 'netherlands'],\n",
       "       ['indonesia', 'commonbloc2', 'egypt'],\n",
       "       ['indonesia', 'embassy', 'uk'],\n",
       "       ['indonesia', 'militaryactions', 'china'],\n",
       "       ['indonesia', 'negativebehavior', 'ussr'],\n",
       "       ['indonesia', 'relbooktranslations', 'usa'],\n",
       "       ['indonesia', 'relintergovorgs', 'cuba'],\n",
       "       ['indonesia', 'treaties', 'china'],\n",
       "       ['indonesia', 'unoffialacts', 'india'],\n",
       "       ['israel', 'eemigrants', 'usa'],\n",
       "       ['israel', 'embassy', 'usa'],\n",
       "       ['israel', 'intergovorgs', 'brazil'],\n",
       "       ['israel', 'militaryalliance', 'usa'],\n",
       "       ['israel', 'ngoorgs3', 'usa'],\n",
       "       ['israel', 'relexports', 'netherlands'],\n",
       "       ['israel', 'relngo', 'netherlands'],\n",
       "       ['israel', 'timesincewar', 'egypt'],\n",
       "       ['israel', 'unweightedunvote', 'netherlands'],\n",
       "       ['israel', 'unweightedunvote', 'usa'],\n",
       "       ['israel', 'violentactions', 'jordan'],\n",
       "       ['israel', 'weightedunvote', 'egypt'],\n",
       "       ['israel', 'weightedunvote', 'usa'],\n",
       "       ['israel', 'weightedunvote', 'ussr'],\n",
       "       ['jordan', 'commonbloc1', 'usa'],\n",
       "       ['jordan', 'embassy', 'ussr'],\n",
       "       ['jordan', 'emigrants3', 'usa'],\n",
       "       ['jordan', 'militaryalliance', 'egypt'],\n",
       "       ['jordan', 'reldiplomacy', 'india'],\n",
       "       ['jordan', 'unweightedunvote', 'uk'],\n",
       "       ['jordan', 'warning', 'israel'],\n",
       "       ['netherlands', 'blockpositionindex', 'cuba'],\n",
       "       ['netherlands', 'commonbloc0', 'ussr'],\n",
       "       ['netherlands', 'embassy', 'poland'],\n",
       "       ['netherlands', 'embassy', 'usa'],\n",
       "       ['netherlands', 'intergovorgs', 'egypt'],\n",
       "       ['netherlands', 'intergovorgs', 'poland'],\n",
       "       ['netherlands', 'intergovorgs', 'usa'],\n",
       "       ['netherlands', 'ngo', 'uk'],\n",
       "       ['netherlands', 'ngoorgs3', 'usa'],\n",
       "       ['netherlands', 'timesinceally', 'brazil'],\n",
       "       ['netherlands', 'timesinceally', 'usa'],\n",
       "       ['netherlands', 'tourism3', 'egypt'],\n",
       "       ['netherlands', 'unweightedunvote', 'poland'],\n",
       "       ['poland', 'embassy', 'brazil'],\n",
       "       ['poland', 'embassy', 'israel'],\n",
       "       ['poland', 'exports3', 'uk'],\n",
       "       ['poland', 'ngo', 'ussr'],\n",
       "       ['poland', 'ngoorgs3', 'netherlands'],\n",
       "       ['poland', 'ngoorgs3', 'uk'],\n",
       "       ['poland', 'relbooktranslations', 'uk'],\n",
       "       ['poland', 'relbooktranslations', 'ussr'],\n",
       "       ['poland', 'reldiplomacy', 'brazil'],\n",
       "       ['poland', 'relexports', 'ussr'],\n",
       "       ['poland', 'relintergovorgs', 'brazil'],\n",
       "       ['poland', 'relngo', 'brazil'],\n",
       "       ['poland', 'reltourism', 'ussr'],\n",
       "       ['poland', 'reltreaties', 'uk'],\n",
       "       ['poland', 'timesinceally', 'ussr'],\n",
       "       ['poland', 'tourism3', 'ussr'],\n",
       "       ['poland', 'treaties', 'china'],\n",
       "       ['poland', 'unweightedunvote', 'israel'],\n",
       "       ['uk', 'accusation', 'ussr'],\n",
       "       ['uk', 'blockpositionindex', 'cuba'],\n",
       "       ['uk', 'conferences', 'brazil'],\n",
       "       ['uk', 'conferences', 'usa'],\n",
       "       ['uk', 'economicaid', 'india'],\n",
       "       ['uk', 'embassy', 'cuba'],\n",
       "       ['uk', 'embassy', 'poland'],\n",
       "       ['uk', 'exportbooks', 'china'],\n",
       "       ['uk', 'exportbooks', 'netherlands'],\n",
       "       ['uk', 'exports3', 'india'],\n",
       "       ['uk', 'exports3', 'usa'],\n",
       "       ['uk', 'independence', 'brazil'],\n",
       "       ['uk', 'independence', 'netherlands'],\n",
       "       ['uk', 'independence', 'ussr'],\n",
       "       ['uk', 'intergovorgs', 'israel'],\n",
       "       ['uk', 'intergovorgs', 'ussr'],\n",
       "       ['uk', 'ngoorgs3', 'india'],\n",
       "       ['uk', 'relstudents', 'usa'],\n",
       "       ['uk', 'reltourism', 'netherlands'],\n",
       "       ['uk', 'treaties', 'cuba'],\n",
       "       ['uk', 'unweightedunvote', 'usa'],\n",
       "       ['uk', 'violentactions', 'indonesia'],\n",
       "       ['usa', 'blockpositionindex', 'poland'],\n",
       "       ['usa', 'commonbloc0', 'cuba'],\n",
       "       ['usa', 'independence', 'poland'],\n",
       "       ['usa', 'intergovorgs', 'egypt'],\n",
       "       ['usa', 'ngo', 'brazil'],\n",
       "       ['usa', 'ngoorgs3', 'brazil'],\n",
       "       ['usa', 'pprotests', 'poland'],\n",
       "       ['usa', 'relintergovorgs', 'india'],\n",
       "       ['usa', 'reltourism', 'brazil'],\n",
       "       ['usa', 'timesinceally', 'brazil'],\n",
       "       ['usa', 'timesinceally', 'poland'],\n",
       "       ['usa', 'tourism', 'egypt'],\n",
       "       ['usa', 'tourism', 'uk'],\n",
       "       ['usa', 'treaties', 'poland'],\n",
       "       ['ussr', 'commonbloc1', 'burma'],\n",
       "       ['ussr', 'conferences', 'usa'],\n",
       "       ['ussr', 'embassy', 'indonesia'],\n",
       "       ['ussr', 'embassy', 'poland'],\n",
       "       ['ussr', 'independence', 'jordan'],\n",
       "       ['ussr', 'intergovorgs3', 'brazil'],\n",
       "       ['ussr', 'intergovorgs3', 'egypt'],\n",
       "       ['ussr', 'intergovorgs3', 'israel'],\n",
       "       ['ussr', 'ngo', 'uk'],\n",
       "       ['ussr', 'ngo', 'usa'],\n",
       "       ['ussr', 'ngoorgs3', 'usa'],\n",
       "       ['ussr', 'officialvisits', 'poland'],\n",
       "       ['ussr', 'reldiplomacy', 'israel'],\n",
       "       ['ussr', 'releconomicaid', 'cuba'],\n",
       "       ['ussr', 'relexports', 'uk'],\n",
       "       ['ussr', 'relintergovorgs', 'india'],\n",
       "       ['ussr', 'relngo', 'netherlands'],\n",
       "       ['ussr', 'timesinceally', 'cuba'],\n",
       "       ['ussr', 'timesinceally', 'netherlands'],\n",
       "       ['ussr', 'timesinceally', 'uk'],\n",
       "       ['ussr', 'treaties', 'china']], dtype='<U19')"
      ]
     },
     "execution_count": 42,
     "metadata": {},
     "output_type": "execute_result"
    }
   ],
   "source": [
    "df.validation.triples"
   ]
  },
  {
   "cell_type": "code",
   "execution_count": 43,
   "metadata": {},
   "outputs": [],
   "source": [
    "from pykeen.datasets.wikidata5m import Wikidata5M\n",
    "df = Wikidata5M()"
   ]
  },
  {
   "cell_type": "code",
   "execution_count": 45,
   "metadata": {},
   "outputs": [
    {
     "name": "stderr",
     "output_type": "stream",
     "text": [
      "INFO:pykeen.datasets.base:Requesting dataset from https://zenodo.org/record/5546383/files/wikidata5m_transductive.tar.gz\n",
      "INFO:pykeen.datasets.base:Extracted to C:\\Users\\Noctris\\.data\\pykeen\\datasets\\wikidata5m.\n",
      "WARNING:pykeen.triples.triples_factory:You're trying to map triples with 156 entities and 0 relations that are not in the training set. These triples will be excluded from the mapping.\n",
      "WARNING:pykeen.triples.triples_factory:In total 156 from 5133 triples were filtered out\n",
      "WARNING:pykeen.triples.triples_factory:Reconstructing all label-based triples. This is expensive and rarely needed.\n"
     ]
    },
    {
     "data": {
      "text/plain": [
       "array([['Q1', 'P1343', 'Q602358'],\n",
       "       ['Q1', 'P1419', 'Q1647152'],\n",
       "       ['Q1', 'P1552', 'Q11412'],\n",
       "       ...,\n",
       "       ['Q999999', 'P27', 'Q39'],\n",
       "       ['Q999999', 'P31', 'Q5'],\n",
       "       ['Q999999', 'P641', 'Q179687']], dtype='<U9')"
      ]
     },
     "execution_count": 45,
     "metadata": {},
     "output_type": "execute_result"
    }
   ],
   "source": [
    "df.training.triples"
   ]
  },
  {
   "cell_type": "code",
   "execution_count": 68,
   "metadata": {},
   "outputs": [],
   "source": [
    "from pykeen.triples import TriplesFactory\n",
    "path = 'C:/Users/Noctris/.virtualenvs/rdf-literal-preprocessing-20b3_M0v/Lib/site-packages/pykeen/datasets/nations/literals.txt'\n",
    "df = TriplesFactory.from_path(path)"
   ]
  },
  {
   "cell_type": "code",
   "execution_count": 69,
   "metadata": {},
   "outputs": [
    {
     "data": {
      "text/plain": [
       "TriplesFactory(num_entities=39, num_relations=2, create_inverse_triples=False, num_triples=26, path=\"C:\\Users\\Noctris\\.virtualenvs\\rdf-literal-preprocessing-20b3_M0v\\Lib\\site-packages\\pykeen\\datasets\\nations\\literals.txt\")"
      ]
     },
     "execution_count": 69,
     "metadata": {},
     "output_type": "execute_result"
    }
   ],
   "source": []
  },
  {
   "cell_type": "code",
   "execution_count": 2,
   "metadata": {},
   "outputs": [],
   "source": [
    "from pykeen.triples import TriplesNumericLiteralsFactory, TriplesFactory\n",
    "import pandas as pd\n",
    "\n",
    "path = \"../dataset/nations/literals.txt\"\n",
    "\n",
    "df = TriplesFactory.from_path(path)"
   ]
  },
  {
   "cell_type": "code",
   "execution_count": 66,
   "metadata": {},
   "outputs": [
    {
     "name": "stderr",
     "output_type": "stream",
     "text": [
      "WARNING:pykeen.triples.triples_factory:Reconstructing all label-based triples. This is expensive and rarely needed.\n"
     ]
    },
    {
     "data": {
      "text/plain": [
       "array([['brazil', 'area', '8514877'],\n",
       "       ['brazil', 'population', '204259812'],\n",
       "       ['burma', 'area', '676578'],\n",
       "       ['burma', 'population', '56320206'],\n",
       "       ['china', 'area', '9596960'],\n",
       "       ['china', 'population', '1367485388'],\n",
       "       ['cuba', 'area', '110860'],\n",
       "       ['cuba', 'population', '11031433'],\n",
       "       ['egypt', 'area', '1001450'],\n",
       "       ['egypt', 'population', '88487396'],\n",
       "       ['india', 'area', '3287263'],\n",
       "       ['india', 'population', '1251695584'],\n",
       "       ['indonesia', 'area', '1904569'],\n",
       "       ['indonesia', 'population', '255993674'],\n",
       "       ['israel', 'area', '20770'],\n",
       "       ['israel', 'population', '8049314'],\n",
       "       ['jordan', 'area', '89342'],\n",
       "       ['jordan', 'population', '8117564'],\n",
       "       ['netherlands', 'area', '41543'],\n",
       "       ['netherlands', 'population', '16947904'],\n",
       "       ['poland', 'area', '312685'],\n",
       "       ['poland', 'population', '38562189'],\n",
       "       ['uk', 'area', '243610'],\n",
       "       ['uk', 'population', '64088222'],\n",
       "       ['usa', 'area', '9826675'],\n",
       "       ['usa', 'population', '321368864']], dtype='<U11')"
      ]
     },
     "execution_count": 66,
     "metadata": {},
     "output_type": "execute_result"
    }
   ],
   "source": [
    "df.triples"
   ]
  },
  {
   "cell_type": "code",
   "execution_count": 20,
   "metadata": {},
   "outputs": [
    {
     "name": "stderr",
     "output_type": "stream",
     "text": [
      "WARNING:pykeen.pipeline.api:No random seed is specified. Setting to 1867461545.\n",
      "INFO:pykeen.pipeline.api:Using device: None\n",
      "INFO:pykeen.datasets.utils:Caching preprocessed dataset to file:///C:/Users/Noctris/.data/pykeen/datasets/fb15k237/cache/47DEQpj8HBSa-_TImW-5JCeuQeRkm5NM\n",
      "INFO:pykeen.datasets.base:downloading data from https://download.microsoft.com/download/8/7/0/8700516A-AB3D-4850-B4BB-805C515AECE1/FB15K-237.2.zip to C:\\Users\\Noctris\\.data\\pykeen\\datasets\\fb15k237\\FB15K-237.2.zip\n",
      "WARNING:pykeen.triples.triples_factory:You're trying to map triples with 30 entities and 0 relations that are not in the training set. These triples will be excluded from the mapping.\n",
      "WARNING:pykeen.triples.triples_factory:In total 28 from 20466 triples were filtered out\n",
      "WARNING:pykeen.triples.triples_factory:You're trying to map triples with 9 entities and 0 relations that are not in the training set. These triples will be excluded from the mapping.\n",
      "WARNING:pykeen.triples.triples_factory:In total 9 from 17535 triples were filtered out\n",
      "INFO:pykeen.triples.triples_factory:Stored TriplesFactory(num_entities=14505, num_relations=237, create_inverse_triples=False, num_triples=272115, path=Release\\train.txt) to file:///C:/Users/Noctris/.data/pykeen/datasets/fb15k237/cache/47DEQpj8HBSa-_TImW-5JCeuQeRkm5NM/training\n",
      "INFO:pykeen.datasets.base:Stored training factory to file:///C:/Users/Noctris/.data/pykeen/datasets/fb15k237/cache/47DEQpj8HBSa-_TImW-5JCeuQeRkm5NM/training\n",
      "INFO:pykeen.triples.triples_factory:Stored TriplesFactory(num_entities=14505, num_relations=237, create_inverse_triples=False, num_triples=20438, path=Release\\test.txt) to file:///C:/Users/Noctris/.data/pykeen/datasets/fb15k237/cache/47DEQpj8HBSa-_TImW-5JCeuQeRkm5NM/testing\n",
      "INFO:pykeen.datasets.base:Stored testing factory to file:///C:/Users/Noctris/.data/pykeen/datasets/fb15k237/cache/47DEQpj8HBSa-_TImW-5JCeuQeRkm5NM/testing\n",
      "INFO:pykeen.triples.triples_factory:Stored TriplesFactory(num_entities=14505, num_relations=237, create_inverse_triples=False, num_triples=17526, path=Release\\valid.txt) to file:///C:/Users/Noctris/.data/pykeen/datasets/fb15k237/cache/47DEQpj8HBSa-_TImW-5JCeuQeRkm5NM/validation\n",
      "INFO:pykeen.datasets.base:Stored validation factory to file:///C:/Users/Noctris/.data/pykeen/datasets/fb15k237/cache/47DEQpj8HBSa-_TImW-5JCeuQeRkm5NM/validation\n",
      "Training epochs on cuda:0: 100%|██████████| 5/5 [00:28<00:00,  5.64s/epoch, loss=0.0886, prev_loss=0.142]\n",
      "INFO:pykeen.evaluation.evaluator:Starting batch_size search for evaluation now...\n",
      "c:\\Users\\Noctris\\.virtualenvs\\rdf-literal-preprocessing-20b3_M0v\\lib\\site-packages\\pykeen\\utils.py:544: RuntimeWarning: overflow encountered in scalar add\n",
      "  return sum(\n",
      "INFO:pykeen.evaluation.evaluator:Concluded batch_size search with batch_size=1024.\n",
      "Evaluating on cuda:0: 100%|██████████| 20.4k/20.4k [00:06<00:00, 3.25ktriple/s]\n",
      "INFO:pykeen.evaluation.evaluator:Evaluation took 7.89s seconds\n",
      "WARNING:pykeen.pipeline.api:No random seed is specified. Setting to 1397988873.\n",
      "INFO:pykeen.pipeline.api:Using device: None\n",
      "Training epochs on cuda:0: 100%|██████████| 10/10 [00:01<00:00,  5.84epoch/s, loss=0.821, prev_loss=0.87]\n",
      "INFO:pykeen.evaluation.evaluator:Starting batch_size search for evaluation now...\n",
      "INFO:pykeen.evaluation.evaluator:Concluded batch_size search with batch_size=201.\n",
      "Evaluating on cuda:0: 100%|██████████| 201/201 [00:00<00:00, 4.14ktriple/s]\n",
      "INFO:pykeen.evaluation.evaluator:Evaluation took 0.06s seconds\n",
      "WARNING:pykeen.pipeline.api:No random seed is specified. Setting to 3677924857.\n",
      "INFO:pykeen.pipeline.api:Using device: None\n",
      "Training epochs on cuda:0: 100%|██████████| 10/10 [00:01<00:00,  7.73epoch/s, loss=1.39, prev_loss=1.31]\n",
      "INFO:pykeen.evaluation.evaluator:Starting batch_size search for evaluation now...\n",
      "INFO:pykeen.evaluation.evaluator:Concluded batch_size search with batch_size=201.\n",
      "Evaluating on cuda:0: 100%|██████████| 201/201 [00:00<00:00, 4.06ktriple/s]\n",
      "INFO:pykeen.evaluation.evaluator:Evaluation took 0.06s seconds\n"
     ]
    }
   ],
   "source": [
    "from pykeen.pipeline import pipeline\n",
    "from pykeen.models import TransE\n",
    "NATIONS_TRAIN_PATH = \"../dataset/nations/train.txt\"\n",
    "NATIONS_TEST_PATH = \"../dataset/nations/test.txt\"\n",
    "training = TriplesFactory.from_path(NATIONS_TRAIN_PATH)\n",
    "testing = TriplesFactory.from_path(\n",
    "    NATIONS_TEST_PATH,\n",
    "    entity_to_id=training.entity_to_id,\n",
    "    relation_to_id=training.relation_to_id,\n",
    ")\n",
    "results = []\n",
    "results.append(pipeline(\n",
    "    dataset='FB15k-237',\n",
    "    model='TransE',\n",
    "    epochs=5,  # short epochs for testing - you should go higher\n",
    "))\n",
    "\n",
    "results.append(pipeline(\n",
    "    training= training,\n",
    "    testing= testing,\n",
    "    model='TransE',\n",
    "    epochs=10,\n",
    "    \n",
    "))\n",
    "NATIONS_TRAIN_PATH = \"../dataset/nations/test_appended.txt\"\n",
    "training = TriplesFactory.from_path(NATIONS_TRAIN_PATH)\n",
    "testing = TriplesFactory.from_path(\n",
    "    NATIONS_TEST_PATH,\n",
    "    entity_to_id=training.entity_to_id,\n",
    "    relation_to_id=training.relation_to_id,\n",
    ")\n",
    "results.append(pipeline(\n",
    "    training= training,\n",
    "    testing= testing,\n",
    "    model='TransE',\n",
    "    epochs=10,\n",
    "))\n",
    "#result.save_to_directory('./doctests/test_pre_stratified_transe')"
   ]
  },
  {
   "cell_type": "code",
   "execution_count": 21,
   "metadata": {},
   "outputs": [
    {
     "data": {
      "text/plain": [
       "[<matplotlib.lines.Line2D at 0x218b83d38e0>]"
      ]
     },
     "execution_count": 21,
     "metadata": {},
     "output_type": "execute_result"
    },
    {
     "data": {
      "image/png": "[encoded data removed]",
      "text/plain": [
       "<Figure size 640x480 with 1 Axes>"
      ]
     },
     "metadata": {},
     "output_type": "display_data"
    }
   ],
   "source": [
    "import matplotlib.pyplot as plt\n",
    "plt.plot([r.get_metric(\"adjusted_hits_at_k\") for r in results])\n"
   ]
  },
  {
   "cell_type": "code",
   "execution_count": null,
   "metadata": {},
   "outputs": [],
   "source": []
  }
 ],
 "metadata": {
  "kernelspec": {
   "display_name": "rdf-literal-preprocessing-20b3_M0v",
   "language": "python",
   "name": "python3"
  },
  "language_info": {
   "codemirror_mode": {
    "name": "ipython",
    "version": 3
   },
   "file_extension": ".py",
   "mimetype": "text/x-python",
   "name": "python",
   "nbconvert_exporter": "python",
   "pygments_lexer": "ipython3",
   "version": "3.8.10 (tags/v3.8.10:3d8993a, May  3 2021, 11:48:03) [MSC v.1928 64 bit (AMD64)]"
  },
  "orig_nbformat": 4,
  "vscode": {
   "interpreter": {
    "hash": "fce7f7c728e806eecc03f5bf819d9415bfd370bb29c67dd1d9160ffa0efd741f"
   }
  }
 },
 "nbformat": 4,
 "nbformat_minor": 2
}
