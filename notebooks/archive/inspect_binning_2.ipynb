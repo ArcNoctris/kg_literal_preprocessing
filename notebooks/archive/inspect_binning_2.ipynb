{
 "cells": [
  {
   "cell_type": "code",
   "execution_count": 5,
   "metadata": {},
   "outputs": [
    {
     "name": "stdout",
     "output_type": "stream",
     "text": [
      "e:\\00_CODE\\03_Master_Thesis\\rdf-literal-preprocessing\\src\n"
     ]
    }
   ],
   "source": [
    "%cd ../../src"
   ]
  },
  {
   "cell_type": "code",
   "execution_count": 6,
   "metadata": {},
   "outputs": [],
   "source": [
    "import fire\n",
    "import sys\n",
    "import tqdm\n",
    "import pandas as pd\n",
    "import numpy as np\n",
    "import kgbench as kg\n",
    "from collections import Counter\n",
    "import matplotlib.pyplot as pl\n",
    "import random as rd\n",
    "from operator import itemgetter\n",
    "import torch\n",
    "import torch.nn.functional as F\n",
    "from utils import RDF_NUMBER_TYPES, get_relevant_relations, add_triple, get_p_types, ALL_LITERALS\n",
    "from kgbench.load import Data\n",
    "from typing import List, Sequence, Tuple\n",
    "\n",
    "from kgbench import load, tic, toc, d\n",
    "import numpy as np\n",
    "from sklearn.neighbors import LocalOutlierFactor\n",
    "from utils import URI_PREFIX\n",
    "import numpy as np\n",
    "from sklearn.neighbors import LocalOutlierFactor\n",
    "import datetime"
   ]
  },
  {
   "cell_type": "code",
   "execution_count": 7,
   "metadata": {},
   "outputs": [
    {
     "name": "stdout",
     "output_type": "stream",
     "text": [
      "loaded data amplus (49.12s).\n",
      "pruned (29.03s).\n"
     ]
    }
   ],
   "source": [
    "from dataload import amplus\n",
    "data = amplus()"
   ]
  },
  {
   "cell_type": "code",
   "execution_count": 8,
   "metadata": {},
   "outputs": [
    {
     "name": "stderr",
     "output_type": "stream",
     "text": [
      "C:\\Users\\Noctris\\AppData\\Local\\Temp\\ipykernel_25768\\3451094937.py:6: UserWarning: To copy construct from a tensor, it is recommended to use sourceTensor.clone().detach() or sourceTensor.clone().detach().requires_grad_(True), rather than torch.tensor(sourceTensor).\n",
      "  t[2] = torch.tensor(data.e2i[data.i2e[t[2]]], dtype=torch.int32)\n"
     ]
    }
   ],
   "source": [
    "# REMAP to symmetric relations a <-> b\n",
    "#maped_data = data.triples.copy\n",
    "for t in data.triples:\n",
    "    t[0] = torch.tensor(data.e2i[data.i2e[t[0]]], dtype=torch.int32)\n",
    "    t[1] = torch.tensor(data.r2i[data.i2r[t[1]]], dtype=torch.int32)\n",
    "    t[2] = torch.tensor(data.e2i[data.i2e[t[2]]], dtype=torch.int32)\n",
    "\n",
    "for t in data.training:\n",
    "    t[0] = torch.tensor(data.e2i[data.i2e[t[0]]])\n",
    "\n",
    "for t in data.withheld:\n",
    "    t[0] = torch.tensor(data.e2i[data.i2e[t[0]]])\n",
    "\n"
   ]
  },
  {
   "cell_type": "code",
   "execution_count": 9,
   "metadata": {},
   "outputs": [],
   "source": [
    "base_e_unique = torch.unique(torch.cat([data.triples[:,0],data.triples[:,2]])) \n",
    "base_r_unique = torch.unique(data.triples[:,1])"
   ]
  },
  {
   "cell_type": "code",
   "execution_count": 10,
   "metadata": {},
   "outputs": [],
   "source": [
    "\n",
    "new_e2i = {}\n",
    "new_i2e = []\n",
    "\n",
    "# TODO filter problem possibly here?!?! todo tomorrow\n",
    "    \n",
    "for i in range(len(data.i2e)):\n",
    "    if i in base_e_unique.numpy():\n",
    "        #print(\"here\")\n",
    "        new_e2i[data.i2e[i]] = len(new_i2e)\n",
    "        new_i2e.append(data.i2e[i])\n",
    "\n",
    "    #create new r mapping\n",
    "new_r2i = {}\n",
    "new_i2r = []\n",
    "\n",
    "for i in range(len(data.i2r)):\n",
    "    if i in base_r_unique.numpy():\n",
    "        new_r2i[data.i2r[i]] = len(new_i2r)\n",
    "        new_i2r.append(data.i2r[i])\n",
    "\n",
    "    # apply new mapping for triples\n",
    "#for t in filtered:\n",
    "#    t[0] = new_e2i[data.i2e[t[0]]]\n",
    "#    t[1] = new_r2i[data.i2r[t[1]]]\n",
    "#    t[2] = new_e2i[data.i2e[t[2]]]"
   ]
  },
  {
   "cell_type": "code",
   "execution_count": 11,
   "metadata": {},
   "outputs": [
    {
     "data": {
      "text/plain": [
       "825677"
      ]
     },
     "execution_count": 11,
     "metadata": {},
     "output_type": "execute_result"
    }
   ],
   "source": [
    "len(new_i2e)"
   ]
  },
  {
   "cell_type": "code",
   "execution_count": 17,
   "metadata": {},
   "outputs": [
    {
     "data": {
      "text/plain": [
       "825677"
      ]
     },
     "execution_count": 17,
     "metadata": {},
     "output_type": "execute_result"
    }
   ],
   "source": [
    "import pandas as pd\n",
    "len(pd.unique(new_i2e))"
   ]
  },
  {
   "cell_type": "code",
   "execution_count": null,
   "metadata": {},
   "outputs": [],
   "source": []
  },
  {
   "cell_type": "code",
   "execution_count": 18,
   "metadata": {},
   "outputs": [],
   "source": [
    "# REMAP to symmetric relations a <-> b\n",
    "#maped_data = data.triples.copy\n",
    "for t in data.triples:\n",
    "    t[0] = torch.tensor(new_e2i[data.i2e[t[0]]], dtype=torch.int32)\n",
    "    t[1] = torch.tensor(new_r2i[data.i2r[t[1]]], dtype=torch.int32)\n",
    "    t[2] = torch.tensor(new_e2i[data.i2e[t[2]]], dtype=torch.int32)\n",
    "\n",
    "for t in data.training:\n",
    "    t[0] = torch.tensor(new_e2i[data.i2e[t[0]]])\n",
    "\n",
    "for t in data.withheld:\n",
    "    t[0] = torch.tensor(new_e2i[data.i2e[t[0]]])\n"
   ]
  },
  {
   "cell_type": "code",
   "execution_count": 19,
   "metadata": {},
   "outputs": [],
   "source": [
    "    #update metedata\n",
    "data.num_entities = len(new_i2e)\n",
    "data.num_relations = len(new_i2r)\n",
    "\n",
    "#     #update data\n",
    "#data.triples = filtered\n",
    "data.i2e = new_i2e\n",
    "data.e2i = new_e2i\n",
    "data.i2r = new_i2r\n",
    "data.r2i = new_r2i\n",
    "#data.training = torch.tensor(new_train)\n",
    "#data.withheld = torch.tensor(new_withheld)\n",
    "  "
   ]
  },
  {
   "cell_type": "code",
   "execution_count": 20,
   "metadata": {},
   "outputs": [
    {
     "name": "stdout",
     "output_type": "stream",
     "text": [
      "960\n",
      "len\n",
      "22\n",
      "960\n"
     ]
    }
   ],
   "source": [
    "for r in range(len(data.i2e)):\n",
    "    if data.i2e[r] == ('10', 'none'):\n",
    "        print(data.e2i[data.i2e[r]])\n",
    "        print(\"len\")\n",
    "        print(len(data.triples[data.triples[:,2]== torch.tensor(r, dtype=torch.int32)]))\n",
    "        print(r)\n",
    "    #break"
   ]
  },
  {
   "cell_type": "code",
   "execution_count": 21,
   "metadata": {},
   "outputs": [
    {
     "name": "stdout",
     "output_type": "stream",
     "text": [
      "10\n",
      "deleting relations [825684, 825685], since no occurences are given\n",
      "done deleteing\n",
      "unnamed_dataset\n"
     ]
    }
   ],
   "source": [
    "from preprocess import bin_numbers_10\n",
    "data = bin_numbers_10(data)"
   ]
  },
  {
   "cell_type": "code",
   "execution_count": 22,
   "metadata": {},
   "outputs": [],
   "source": [
    "#from utils import delete_r\n",
    "import torch\n",
    "rr = get_relevant_relations(data,RDF_NUMBER_TYPES)\n",
    "\n",
    "filtered = data.triples[~(torch.isin(data.triples[:,1],torch.Tensor(rr)))]\n",
    "    # get neg e filter\n",
    "base_e_unique = torch.unique(torch.cat([data.triples[:,0],data.triples[:,2]])) \n",
    "filtered_e_unique = torch.unique(torch.cat([filtered[:,0],filtered[:,2]])) \n",
    "neg_e_filter =  base_e_unique[~(torch.isin(base_e_unique, filtered_e_unique))]\n",
    "\n",
    "#get neg r filter\n",
    "base_r_unique = torch.unique(data.triples[:,1])\n",
    "filtered_r_unique = torch.unique(filtered[:,1])\n",
    "neg_r_filter =  base_r_unique[~(torch.isin(base_r_unique, filtered_r_unique))]\n",
    "\n",
    "#create new e mapping\n",
    "new_e2i = {}\n",
    "new_i2e = []\n",
    "\n",
    "\n",
    "    # TODO filter problem possibly here?!?! todo tomorrow\n",
    "    \n",
    "for i in range(len(data.i2e)):\n",
    "    if i not in neg_e_filter.numpy():\n",
    "        #print(\"here\")\n",
    "        new_e2i[data.i2e[i]] = len(new_i2e)\n",
    "        new_i2e.append(data.i2e[i])\n",
    "    #create new r mapping\n",
    "new_r2i = {}\n",
    "new_i2r = []\n",
    "\n",
    "for i in range(len(data.i2r)):\n",
    "    if i not in neg_r_filter.numpy():\n",
    "        new_r2i[data.i2r[i]] = len(new_i2r)\n",
    "        new_i2r.append(data.i2r[i])\n",
    "\n",
    "    # apply new mapping for triples\n",
    "for t in filtered:\n",
    "    t[0] = new_e2i[data.i2e[t[0]]]\n",
    "    t[1] = new_r2i[data.i2r[t[1]]]\n",
    "    t[2] = new_e2i[data.i2e[t[2]]]\n",
    "        #t[0] = torch.tensor(new_e2i[data.i2e[t[0].numpy()]], dtype=torch.int32)\n",
    "        #t[1] = torch.tensor(new_r2i[data.i2r[t[1].numpy()]], dtype=torch.int32)\n",
    "        #t[2] = torch.tensor(new_e2i[data.i2e[t[2].numpy()]], dtype=torch.int32)\n",
    "\n",
    "    # create new train & withheld\n",
    "new_train =  []\n",
    "new_withheld = []\n",
    "\n",
    "    # calculate new train & withheld\n",
    "for ent in data.training:\n",
    "    new_train.append([new_e2i[data.i2e[ent[0].numpy()]],ent[1]])\n",
    "    \n",
    "for ent in data.withheld:\n",
    "    new_withheld.append([new_e2i[data.i2e[ent[0].numpy()]],ent[1]])\n",
    "\n",
    "    #update metedata\n",
    "data.num_entities = len(new_i2e)\n",
    "data.num_relations = len(new_i2r)\n",
    "\n",
    "#     #update data\n",
    "data.triples = filtered\n",
    "data.i2e = new_i2e\n",
    "data.e2i = new_e2i\n",
    "data.i2r = new_i2r\n",
    "data.r2i = new_r2i\n",
    "data.training = torch.tensor(new_train)\n",
    "data.withheld = torch.tensor(new_withheld)\n",
    "  \n",
    "# return data\n",
    "# data = delete_r(data, RDF_NUMBER_TYPES)"
   ]
  },
  {
   "cell_type": "code",
   "execution_count": 23,
   "metadata": {},
   "outputs": [],
   "source": [
    "df =pd.DataFrame(data.triples, columns=[\"h\",\"r\",\"t\"])\n",
    "df['h'] = df['h'].apply(lambda h:data.i2e[h][0])\n",
    "df['r'] = df['r'].apply(lambda r:data.i2r[r])\n",
    "df['t'] = df['t'].apply(lambda t:data.i2e[t][0])"
   ]
  },
  {
   "cell_type": "code",
   "execution_count": 24,
   "metadata": {},
   "outputs": [],
   "source": [
    "df.to_csv(f'hereeeee.tsv.gz', \n",
    "        index=False,\n",
    "        sep=\"\\t\" ,\n",
    "        compression=\"gzip\")"
   ]
  },
  {
   "cell_type": "code",
   "execution_count": 55,
   "metadata": {},
   "outputs": [
    {
     "data": {
      "text/plain": [
       "tensor([], size=(0, 3), dtype=torch.int64)"
      ]
     },
     "execution_count": 55,
     "metadata": {},
     "output_type": "execute_result"
    }
   ],
   "source": [
    "data.triples[data.triples[:,2]== 852]"
   ]
  },
  {
   "cell_type": "code",
   "execution_count": 26,
   "metadata": {},
   "outputs": [],
   "source": [
    "for e in data.i2e:\n",
    "    if e==('10', 'none'):\n",
    "        print(data.e2i[e])\n",
    "        break"
   ]
  },
  {
   "cell_type": "code",
   "execution_count": 39,
   "metadata": {},
   "outputs": [
    {
     "data": {
      "text/plain": [
       "('10', 'none')"
      ]
     },
     "execution_count": 39,
     "metadata": {},
     "output_type": "execute_result"
    }
   ],
   "source": [
    "data.i2e[507017]"
   ]
  },
  {
   "cell_type": "code",
   "execution_count": 41,
   "metadata": {},
   "outputs": [
    {
     "data": {
      "text/plain": [
       "('_:N0f877559f6724858b2c9bd330a0a0a54', 'blank_node')"
      ]
     },
     "execution_count": 41,
     "metadata": {},
     "output_type": "execute_result"
    }
   ],
   "source": [
    "new_i2e[137231]"
   ]
  },
  {
   "cell_type": "code",
   "execution_count": 46,
   "metadata": {},
   "outputs": [
    {
     "name": "stdout",
     "output_type": "stream",
     "text": [
      "('_:N09d973ef73704ccab8bd4a570e53cf65', 'blank_node') - http://purl.org/collections/nl/am/dimensionType - ('http://purl.org/collections/nl/am/t-16103', 'iri')\n",
      "('_:N09d973ef73704ccab8bd4a570e53cf65', 'blank_node') - http://purl.org/collections/nl/am/dimensionUnit - ('0', 'none')\n",
      "('_:N09d973ef73704ccab8bd4a570e53cf65', 'blank_node') - http://purl.org/collections/nl/am/dimensionValue - ('10', 'none')\n",
      "('_:N09d973ef73704ccab8bd4a570e53cf65', 'blank_node') - http://www.w3.org/1999/02/22-rdf-syntax-ns#type - ('http://purl.org/collections/nl/am/Dimension', 'iri')\n",
      "('_:N09d973ef73704ccab8bd4a570e53cf65', 'blank_node') - http://master-thesis.com/predicat#binning11 - ('http://master-thesis.com/entity#binning1', 'http://master-thesis.com/datatype#bin')\n"
     ]
    }
   ],
   "source": [
    "for t in data.triples[data.triples[:,0]==137231]:\n",
    "    print(f'{data.i2e[t[0]]} - {data.i2r[t[1]]} - {data.i2e[t[2]]}')"
   ]
  },
  {
   "cell_type": "code",
   "execution_count": 47,
   "metadata": {},
   "outputs": [
    {
     "data": {
      "text/html": [
       "<div>\n",
       "<style scoped>\n",
       "    .dataframe tbody tr th:only-of-type {\n",
       "        vertical-align: middle;\n",
       "    }\n",
       "\n",
       "    .dataframe tbody tr th {\n",
       "        vertical-align: top;\n",
       "    }\n",
       "\n",
       "    .dataframe thead th {\n",
       "        text-align: right;\n",
       "    }\n",
       "</style>\n",
       "<table border=\"1\" class=\"dataframe\">\n",
       "  <thead>\n",
       "    <tr style=\"text-align: right;\">\n",
       "      <th></th>\n",
       "      <th>h</th>\n",
       "      <th>r</th>\n",
       "      <th>t</th>\n",
       "    </tr>\n",
       "  </thead>\n",
       "  <tbody>\n",
       "    <tr>\n",
       "      <th>32222</th>\n",
       "      <td>_:N09d973ef73704ccab8bd4a570e53cf65</td>\n",
       "      <td>http://purl.org/collections/nl/am/dimensionType</td>\n",
       "      <td>http://purl.org/collections/nl/am/t-16103</td>\n",
       "    </tr>\n",
       "    <tr>\n",
       "      <th>32223</th>\n",
       "      <td>_:N09d973ef73704ccab8bd4a570e53cf65</td>\n",
       "      <td>http://purl.org/collections/nl/am/dimensionUnit</td>\n",
       "      <td>0</td>\n",
       "    </tr>\n",
       "    <tr>\n",
       "      <th>32224</th>\n",
       "      <td>_:N09d973ef73704ccab8bd4a570e53cf65</td>\n",
       "      <td>http://purl.org/collections/nl/am/dimensionValue</td>\n",
       "      <td>10</td>\n",
       "    </tr>\n",
       "    <tr>\n",
       "      <th>32225</th>\n",
       "      <td>_:N09d973ef73704ccab8bd4a570e53cf65</td>\n",
       "      <td>http://www.w3.org/1999/02/22-rdf-syntax-ns#type</td>\n",
       "      <td>http://purl.org/collections/nl/am/Dimension</td>\n",
       "    </tr>\n",
       "    <tr>\n",
       "      <th>2189702</th>\n",
       "      <td>_:N09d973ef73704ccab8bd4a570e53cf65</td>\n",
       "      <td>http://master-thesis.com/predicat#binning11</td>\n",
       "      <td>http://master-thesis.com/entity#binning1</td>\n",
       "    </tr>\n",
       "  </tbody>\n",
       "</table>\n",
       "</div>"
      ],
      "text/plain": [
       "                                           h  \\\n",
       "32222    _:N09d973ef73704ccab8bd4a570e53cf65   \n",
       "32223    _:N09d973ef73704ccab8bd4a570e53cf65   \n",
       "32224    _:N09d973ef73704ccab8bd4a570e53cf65   \n",
       "32225    _:N09d973ef73704ccab8bd4a570e53cf65   \n",
       "2189702  _:N09d973ef73704ccab8bd4a570e53cf65   \n",
       "\n",
       "                                                        r  \\\n",
       "32222     http://purl.org/collections/nl/am/dimensionType   \n",
       "32223     http://purl.org/collections/nl/am/dimensionUnit   \n",
       "32224    http://purl.org/collections/nl/am/dimensionValue   \n",
       "32225     http://www.w3.org/1999/02/22-rdf-syntax-ns#type   \n",
       "2189702       http://master-thesis.com/predicat#binning11   \n",
       "\n",
       "                                                   t  \n",
       "32222      http://purl.org/collections/nl/am/t-16103  \n",
       "32223                                              0  \n",
       "32224                                             10  \n",
       "32225    http://purl.org/collections/nl/am/Dimension  \n",
       "2189702     http://master-thesis.com/entity#binning1  "
      ]
     },
     "execution_count": 47,
     "metadata": {},
     "output_type": "execute_result"
    }
   ],
   "source": [
    "df[df['h']=='_:N09d973ef73704ccab8bd4a570e53cf65']"
   ]
  },
  {
   "cell_type": "code",
   "execution_count": 48,
   "metadata": {},
   "outputs": [
    {
     "data": {
      "text/plain": [
       "'http://purl.org/collections/nl/am/dimensionValue'"
      ]
     },
     "execution_count": 48,
     "metadata": {},
     "output_type": "execute_result"
    }
   ],
   "source": [
    "data.i2r[11]"
   ]
  },
  {
   "cell_type": "code",
   "execution_count": 49,
   "metadata": {},
   "outputs": [],
   "source": [
    "rr = get_relevant_relations(data, RDF_NUMBER_TYPES)"
   ]
  },
  {
   "cell_type": "code",
   "execution_count": 50,
   "metadata": {},
   "outputs": [
    {
     "data": {
      "text/plain": [
       "[11, 15]"
      ]
     },
     "execution_count": 50,
     "metadata": {},
     "output_type": "execute_result"
    }
   ],
   "source": [
    "rr"
   ]
  }
 ],
 "metadata": {
  "kernelspec": {
   "display_name": "rdf-literal-preprocessing-20b3_M0v",
   "language": "python",
   "name": "python3"
  },
  "language_info": {
   "codemirror_mode": {
    "name": "ipython",
    "version": 3
   },
   "file_extension": ".py",
   "mimetype": "text/x-python",
   "name": "python",
   "nbconvert_exporter": "python",
   "pygments_lexer": "ipython3",
   "version": "3.8.10"
  },
  "orig_nbformat": 4,
  "vscode": {
   "interpreter": {
    "hash": "fce7f7c728e806eecc03f5bf819d9415bfd370bb29c67dd1d9160ffa0efd741f"
   }
  }
 },
 "nbformat": 4,
 "nbformat_minor": 2
}
