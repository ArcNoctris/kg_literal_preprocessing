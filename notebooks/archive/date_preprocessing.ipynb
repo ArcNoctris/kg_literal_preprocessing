{
 "cells": [
  {
   "cell_type": "code",
   "execution_count": null,
   "metadata": {},
   "outputs": [],
   "source": [
    "%cd ../../src"
   ]
  },
  {
   "cell_type": "code",
   "execution_count": 1,
   "metadata": {},
   "outputs": [
    {
     "name": "stderr",
     "output_type": "stream",
     "text": [
      "c:\\Users\\Noctris\\.virtualenvs\\rdf-literal-preprocessing-20b3_M0v\\lib\\site-packages\\tqdm\\auto.py:22: TqdmWarning: IProgress not found. Please update jupyter and ipywidgets. See https://ipywidgets.readthedocs.io/en/stable/user_install.html\n",
      "  from .autonotebook import tqdm as notebook_tqdm\n"
     ]
    },
    {
     "name": "stdout",
     "output_type": "stream",
     "text": [
      "loaded data mdgenre (75.25s).\n",
      "pruned (18.57s).\n"
     ]
    }
   ],
   "source": [
    "from dataload import load\n",
    "data = load(dataset_name='mdgenre')"
   ]
  },
  {
   "cell_type": "code",
   "execution_count": 4,
   "metadata": {},
   "outputs": [
    {
     "data": {
      "text/plain": [
       "['iri',\n",
       " 'http://kgbench.info/dt#base64Image',\n",
       " 'http://www.w3.org/1999/02/22-rdf-syntax-ns#langString',\n",
       " 'http://www.w3.org/2001/XMLSchema#dateTime',\n",
       " 'http://www.w3.org/2001/XMLSchema#decimal',\n",
       " 'http://www.w3.org/2001/XMLSchema#string']"
      ]
     },
     "execution_count": 4,
     "metadata": {},
     "output_type": "execute_result"
    }
   ],
   "source": [
    "data.datatypes()"
   ]
  },
  {
   "cell_type": "code",
   "execution_count": 6,
   "metadata": {},
   "outputs": [],
   "source": [
    "from utils import get_relevant_relations, get_p_types, RDF_DATE_TYPES\n",
    "\n",
    "p_types = get_p_types(data)\n",
    "rr = get_relevant_relations(p_types, RDF_DATE_TYPES, data.r2i)\n"
   ]
  },
  {
   "cell_type": "code",
   "execution_count": 7,
   "metadata": {},
   "outputs": [
    {
     "data": {
      "text/plain": [
       "[117, 63, 120, 119, 64, 16, 12]"
      ]
     },
     "execution_count": 7,
     "metadata": {},
     "output_type": "execute_result"
    }
   ],
   "source": [
    "rr"
   ]
  },
  {
   "cell_type": "code",
   "execution_count": 32,
   "metadata": {},
   "outputs": [],
   "source": [
    "df = data.triples\n",
    "sub = df[df[:,1]== 63]"
   ]
  },
  {
   "cell_type": "code",
   "execution_count": 61,
   "metadata": {},
   "outputs": [],
   "source": [
    "import pandas as pd\n",
    "dfs = []\n",
    "for triple in sub:\n",
    "    dfs.append(pd.DataFrame([[int(triple[0]), data.i2e[triple[2]][0].split('+')[0]]], columns = [\"s\",\"date\"]))\n",
    "    #print(data.i2e[triple[2]][0])\n",
    "    #break\n",
    "\n",
    "frame = pd.concat(dfs)\n"
   ]
  },
  {
   "cell_type": "code",
   "execution_count": 62,
   "metadata": {},
   "outputs": [],
   "source": [
    "#pd.to_datetime(frame.date, format=\"%Y-%m-%dT%H:%M:%S\")\n",
    "#frame.date =  pd.to_datetime(frame.date, format=\"%Y-%m-%dT%H:%M:%S\", errors = 'coerce')\n",
    "#frame.date.dt.day_of_week\n",
    "import datetime\n",
    "import numpy as np\n",
    "\n",
    "frame.date = frame.date.apply(lambda x: datetime.datetime.strptime(x, '%Y-%m-%dT%H:%M:%S') if type(x)==str else np.NaN)\n"
   ]
  },
  {
   "cell_type": "code",
   "execution_count": 63,
   "metadata": {},
   "outputs": [],
   "source": [
    "frame[\"weekday\"] = frame.date.apply(lambda x: x.strftime('%A') if x != np.NaN else np.NaN)\n",
    "frame[\"month\"] = frame.date.apply(lambda x: x.strftime('%B') if x != np.NaN else np.NaN)"
   ]
  },
  {
   "cell_type": "code",
   "execution_count": 64,
   "metadata": {},
   "outputs": [
    {
     "data": {
      "text/html": [
       "<div>\n",
       "<style scoped>\n",
       "    .dataframe tbody tr th:only-of-type {\n",
       "        vertical-align: middle;\n",
       "    }\n",
       "\n",
       "    .dataframe tbody tr th {\n",
       "        vertical-align: top;\n",
       "    }\n",
       "\n",
       "    .dataframe thead th {\n",
       "        text-align: right;\n",
       "    }\n",
       "</style>\n",
       "<table border=\"1\" class=\"dataframe\">\n",
       "  <thead>\n",
       "    <tr style=\"text-align: right;\">\n",
       "      <th></th>\n",
       "      <th>s</th>\n",
       "      <th>date</th>\n",
       "      <th>weekday</th>\n",
       "      <th>month</th>\n",
       "    </tr>\n",
       "  </thead>\n",
       "  <tbody>\n",
       "    <tr>\n",
       "      <th>0</th>\n",
       "      <td>111528</td>\n",
       "      <td>2000-01-01 00:00:00</td>\n",
       "      <td>Saturday</td>\n",
       "      <td>January</td>\n",
       "    </tr>\n",
       "    <tr>\n",
       "      <th>0</th>\n",
       "      <td>266788</td>\n",
       "      <td>1956-01-01 00:00:00</td>\n",
       "      <td>Sunday</td>\n",
       "      <td>January</td>\n",
       "    </tr>\n",
       "    <tr>\n",
       "      <th>0</th>\n",
       "      <td>225486</td>\n",
       "      <td>1972-01-01 00:00:00</td>\n",
       "      <td>Saturday</td>\n",
       "      <td>January</td>\n",
       "    </tr>\n",
       "    <tr>\n",
       "      <th>0</th>\n",
       "      <td>151881</td>\n",
       "      <td>1952-01-01 00:00:00</td>\n",
       "      <td>Tuesday</td>\n",
       "      <td>January</td>\n",
       "    </tr>\n",
       "    <tr>\n",
       "      <th>0</th>\n",
       "      <td>249698</td>\n",
       "      <td>1951-01-01 00:00:00</td>\n",
       "      <td>Monday</td>\n",
       "      <td>January</td>\n",
       "    </tr>\n",
       "    <tr>\n",
       "      <th>...</th>\n",
       "      <td>...</td>\n",
       "      <td>...</td>\n",
       "      <td>...</td>\n",
       "      <td>...</td>\n",
       "    </tr>\n",
       "    <tr>\n",
       "      <th>0</th>\n",
       "      <td>101544</td>\n",
       "      <td>1977-01-01 00:00:00</td>\n",
       "      <td>Saturday</td>\n",
       "      <td>January</td>\n",
       "    </tr>\n",
       "    <tr>\n",
       "      <th>0</th>\n",
       "      <td>185068</td>\n",
       "      <td>1981-01-01 00:00:00</td>\n",
       "      <td>Thursday</td>\n",
       "      <td>January</td>\n",
       "    </tr>\n",
       "    <tr>\n",
       "      <th>0</th>\n",
       "      <td>198584</td>\n",
       "      <td>1997-01-01 00:00:00</td>\n",
       "      <td>Wednesday</td>\n",
       "      <td>January</td>\n",
       "    </tr>\n",
       "    <tr>\n",
       "      <th>0</th>\n",
       "      <td>217927</td>\n",
       "      <td>1947-01-01 00:00:00</td>\n",
       "      <td>Wednesday</td>\n",
       "      <td>January</td>\n",
       "    </tr>\n",
       "    <tr>\n",
       "      <th>0</th>\n",
       "      <td>185351</td>\n",
       "      <td>1998-01-02 00:00:00</td>\n",
       "      <td>Friday</td>\n",
       "      <td>January</td>\n",
       "    </tr>\n",
       "  </tbody>\n",
       "</table>\n",
       "<p>22443 rows × 4 columns</p>\n",
       "</div>"
      ],
      "text/plain": [
       "         s                 date    weekday    month\n",
       "0   111528  2000-01-01 00:00:00   Saturday  January\n",
       "0   266788  1956-01-01 00:00:00     Sunday  January\n",
       "0   225486  1972-01-01 00:00:00   Saturday  January\n",
       "0   151881  1952-01-01 00:00:00    Tuesday  January\n",
       "0   249698  1951-01-01 00:00:00     Monday  January\n",
       "..     ...                  ...        ...      ...\n",
       "0   101544  1977-01-01 00:00:00   Saturday  January\n",
       "0   185068  1981-01-01 00:00:00   Thursday  January\n",
       "0   198584  1997-01-01 00:00:00  Wednesday  January\n",
       "0   217927  1947-01-01 00:00:00  Wednesday  January\n",
       "0   185351  1998-01-02 00:00:00     Friday  January\n",
       "\n",
       "[22443 rows x 4 columns]"
      ]
     },
     "execution_count": 64,
     "metadata": {},
     "output_type": "execute_result"
    }
   ],
   "source": [
    "\n",
    "\n",
    "frame\n"
   ]
  },
  {
   "cell_type": "code",
   "execution_count": null,
   "metadata": {},
   "outputs": [],
   "source": []
  }
 ],
 "metadata": {
  "kernelspec": {
   "display_name": "rdf-literal-preprocessing-20b3_M0v",
   "language": "python",
   "name": "python3"
  },
  "language_info": {
   "codemirror_mode": {
    "name": "ipython",
    "version": 3
   },
   "file_extension": ".py",
   "mimetype": "text/x-python",
   "name": "python",
   "nbconvert_exporter": "python",
   "pygments_lexer": "ipython3",
   "version": "3.8.10"
  },
  "orig_nbformat": 4,
  "vscode": {
   "interpreter": {
    "hash": "fce7f7c728e806eecc03f5bf819d9415bfd370bb29c67dd1d9160ffa0efd741f"
   }
  }
 },
 "nbformat": 4,
 "nbformat_minor": 2
}
