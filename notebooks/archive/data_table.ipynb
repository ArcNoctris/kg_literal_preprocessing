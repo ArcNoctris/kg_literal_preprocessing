{
 "cells": [
  {
   "cell_type": "code",
   "execution_count": null,
   "metadata": {},
   "outputs": [],
   "source": [
    "%cd ../../src"
   ]
  },
  {
   "cell_type": "code",
   "execution_count": 1,
   "metadata": {},
   "outputs": [
    {
     "name": "stderr",
     "output_type": "stream",
     "text": [
      "c:\\Users\\Noctris\\.virtualenvs\\rdf-literal-preprocessing-20b3_M0v\\lib\\site-packages\\tqdm\\auto.py:22: TqdmWarning: IProgress not found. Please update jupyter and ipywidgets. See https://ipywidgets.readthedocs.io/en/stable/user_install.html\n",
      "  from .autonotebook import tqdm as notebook_tqdm\n"
     ]
    },
    {
     "name": "stdout",
     "output_type": "stream",
     "text": [
      "loaded data amplus (50.59s).\n",
      "pruned (29.83s).\n",
      "loaded data dmgfull (80.94s).\n",
      "pruned (23.78s).\n",
      "loaded data dmg777k (55.84s).\n",
      "pruned (10.09s).\n",
      "loaded data mdgenre (77.23s).\n",
      "pruned (19.2s).\n"
     ]
    }
   ],
   "source": [
    "from dataload import load\n",
    "amplus = load('amplus')\n",
    "dmgfull = load('dmgfull')\n",
    "dmg777k = load('dmg777k')\n",
    "mdgenre = load('mdgenre')"
   ]
  },
  {
   "cell_type": "code",
   "execution_count": 2,
   "metadata": {},
   "outputs": [],
   "source": [
    "import numpy as np\n",
    "def print_types_occurences(data):\n",
    "    types =  []\n",
    "    for e in data.i2e:\n",
    "        types.append(e[1])\n",
    "    print(np.unique(types, return_counts = True))"
   ]
  },
  {
   "cell_type": "code",
   "execution_count": 3,
   "metadata": {},
   "outputs": [],
   "source": [
    "import numpy as np\n",
    "from kgbench.load import Data\n",
    "#from types import List\n",
    "def get_entity_ratio(data:Data, relavant_types):\n",
    "    types =  []\n",
    "    for e in data.i2e:\n",
    "        types.append(e[1])\n",
    "    print(np.unique(types, return_counts = True))"
   ]
  },
  {
   "cell_type": "code",
   "execution_count": 4,
   "metadata": {},
   "outputs": [
    {
     "name": "stdout",
     "output_type": "stream",
     "text": [
      "['@es' '@fy' '@nl' '@nl-nl' '@pt' '@ru' 'blank_node'\n",
      " 'http://kgbench.info/dt#base64Image'\n",
      " 'http://www.opengis.net/ont/geosparql#wktLiteral'\n",
      " 'http://www.w3.org/1999/02/22-rdf-syntax-ns#langString'\n",
      " 'http://www.w3.org/2001/XMLSchema#anyURI'\n",
      " 'http://www.w3.org/2001/XMLSchema#boolean'\n",
      " 'http://www.w3.org/2001/XMLSchema#date'\n",
      " 'http://www.w3.org/2001/XMLSchema#dateTime'\n",
      " 'http://www.w3.org/2001/XMLSchema#decimal'\n",
      " 'http://www.w3.org/2001/XMLSchema#gYear'\n",
      " 'http://www.w3.org/2001/XMLSchema#nonNegativeInteger'\n",
      " 'http://www.w3.org/2001/XMLSchema#positiveInteger'\n",
      " 'http://www.w3.org/2001/XMLSchema#string' 'iri' 'none']\n"
     ]
    }
   ],
   "source": [
    "print(np.unique([*amplus.datatypes(),*dmgfull.datatypes(),*dmg777k.datatypes(),*mdgenre.datatypes()]))\n",
    "#print(dmgfull.datatypes())\n",
    "#print(dmg777k.datatypes())\n",
    "#print(mdgenre.datatypes())\n"
   ]
  },
  {
   "cell_type": "code",
   "execution_count": 5,
   "metadata": {},
   "outputs": [],
   "source": [
    "from utils import RDF_NUMBER_TYPES, URI_PREFIX, RDF_ENTITY_TYPES, RDF_DATE_TYPES, ALL_LITERALS, ALL_TYPES, IMAGE_TYPES"
   ]
  },
  {
   "cell_type": "code",
   "execution_count": null,
   "metadata": {},
   "outputs": [
    {
     "name": "stdout",
     "output_type": "stream",
     "text": [
      "['http://kgbench.info/dt#base64Image'\n",
      " 'http://www.w3.org/1999/02/22-rdf-syntax-ns#langString'\n",
      " 'http://www.w3.org/2001/XMLSchema#dateTime'\n",
      " 'http://www.w3.org/2001/XMLSchema#decimal'\n",
      " 'http://www.w3.org/2001/XMLSchema#string' 'iri']\n",
      "[ 67528  26367  37442   1387  25485 191135]\n",
      "[0, 2, 3]\n",
      "[67528 37442  1387]\n"
     ]
    }
   ],
   "source": [
    "import torch\n",
    "types =  []\n",
    "for e in mdgenre.i2e:\n",
    "    types.append(e[1])\n",
    "a,b = np.unique(types, return_counts = True)\n",
    "relevant_indices = []\n",
    "for i in range(len(a)):\n",
    "    if a[i] in ALL_LITERALS:\n",
    "        relevant_indices.append(i)\n",
    "print(a)\n",
    "print(b)\n",
    "print(relevant_indices)\n",
    "print(b[relevant_indices])\n",
    "#print(torch.unique(torch.tensor(types), return_counts = True))\n"
   ]
  },
  {
   "cell_type": "code",
   "execution_count": null,
   "metadata": {},
   "outputs": [
    {
     "name": "stdout",
     "output_type": "stream",
     "text": [
      "amplus\n",
      "# ent 826135\n",
      "# rel 33\n",
      "# tr 2183992\n",
      "# cl 8\n",
      "(array(['blank_node', 'http://kgbench.info/dt#base64Image',\n",
      "       'http://www.w3.org/2001/XMLSchema#date',\n",
      "       'http://www.w3.org/2001/XMLSchema#decimal',\n",
      "       'http://www.w3.org/2001/XMLSchema#positiveInteger', 'iri', 'none'],\n",
      "      dtype='<U48'), array([384141,  56130,   6767,   7254,   1164, 315406,  55273],\n",
      "      dtype=int64))\n"
     ]
    }
   ],
   "source": [
    "print(\"amplus\")\n",
    "print(f'# Prediction Classes {amplus.num_classes}')\n",
    "print(f'# Relations {amplus.num_relations}')\n",
    "print(f'# Total Entites {amplus.num_entities}')\n",
    "print(f'# Literals {}')\n",
    "print(f'# tr {len(amplus.triples)}')\n",
    "\n",
    "print_types_occurences(amplus)"
   ]
  },
  {
   "cell_type": "code",
   "execution_count": null,
   "metadata": {},
   "outputs": [
    {
     "name": "stdout",
     "output_type": "stream",
     "text": [
      "dmgfull\n",
      "# ent 842514\n",
      "# rel 62\n",
      "# tr 1850432\n",
      "# cl 14\n",
      "(array(['@es', '@fy', '@nl', '@nl-nl', '@pt', '@ru',\n",
      "       'http://kgbench.info/dt#base64Image',\n",
      "       'http://www.opengis.net/ont/geosparql#wktLiteral',\n",
      "       'http://www.w3.org/2001/XMLSchema#anyURI',\n",
      "       'http://www.w3.org/2001/XMLSchema#boolean',\n",
      "       'http://www.w3.org/2001/XMLSchema#gYear',\n",
      "       'http://www.w3.org/2001/XMLSchema#nonNegativeInteger',\n",
      "       'http://www.w3.org/2001/XMLSchema#positiveInteger', 'iri', 'none'],\n",
      "      dtype='<U51'), array([     1,     17,    433,  94536,      1,     19,  58791, 116220,\n",
      "       123104,      2,    463,  63565,    619, 262476, 122267],\n",
      "      dtype=int64))\n"
     ]
    }
   ],
   "source": [
    "print(\"dmgfull\")\n",
    "print(f'# ent {dmgfull.num_entities}')\n",
    "print(f'# rel {dmgfull.num_relations}')\n",
    "print(f'# tr {len(dmgfull.triples)}')\n",
    "print(f'# cl {dmgfull.num_classes}')\n",
    "print_types_occurences(dmgfull)"
   ]
  },
  {
   "cell_type": "code",
   "execution_count": null,
   "metadata": {},
   "outputs": [
    {
     "name": "stdout",
     "output_type": "stream",
     "text": [
      "dmg777k\n",
      "# ent 341270\n",
      "# rel 60\n",
      "# tr 777124\n",
      "# cl 5\n",
      "(array(['@es', '@fy', '@nl', '@nl-nl', '@pt', '@ru',\n",
      "       'http://kgbench.info/dt#base64Image',\n",
      "       'http://www.opengis.net/ont/geosparql#wktLiteral',\n",
      "       'http://www.w3.org/2001/XMLSchema#anyURI',\n",
      "       'http://www.w3.org/2001/XMLSchema#boolean',\n",
      "       'http://www.w3.org/2001/XMLSchema#gYear',\n",
      "       'http://www.w3.org/2001/XMLSchema#nonNegativeInteger',\n",
      "       'http://www.w3.org/2001/XMLSchema#positiveInteger', 'iri', 'none'],\n",
      "      dtype='<U51'), array([     1,     11,    397,  33721,      1,     14,  46061,  20837,\n",
      "        55031,      2,    290,   8396,    495, 148127,  27886],\n",
      "      dtype=int64))\n"
     ]
    }
   ],
   "source": [
    "print(\"dmg777k\")\n",
    "print(f'# ent {dmg777k.num_entities}')\n",
    "print(f'# rel {dmg777k.num_relations}')\n",
    "print(f'# tr {len(dmg777k.triples)}')\n",
    "print(f'# cl {dmg777k.num_classes}')\n",
    "print_types_occurences(dmg777k)"
   ]
  },
  {
   "cell_type": "code",
   "execution_count": null,
   "metadata": {},
   "outputs": [
    {
     "name": "stdout",
     "output_type": "stream",
     "text": [
      "mdgenre\n",
      "# ent 349344\n",
      "# rel 154\n",
      "# tr 1252247\n",
      "# cl 12\n",
      "(array(['http://kgbench.info/dt#base64Image',\n",
      "       'http://www.w3.org/1999/02/22-rdf-syntax-ns#langString',\n",
      "       'http://www.w3.org/2001/XMLSchema#dateTime',\n",
      "       'http://www.w3.org/2001/XMLSchema#decimal',\n",
      "       'http://www.w3.org/2001/XMLSchema#string', 'iri'], dtype='<U53'), array([ 67528,  26367,  37442,   1387,  25485, 191135], dtype=int64))\n"
     ]
    }
   ],
   "source": [
    "print(\"mdgenre\")\n",
    "print(f'# ent {mdgenre.num_entities}')\n",
    "print(f'# rel {mdgenre.num_relations}')\n",
    "print(f'# tr {len(mdgenre.triples)}')\n",
    "print(f'# cl {mdgenre.num_classes}')\n",
    "print_types_occurences(mdgenre)"
   ]
  },
  {
   "cell_type": "code",
   "execution_count": null,
   "metadata": {},
   "outputs": [],
   "source": [
    "\n"
   ]
  },
  {
   "cell_type": "code",
   "execution_count": null,
   "metadata": {},
   "outputs": [],
   "source": []
  }
 ],
 "metadata": {
  "kernelspec": {
   "display_name": "rdf-literal-preprocessing-20b3_M0v",
   "language": "python",
   "name": "python3"
  },
  "language_info": {
   "codemirror_mode": {
    "name": "ipython",
    "version": 3
   },
   "file_extension": ".py",
   "mimetype": "text/x-python",
   "name": "python",
   "nbconvert_exporter": "python",
   "pygments_lexer": "ipython3",
   "version": "3.8.10"
  },
  "orig_nbformat": 4,
  "vscode": {
   "interpreter": {
    "hash": "fce7f7c728e806eecc03f5bf819d9415bfd370bb29c67dd1d9160ffa0efd741f"
   }
  }
 },
 "nbformat": 4,
 "nbformat_minor": 2
}
