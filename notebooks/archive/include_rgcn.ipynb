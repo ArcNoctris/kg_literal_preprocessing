{
 "cells": [
  {
   "cell_type": "code",
   "execution_count": null,
   "metadata": {},
   "outputs": [],
   "source": [
    "%cd ../../src\n"
   ]
  },
  {
   "cell_type": "code",
   "execution_count": 1,
   "metadata": {},
   "outputs": [
    {
     "name": "stderr",
     "output_type": "stream",
     "text": [
      "c:\\Users\\Noctris\\.virtualenvs\\rdf-literal-preprocessing-20b3_M0v\\lib\\site-packages\\tqdm\\auto.py:22: TqdmWarning: IProgress not found. Please update jupyter and ipywidgets. See https://ipywidgets.readthedocs.io/en/stable/user_install.html\n",
      "  from .autonotebook import tqdm as notebook_tqdm\n"
     ]
    },
    {
     "name": "stdout",
     "output_type": "stream",
     "text": [
      "loaded data dmg777k (58.57s).\n",
      "pruned (9.905s).\n"
     ]
    }
   ],
   "source": [
    "from dataload import dmg777k\n",
    "data = dmg777k()"
   ]
  },
  {
   "cell_type": "code",
   "execution_count": 7,
   "metadata": {},
   "outputs": [],
   "source": [
    "from pykeen import models\n",
    "from torch.optim import Adam\n",
    "from pykeen.training import SLCWATrainingLoop\n",
    "import pandas as pd\n",
    "from pykeen.triples import TriplesFactory\n",
    "from typing import List, Sequence, Tuple\n",
    "from pyrdf2vec.typings import Embeddings\n",
    "from pykeen.utils import resolve_device\n",
    "from utils.data_utils import data_to_kg, extract_ents\n",
    "import os\n",
    "FILEPATH = \"../data/preprocessed\"\n",
    "def data_to_pykeen(data):\n",
    "    if not os.path.exists(f'{FILEPATH}/{data.name}.tsv.gz'):\n",
    "        print('pykeen file does not exist. Writing pykeen file...')\n",
    "        df = pd.DataFrame(columns=[\"h\",\"r\",\"t\"])\n",
    "        \n",
    "        dfs = []\n",
    "        for d in data.triples:\n",
    "            dfs.append(pd.DataFrame(\n",
    "                [[\n",
    "                data.i2e[d[0]][0],\n",
    "                data.i2r[d[1]],\n",
    "                data.i2e[d[2]][0]\n",
    "                ]],\n",
    "                columns=[\"h\",\"r\",\"t\"]\n",
    "            ))\n",
    "        df = pd.concat(dfs,ignore_index=True)\n",
    "        df.to_csv(f'{FILEPATH}/{data.name}.tsv.gz', \n",
    "                index=False,\n",
    "                sep=\"\\t\" ,\n",
    "                compression=\"gzip\")\n",
    "    return  TriplesFactory.from_path(f'{FILEPATH}/{data.name}.tsv.gz')\n",
    "        \n",
    "        \n",
    "\n",
    "\n",
    "class PykeenEmbedder():\n",
    "    def __init__(self, embedder, data, optimizer, optimizer_args,\n",
    "                 train_loop_type, train_loop_args):\n",
    "        self.data = data\n",
    "        \n",
    "\n",
    "        \n",
    "        self.training_triples_factory = data_to_pykeen(data)\n",
    "        self.model = embedder(triples_factory=self.training_triples_factory)\n",
    "        self.model = self.model.to(resolve_device('gpu'))\n",
    "        optimizer = Adam(params=self.model.get_grad_params())\n",
    "        self.training_loop = SLCWATrainingLoop(\n",
    "        model=self.model,\n",
    "        triples_factory=self.training_triples_factory,\n",
    "        optimizer=optimizer,\n",
    "        )\n",
    "        self.train_loop_args = train_loop_args\n",
    "    def fit_transform(self) -> Tuple[Embeddings, Embeddings, Embeddings]:\n",
    "        self.training_loop.train(\n",
    "        triples_factory=self.training_triples_factory,\n",
    "        **self.train_loop_args\n",
    "        )\n",
    "        embeddings = self.model.entity_representations[0]().detach().cpu().numpy()\n",
    "        reorder = []\n",
    "        for e in self.data.i2e:\n",
    "            reorder.append(self.training_triples_factory.entity_to_id[e[0]])\n",
    "        embeddings = embeddings[reorder]\n",
    "        train_entities, test_entities, train_target, test_taget = extract_ents(\n",
    "        self.data)  # extract necessary fields from data\n",
    "        train_embeddings = embeddings[self.data.training[:,0]]\n",
    "        test_embeddings = embeddings[self.data.withheld[:,0]]\n",
    "        return embeddings, train_embeddings, test_embeddings"
   ]
  },
  {
   "cell_type": "code",
   "execution_count": 3,
   "metadata": {},
   "outputs": [],
   "source": [
    "class RGCN(PykeenEmbedder):\n",
    "    def __init__(self, data, optimizer=\"Adam\", optimizer_args={},\n",
    "                 train_loop_type=\"SLCWA\", train_loop_args={\"num_epochs\": 5,'batch_size':256}):\n",
    "        super().__init__(models.RGCN, data,optimizer,optimizer_args,train_loop_type,train_loop_args)"
   ]
  },
  {
   "cell_type": "code",
   "execution_count": 8,
   "metadata": {},
   "outputs": [
    {
     "name": "stdout",
     "output_type": "stream",
     "text": [
      "pykeen file does not exist. Writing pykeen file...\n"
     ]
    },
    {
     "name": "stderr",
     "output_type": "stream",
     "text": [
      "No random seed is specified. This may lead to non-reproducible results.\n",
      "Layers RGCNLayer(\n",
      "  (fwd): BasesDecomposition(\n",
      "    (relation_representations): LowRankRepresentation(\n",
      "      (bases): Embedding(\n",
      "        (_embeddings): Embedding(8, 250000)\n",
      "      )\n",
      "    )\n",
      "  )\n",
      "  (bwd): BasesDecomposition(\n",
      "    (relation_representations): LowRankRepresentation(\n",
      "      (bases): Embedding(\n",
      "        (_embeddings): Embedding(8, 250000)\n",
      "      )\n",
      "    )\n",
      "  )\n",
      "  (self_loop): Linear(in_features=500, out_features=500, bias=True)\n",
      "  (dropout): Dropout(p=0.2, inplace=False)\n",
      ") has parameters, but no reset_parameters.\n",
      "Layers RGCNLayer(\n",
      "  (fwd): BasesDecomposition(\n",
      "    (relation_representations): LowRankRepresentation(\n",
      "      (bases): Embedding(\n",
      "        (_embeddings): Embedding(8, 250000)\n",
      "      )\n",
      "    )\n",
      "  )\n",
      "  (bwd): BasesDecomposition(\n",
      "    (relation_representations): LowRankRepresentation(\n",
      "      (bases): Embedding(\n",
      "        (_embeddings): Embedding(8, 250000)\n",
      "      )\n",
      "    )\n",
      "  )\n",
      "  (self_loop): Linear(in_features=500, out_features=500, bias=True)\n",
      "  (dropout): Dropout(p=0.2, inplace=False)\n",
      ") has parameters, but no reset_parameters.\n"
     ]
    },
    {
     "data": {
      "text/plain": [
       "<__main__.PykeenEmbedder at 0x23be95c2c40>"
      ]
     },
     "execution_count": 8,
     "metadata": {},
     "output_type": "execute_result"
    }
   ],
   "source": [
    "PykeenEmbedder(models.RGCN, data,\"Adam\",{},\"SLCWA\",{})"
   ]
  },
  {
   "cell_type": "code",
   "execution_count": null,
   "metadata": {},
   "outputs": [],
   "source": []
  }
 ],
 "metadata": {
  "kernelspec": {
   "display_name": "rdf-literal-preprocessing-20b3_M0v",
   "language": "python",
   "name": "python3"
  },
  "language_info": {
   "codemirror_mode": {
    "name": "ipython",
    "version": 3
   },
   "file_extension": ".py",
   "mimetype": "text/x-python",
   "name": "python",
   "nbconvert_exporter": "python",
   "pygments_lexer": "ipython3",
   "version": "3.8.10"
  },
  "orig_nbformat": 4
 },
 "nbformat": 4,
 "nbformat_minor": 2
}
