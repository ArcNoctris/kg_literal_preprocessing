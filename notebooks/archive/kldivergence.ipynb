{
 "cells": [
  {
   "cell_type": "code",
   "execution_count": 1,
   "metadata": {},
   "outputs": [
    {
     "name": "stdout",
     "output_type": "stream",
     "text": [
      "e:\\00_CODE\\03_Master_Thesis\\rdf-literal-preprocessing\\src\n"
     ]
    }
   ],
   "source": [
    "%cd ../../src\n"
   ]
  },
  {
   "cell_type": "code",
   "execution_count": 2,
   "metadata": {},
   "outputs": [
    {
     "name": "stderr",
     "output_type": "stream",
     "text": [
      "c:\\Users\\Noctris\\.virtualenvs\\rdf-literal-preprocessing-20b3_M0v\\lib\\site-packages\\tqdm\\auto.py:22: TqdmWarning: IProgress not found. Please update jupyter and ipywidgets. See https://ipywidgets.readthedocs.io/en/stable/user_install.html\n",
      "  from .autonotebook import tqdm as notebook_tqdm\n"
     ]
    },
    {
     "name": "stdout",
     "output_type": "stream",
     "text": [
      "loaded data dmg777k (64.07s).\n",
      "pruned (9.963s).\n"
     ]
    }
   ],
   "source": [
    "from dataload import dmg777k\n",
    "data = dmg777k()\n",
    "from utils import get_p_types,get_relevant_relations,RDF_NUMBER_TYPES\n",
    "#p_types = get_p_types(data)\n",
    "rr = get_relevant_relations(data, RDF_NUMBER_TYPES)\n"
   ]
  },
  {
   "cell_type": "code",
   "execution_count": 3,
   "metadata": {},
   "outputs": [],
   "source": [
    "#Kullback-Leibler (KL) divergence\n",
    "import math\n",
    "import numpy as np\n",
    "def adapted_kl_divergence(p_dist_a,p_dist_b, num_bins = 10):\n",
    "    a_bin = np.histogram(p_dist_a.val,num_bins)[0]\n",
    "    b_bin = np.histogram(p_dist_b.val,num_bins)[0]\n",
    "    a_len = len(p_dist_a.val)\n",
    "    b_len = len(p_dist_b.val)\n",
    "    sum_l =0\n",
    "    e = 0.1**10\n",
    "    for i in range(len(a_bin)):\n",
    "        sum_l += np.log((a_bin[i]/(b_bin[i]+e))+e)*a_bin[i]\n",
    "    return round(b_len/a_len * sum_l , 5)"
   ]
  },
  {
   "cell_type": "code",
   "execution_count": 4,
   "metadata": {},
   "outputs": [],
   "source": [
    "from kgbench.load import Data\n",
    "import torch\n",
    "import pandas as pd\n",
    "def get_relations_for_entites(data:Data,entities):\n",
    "    df = data.triples\n",
    "    df = df[torch.isin(df[:,0], torch.tensor(entities))]\n",
    "    r, counts = torch.unique(df[:,1], return_counts=True)\n",
    "    return pd.DataFrame({'r':r.numpy(),'count':counts.numpy()}).sort_values('count',ascending=False).reset_index(drop=True)"
   ]
  },
  {
   "cell_type": "code",
   "execution_count": 5,
   "metadata": {},
   "outputs": [],
   "source": [
    "from kgbench.load import Data\n",
    "\n",
    "\n",
    "def bin_on_subpopulations_short(data:Data, base_relation:int, strategy = 'relations', max_depth=2):\n",
    "    triples = data.triples\n",
    "    relevant_triples = triples[triples[:,1] == base_relation]\n",
    "    s_list = [[relevant_triples[:,0].numpy()]] # list with subject for each level of tree\n",
    "    #get all subjects possessing relation 'base_relation'\n",
    "    df = pd.DataFrame(relevant_triples[:,0], columns=['s']) \n",
    "    ## add val column containing numerical values coresponding to the s base_relation o triple, then mapped according to i2e[o]\n",
    "    df['val'] = df.s.apply(lambda s: int(data.i2e[relevant_triples[relevant_triples[:,0]==s][0,2]][0]))\n",
    "\n",
    "    r_counts = get_relations_for_entites(data, df.s)\n",
    "    r_counts = r_counts[r_counts['r']!=base_relation] # here better logic is needed\n",
    "\n",
    "\n",
    "    for i in range(max_depth-1):\n",
    "        sub_s_list = [] \n",
    "        found = False\n",
    "        j = 0\n",
    "        while not found:\n",
    "            sub_triples = triples[(triples[:,1] == base_relation) & torch.isin(triples[:,0], triples[triples[:,1] == r_counts.iloc[j].r][:,0])]\n",
    "            proportion = len(sub_triples)/len(relevant_triples)\n",
    "            #print(proportion)\n",
    "            if proportion>0.95 or proportion <0.05:\n",
    "                j += 1\n",
    "            #df[df.s.isin(s_list[0][0])]['val']\n",
    "            elif adapted_kl_divergence(df[df.s.isin(s_list[0][0])], df[df.s.isin(sub_triples[:,0].numpy())])<100:\n",
    "                j+=1\n",
    "            else:\n",
    "                sub_s_list.append(sub_triples[:,0].numpy())\n",
    "                #isin = torch.isin(relevant_triples[:,0], sub_triples[:,0])\n",
    "                #neg = relevant_triples[~torch.isin(relevant_triples[:,0], sub_triples[:,0])]\n",
    "                sub_s_list.append(relevant_triples[~torch.isin(relevant_triples[:,0], sub_triples[:,0])][:,0].numpy())\n",
    "                found = True\n",
    "\n",
    "                #print(len(df[df.s.isin(s_list[0][0])]))\n",
    "                #print(df[df.s.isin(sub_triples[:,0].numpy())])\n",
    "\n",
    "                \n",
    "\n",
    "            #print('kl_div')\n",
    "            #print(adapted_kl_divergence(df[df.s.isin(s_list[0][0])], df[df.s.isin(sub_triples[:,0].numpy())]))\n",
    "            #if j >= len(r_counts)-1:\n",
    "            #    found = True\n",
    "            #if len(sub_triples)/len(relevant_triples)<0.01 or len(sub_triples)/len(triples)>0.99:\n",
    "            #    i+=1 #skip to next\n",
    "            #else:\n",
    "            #    break\n",
    "\n",
    "        s_list.append(sub_s_list)\n",
    "        break\n",
    "\n",
    "    #    else:\n",
    "    #        found =True\n",
    "        \n",
    "    #sub_triples = triples[(triples[:,1] == base_relation) & torch.isin(triples[:,0], triples[triples[:,1] == r_counts.iloc[-1].r][:,0] )]# find overlapping\n",
    "    #sub_s_list.append(sub_triples[:,0].numpy())\n",
    "    #sub_s_list.append(triples[~torch.isin(triples[:,0],sub_triples[:,0])][:,0].numpy())\n",
    "    #s_list.append(sub_s_list)\n",
    "    return df, s_list\n",
    "\n",
    "    #print(sub_triples)\n",
    "    #sub_df = pd.DataFrame(sub_triples[:,0], columns=['s']) \n",
    "    #sub_df['val'] = sub_df.s.apply(lambda s: int(data.i2e[sub_triples[sub_triples[:,0]==s][0,2]][0]))\n",
    "\n",
    "    #print(r_counts.iloc[0].r)\n",
    "    ##print(sub)\n",
    "    #print(len(sub))\n",
    "    #print(len(df))\n",
    "    #return sub_df\n"
   ]
  },
  {
   "cell_type": "code",
   "execution_count": 34,
   "metadata": {},
   "outputs": [],
   "source": [
    "from kgbench.load import Data\n",
    "\n",
    "\n",
    "def bin_on_subpopulations(data:Data, base_relation:int, strategy = 'relations', max_depth=2):\n",
    "    #get triples\n",
    "    triples = data.triples\n",
    "    relevant_triples = triples[triples[:,1] == base_relation]\n",
    "    \n",
    "    s_list = [[relevant_triples[:,0].numpy()]] # list with subject for each level of tree\n",
    "    #get all subjects possessing relation 'base_relation'\n",
    "    df = pd.DataFrame(relevant_triples[:,0], columns=['s']) \n",
    "    ## add val column containing numerical values coresponding to the s base_relation o triple, then mapped according to i2e[o]\n",
    "    df['val'] = df.s.apply(lambda s: int(float(data.i2e[relevant_triples[relevant_triples[:,0]==s][0,2]][0])))\n",
    "\n",
    "    #calculate and sort most common relations among entities \n",
    "    r_counts = get_relations_for_entites(data, df.s)\n",
    "    r_counts = r_counts[r_counts['r']!=base_relation] # here better logic is needed\n",
    "\n",
    "\n",
    "    for i in range(1): # not yet implemented for deeper walks\n",
    "        parent = s_list[0][0]\n",
    "        print(len(parent))\n",
    "        c_triples = triples[(triples[:,1] == base_relation) & torch.isin(triples[:,0], torch.tensor(parent) )] #same as relavant triples\n",
    "        print(len(c_triples))\n",
    "        print(c_triples)\n",
    "        #child_reminder = parent\n",
    "        \n",
    "        sub_s_list = [] \n",
    "        #found = False\n",
    "        #j = 0\n",
    "\n",
    "        for j in range(len(r_counts)):\n",
    "            #c_triples = triples[(triples[:,1] == base_relation) & torch.isin(triples[:,0], child_reminder )]\n",
    "\n",
    "            sub_triples = triples[(triples[:,1] == base_relation) & (torch.isin(triples[:,0], triples[triples[:,1] == r_counts.iloc[j].r][:,0])) & (torch.isin(triples[:,0], c_triples[:,0]))]\n",
    "            proportion = len(sub_triples)/len(parent)\n",
    "            kl_div = adapted_kl_divergence(df[df.s.isin(c_triples[:,0].numpy())], df[df.s.isin(sub_triples[:,0].numpy())])\n",
    "            \n",
    "            print(f'j: {j} - prop: {proportion} - kl_div: {kl_div}')\n",
    "\n",
    "            if proportion>0.95 or proportion <0.05:\n",
    "                pass\n",
    "            #need to define value here\n",
    "            elif kl_div<300:\n",
    "                pass\n",
    "            else:\n",
    "                #print(\"was here\")\n",
    "                print(\"added\")\n",
    "                sub_s_list.append(sub_triples[:,0].numpy())\n",
    "                c_triples = c_triples[~torch.isin(c_triples[:,0],sub_triples[:,0])]\n",
    "\n",
    "        sub_s_list.append(c_triples[:,0].numpy())\n",
    "        if len(sub_s_list) >1:\n",
    "            s_list.append(sub_s_list)\n",
    "    return df, s_list\n"
   ]
  },
  {
   "cell_type": "code",
   "execution_count": null,
   "metadata": {},
   "outputs": [],
   "source": [
    "adapted_kl_divergence(df[df.s.isin(c_triples[:,0].numpy())], df[df.s.isin(sub_triples[:,0].numpy())])"
   ]
  },
  {
   "cell_type": "code",
   "execution_count": 33,
   "metadata": {},
   "outputs": [
    {
     "data": {
      "text/html": [
       "<div>\n",
       "<style scoped>\n",
       "    .dataframe tbody tr th:only-of-type {\n",
       "        vertical-align: middle;\n",
       "    }\n",
       "\n",
       "    .dataframe tbody tr th {\n",
       "        vertical-align: top;\n",
       "    }\n",
       "\n",
       "    .dataframe thead th {\n",
       "        text-align: right;\n",
       "    }\n",
       "</style>\n",
       "<table border=\"1\" class=\"dataframe\">\n",
       "  <thead>\n",
       "    <tr style=\"text-align: right;\">\n",
       "      <th></th>\n",
       "      <th>s</th>\n",
       "      <th>val</th>\n",
       "    </tr>\n",
       "  </thead>\n",
       "  <tbody>\n",
       "    <tr>\n",
       "      <th>0</th>\n",
       "      <td>192538</td>\n",
       "      <td>111805</td>\n",
       "    </tr>\n",
       "    <tr>\n",
       "      <th>1</th>\n",
       "      <td>192573</td>\n",
       "      <td>36188</td>\n",
       "    </tr>\n",
       "    <tr>\n",
       "      <th>2</th>\n",
       "      <td>192579</td>\n",
       "      <td>20476</td>\n",
       "    </tr>\n",
       "    <tr>\n",
       "      <th>3</th>\n",
       "      <td>192607</td>\n",
       "      <td>10410</td>\n",
       "    </tr>\n",
       "    <tr>\n",
       "      <th>4</th>\n",
       "      <td>192617</td>\n",
       "      <td>6559</td>\n",
       "    </tr>\n",
       "    <tr>\n",
       "      <th>...</th>\n",
       "      <td>...</td>\n",
       "      <td>...</td>\n",
       "    </tr>\n",
       "    <tr>\n",
       "      <th>505</th>\n",
       "      <td>199839</td>\n",
       "      <td>19141</td>\n",
       "    </tr>\n",
       "    <tr>\n",
       "      <th>506</th>\n",
       "      <td>199852</td>\n",
       "      <td>22991</td>\n",
       "    </tr>\n",
       "    <tr>\n",
       "      <th>507</th>\n",
       "      <td>199975</td>\n",
       "      <td>1496</td>\n",
       "    </tr>\n",
       "    <tr>\n",
       "      <th>508</th>\n",
       "      <td>199979</td>\n",
       "      <td>5814</td>\n",
       "    </tr>\n",
       "    <tr>\n",
       "      <th>509</th>\n",
       "      <td>199983</td>\n",
       "      <td>20189</td>\n",
       "    </tr>\n",
       "  </tbody>\n",
       "</table>\n",
       "<p>510 rows × 2 columns</p>\n",
       "</div>"
      ],
      "text/plain": [
       "          s     val\n",
       "0    192538  111805\n",
       "1    192573   36188\n",
       "2    192579   20476\n",
       "3    192607   10410\n",
       "4    192617    6559\n",
       "..      ...     ...\n",
       "505  199839   19141\n",
       "506  199852   22991\n",
       "507  199975    1496\n",
       "508  199979    5814\n",
       "509  199983   20189\n",
       "\n",
       "[510 rows x 2 columns]"
      ]
     },
     "execution_count": 33,
     "metadata": {},
     "output_type": "execute_result"
    }
   ],
   "source": []
  },
  {
   "cell_type": "code",
   "execution_count": 21,
   "metadata": {},
   "outputs": [],
   "source": [
    "relevant_triples = data.triples[data.triples[:,1] == rr[0]]\n",
    "    \n",
    "s_list = [[relevant_triples[:,0].numpy()]] "
   ]
  },
  {
   "cell_type": "code",
   "execution_count": 27,
   "metadata": {},
   "outputs": [],
   "source": [
    "c_triples = data.triples[(data.triples[:,1] == rr[0]) & torch.isin(data.triples[:,0], torch.tensor(s_list[0][0]) )]"
   ]
  },
  {
   "cell_type": "code",
   "execution_count": 32,
   "metadata": {},
   "outputs": [
    {
     "ename": "NameError",
     "evalue": "name 'r_counts' is not defined",
     "output_type": "error",
     "traceback": [
      "\u001b[1;31m---------------------------------------------------------------------------\u001b[0m",
      "\u001b[1;31mNameError\u001b[0m                                 Traceback (most recent call last)",
      "Cell \u001b[1;32mIn[32], line 1\u001b[0m\n\u001b[1;32m----> 1\u001b[0m r_counts\n",
      "\u001b[1;31mNameError\u001b[0m: name 'r_counts' is not defined"
     ]
    }
   ],
   "source": [
    "r_counts"
   ]
  },
  {
   "cell_type": "code",
   "execution_count": 31,
   "metadata": {},
   "outputs": [
    {
     "data": {
      "text/plain": [
       "510"
      ]
     },
     "execution_count": 31,
     "metadata": {},
     "output_type": "execute_result"
    }
   ],
   "source": [
    "len(c_triples)"
   ]
  },
  {
   "cell_type": "code",
   "execution_count": 6,
   "metadata": {},
   "outputs": [
    {
     "data": {
      "text/plain": [
       "[26, 2, 43]"
      ]
     },
     "execution_count": 6,
     "metadata": {},
     "output_type": "execute_result"
    }
   ],
   "source": [
    "rr"
   ]
  },
  {
   "cell_type": "code",
   "execution_count": 38,
   "metadata": {},
   "outputs": [
    {
     "name": "stdout",
     "output_type": "stream",
     "text": [
      "8396\n",
      "8396\n",
      "tensor([[272082,      2,    420],\n",
      "        [272084,      2,    510],\n",
      "        [272086,      2,    530],\n",
      "        ...,\n",
      "        [288868,      2,  18471],\n",
      "        [288870,      2,  18474],\n",
      "        [288872,      2,  18476]], dtype=torch.int32)\n",
      "j: 0 - prop: 1.0 - kl_div: 0.0\n",
      "j: 1 - prop: 1.0 - kl_div: 0.0\n",
      "j: 2 - prop: 1.0 - kl_div: 0.0\n",
      "j: 3 - prop: 1.0 - kl_div: 0.0\n",
      "j: 4 - prop: 1.0 - kl_div: 0.0\n",
      "j: 5 - prop: 1.0 - kl_div: 0.0\n",
      "j: 6 - prop: 1.0 - kl_div: 0.0\n",
      "j: 7 - prop: 1.0 - kl_div: 0.0\n",
      "j: 8 - prop: 1.0 - kl_div: 0.0\n",
      "j: 9 - prop: 1.0 - kl_div: 0.0\n",
      "j: 10 - prop: 1.0 - kl_div: 0.0\n",
      "j: 11 - prop: 0.17317770366841354 - kl_div: 3743.86096\n",
      "added\n",
      "j: 12 - prop: 0.0 - kl_div: 0.0\n",
      "j: 13 - prop: 0.11434016198189614 - kl_div: 1942.76852\n",
      "added\n",
      "j: 14 - prop: 0.0 - kl_div: 0.0\n",
      "j: 15 - prop: 0.0 - kl_div: 0.0\n",
      "j: 16 - prop: 0.011314911862791805 - kl_div: 462.51359\n",
      "j: 17 - prop: 0.011314911862791805 - kl_div: 462.51359\n",
      "j: 18 - prop: 0.012505955216769891 - kl_div: 436.96134\n",
      "j: 19 - prop: 0.003692234397332063 - kl_div: 176.26342\n",
      "j: 20 - prop: 0.013696998570747975 - kl_div: 761.2047\n",
      "j: 21 - prop: 0.01095759885659838 - kl_div: 412.08495\n"
     ]
    }
   ],
   "source": [
    "df, s_list = bin_on_subpopulations(data,rr[1])\n",
    "\n"
   ]
  },
  {
   "cell_type": "code",
   "execution_count": 48,
   "metadata": {},
   "outputs": [],
   "source": [
    "from typing import List, Sequence, Tuple\n",
    "def encode_number_sublist(df: torch.Tensor, i2e: List[str]) -> torch.Tensor:\n",
    "    sub_df = df.clone()\n",
    "    for i in range(len(sub_df)):\n",
    "        sub_df[i, 1] = torch.tensor(\n",
    "            float(i2e[sub_df[i, 2]][0]), dtype=torch.float32)\n",
    "    sub_df = sub_df[:, :2]\n",
    "    return sub_df\n",
    "def delete_empty_bin_types(data: Data, num_bins:int)-> Data:\n",
    "    to_delete= []\n",
    "    for d in data.i2e[-num_bins:]:\n",
    "        filtered = data.triples[data.triples[:,2]==data.e2i[d]]\n",
    "        if len(filtered) == 0:\n",
    "            to_delete.append(data.e2i[d])\n",
    "\n",
    "    if(len(to_delete)!=0):\n",
    "        #to_delete_i = [data.e2i[d] in]\n",
    "        print(f\"deleting relations {to_delete}, since no occurences are given\")\n",
    "                #create new e mapping\n",
    "        new_e2i = {}\n",
    "        new_i2e = []\n",
    "\n",
    "        for i in range(len(data.i2e)):\n",
    "            if i not in to_delete:\n",
    "                nt = torch.tensor(len(new_i2e), dtype=torch.int32)\n",
    "                it = torch.tensor(i, dtype=torch.int32)\n",
    "                new_e2i[data.i2e[it]] = nt\n",
    "                new_i2e.append(data.i2e[it])\n",
    "                # apply new mapping for triples\n",
    "        for t in data.triples:\n",
    "            t[0] = new_e2i[data.i2e[t[0]]]\n",
    "            #t[1] = torch.tensor(data.r2i[data.i2r[t[1].numpy()]], dtype=torch.int32)\n",
    "            t[2] = new_e2i[data.i2e[t[2]]]\n",
    "\n",
    "            # create new train & withheld\n",
    "\n",
    "            #update metedata\n",
    "        data.num_entities = len(new_i2e)\n",
    "\n",
    "        data.i2e = new_i2e\n",
    "        data.e2i = new_e2i\n",
    "        print('done deleteing')\n",
    "        print(data.name)\n",
    "    return data    \n"
   ]
  },
  {
   "cell_type": "code",
   "execution_count": null,
   "metadata": {},
   "outputs": [],
   "source": [
    "    relevent_relations = get_relevant_relations(\n",
    "        data, relevant_types=RDF_NUMBER_TYPES)\n",
    "    #print(num_bins)\n",
    "    for num_bins in list_num_bins:\n",
    "        for b in range(num_bins):\n",
    "            o = (f'{URI_PREFIX}entity#binning{b+1}#num_bins{num_bins}', f'{URI_PREFIX}datatype#bin')\n",
    "            new_id = len(data.i2e)\n",
    "            data.e2i[o] = new_id\n",
    "            data.i2e.append(o)\n",
    "            data.num_entities += 1\n",
    "\n",
    "    for num_bins in list_num_bins:\n",
    "        for r in relevent_relations:\n",
    "            p = f'{URI_PREFIX}predicat#binning{r}#num_bins{num_bins}'\n",
    "            new_id = len(data.i2r)\n",
    "            data.r2i[p] = new_id\n",
    "            data.i2r.append(p)\n",
    "            data.num_relations += 1\n",
    "            \n",
    "    for num_bins in list_num_bins:\n",
    "        for relation in relevent_relations:\n",
    "\n",
    "            sub_df = encode_number_sublist(\n",
    "                data.triples[data.triples[:, 1] == relation], data.i2e)\n",
    "\n",
    "        # # TODO test new function\n",
    "        # if (use_lof):\n",
    "        #     lof = LocalOutlierFactor(n_neighbors=10)\n",
    "        #     lof.fit(sub_df[:, 1].reshape(-1, 1))\n",
    "        #     outlier_scores = lof.negative_outlier_factor_\n",
    "        #     # Create a new column in the numpy array to store the outlier scores\n",
    "        #     # tensor_np = torch.hstack((encoded_df, outlier_scores.reshape(-1,1)))\n",
    "        #     threshold = np.percentile(outlier_scores, 10)\n",
    "        #     # use the outlier scores to filter out the outliers from the numpy array\n",
    "        #     sub_df = sub_df[outlier_scores > threshold]\n",
    "\n",
    "            # numpy is used here since torch.histc was not working for some reason.\n",
    "            sub_df = torch.cat(  # put bins and sub_df together\n",
    "                (sub_df, torch.from_numpy(  # get numpy solutions back\n",
    "                    np.digitize(  # assign for each value in sub_df the corresponding bin\n",
    "                        sub_df[:, 1], np.histogram(  # calculate n bins based on values in sub_df\n",
    "                            sub_df[:, 1], num_bins)[1][:-1]\n",
    "                    )\n",
    "                ).reshape(-1, 1)  # transfrom x tensor into (x,1) tensor to fit (x,2) shape of sub_df\n",
    "                ), 1)\n",
    "\n",
    "            object_mapping = np.vectorize(lambda t: data.e2i[(\n",
    "                f'{URI_PREFIX}entity#binning{t}#num_bins{num_bins}', f'{URI_PREFIX}datatype#bin')])\n",
    "\n",
    "            predicat_mapping = np.vectorize(\n",
    "                lambda t: data.r2i[f'{URI_PREFIX}predicat#binning{relation}#num_bins{num_bins}'])\n",
    "\n",
    "            sub_df[:, 1] = torch.tensor(np.array([predicat_mapping(sub_df[:, 2])]), dtype=torch.int32)\n",
    "            sub_df[:, 2] = torch.tensor(np.array([object_mapping(sub_df[:, 2])]), dtype=torch.int32)\n",
    "            data.triples = torch.cat((data.triples, sub_df), 0)\n",
    "    data = delete_empty_bin_types(data,np.sum(list_num_bins))\n",
    "    return data"
   ]
  },
  {
   "cell_type": "code",
   "execution_count": 49,
   "metadata": {},
   "outputs": [
    {
     "name": "stdout",
     "output_type": "stream",
     "text": [
      "510\n",
      "510\n",
      "tensor([[192538,     26,   1241],\n",
      "        [192573,     26,   9787],\n",
      "        [192579,     26,   4910],\n",
      "        ...,\n",
      "        [199975,     26,   2068],\n",
      "        [199979,     26,  15012],\n",
      "        [199983,     26,   4875]], dtype=torch.int32)\n",
      "j: 0 - prop: 0.7784313725490196 - kl_div: 100.03431\n",
      "added\n",
      "j: 1 - prop: 0.11372549019607843 - kl_div: 52.25175\n",
      "j: 2 - prop: 0.22156862745098038 - kl_div: 0.0\n",
      "j: 3 - prop: 0.22156862745098038 - kl_div: 0.0\n",
      "j: 4 - prop: 0.22156862745098038 - kl_div: 0.0\n",
      "j: 5 - prop: 0.22156862745098038 - kl_div: 0.0\n",
      "j: 6 - prop: 0.22156862745098038 - kl_div: 0.0\n",
      "j: 7 - prop: 0.22156862745098038 - kl_div: 0.0\n",
      "j: 8 - prop: 0.22156862745098038 - kl_div: 0.0\n",
      "j: 9 - prop: 0.22156862745098038 - kl_div: 0.0\n",
      "j: 10 - prop: 0.22156862745098038 - kl_div: 0.0\n",
      "j: 11 - prop: 0.22156862745098038 - kl_div: 0.0\n",
      "j: 12 - prop: 0.22156862745098038 - kl_div: 0.0\n",
      "j: 13 - prop: 0.22156862745098038 - kl_div: 0.0\n",
      "j: 14 - prop: 0.22156862745098038 - kl_div: 0.0\n",
      "j: 15 - prop: 0.0 - kl_div: 0.0\n",
      "j: 16 - prop: 0.0196078431372549 - kl_div: 36.25647\n",
      "j: 17 - prop: 0.0 - kl_div: 0.0\n",
      "len subpopulation 397\n",
      "len subpopulation 113\n",
      "8396\n",
      "8396\n",
      "tensor([[272082,      2,    420],\n",
      "        [272084,      2,    510],\n",
      "        [272086,      2,    530],\n",
      "        ...,\n",
      "        [288868,      2,  18471],\n",
      "        [288870,      2,  18474],\n",
      "        [288872,      2,  18476]])\n",
      "j: 0 - prop: 1.0 - kl_div: 0.0\n",
      "j: 1 - prop: 1.0 - kl_div: 0.0\n",
      "j: 2 - prop: 1.0 - kl_div: 0.0\n",
      "j: 3 - prop: 1.0 - kl_div: 0.0\n",
      "j: 4 - prop: 1.0 - kl_div: 0.0\n",
      "j: 5 - prop: 1.0 - kl_div: 0.0\n",
      "j: 6 - prop: 1.0 - kl_div: 0.0\n",
      "j: 7 - prop: 1.0 - kl_div: 0.0\n",
      "j: 8 - prop: 1.0 - kl_div: 0.0\n",
      "j: 9 - prop: 1.0 - kl_div: 0.0\n",
      "j: 10 - prop: 1.0 - kl_div: 0.0\n",
      "j: 11 - prop: 0.17317770366841354 - kl_div: 3743.86096\n",
      "added\n",
      "j: 12 - prop: 0.0 - kl_div: 0.0\n",
      "j: 13 - prop: 0.11434016198189614 - kl_div: 1942.76852\n",
      "added\n",
      "j: 14 - prop: 0.0 - kl_div: 0.0\n",
      "j: 15 - prop: 0.0 - kl_div: 0.0\n",
      "j: 16 - prop: 0.011314911862791805 - kl_div: 462.51359\n",
      "j: 17 - prop: 0.011314911862791805 - kl_div: 462.51359\n",
      "j: 18 - prop: 0.012505955216769891 - kl_div: 436.96134\n",
      "j: 19 - prop: 0.003692234397332063 - kl_div: 176.26342\n",
      "j: 20 - prop: 0.013696998570747975 - kl_div: 761.2047\n",
      "j: 21 - prop: 0.01095759885659838 - kl_div: 412.08495\n",
      "len subpopulation 1454\n",
      "len subpopulation 960\n",
      "len subpopulation 5982\n",
      "1800\n",
      "1800\n",
      "tensor([[272102,     43,   3406],\n",
      "        [272394,     43,   2701],\n",
      "        [272516,     43,   2867],\n",
      "        ...,\n",
      "        [288824,     43,   2772],\n",
      "        [288858,     43,   3248],\n",
      "        [288866,     43,   2994]])\n",
      "j: 0 - prop: 1.0 - kl_div: 0.0\n",
      "j: 1 - prop: 1.0 - kl_div: 0.0\n",
      "j: 2 - prop: 1.0 - kl_div: 0.0\n",
      "j: 3 - prop: 1.0 - kl_div: 0.0\n",
      "j: 4 - prop: 1.0 - kl_div: 0.0\n",
      "j: 5 - prop: 1.0 - kl_div: 0.0\n",
      "j: 6 - prop: 1.0 - kl_div: 0.0\n",
      "j: 7 - prop: 1.0 - kl_div: 0.0\n",
      "j: 8 - prop: 1.0 - kl_div: 0.0\n",
      "j: 9 - prop: 1.0 - kl_div: 0.0\n",
      "j: 10 - prop: 1.0 - kl_div: 0.0\n",
      "j: 11 - prop: 1.0 - kl_div: 0.0\n",
      "j: 12 - prop: 1.0 - kl_div: 0.0\n",
      "j: 13 - prop: 1.0 - kl_div: 0.0\n",
      "j: 14 - prop: 0.4127777777777778 - kl_div: 4735.74484\n",
      "added\n",
      "j: 15 - prop: 0.0 - kl_div: 0.0\n",
      "j: 16 - prop: 0.24944444444444444 - kl_div: 390.89206\n",
      "added\n",
      "j: 17 - prop: 0.08666666666666667 - kl_div: 286.30268\n",
      "added\n",
      "j: 18 - prop: 0.0 - kl_div: 0.0\n",
      "j: 19 - prop: 0.016666666666666666 - kl_div: 98.99469\n",
      "j: 20 - prop: 0.006666666666666667 - kl_div: 250.65794\n",
      "j: 21 - prop: 0.008333333333333333 - kl_div: 86.74198\n",
      "j: 22 - prop: 0.0044444444444444444 - kl_div: 188.05455\n",
      "len subpopulation 743\n",
      "len subpopulation 449\n",
      "len subpopulation 156\n",
      "len subpopulation 452\n"
     ]
    }
   ],
   "source": [
    "from utils import URI_PREFIX\n",
    "num_bins = 10\n",
    "\n",
    "relevent_relations = get_relevant_relations(data, RDF_NUMBER_TYPES)\n",
    "for b in range(num_bins):\n",
    "    o = (f'{URI_PREFIX}entity#binning{b+1}', f'{URI_PREFIX}datatype#bin')\n",
    "    new_id = len(data.i2e)\n",
    "    data.e2i[o] = new_id\n",
    "    data.i2e.append(o)\n",
    "    data.num_entities += 1\n",
    "\n",
    "for rr in relevent_relations:\n",
    "    df, s_list = bin_on_subpopulations(data,rr)\n",
    "    if len(s_list)>1:\n",
    "        for i in range(len(s_list[1])):\n",
    "            p = f'{URI_PREFIX}predicat#binning{rr}#subpopulation{i}'\n",
    "            new_id = len(data.i2r)\n",
    "            data.r2i[p] = new_id\n",
    "            data.i2r.append(p)\n",
    "            data.num_relations += 1\n",
    "            \n",
    "        sub_df = encode_number_sublist(\n",
    "            data.triples[data.triples[:, 1] == rr], data.i2e)\n",
    "        \n",
    "        for i in range(len(s_list[1])):\n",
    "            \n",
    "            sub_population_df = sub_df[torch.isin(sub_df[:,0],torch.Tensor(s_list[1][i]))].clone()\n",
    "            print(f'len subpopulation {len(sub_population_df)}')\n",
    "            sub_population_df = torch.cat(  # put bins and sub_df together\n",
    "                (sub_population_df, torch.from_numpy(  # get numpy solutions back\n",
    "                    np.digitize(  # assign for each value in sub_df the corresponding bin\n",
    "                    sub_population_df[:, 1], np.histogram(  # calculate n bins based on values in sub_df\n",
    "                        sub_population_df[:, 1], num_bins)[1][:-1]\n",
    "                        )\n",
    "                    ).reshape(-1, 1)  # transfrom x tensor into (x,1) tensor to fit (x,2) shape of sub_df\n",
    "                ), 1)\n",
    "\n",
    "            object_mapping = np.vectorize(lambda t: data.e2i[(\n",
    "                f'{URI_PREFIX}entity#binning{t}', f'{URI_PREFIX}datatype#bin')])\n",
    "\n",
    "            predicat_mapping = np.vectorize(\n",
    "                lambda t: data.r2i[f'{URI_PREFIX}predicat#binning{rr}#subpopulation{i}'])\n",
    "\n",
    "            sub_population_df[:, 1] = torch.tensor(np.array([predicat_mapping(sub_population_df[:, 2])]), dtype=torch.int32)\n",
    "            sub_population_df[:, 2] = torch.tensor(np.array([object_mapping(sub_population_df[:, 2])]), dtype=torch.int32)\n",
    "            data.triples = torch.cat((data.triples, sub_population_df), 0)\n",
    "data = delete_empty_bin_types(data,num_bins)\n"
   ]
  },
  {
   "cell_type": "code",
   "execution_count": null,
   "metadata": {},
   "outputs": [],
   "source": [
    "data.i2r"
   ]
  },
  {
   "cell_type": "code",
   "execution_count": 57,
   "metadata": {},
   "outputs": [
    {
     "data": {
      "text/plain": [
       "('http://master-thesis.com/entity#binning7',\n",
       " 'http://master-thesis.com/datatype#bin')"
      ]
     },
     "execution_count": 57,
     "metadata": {},
     "output_type": "execute_result"
    }
   ],
   "source": [
    "data.i2e[341276]"
   ]
  },
  {
   "cell_type": "code",
   "execution_count": 50,
   "metadata": {},
   "outputs": [
    {
     "data": {
      "text/plain": [
       "tensor([[130685,     28,  54795],\n",
       "        [130685,     31, 201822],\n",
       "        [130690,     28,  58948],\n",
       "        ...,\n",
       "        [288824,     68, 341275],\n",
       "        [288858,     68, 341277],\n",
       "        [288866,     68, 341276]])"
      ]
     },
     "execution_count": 50,
     "metadata": {},
     "output_type": "execute_result"
    }
   ],
   "source": [
    "data.triples"
   ]
  },
  {
   "cell_type": "code",
   "execution_count": 44,
   "metadata": {},
   "outputs": [
    {
     "name": "stdout",
     "output_type": "stream",
     "text": [
      "kl for 0 to 0: 0.0\n",
      "kl for 0 to 1: 1765.76749\n",
      "kl for 0 to 2: 8866.07077\n",
      "kl for 1 to 0: 929.98026\n",
      "kl for 1 to 1: 0.0\n",
      "kl for 1 to 2: -10154.81989\n",
      "kl for 2 to 0: 3999.87615\n",
      "kl for 2 to 1: 1821.67358\n",
      "kl for 2 to 2: 0.0\n"
     ]
    }
   ],
   "source": [
    "for i in range(len(s_list[1])):\n",
    "    for j in range(len(s_list[1])):\n",
    "        akld = adapted_kl_divergence(df[df.s.isin(s_list[1][i])], df[df.s.isin(s_list[1][j])])\n",
    "        print(f'kl for {i} to {j}: {akld}')"
   ]
  },
  {
   "cell_type": "code",
   "execution_count": 45,
   "metadata": {},
   "outputs": [
    {
     "data": {
      "image/png": "[encoded data removed]",
      "text/plain": [
       "<Figure size 640x480 with 6 Axes>"
      ]
     },
     "metadata": {},
     "output_type": "display_data"
    }
   ],
   "source": [
    "import matplotlib.pyplot as plt\n",
    "fig, axis = plt.subplots(len(s_list), len(s_list[-1]))\n",
    "for i in range(len(s_list)):\n",
    "    for j in range(len(s_list[i])):\n",
    "        axis[i,j].hist(df[df.s.isin(s_list[i][j])]['val'],bins=10)"
   ]
  },
  {
   "cell_type": "code",
   "execution_count": 10,
   "metadata": {},
   "outputs": [
    {
     "data": {
      "text/plain": [
       "tensor([ 0,  1,  2,  3,  4,  5,  6,  7,  8,  9, 10, 11, 12, 13, 14, 15, 16, 17,\n",
       "        18, 19, 20, 21, 22, 23, 24, 25, 26, 27, 28, 29, 30, 31, 32, 33, 34, 35,\n",
       "        36, 37, 38, 39, 40, 41, 42, 43, 44, 45, 46, 47, 48, 49, 50, 51, 52, 53,\n",
       "        54, 55, 56, 57, 58, 59], dtype=torch.int32)"
      ]
     },
     "execution_count": 10,
     "metadata": {},
     "output_type": "execute_result"
    }
   ],
   "source": [
    "torch.unique(data.triples[:,1])"
   ]
  },
  {
   "cell_type": "code",
   "execution_count": 11,
   "metadata": {},
   "outputs": [
    {
     "data": {
      "text/plain": [
       "('1696', 'http://www.w3.org/2001/XMLSchema#gYear')"
      ]
     },
     "execution_count": 11,
     "metadata": {},
     "output_type": "execute_result"
    }
   ],
   "source": [
    "data.i2e[2701]"
   ]
  },
  {
   "cell_type": "code",
   "execution_count": 12,
   "metadata": {},
   "outputs": [
    {
     "data": {
      "text/plain": [
       "tensor([[272394,     43,   2701]], dtype=torch.int32)"
      ]
     },
     "execution_count": 12,
     "metadata": {},
     "output_type": "execute_result"
    }
   ],
   "source": [
    "data.triples[(data.triples[:,0]== 272394) & (data.triples[:,1]== rr[2])]"
   ]
  },
  {
   "cell_type": "code",
   "execution_count": 13,
   "metadata": {},
   "outputs": [
    {
     "data": {
      "text/html": [
       "<div>\n",
       "<style scoped>\n",
       "    .dataframe tbody tr th:only-of-type {\n",
       "        vertical-align: middle;\n",
       "    }\n",
       "\n",
       "    .dataframe tbody tr th {\n",
       "        vertical-align: top;\n",
       "    }\n",
       "\n",
       "    .dataframe thead th {\n",
       "        text-align: right;\n",
       "    }\n",
       "</style>\n",
       "<table border=\"1\" class=\"dataframe\">\n",
       "  <thead>\n",
       "    <tr style=\"text-align: right;\">\n",
       "      <th></th>\n",
       "      <th>s</th>\n",
       "      <th>val</th>\n",
       "    </tr>\n",
       "  </thead>\n",
       "  <tbody>\n",
       "    <tr>\n",
       "      <th>0</th>\n",
       "      <td>272102</td>\n",
       "      <td>1884</td>\n",
       "    </tr>\n",
       "    <tr>\n",
       "      <th>1</th>\n",
       "      <td>272394</td>\n",
       "      <td>1696</td>\n",
       "    </tr>\n",
       "    <tr>\n",
       "      <th>2</th>\n",
       "      <td>272516</td>\n",
       "      <td>1739</td>\n",
       "    </tr>\n",
       "    <tr>\n",
       "      <th>3</th>\n",
       "      <td>272540</td>\n",
       "      <td>1650</td>\n",
       "    </tr>\n",
       "    <tr>\n",
       "      <th>4</th>\n",
       "      <td>272540</td>\n",
       "      <td>1650</td>\n",
       "    </tr>\n",
       "    <tr>\n",
       "      <th>...</th>\n",
       "      <td>...</td>\n",
       "      <td>...</td>\n",
       "    </tr>\n",
       "    <tr>\n",
       "      <th>1795</th>\n",
       "      <td>288766</td>\n",
       "      <td>1985</td>\n",
       "    </tr>\n",
       "    <tr>\n",
       "      <th>1796</th>\n",
       "      <td>288780</td>\n",
       "      <td>1980</td>\n",
       "    </tr>\n",
       "    <tr>\n",
       "      <th>1797</th>\n",
       "      <td>288824</td>\n",
       "      <td>1714</td>\n",
       "    </tr>\n",
       "    <tr>\n",
       "      <th>1798</th>\n",
       "      <td>288858</td>\n",
       "      <td>1850</td>\n",
       "    </tr>\n",
       "    <tr>\n",
       "      <th>1799</th>\n",
       "      <td>288866</td>\n",
       "      <td>1792</td>\n",
       "    </tr>\n",
       "  </tbody>\n",
       "</table>\n",
       "<p>1800 rows × 2 columns</p>\n",
       "</div>"
      ],
      "text/plain": [
       "           s   val\n",
       "0     272102  1884\n",
       "1     272394  1696\n",
       "2     272516  1739\n",
       "3     272540  1650\n",
       "4     272540  1650\n",
       "...      ...   ...\n",
       "1795  288766  1985\n",
       "1796  288780  1980\n",
       "1797  288824  1714\n",
       "1798  288858  1850\n",
       "1799  288866  1792\n",
       "\n",
       "[1800 rows x 2 columns]"
      ]
     },
     "execution_count": 13,
     "metadata": {},
     "output_type": "execute_result"
    }
   ],
   "source": [
    "df"
   ]
  },
  {
   "cell_type": "code",
   "execution_count": 2,
   "metadata": {},
   "outputs": [
    {
     "ename": "NameError",
     "evalue": "name 'df' is not defined",
     "output_type": "error",
     "traceback": [
      "\u001b[1;31m---------------------------------------------------------------------------\u001b[0m",
      "\u001b[1;31mNameError\u001b[0m                                 Traceback (most recent call last)",
      "Cell \u001b[1;32mIn[2], line 3\u001b[0m\n\u001b[0;32m      1\u001b[0m \u001b[39mimport\u001b[39;00m \u001b[39mmatplotlib\u001b[39;00m\u001b[39m.\u001b[39;00m\u001b[39mpyplot\u001b[39;00m \u001b[39mas\u001b[39;00m \u001b[39mplt\u001b[39;00m\n\u001b[1;32m----> 3\u001b[0m plt\u001b[39m.\u001b[39mhist(df\u001b[39m.\u001b[39mval)\n",
      "\u001b[1;31mNameError\u001b[0m: name 'df' is not defined"
     ]
    }
   ],
   "source": [
    "import matplotlib.pyplot as plt\n",
    "\n",
    "plt.hist(df.val)"
   ]
  },
  {
   "cell_type": "code",
   "execution_count": 7,
   "metadata": {},
   "outputs": [],
   "source": [
    "from utils import  delete_triple"
   ]
  },
  {
   "cell_type": "code",
   "execution_count": 12,
   "metadata": {},
   "outputs": [
    {
     "data": {
      "text/plain": [
       "768728"
      ]
     },
     "execution_count": 12,
     "metadata": {},
     "output_type": "execute_result"
    }
   ],
   "source": [
    "len(data.triples)"
   ]
  },
  {
   "cell_type": "code",
   "execution_count": 51,
   "metadata": {},
   "outputs": [
    {
     "data": {
      "text/plain": [
       "tensor([[130685,     28,  54795],\n",
       "        [130685,     31, 201822],\n",
       "        [130690,     28,  58948],\n",
       "        ...,\n",
       "        [271591,     31, 211084],\n",
       "        [271593,     31, 211084],\n",
       "        [271598,     31, 211084]], dtype=torch.int32)"
      ]
     },
     "execution_count": 51,
     "metadata": {},
     "output_type": "execute_result"
    }
   ],
   "source": [
    "data.triples"
   ]
  },
  {
   "cell_type": "code",
   "execution_count": 53,
   "metadata": {},
   "outputs": [
    {
     "data": {
      "text/plain": [
       "130685"
      ]
     },
     "execution_count": 53,
     "metadata": {},
     "output_type": "execute_result"
    }
   ],
   "source": [
    "data.triples.numpy()[0,0]"
   ]
  },
  {
   "cell_type": "code",
   "execution_count": 54,
   "metadata": {},
   "outputs": [
    {
     "data": {
      "text/plain": [
       "130685"
      ]
     },
     "execution_count": 54,
     "metadata": {},
     "output_type": "execute_result"
    }
   ],
   "source": [
    "int(data.triples[0,0].numpy())"
   ]
  },
  {
   "cell_type": "code",
   "execution_count": 7,
   "metadata": {},
   "outputs": [
    {
     "data": {
      "text/plain": [
       "tensor([[130685,     28,  54795],\n",
       "        [130685,     31, 201822],\n",
       "        [130690,     28,  58948],\n",
       "        ...,\n",
       "        [271591,     31, 211084],\n",
       "        [271593,     31, 211084],\n",
       "        [271598,     31, 211084]], dtype=torch.int32)"
      ]
     },
     "execution_count": 7,
     "metadata": {},
     "output_type": "execute_result"
    }
   ],
   "source": [
    "data.triples"
   ]
  },
  {
   "cell_type": "code",
   "execution_count": 8,
   "metadata": {},
   "outputs": [
    {
     "data": {
      "text/plain": [
       "array(54795)"
      ]
     },
     "execution_count": 8,
     "metadata": {},
     "output_type": "execute_result"
    }
   ],
   "source": [
    "\n",
    "data.triples[0,2].numpy()"
   ]
  },
  {
   "cell_type": "code",
   "execution_count": 9,
   "metadata": {},
   "outputs": [
    {
     "data": {
      "text/plain": [
       "2"
      ]
     },
     "execution_count": 9,
     "metadata": {},
     "output_type": "execute_result"
    }
   ],
   "source": [
    "[2,3]\n",
    "min([2,3])"
   ]
  },
  {
   "cell_type": "code",
   "execution_count": 28,
   "metadata": {},
   "outputs": [
    {
     "name": "stdout",
     "output_type": "stream",
     "text": [
      "<class 'torch.Tensor'>\n",
      "<class 'torch.Tensor'>\n",
      "<class 'torch.Tensor'>\n",
      "<class 'torch.Tensor'>\n",
      "<class 'torch.Tensor'>\n",
      "<class 'torch.Tensor'>\n",
      "<class 'torch.Tensor'>\n",
      "<class 'torch.Tensor'>\n",
      "<class 'torch.Tensor'>\n",
      "<class 'torch.Tensor'>\n",
      "<class 'torch.Tensor'>\n",
      "<class 'torch.Tensor'>\n",
      "<class 'torch.Tensor'>\n",
      "<class 'torch.Tensor'>\n",
      "<class 'torch.Tensor'>\n",
      "<class 'torch.Tensor'>\n",
      "<class 'torch.Tensor'>\n",
      "<class 'torch.Tensor'>\n",
      "<class 'torch.Tensor'>\n",
      "<class 'torch.Tensor'>\n",
      "<class 'torch.Tensor'>\n",
      "<class 'torch.Tensor'>\n",
      "<class 'torch.Tensor'>\n",
      "<class 'torch.Tensor'>\n",
      "<class 'torch.Tensor'>\n",
      "<class 'torch.Tensor'>\n",
      "<class 'torch.Tensor'>\n",
      "<class 'torch.Tensor'>\n",
      "<class 'torch.Tensor'>\n",
      "<class 'torch.Tensor'>\n",
      "<class 'torch.Tensor'>\n",
      "<class 'torch.Tensor'>\n",
      "<class 'torch.Tensor'>\n",
      "<class 'torch.Tensor'>\n",
      "<class 'torch.Tensor'>\n",
      "<class 'torch.Tensor'>\n",
      "<class 'torch.Tensor'>\n",
      "<class 'torch.Tensor'>\n",
      "<class 'torch.Tensor'>\n",
      "<class 'torch.Tensor'>\n",
      "<class 'torch.Tensor'>\n",
      "<class 'torch.Tensor'>\n",
      "<class 'torch.Tensor'>\n",
      "<class 'torch.Tensor'>\n",
      "<class 'torch.Tensor'>\n",
      "<class 'torch.Tensor'>\n",
      "<class 'torch.Tensor'>\n",
      "<class 'torch.Tensor'>\n",
      "<class 'torch.Tensor'>\n",
      "<class 'torch.Tensor'>\n",
      "<class 'torch.Tensor'>\n",
      "<class 'torch.Tensor'>\n",
      "<class 'torch.Tensor'>\n",
      "<class 'torch.Tensor'>\n",
      "<class 'torch.Tensor'>\n",
      "<class 'torch.Tensor'>\n",
      "<class 'torch.Tensor'>\n",
      "<class 'torch.Tensor'>\n",
      "<class 'torch.Tensor'>\n",
      "<class 'torch.Tensor'>\n",
      "<class 'torch.Tensor'>\n",
      "<class 'torch.Tensor'>\n",
      "<class 'torch.Tensor'>\n",
      "<class 'torch.Tensor'>\n",
      "<class 'torch.Tensor'>\n",
      "<class 'torch.Tensor'>\n",
      "<class 'torch.Tensor'>\n",
      "<class 'torch.Tensor'>\n",
      "<class 'torch.Tensor'>\n",
      "<class 'torch.Tensor'>\n",
      "<class 'torch.Tensor'>\n",
      "<class 'torch.Tensor'>\n",
      "<class 'torch.Tensor'>\n",
      "<class 'torch.Tensor'>\n",
      "<class 'torch.Tensor'>\n",
      "<class 'torch.Tensor'>\n",
      "<class 'torch.Tensor'>\n",
      "<class 'torch.Tensor'>\n",
      "<class 'torch.Tensor'>\n",
      "<class 'torch.Tensor'>\n",
      "<class 'torch.Tensor'>\n",
      "<class 'torch.Tensor'>\n",
      "<class 'torch.Tensor'>\n",
      "<class 'torch.Tensor'>\n",
      "<class 'torch.Tensor'>\n",
      "<class 'torch.Tensor'>\n",
      "<class 'torch.Tensor'>\n",
      "<class 'torch.Tensor'>\n",
      "<class 'torch.Tensor'>\n",
      "<class 'torch.Tensor'>\n",
      "<class 'torch.Tensor'>\n",
      "<class 'torch.Tensor'>\n",
      "<class 'torch.Tensor'>\n",
      "<class 'torch.Tensor'>\n",
      "<class 'torch.Tensor'>\n",
      "<class 'torch.Tensor'>\n",
      "<class 'torch.Tensor'>\n",
      "<class 'torch.Tensor'>\n",
      "<class 'torch.Tensor'>\n",
      "<class 'torch.Tensor'>\n",
      "<class 'torch.Tensor'>\n",
      "<class 'torch.Tensor'>\n",
      "<class 'torch.Tensor'>\n",
      "<class 'torch.Tensor'>\n",
      "<class 'torch.Tensor'>\n",
      "<class 'torch.Tensor'>\n",
      "<class 'torch.Tensor'>\n",
      "<class 'torch.Tensor'>\n",
      "<class 'torch.Tensor'>\n",
      "<class 'torch.Tensor'>\n",
      "<class 'torch.Tensor'>\n",
      "<class 'torch.Tensor'>\n",
      "<class 'torch.Tensor'>\n",
      "<class 'torch.Tensor'>\n",
      "<class 'torch.Tensor'>\n",
      "<class 'torch.Tensor'>\n",
      "<class 'torch.Tensor'>\n",
      "<class 'torch.Tensor'>\n",
      "<class 'torch.Tensor'>\n",
      "<class 'torch.Tensor'>\n",
      "<class 'torch.Tensor'>\n",
      "<class 'torch.Tensor'>\n",
      "<class 'torch.Tensor'>\n",
      "<class 'torch.Tensor'>\n",
      "<class 'torch.Tensor'>\n",
      "<class 'torch.Tensor'>\n",
      "<class 'torch.Tensor'>\n",
      "<class 'torch.Tensor'>\n",
      "<class 'torch.Tensor'>\n",
      "<class 'torch.Tensor'>\n",
      "<class 'torch.Tensor'>\n",
      "<class 'torch.Tensor'>\n",
      "<class 'torch.Tensor'>\n",
      "<class 'torch.Tensor'>\n",
      "<class 'torch.Tensor'>\n",
      "<class 'torch.Tensor'>\n",
      "<class 'torch.Tensor'>\n",
      "<class 'torch.Tensor'>\n",
      "<class 'torch.Tensor'>\n",
      "<class 'torch.Tensor'>\n",
      "<class 'torch.Tensor'>\n",
      "<class 'torch.Tensor'>\n",
      "<class 'torch.Tensor'>\n",
      "<class 'torch.Tensor'>\n",
      "<class 'torch.Tensor'>\n",
      "<class 'torch.Tensor'>\n",
      "<class 'torch.Tensor'>\n",
      "<class 'torch.Tensor'>\n",
      "<class 'torch.Tensor'>\n",
      "<class 'torch.Tensor'>\n",
      "<class 'torch.Tensor'>\n",
      "<class 'torch.Tensor'>\n",
      "<class 'torch.Tensor'>\n",
      "<class 'torch.Tensor'>\n",
      "<class 'torch.Tensor'>\n",
      "<class 'torch.Tensor'>\n",
      "<class 'torch.Tensor'>\n",
      "<class 'torch.Tensor'>\n",
      "<class 'torch.Tensor'>\n",
      "<class 'torch.Tensor'>\n",
      "<class 'torch.Tensor'>\n",
      "<class 'torch.Tensor'>\n",
      "<class 'torch.Tensor'>\n",
      "<class 'torch.Tensor'>\n",
      "<class 'torch.Tensor'>\n",
      "<class 'torch.Tensor'>\n",
      "<class 'torch.Tensor'>\n",
      "<class 'torch.Tensor'>\n",
      "<class 'torch.Tensor'>\n",
      "<class 'torch.Tensor'>\n",
      "<class 'torch.Tensor'>\n",
      "<class 'torch.Tensor'>\n",
      "<class 'torch.Tensor'>\n",
      "<class 'torch.Tensor'>\n",
      "<class 'torch.Tensor'>\n",
      "<class 'torch.Tensor'>\n",
      "<class 'torch.Tensor'>\n",
      "<class 'torch.Tensor'>\n",
      "<class 'torch.Tensor'>\n",
      "<class 'torch.Tensor'>\n",
      "<class 'torch.Tensor'>\n",
      "<class 'torch.Tensor'>\n",
      "<class 'torch.Tensor'>\n",
      "<class 'torch.Tensor'>\n",
      "<class 'torch.Tensor'>\n",
      "<class 'torch.Tensor'>\n",
      "<class 'torch.Tensor'>\n",
      "<class 'torch.Tensor'>\n",
      "<class 'torch.Tensor'>\n",
      "<class 'torch.Tensor'>\n",
      "<class 'torch.Tensor'>\n",
      "<class 'torch.Tensor'>\n",
      "<class 'torch.Tensor'>\n",
      "<class 'torch.Tensor'>\n",
      "<class 'torch.Tensor'>\n",
      "<class 'torch.Tensor'>\n",
      "<class 'torch.Tensor'>\n",
      "<class 'torch.Tensor'>\n",
      "<class 'torch.Tensor'>\n",
      "<class 'torch.Tensor'>\n",
      "<class 'torch.Tensor'>\n",
      "<class 'torch.Tensor'>\n",
      "<class 'torch.Tensor'>\n",
      "<class 'torch.Tensor'>\n",
      "<class 'torch.Tensor'>\n",
      "<class 'torch.Tensor'>\n",
      "<class 'torch.Tensor'>\n",
      "<class 'torch.Tensor'>\n",
      "<class 'torch.Tensor'>\n",
      "<class 'torch.Tensor'>\n",
      "<class 'torch.Tensor'>\n",
      "<class 'torch.Tensor'>\n",
      "<class 'torch.Tensor'>\n",
      "<class 'torch.Tensor'>\n",
      "<class 'torch.Tensor'>\n",
      "<class 'torch.Tensor'>\n",
      "<class 'torch.Tensor'>\n",
      "<class 'torch.Tensor'>\n",
      "<class 'torch.Tensor'>\n",
      "<class 'torch.Tensor'>\n",
      "<class 'torch.Tensor'>\n",
      "<class 'torch.Tensor'>\n",
      "<class 'torch.Tensor'>\n",
      "<class 'torch.Tensor'>\n",
      "<class 'torch.Tensor'>\n",
      "<class 'torch.Tensor'>\n",
      "<class 'torch.Tensor'>\n",
      "<class 'torch.Tensor'>\n",
      "<class 'torch.Tensor'>\n",
      "<class 'torch.Tensor'>\n",
      "<class 'torch.Tensor'>\n",
      "<class 'torch.Tensor'>\n",
      "<class 'torch.Tensor'>\n",
      "<class 'torch.Tensor'>\n",
      "<class 'torch.Tensor'>\n",
      "<class 'torch.Tensor'>\n",
      "<class 'torch.Tensor'>\n",
      "<class 'torch.Tensor'>\n",
      "<class 'torch.Tensor'>\n",
      "<class 'torch.Tensor'>\n",
      "<class 'torch.Tensor'>\n",
      "<class 'torch.Tensor'>\n",
      "<class 'torch.Tensor'>\n",
      "<class 'torch.Tensor'>\n",
      "<class 'torch.Tensor'>\n",
      "<class 'torch.Tensor'>\n",
      "<class 'torch.Tensor'>\n",
      "<class 'torch.Tensor'>\n",
      "<class 'torch.Tensor'>\n",
      "<class 'torch.Tensor'>\n",
      "<class 'torch.Tensor'>\n",
      "<class 'torch.Tensor'>\n",
      "<class 'torch.Tensor'>\n",
      "<class 'torch.Tensor'>\n",
      "<class 'torch.Tensor'>\n",
      "<class 'torch.Tensor'>\n",
      "<class 'torch.Tensor'>\n",
      "<class 'torch.Tensor'>\n",
      "<class 'torch.Tensor'>\n",
      "<class 'torch.Tensor'>\n",
      "<class 'torch.Tensor'>\n",
      "<class 'torch.Tensor'>\n",
      "<class 'torch.Tensor'>\n",
      "<class 'torch.Tensor'>\n",
      "<class 'torch.Tensor'>\n",
      "<class 'torch.Tensor'>\n",
      "<class 'torch.Tensor'>\n",
      "<class 'torch.Tensor'>\n",
      "<class 'torch.Tensor'>\n",
      "<class 'torch.Tensor'>\n",
      "<class 'torch.Tensor'>\n",
      "<class 'torch.Tensor'>\n",
      "<class 'torch.Tensor'>\n",
      "<class 'torch.Tensor'>\n",
      "<class 'torch.Tensor'>\n",
      "<class 'torch.Tensor'>\n",
      "<class 'torch.Tensor'>\n",
      "<class 'torch.Tensor'>\n",
      "<class 'torch.Tensor'>\n",
      "<class 'torch.Tensor'>\n",
      "<class 'torch.Tensor'>\n",
      "<class 'torch.Tensor'>\n",
      "<class 'torch.Tensor'>\n",
      "<class 'torch.Tensor'>\n",
      "<class 'torch.Tensor'>\n",
      "<class 'torch.Tensor'>\n",
      "<class 'torch.Tensor'>\n",
      "<class 'torch.Tensor'>\n",
      "<class 'torch.Tensor'>\n",
      "<class 'torch.Tensor'>\n",
      "<class 'torch.Tensor'>\n",
      "<class 'torch.Tensor'>\n",
      "<class 'torch.Tensor'>\n",
      "<class 'torch.Tensor'>\n",
      "<class 'torch.Tensor'>\n",
      "<class 'torch.Tensor'>\n",
      "<class 'torch.Tensor'>\n",
      "<class 'torch.Tensor'>\n",
      "<class 'torch.Tensor'>\n",
      "<class 'torch.Tensor'>\n",
      "<class 'torch.Tensor'>\n",
      "<class 'torch.Tensor'>\n",
      "<class 'torch.Tensor'>\n",
      "<class 'torch.Tensor'>\n",
      "<class 'torch.Tensor'>\n",
      "<class 'torch.Tensor'>\n",
      "<class 'torch.Tensor'>\n",
      "<class 'torch.Tensor'>\n",
      "<class 'torch.Tensor'>\n",
      "<class 'torch.Tensor'>\n",
      "<class 'torch.Tensor'>\n",
      "<class 'torch.Tensor'>\n",
      "<class 'torch.Tensor'>\n",
      "<class 'torch.Tensor'>\n",
      "<class 'torch.Tensor'>\n",
      "<class 'torch.Tensor'>\n",
      "<class 'torch.Tensor'>\n",
      "<class 'torch.Tensor'>\n",
      "<class 'torch.Tensor'>\n",
      "<class 'torch.Tensor'>\n",
      "<class 'torch.Tensor'>\n",
      "<class 'torch.Tensor'>\n",
      "<class 'torch.Tensor'>\n",
      "<class 'torch.Tensor'>\n",
      "<class 'torch.Tensor'>\n",
      "<class 'torch.Tensor'>\n",
      "<class 'torch.Tensor'>\n",
      "<class 'torch.Tensor'>\n",
      "<class 'torch.Tensor'>\n",
      "<class 'torch.Tensor'>\n",
      "<class 'torch.Tensor'>\n",
      "<class 'torch.Tensor'>\n",
      "<class 'torch.Tensor'>\n",
      "<class 'torch.Tensor'>\n",
      "<class 'torch.Tensor'>\n",
      "<class 'torch.Tensor'>\n",
      "<class 'torch.Tensor'>\n",
      "<class 'torch.Tensor'>\n",
      "<class 'torch.Tensor'>\n",
      "<class 'torch.Tensor'>\n",
      "<class 'torch.Tensor'>\n",
      "<class 'torch.Tensor'>\n",
      "<class 'torch.Tensor'>\n",
      "<class 'torch.Tensor'>\n",
      "<class 'torch.Tensor'>\n",
      "<class 'torch.Tensor'>\n",
      "<class 'torch.Tensor'>\n",
      "<class 'torch.Tensor'>\n",
      "<class 'torch.Tensor'>\n",
      "<class 'torch.Tensor'>\n",
      "<class 'torch.Tensor'>\n",
      "<class 'torch.Tensor'>\n",
      "<class 'torch.Tensor'>\n",
      "<class 'torch.Tensor'>\n",
      "<class 'torch.Tensor'>\n",
      "<class 'torch.Tensor'>\n",
      "<class 'torch.Tensor'>\n",
      "<class 'torch.Tensor'>\n",
      "<class 'torch.Tensor'>\n",
      "<class 'torch.Tensor'>\n",
      "<class 'torch.Tensor'>\n",
      "<class 'torch.Tensor'>\n",
      "<class 'torch.Tensor'>\n",
      "<class 'torch.Tensor'>\n",
      "<class 'torch.Tensor'>\n",
      "<class 'torch.Tensor'>\n",
      "<class 'torch.Tensor'>\n",
      "<class 'torch.Tensor'>\n",
      "<class 'torch.Tensor'>\n",
      "<class 'torch.Tensor'>\n",
      "<class 'torch.Tensor'>\n",
      "<class 'torch.Tensor'>\n",
      "<class 'torch.Tensor'>\n",
      "<class 'torch.Tensor'>\n",
      "<class 'torch.Tensor'>\n",
      "<class 'torch.Tensor'>\n",
      "<class 'torch.Tensor'>\n",
      "<class 'torch.Tensor'>\n",
      "<class 'torch.Tensor'>\n",
      "<class 'torch.Tensor'>\n",
      "<class 'torch.Tensor'>\n",
      "<class 'torch.Tensor'>\n",
      "<class 'torch.Tensor'>\n",
      "<class 'torch.Tensor'>\n",
      "<class 'torch.Tensor'>\n",
      "<class 'torch.Tensor'>\n",
      "<class 'torch.Tensor'>\n",
      "<class 'torch.Tensor'>\n",
      "<class 'torch.Tensor'>\n",
      "<class 'torch.Tensor'>\n",
      "<class 'torch.Tensor'>\n",
      "<class 'torch.Tensor'>\n",
      "<class 'torch.Tensor'>\n",
      "<class 'torch.Tensor'>\n",
      "<class 'torch.Tensor'>\n",
      "<class 'torch.Tensor'>\n",
      "<class 'torch.Tensor'>\n",
      "<class 'torch.Tensor'>\n",
      "<class 'torch.Tensor'>\n",
      "<class 'torch.Tensor'>\n",
      "<class 'torch.Tensor'>\n",
      "<class 'torch.Tensor'>\n",
      "<class 'torch.Tensor'>\n",
      "<class 'torch.Tensor'>\n",
      "<class 'torch.Tensor'>\n",
      "<class 'torch.Tensor'>\n",
      "<class 'torch.Tensor'>\n",
      "<class 'torch.Tensor'>\n",
      "<class 'torch.Tensor'>\n",
      "<class 'torch.Tensor'>\n",
      "<class 'torch.Tensor'>\n",
      "<class 'torch.Tensor'>\n",
      "<class 'torch.Tensor'>\n",
      "<class 'torch.Tensor'>\n",
      "<class 'torch.Tensor'>\n",
      "<class 'torch.Tensor'>\n",
      "<class 'torch.Tensor'>\n",
      "<class 'torch.Tensor'>\n",
      "<class 'torch.Tensor'>\n",
      "<class 'torch.Tensor'>\n",
      "<class 'torch.Tensor'>\n",
      "<class 'torch.Tensor'>\n",
      "<class 'torch.Tensor'>\n",
      "<class 'torch.Tensor'>\n",
      "<class 'torch.Tensor'>\n",
      "<class 'torch.Tensor'>\n",
      "<class 'torch.Tensor'>\n",
      "<class 'torch.Tensor'>\n",
      "<class 'torch.Tensor'>\n",
      "<class 'torch.Tensor'>\n",
      "<class 'torch.Tensor'>\n",
      "<class 'torch.Tensor'>\n",
      "<class 'torch.Tensor'>\n",
      "<class 'torch.Tensor'>\n",
      "<class 'torch.Tensor'>\n",
      "<class 'torch.Tensor'>\n",
      "<class 'torch.Tensor'>\n",
      "<class 'torch.Tensor'>\n",
      "<class 'torch.Tensor'>\n",
      "<class 'torch.Tensor'>\n",
      "<class 'torch.Tensor'>\n",
      "<class 'torch.Tensor'>\n",
      "<class 'torch.Tensor'>\n",
      "<class 'torch.Tensor'>\n",
      "<class 'torch.Tensor'>\n",
      "<class 'torch.Tensor'>\n",
      "<class 'torch.Tensor'>\n",
      "<class 'torch.Tensor'>\n",
      "<class 'torch.Tensor'>\n",
      "<class 'torch.Tensor'>\n",
      "<class 'torch.Tensor'>\n",
      "<class 'torch.Tensor'>\n",
      "<class 'torch.Tensor'>\n",
      "<class 'torch.Tensor'>\n",
      "<class 'torch.Tensor'>\n",
      "<class 'torch.Tensor'>\n",
      "<class 'torch.Tensor'>\n",
      "<class 'torch.Tensor'>\n",
      "<class 'torch.Tensor'>\n",
      "<class 'torch.Tensor'>\n",
      "<class 'torch.Tensor'>\n",
      "<class 'torch.Tensor'>\n",
      "<class 'torch.Tensor'>\n",
      "<class 'torch.Tensor'>\n",
      "<class 'torch.Tensor'>\n",
      "<class 'torch.Tensor'>\n",
      "<class 'torch.Tensor'>\n",
      "<class 'torch.Tensor'>\n",
      "<class 'torch.Tensor'>\n",
      "<class 'torch.Tensor'>\n",
      "<class 'torch.Tensor'>\n",
      "<class 'torch.Tensor'>\n",
      "<class 'torch.Tensor'>\n",
      "<class 'torch.Tensor'>\n",
      "<class 'torch.Tensor'>\n",
      "<class 'torch.Tensor'>\n",
      "<class 'torch.Tensor'>\n",
      "<class 'torch.Tensor'>\n",
      "<class 'torch.Tensor'>\n",
      "<class 'torch.Tensor'>\n",
      "<class 'torch.Tensor'>\n",
      "<class 'torch.Tensor'>\n",
      "<class 'torch.Tensor'>\n",
      "<class 'torch.Tensor'>\n",
      "<class 'torch.Tensor'>\n",
      "<class 'torch.Tensor'>\n",
      "<class 'torch.Tensor'>\n",
      "<class 'torch.Tensor'>\n",
      "<class 'torch.Tensor'>\n",
      "<class 'torch.Tensor'>\n",
      "<class 'torch.Tensor'>\n",
      "<class 'torch.Tensor'>\n",
      "<class 'torch.Tensor'>\n",
      "<class 'torch.Tensor'>\n",
      "<class 'torch.Tensor'>\n",
      "<class 'torch.Tensor'>\n",
      "<class 'torch.Tensor'>\n",
      "<class 'torch.Tensor'>\n",
      "<class 'torch.Tensor'>\n",
      "<class 'torch.Tensor'>\n"
     ]
    }
   ],
   "source": [
    "for i in range(500):\n",
    "    data = delete_triple(data,data.triples[0,0],data.triples[0,1],data.triples[0,2])\n"
   ]
  },
  {
   "cell_type": "code",
   "execution_count": 11,
   "metadata": {},
   "outputs": [
    {
     "data": {
      "text/plain": [
       "2"
      ]
     },
     "execution_count": 11,
     "metadata": {},
     "output_type": "execute_result"
    }
   ],
   "source": [
    "len(data.triples[(data.triples[:,0]==data.triples[0,0])])"
   ]
  },
  {
   "cell_type": "code",
   "execution_count": 12,
   "metadata": {},
   "outputs": [
    {
     "data": {
      "text/plain": [
       "('1462 HR', 'none')"
      ]
     },
     "execution_count": 12,
     "metadata": {},
     "output_type": "execute_result"
    }
   ],
   "source": [
    "data.i2e[2000]"
   ]
  },
  {
   "cell_type": "code",
   "execution_count": 13,
   "metadata": {},
   "outputs": [
    {
     "data": {
      "text/plain": [
       "2000"
      ]
     },
     "execution_count": 13,
     "metadata": {},
     "output_type": "execute_result"
    }
   ],
   "source": [
    "data.e2i[data.i2e[2000]]"
   ]
  },
  {
   "cell_type": "code",
   "execution_count": 31,
   "metadata": {},
   "outputs": [
    {
     "data": {
      "text/plain": [
       "60"
      ]
     },
     "execution_count": 31,
     "metadata": {},
     "output_type": "execute_result"
    }
   ],
   "source": [
    "data.num_relations"
   ]
  },
  {
   "cell_type": "code",
   "execution_count": 29,
   "metadata": {},
   "outputs": [
    {
     "data": {
      "text/plain": [
       "776554"
      ]
     },
     "execution_count": 29,
     "metadata": {},
     "output_type": "execute_result"
    }
   ],
   "source": [
    "len(data.triples)"
   ]
  },
  {
   "cell_type": "code",
   "execution_count": 48,
   "metadata": {},
   "outputs": [
    {
     "name": "stdout",
     "output_type": "stream",
     "text": [
      "Unexpected exception formatting exception. Falling back to standard exception\n"
     ]
    },
    {
     "name": "stderr",
     "output_type": "stream",
     "text": [
      "Traceback (most recent call last):\n",
      "  File \"c:\\Users\\Noctris\\.virtualenvs\\rdf-literal-preprocessing-20b3_M0v\\lib\\site-packages\\IPython\\core\\interactiveshell.py\", line 3442, in run_code\n",
      "    exec(code_obj, self.user_global_ns, self.user_ns)\n",
      "  File \"C:\\Users\\Noctris\\AppData\\Local\\Temp\\ipykernel_24508\\3647624605.py\", line 1, in <module>\n",
      "    rr = get_relevant_relations(data, RDF_NUMBER_TYPES)\n",
      "  File \"e:\\00_CODE\\03_Master_Thesis\\rdf-literal-preprocessing\\src\\utils\\data_utils.py\", line 85, in get_relevant_relations\n",
      "  File \"e:\\00_CODE\\03_Master_Thesis\\rdf-literal-preprocessing\\src\\utils\\data_utils.py\", line 71, in get_p_types\n",
      "    for triple in data.triples:\n",
      "IndexError: list index out of range\n",
      "\n",
      "During handling of the above exception, another exception occurred:\n",
      "\n",
      "Traceback (most recent call last):\n",
      "  File \"c:\\Users\\Noctris\\.virtualenvs\\rdf-literal-preprocessing-20b3_M0v\\lib\\site-packages\\IPython\\core\\interactiveshell.py\", line 2057, in showtraceback\n",
      "    stb = self.InteractiveTB.structured_traceback(\n",
      "  File \"c:\\Users\\Noctris\\.virtualenvs\\rdf-literal-preprocessing-20b3_M0v\\lib\\site-packages\\IPython\\core\\ultratb.py\", line 1118, in structured_traceback\n",
      "    return FormattedTB.structured_traceback(\n",
      "  File \"c:\\Users\\Noctris\\.virtualenvs\\rdf-literal-preprocessing-20b3_M0v\\lib\\site-packages\\IPython\\core\\ultratb.py\", line 1012, in structured_traceback\n",
      "    return VerboseTB.structured_traceback(\n",
      "  File \"c:\\Users\\Noctris\\.virtualenvs\\rdf-literal-preprocessing-20b3_M0v\\lib\\site-packages\\IPython\\core\\ultratb.py\", line 865, in structured_traceback\n",
      "    formatted_exception = self.format_exception_as_a_whole(etype, evalue, etb, number_of_lines_of_context,\n",
      "  File \"c:\\Users\\Noctris\\.virtualenvs\\rdf-literal-preprocessing-20b3_M0v\\lib\\site-packages\\IPython\\core\\ultratb.py\", line 818, in format_exception_as_a_whole\n",
      "    frames.append(self.format_record(r))\n",
      "  File \"c:\\Users\\Noctris\\.virtualenvs\\rdf-literal-preprocessing-20b3_M0v\\lib\\site-packages\\IPython\\core\\ultratb.py\", line 736, in format_record\n",
      "    result += ''.join(_format_traceback_lines(frame_info.lines, Colors, self.has_colors, lvals))\n",
      "  File \"c:\\Users\\Noctris\\.virtualenvs\\rdf-literal-preprocessing-20b3_M0v\\lib\\site-packages\\stack_data\\utils.py\", line 144, in cached_property_wrapper\n",
      "    value = obj.__dict__[self.func.__name__] = self.func(obj)\n",
      "  File \"c:\\Users\\Noctris\\.virtualenvs\\rdf-literal-preprocessing-20b3_M0v\\lib\\site-packages\\stack_data\\core.py\", line 734, in lines\n",
      "    pieces = self.included_pieces\n",
      "  File \"c:\\Users\\Noctris\\.virtualenvs\\rdf-literal-preprocessing-20b3_M0v\\lib\\site-packages\\stack_data\\utils.py\", line 144, in cached_property_wrapper\n",
      "    value = obj.__dict__[self.func.__name__] = self.func(obj)\n",
      "  File \"c:\\Users\\Noctris\\.virtualenvs\\rdf-literal-preprocessing-20b3_M0v\\lib\\site-packages\\stack_data\\core.py\", line 681, in included_pieces\n",
      "    pos = scope_pieces.index(self.executing_piece)\n",
      "  File \"c:\\Users\\Noctris\\.virtualenvs\\rdf-literal-preprocessing-20b3_M0v\\lib\\site-packages\\stack_data\\utils.py\", line 144, in cached_property_wrapper\n",
      "    value = obj.__dict__[self.func.__name__] = self.func(obj)\n",
      "  File \"c:\\Users\\Noctris\\.virtualenvs\\rdf-literal-preprocessing-20b3_M0v\\lib\\site-packages\\stack_data\\core.py\", line 660, in executing_piece\n",
      "    return only(\n",
      "  File \"c:\\Users\\Noctris\\.virtualenvs\\rdf-literal-preprocessing-20b3_M0v\\lib\\site-packages\\executing\\executing.py\", line 190, in only\n",
      "    raise NotOneValueFound('Expected one value, found 0')\n",
      "executing.executing.NotOneValueFound: Expected one value, found 0\n"
     ]
    }
   ],
   "source": [
    "rr = get_relevant_relations(data, RDF_NUMBER_TYPES)"
   ]
  },
  {
   "cell_type": "code",
   "execution_count": 55,
   "metadata": {},
   "outputs": [],
   "source": [
    "def delete_all_p_triples(data, pi):\n",
    "    triples = data.triples\n",
    "    for t in triples[triples[:,1] == pi]:\n",
    "        data = delete_triple(data,t[0],t[1],t[2])"
   ]
  },
  {
   "cell_type": "code",
   "execution_count": 56,
   "metadata": {},
   "outputs": [
    {
     "data": {
      "text/plain": [
       "['iri',\n",
       " 'none',\n",
       " '@es',\n",
       " '@fy',\n",
       " '@nl',\n",
       " '@nl-nl',\n",
       " '@pt',\n",
       " '@ru',\n",
       " 'http://kgbench.info/dt#base64Image',\n",
       " 'http://www.opengis.net/ont/geosparql#wktLiteral',\n",
       " 'http://www.w3.org/2001/XMLSchema#anyURI',\n",
       " 'http://www.w3.org/2001/XMLSchema#boolean',\n",
       " 'http://www.w3.org/2001/XMLSchema#gYear',\n",
       " 'http://www.w3.org/2001/XMLSchema#nonNegativeInteger',\n",
       " 'http://www.w3.org/2001/XMLSchema#positiveInteger']"
      ]
     },
     "execution_count": 56,
     "metadata": {},
     "output_type": "execute_result"
    }
   ],
   "source": [
    "data.datatypes()"
   ]
  },
  {
   "cell_type": "code",
   "execution_count": 57,
   "metadata": {},
   "outputs": [
    {
     "name": "stdout",
     "output_type": "stream",
     "text": [
      "<class 'torch.Tensor'>\n",
      "<class 'torch.Tensor'>\n",
      "<class 'torch.Tensor'>\n",
      "<class 'torch.Tensor'>\n",
      "<class 'torch.Tensor'>\n",
      "<class 'torch.Tensor'>\n",
      "<class 'torch.Tensor'>\n",
      "<class 'torch.Tensor'>\n",
      "<class 'torch.Tensor'>\n",
      "<class 'torch.Tensor'>\n",
      "<class 'torch.Tensor'>\n",
      "<class 'torch.Tensor'>\n",
      "<class 'torch.Tensor'>\n",
      "<class 'torch.Tensor'>\n",
      "<class 'torch.Tensor'>\n",
      "<class 'torch.Tensor'>\n",
      "<class 'torch.Tensor'>\n",
      "<class 'torch.Tensor'>\n",
      "<class 'torch.Tensor'>\n",
      "<class 'torch.Tensor'>\n",
      "<class 'torch.Tensor'>\n",
      "<class 'torch.Tensor'>\n",
      "<class 'torch.Tensor'>\n",
      "<class 'torch.Tensor'>\n",
      "<class 'torch.Tensor'>\n",
      "<class 'torch.Tensor'>\n",
      "<class 'torch.Tensor'>\n",
      "<class 'torch.Tensor'>\n",
      "<class 'torch.Tensor'>\n",
      "<class 'torch.Tensor'>\n",
      "<class 'torch.Tensor'>\n",
      "<class 'torch.Tensor'>\n",
      "<class 'torch.Tensor'>\n",
      "<class 'torch.Tensor'>\n",
      "<class 'torch.Tensor'>\n",
      "<class 'torch.Tensor'>\n",
      "<class 'torch.Tensor'>\n",
      "<class 'torch.Tensor'>\n",
      "<class 'torch.Tensor'>\n",
      "<class 'torch.Tensor'>\n",
      "<class 'torch.Tensor'>\n",
      "<class 'torch.Tensor'>\n",
      "<class 'torch.Tensor'>\n",
      "<class 'torch.Tensor'>\n",
      "<class 'torch.Tensor'>\n",
      "<class 'torch.Tensor'>\n",
      "<class 'torch.Tensor'>\n",
      "<class 'torch.Tensor'>\n",
      "<class 'torch.Tensor'>\n",
      "<class 'torch.Tensor'>\n",
      "<class 'torch.Tensor'>\n",
      "<class 'torch.Tensor'>\n",
      "<class 'torch.Tensor'>\n",
      "<class 'torch.Tensor'>\n",
      "<class 'torch.Tensor'>\n",
      "<class 'torch.Tensor'>\n",
      "<class 'torch.Tensor'>\n",
      "<class 'torch.Tensor'>\n",
      "<class 'torch.Tensor'>\n",
      "<class 'torch.Tensor'>\n",
      "<class 'torch.Tensor'>\n",
      "<class 'torch.Tensor'>\n",
      "<class 'torch.Tensor'>\n",
      "<class 'torch.Tensor'>\n",
      "<class 'torch.Tensor'>\n",
      "<class 'torch.Tensor'>\n",
      "<class 'torch.Tensor'>\n",
      "<class 'torch.Tensor'>\n",
      "<class 'torch.Tensor'>\n",
      "<class 'torch.Tensor'>\n",
      "<class 'torch.Tensor'>\n",
      "<class 'torch.Tensor'>\n",
      "<class 'torch.Tensor'>\n",
      "<class 'torch.Tensor'>\n",
      "<class 'torch.Tensor'>\n",
      "<class 'torch.Tensor'>\n",
      "<class 'torch.Tensor'>\n",
      "<class 'torch.Tensor'>\n",
      "<class 'torch.Tensor'>\n",
      "<class 'torch.Tensor'>\n",
      "<class 'torch.Tensor'>\n",
      "<class 'torch.Tensor'>\n",
      "<class 'torch.Tensor'>\n",
      "<class 'torch.Tensor'>\n",
      "<class 'torch.Tensor'>\n",
      "<class 'torch.Tensor'>\n",
      "<class 'torch.Tensor'>\n",
      "<class 'torch.Tensor'>\n",
      "<class 'torch.Tensor'>\n",
      "<class 'torch.Tensor'>\n",
      "<class 'torch.Tensor'>\n",
      "<class 'torch.Tensor'>\n",
      "<class 'torch.Tensor'>\n",
      "<class 'torch.Tensor'>\n",
      "<class 'torch.Tensor'>\n",
      "<class 'torch.Tensor'>\n",
      "<class 'torch.Tensor'>\n",
      "<class 'torch.Tensor'>\n",
      "<class 'torch.Tensor'>\n",
      "<class 'torch.Tensor'>\n",
      "<class 'torch.Tensor'>\n",
      "<class 'torch.Tensor'>\n",
      "<class 'torch.Tensor'>\n",
      "<class 'torch.Tensor'>\n",
      "<class 'torch.Tensor'>\n",
      "<class 'torch.Tensor'>\n",
      "<class 'torch.Tensor'>\n",
      "<class 'torch.Tensor'>\n",
      "<class 'torch.Tensor'>\n",
      "<class 'torch.Tensor'>\n",
      "<class 'torch.Tensor'>\n",
      "<class 'torch.Tensor'>\n",
      "<class 'torch.Tensor'>\n",
      "<class 'torch.Tensor'>\n",
      "<class 'torch.Tensor'>\n",
      "<class 'torch.Tensor'>\n",
      "<class 'torch.Tensor'>\n",
      "<class 'torch.Tensor'>\n",
      "<class 'torch.Tensor'>\n",
      "<class 'torch.Tensor'>\n",
      "<class 'torch.Tensor'>\n",
      "<class 'torch.Tensor'>\n",
      "<class 'torch.Tensor'>\n",
      "<class 'torch.Tensor'>\n",
      "<class 'torch.Tensor'>\n",
      "<class 'torch.Tensor'>\n",
      "<class 'torch.Tensor'>\n",
      "<class 'torch.Tensor'>\n",
      "<class 'torch.Tensor'>\n",
      "<class 'torch.Tensor'>\n",
      "<class 'torch.Tensor'>\n",
      "<class 'torch.Tensor'>\n",
      "<class 'torch.Tensor'>\n",
      "<class 'torch.Tensor'>\n",
      "<class 'torch.Tensor'>\n",
      "<class 'torch.Tensor'>\n",
      "<class 'torch.Tensor'>\n",
      "<class 'torch.Tensor'>\n",
      "<class 'torch.Tensor'>\n",
      "<class 'torch.Tensor'>\n",
      "<class 'torch.Tensor'>\n",
      "<class 'torch.Tensor'>\n",
      "<class 'torch.Tensor'>\n",
      "<class 'torch.Tensor'>\n",
      "<class 'torch.Tensor'>\n",
      "<class 'torch.Tensor'>\n",
      "<class 'torch.Tensor'>\n",
      "<class 'torch.Tensor'>\n",
      "<class 'torch.Tensor'>\n",
      "<class 'torch.Tensor'>\n",
      "<class 'torch.Tensor'>\n",
      "<class 'torch.Tensor'>\n",
      "<class 'torch.Tensor'>\n",
      "<class 'torch.Tensor'>\n",
      "<class 'torch.Tensor'>\n",
      "<class 'torch.Tensor'>\n",
      "<class 'torch.Tensor'>\n",
      "<class 'torch.Tensor'>\n",
      "<class 'torch.Tensor'>\n",
      "<class 'torch.Tensor'>\n",
      "<class 'torch.Tensor'>\n",
      "<class 'torch.Tensor'>\n",
      "<class 'torch.Tensor'>\n",
      "<class 'torch.Tensor'>\n",
      "<class 'torch.Tensor'>\n",
      "<class 'torch.Tensor'>\n",
      "<class 'torch.Tensor'>\n",
      "<class 'torch.Tensor'>\n",
      "<class 'torch.Tensor'>\n",
      "<class 'torch.Tensor'>\n",
      "<class 'torch.Tensor'>\n",
      "<class 'torch.Tensor'>\n",
      "<class 'torch.Tensor'>\n",
      "<class 'torch.Tensor'>\n",
      "<class 'torch.Tensor'>\n",
      "<class 'torch.Tensor'>\n",
      "<class 'torch.Tensor'>\n",
      "<class 'torch.Tensor'>\n",
      "<class 'torch.Tensor'>\n",
      "<class 'torch.Tensor'>\n",
      "<class 'torch.Tensor'>\n",
      "<class 'torch.Tensor'>\n",
      "<class 'torch.Tensor'>\n",
      "<class 'torch.Tensor'>\n",
      "<class 'torch.Tensor'>\n",
      "<class 'torch.Tensor'>\n",
      "<class 'torch.Tensor'>\n",
      "<class 'torch.Tensor'>\n",
      "<class 'torch.Tensor'>\n",
      "<class 'torch.Tensor'>\n",
      "<class 'torch.Tensor'>\n",
      "<class 'torch.Tensor'>\n",
      "<class 'torch.Tensor'>\n",
      "<class 'torch.Tensor'>\n",
      "<class 'torch.Tensor'>\n",
      "<class 'torch.Tensor'>\n",
      "<class 'torch.Tensor'>\n",
      "<class 'torch.Tensor'>\n",
      "<class 'torch.Tensor'>\n",
      "<class 'torch.Tensor'>\n",
      "<class 'torch.Tensor'>\n",
      "<class 'torch.Tensor'>\n",
      "<class 'torch.Tensor'>\n",
      "<class 'torch.Tensor'>\n",
      "<class 'torch.Tensor'>\n",
      "<class 'torch.Tensor'>\n",
      "<class 'torch.Tensor'>\n",
      "<class 'torch.Tensor'>\n",
      "<class 'torch.Tensor'>\n",
      "<class 'torch.Tensor'>\n",
      "<class 'torch.Tensor'>\n",
      "<class 'torch.Tensor'>\n",
      "<class 'torch.Tensor'>\n",
      "<class 'torch.Tensor'>\n",
      "<class 'torch.Tensor'>\n",
      "<class 'torch.Tensor'>\n",
      "<class 'torch.Tensor'>\n",
      "<class 'torch.Tensor'>\n",
      "<class 'torch.Tensor'>\n",
      "<class 'torch.Tensor'>\n",
      "<class 'torch.Tensor'>\n",
      "<class 'torch.Tensor'>\n",
      "<class 'torch.Tensor'>\n",
      "<class 'torch.Tensor'>\n",
      "<class 'torch.Tensor'>\n",
      "<class 'torch.Tensor'>\n",
      "<class 'torch.Tensor'>\n",
      "<class 'torch.Tensor'>\n",
      "<class 'torch.Tensor'>\n",
      "<class 'torch.Tensor'>\n",
      "<class 'torch.Tensor'>\n",
      "<class 'torch.Tensor'>\n",
      "<class 'torch.Tensor'>\n",
      "<class 'torch.Tensor'>\n",
      "<class 'torch.Tensor'>\n",
      "<class 'torch.Tensor'>\n",
      "<class 'torch.Tensor'>\n",
      "<class 'torch.Tensor'>\n",
      "<class 'torch.Tensor'>\n",
      "<class 'torch.Tensor'>\n",
      "<class 'torch.Tensor'>\n",
      "<class 'torch.Tensor'>\n",
      "<class 'torch.Tensor'>\n",
      "<class 'torch.Tensor'>\n",
      "<class 'torch.Tensor'>\n",
      "<class 'torch.Tensor'>\n",
      "<class 'torch.Tensor'>\n",
      "<class 'torch.Tensor'>\n",
      "<class 'torch.Tensor'>\n",
      "<class 'torch.Tensor'>\n",
      "<class 'torch.Tensor'>\n",
      "<class 'torch.Tensor'>\n",
      "<class 'torch.Tensor'>\n",
      "<class 'torch.Tensor'>\n",
      "<class 'torch.Tensor'>\n",
      "<class 'torch.Tensor'>\n",
      "<class 'torch.Tensor'>\n",
      "<class 'torch.Tensor'>\n",
      "<class 'torch.Tensor'>\n",
      "<class 'torch.Tensor'>\n",
      "<class 'torch.Tensor'>\n",
      "<class 'torch.Tensor'>\n",
      "<class 'torch.Tensor'>\n",
      "<class 'torch.Tensor'>\n",
      "<class 'torch.Tensor'>\n",
      "<class 'torch.Tensor'>\n",
      "<class 'torch.Tensor'>\n",
      "<class 'torch.Tensor'>\n",
      "<class 'torch.Tensor'>\n",
      "<class 'torch.Tensor'>\n",
      "<class 'torch.Tensor'>\n",
      "<class 'torch.Tensor'>\n",
      "<class 'torch.Tensor'>\n",
      "<class 'torch.Tensor'>\n",
      "<class 'torch.Tensor'>\n",
      "<class 'torch.Tensor'>\n",
      "<class 'torch.Tensor'>\n",
      "<class 'torch.Tensor'>\n",
      "<class 'torch.Tensor'>\n",
      "<class 'torch.Tensor'>\n",
      "<class 'torch.Tensor'>\n",
      "<class 'torch.Tensor'>\n",
      "<class 'torch.Tensor'>\n",
      "<class 'torch.Tensor'>\n",
      "<class 'torch.Tensor'>\n",
      "<class 'torch.Tensor'>\n",
      "<class 'torch.Tensor'>\n",
      "<class 'torch.Tensor'>\n",
      "<class 'torch.Tensor'>\n",
      "<class 'torch.Tensor'>\n",
      "<class 'torch.Tensor'>\n",
      "<class 'torch.Tensor'>\n",
      "<class 'torch.Tensor'>\n",
      "<class 'torch.Tensor'>\n",
      "<class 'torch.Tensor'>\n",
      "<class 'torch.Tensor'>\n",
      "<class 'torch.Tensor'>\n",
      "<class 'torch.Tensor'>\n",
      "<class 'torch.Tensor'>\n",
      "<class 'torch.Tensor'>\n",
      "<class 'torch.Tensor'>\n",
      "<class 'torch.Tensor'>\n",
      "<class 'torch.Tensor'>\n",
      "<class 'torch.Tensor'>\n",
      "<class 'torch.Tensor'>\n",
      "<class 'torch.Tensor'>\n",
      "<class 'torch.Tensor'>\n",
      "<class 'torch.Tensor'>\n",
      "<class 'torch.Tensor'>\n",
      "<class 'torch.Tensor'>\n",
      "<class 'torch.Tensor'>\n",
      "<class 'torch.Tensor'>\n",
      "<class 'torch.Tensor'>\n",
      "<class 'torch.Tensor'>\n",
      "<class 'torch.Tensor'>\n",
      "<class 'torch.Tensor'>\n",
      "<class 'torch.Tensor'>\n",
      "<class 'torch.Tensor'>\n",
      "<class 'torch.Tensor'>\n",
      "<class 'torch.Tensor'>\n",
      "<class 'torch.Tensor'>\n",
      "<class 'torch.Tensor'>\n",
      "<class 'torch.Tensor'>\n",
      "<class 'torch.Tensor'>\n",
      "<class 'torch.Tensor'>\n",
      "<class 'torch.Tensor'>\n",
      "<class 'torch.Tensor'>\n",
      "<class 'torch.Tensor'>\n",
      "<class 'torch.Tensor'>\n",
      "<class 'torch.Tensor'>\n",
      "<class 'torch.Tensor'>\n",
      "<class 'torch.Tensor'>\n",
      "<class 'torch.Tensor'>\n",
      "<class 'torch.Tensor'>\n",
      "<class 'torch.Tensor'>\n",
      "<class 'torch.Tensor'>\n",
      "<class 'torch.Tensor'>\n",
      "<class 'torch.Tensor'>\n",
      "<class 'torch.Tensor'>\n",
      "<class 'torch.Tensor'>\n",
      "<class 'torch.Tensor'>\n",
      "<class 'torch.Tensor'>\n",
      "<class 'torch.Tensor'>\n",
      "<class 'torch.Tensor'>\n",
      "<class 'torch.Tensor'>\n",
      "<class 'torch.Tensor'>\n",
      "<class 'torch.Tensor'>\n",
      "<class 'torch.Tensor'>\n",
      "<class 'torch.Tensor'>\n",
      "<class 'torch.Tensor'>\n",
      "<class 'torch.Tensor'>\n",
      "<class 'torch.Tensor'>\n",
      "<class 'torch.Tensor'>\n",
      "<class 'torch.Tensor'>\n",
      "<class 'torch.Tensor'>\n",
      "<class 'torch.Tensor'>\n",
      "<class 'torch.Tensor'>\n",
      "<class 'torch.Tensor'>\n",
      "<class 'torch.Tensor'>\n",
      "<class 'torch.Tensor'>\n",
      "<class 'torch.Tensor'>\n",
      "<class 'torch.Tensor'>\n",
      "<class 'torch.Tensor'>\n",
      "<class 'torch.Tensor'>\n",
      "<class 'torch.Tensor'>\n",
      "<class 'torch.Tensor'>\n",
      "<class 'torch.Tensor'>\n",
      "<class 'torch.Tensor'>\n",
      "<class 'torch.Tensor'>\n",
      "<class 'torch.Tensor'>\n",
      "<class 'torch.Tensor'>\n",
      "<class 'torch.Tensor'>\n",
      "<class 'torch.Tensor'>\n",
      "<class 'torch.Tensor'>\n",
      "<class 'torch.Tensor'>\n",
      "<class 'torch.Tensor'>\n",
      "<class 'torch.Tensor'>\n",
      "<class 'torch.Tensor'>\n",
      "<class 'torch.Tensor'>\n",
      "<class 'torch.Tensor'>\n",
      "<class 'torch.Tensor'>\n",
      "<class 'torch.Tensor'>\n",
      "<class 'torch.Tensor'>\n",
      "<class 'torch.Tensor'>\n",
      "<class 'torch.Tensor'>\n",
      "<class 'torch.Tensor'>\n",
      "<class 'torch.Tensor'>\n",
      "<class 'torch.Tensor'>\n",
      "<class 'torch.Tensor'>\n",
      "<class 'torch.Tensor'>\n",
      "<class 'torch.Tensor'>\n",
      "<class 'torch.Tensor'>\n",
      "<class 'torch.Tensor'>\n",
      "<class 'torch.Tensor'>\n",
      "<class 'torch.Tensor'>\n",
      "<class 'torch.Tensor'>\n",
      "<class 'torch.Tensor'>\n",
      "<class 'torch.Tensor'>\n",
      "<class 'torch.Tensor'>\n",
      "<class 'torch.Tensor'>\n",
      "<class 'torch.Tensor'>\n",
      "<class 'torch.Tensor'>\n",
      "<class 'torch.Tensor'>\n",
      "<class 'torch.Tensor'>\n",
      "<class 'torch.Tensor'>\n",
      "<class 'torch.Tensor'>\n",
      "<class 'torch.Tensor'>\n",
      "<class 'torch.Tensor'>\n",
      "<class 'torch.Tensor'>\n",
      "<class 'torch.Tensor'>\n",
      "<class 'torch.Tensor'>\n",
      "<class 'torch.Tensor'>\n",
      "<class 'torch.Tensor'>\n",
      "<class 'torch.Tensor'>\n",
      "<class 'torch.Tensor'>\n",
      "<class 'torch.Tensor'>\n",
      "<class 'torch.Tensor'>\n",
      "<class 'torch.Tensor'>\n",
      "<class 'torch.Tensor'>\n",
      "<class 'torch.Tensor'>\n",
      "<class 'torch.Tensor'>\n",
      "<class 'torch.Tensor'>\n",
      "<class 'torch.Tensor'>\n",
      "<class 'torch.Tensor'>\n",
      "<class 'torch.Tensor'>\n",
      "<class 'torch.Tensor'>\n",
      "<class 'torch.Tensor'>\n",
      "<class 'torch.Tensor'>\n",
      "<class 'torch.Tensor'>\n",
      "<class 'torch.Tensor'>\n",
      "<class 'torch.Tensor'>\n",
      "<class 'torch.Tensor'>\n",
      "<class 'torch.Tensor'>\n",
      "<class 'torch.Tensor'>\n",
      "<class 'torch.Tensor'>\n",
      "<class 'torch.Tensor'>\n",
      "<class 'torch.Tensor'>\n",
      "<class 'torch.Tensor'>\n",
      "<class 'torch.Tensor'>\n",
      "<class 'torch.Tensor'>\n",
      "<class 'torch.Tensor'>\n",
      "<class 'torch.Tensor'>\n",
      "<class 'torch.Tensor'>\n",
      "<class 'torch.Tensor'>\n",
      "<class 'torch.Tensor'>\n",
      "<class 'torch.Tensor'>\n",
      "<class 'torch.Tensor'>\n",
      "<class 'torch.Tensor'>\n",
      "<class 'torch.Tensor'>\n",
      "<class 'torch.Tensor'>\n",
      "<class 'torch.Tensor'>\n",
      "<class 'torch.Tensor'>\n",
      "<class 'torch.Tensor'>\n",
      "<class 'torch.Tensor'>\n",
      "<class 'torch.Tensor'>\n",
      "<class 'torch.Tensor'>\n",
      "<class 'torch.Tensor'>\n",
      "<class 'torch.Tensor'>\n",
      "<class 'torch.Tensor'>\n",
      "<class 'torch.Tensor'>\n",
      "<class 'torch.Tensor'>\n",
      "<class 'torch.Tensor'>\n",
      "<class 'torch.Tensor'>\n",
      "<class 'torch.Tensor'>\n",
      "<class 'torch.Tensor'>\n",
      "<class 'torch.Tensor'>\n",
      "<class 'torch.Tensor'>\n",
      "<class 'torch.Tensor'>\n",
      "<class 'torch.Tensor'>\n",
      "<class 'torch.Tensor'>\n",
      "<class 'torch.Tensor'>\n",
      "<class 'torch.Tensor'>\n",
      "<class 'torch.Tensor'>\n",
      "<class 'torch.Tensor'>\n",
      "<class 'torch.Tensor'>\n",
      "<class 'torch.Tensor'>\n",
      "<class 'torch.Tensor'>\n",
      "<class 'torch.Tensor'>\n",
      "<class 'torch.Tensor'>\n",
      "<class 'torch.Tensor'>\n",
      "<class 'torch.Tensor'>\n",
      "<class 'torch.Tensor'>\n",
      "<class 'torch.Tensor'>\n",
      "<class 'torch.Tensor'>\n",
      "<class 'torch.Tensor'>\n",
      "<class 'torch.Tensor'>\n",
      "<class 'torch.Tensor'>\n",
      "<class 'torch.Tensor'>\n",
      "<class 'torch.Tensor'>\n",
      "<class 'torch.Tensor'>\n",
      "<class 'torch.Tensor'>\n",
      "<class 'torch.Tensor'>\n",
      "<class 'torch.Tensor'>\n",
      "<class 'torch.Tensor'>\n",
      "<class 'torch.Tensor'>\n",
      "<class 'torch.Tensor'>\n",
      "<class 'torch.Tensor'>\n",
      "<class 'torch.Tensor'>\n",
      "<class 'torch.Tensor'>\n",
      "<class 'torch.Tensor'>\n",
      "<class 'torch.Tensor'>\n",
      "<class 'torch.Tensor'>\n",
      "<class 'torch.Tensor'>\n",
      "<class 'torch.Tensor'>\n",
      "<class 'torch.Tensor'>\n",
      "<class 'torch.Tensor'>\n",
      "<class 'torch.Tensor'>\n",
      "<class 'torch.Tensor'>\n",
      "<class 'torch.Tensor'>\n",
      "<class 'torch.Tensor'>\n"
     ]
    },
    {
     "ename": "TypeError",
     "evalue": "list indices must be integers or slices, not str",
     "output_type": "error",
     "traceback": [
      "\u001b[1;31m---------------------------------------------------------------------------\u001b[0m",
      "\u001b[1;31mTypeError\u001b[0m                                 Traceback (most recent call last)",
      "Cell \u001b[1;32mIn[57], line 2\u001b[0m\n\u001b[0;32m      1\u001b[0m \u001b[39mfor\u001b[39;00m r \u001b[39min\u001b[39;00m rr:\n\u001b[1;32m----> 2\u001b[0m     delete_all_p_triples(data,r)\n",
      "Cell \u001b[1;32mIn[55], line 4\u001b[0m, in \u001b[0;36mdelete_all_p_triples\u001b[1;34m(data, pi)\u001b[0m\n\u001b[0;32m      2\u001b[0m triples \u001b[39m=\u001b[39m data\u001b[39m.\u001b[39mtriples\n\u001b[0;32m      3\u001b[0m \u001b[39mfor\u001b[39;00m t \u001b[39min\u001b[39;00m triples[triples[:,\u001b[39m1\u001b[39m] \u001b[39m==\u001b[39m pi]:\n\u001b[1;32m----> 4\u001b[0m     data \u001b[39m=\u001b[39m delete_triple(data,t[\u001b[39m0\u001b[39;49m],t[\u001b[39m1\u001b[39;49m],t[\u001b[39m2\u001b[39;49m])\n",
      "File \u001b[1;32me:\\00_CODE\\03_Master_Thesis\\rdf-literal-preprocessing\\src\\utils\\data_utils.py:163\u001b[0m, in \u001b[0;36mdelete_triple\u001b[1;34m(data, si, pi, oi, verbose)\u001b[0m\n\u001b[0;32m    161\u001b[0m to_pop\u001b[39m.\u001b[39msort(reverse\u001b[39m=\u001b[39m\u001b[39mTrue\u001b[39;00m)\n\u001b[0;32m    162\u001b[0m \u001b[39mif\u001b[39;00m \u001b[39mlen\u001b[39m(to_pop) \u001b[39m>\u001b[39m \u001b[39m0\u001b[39m:\n\u001b[1;32m--> 163\u001b[0m     \u001b[39mfor\u001b[39;00m elem \u001b[39min\u001b[39;00m to_pop:\n\u001b[0;32m    164\u001b[0m         data\u001b[39m.\u001b[39mi2e\u001b[39m.\u001b[39mpop(elem)\n\u001b[0;32m    165\u001b[0m     updated_e2i \u001b[39m=\u001b[39m {}\n",
      "\u001b[1;31mTypeError\u001b[0m: list indices must be integers or slices, not str"
     ]
    }
   ],
   "source": [
    "for r in rr:\n",
    "    delete_all_p_triples(data,r)"
   ]
  },
  {
   "cell_type": "code",
   "execution_count": 11,
   "metadata": {},
   "outputs": [
    {
     "data": {
      "text/plain": [
       "['iri',\n",
       " 'none',\n",
       " '@es',\n",
       " '@fy',\n",
       " '@nl',\n",
       " '@nl-nl',\n",
       " '@pt',\n",
       " '@ru',\n",
       " 'http://kgbench.info/dt#base64Image',\n",
       " 'http://www.opengis.net/ont/geosparql#wktLiteral',\n",
       " 'http://www.w3.org/2001/XMLSchema#anyURI',\n",
       " 'http://www.w3.org/2001/XMLSchema#boolean',\n",
       " 'http://www.w3.org/2001/XMLSchema#gYear',\n",
       " 'http://www.w3.org/2001/XMLSchema#nonNegativeInteger',\n",
       " 'http://www.w3.org/2001/XMLSchema#positiveInteger']"
      ]
     },
     "execution_count": 11,
     "metadata": {},
     "output_type": "execute_result"
    }
   ],
   "source": [
    "data.datatypes()"
   ]
  },
  {
   "cell_type": "code",
   "execution_count": 37,
   "metadata": {},
   "outputs": [
    {
     "ename": "KeyError",
     "evalue": "'http://www.w3.org/2001/XMLSchema#positiveInteger'",
     "output_type": "error",
     "traceback": [
      "\u001b[1;31m---------------------------------------------------------------------------\u001b[0m",
      "\u001b[1;31mKeyError\u001b[0m                                  Traceback (most recent call last)",
      "Cell \u001b[1;32mIn[37], line 1\u001b[0m\n\u001b[1;32m----> 1\u001b[0m data\u001b[39m.\u001b[39;49mr2i[\u001b[39m\"\u001b[39;49m\u001b[39mhttp://www.w3.org/2001/XMLSchema#positiveInteger\u001b[39;49m\u001b[39m\"\u001b[39;49m]\n",
      "\u001b[1;31mKeyError\u001b[0m: 'http://www.w3.org/2001/XMLSchema#positiveInteger'"
     ]
    }
   ],
   "source": [
    "data.r2i[\"http://www.w3.org/2001/XMLSchema#positiveInteger\"]\n"
   ]
  },
  {
   "cell_type": "code",
   "execution_count": 39,
   "metadata": {},
   "outputs": [
    {
     "data": {
      "text/plain": [
       "[26, 2, 43]"
      ]
     },
     "execution_count": 39,
     "metadata": {},
     "output_type": "execute_result"
    }
   ],
   "source": [
    "rr"
   ]
  },
  {
   "cell_type": "code",
   "execution_count": 6,
   "metadata": {},
   "outputs": [
    {
     "data": {
      "text/plain": [
       "8396"
      ]
     },
     "execution_count": 6,
     "metadata": {},
     "output_type": "execute_result"
    }
   ],
   "source": [
    "len(data.triples[data.triples[:,1]== 2])"
   ]
  },
  {
   "cell_type": "code",
   "execution_count": 4,
   "metadata": {},
   "outputs": [
    {
     "data": {
      "text/plain": [
       "[26, 2, 43]"
      ]
     },
     "execution_count": 4,
     "metadata": {},
     "output_type": "execute_result"
    }
   ],
   "source": [
    "rr"
   ]
  },
  {
   "cell_type": "code",
   "execution_count": 10,
   "metadata": {},
   "outputs": [
    {
     "data": {
      "text/plain": [
       "'http://dbpedia.org/ontology/location'"
      ]
     },
     "execution_count": 10,
     "metadata": {},
     "output_type": "execute_result"
    }
   ],
   "source": [
    "data.i2r[2]"
   ]
  },
  {
   "cell_type": "code",
   "execution_count": 9,
   "metadata": {},
   "outputs": [
    {
     "ename": "TypeError",
     "evalue": "list indices must be integers or slices, not str",
     "output_type": "error",
     "traceback": [
      "\u001b[1;31m---------------------------------------------------------------------------\u001b[0m",
      "\u001b[1;31mTypeError\u001b[0m                                 Traceback (most recent call last)",
      "Cell \u001b[1;32mIn[9], line 4\u001b[0m\n\u001b[0;32m      1\u001b[0m \u001b[39mwhile\u001b[39;00m(\u001b[39m\"\u001b[39m\u001b[39mhttp://dbpedia.org/ontology/codeNationalMonument\u001b[39m\u001b[39m\"\u001b[39m \u001b[39min\u001b[39;00m data\u001b[39m.\u001b[39mr2i):\n\u001b[0;32m      3\u001b[0m     t \u001b[39m=\u001b[39m data\u001b[39m.\u001b[39mtriples[data\u001b[39m.\u001b[39mtriples[:,\u001b[39m1\u001b[39m]\u001b[39m==\u001b[39m data\u001b[39m.\u001b[39mr2i[\u001b[39m\"\u001b[39m\u001b[39mhttp://dbpedia.org/ontology/codeNationalMonument\u001b[39m\u001b[39m\"\u001b[39m]]\n\u001b[1;32m----> 4\u001b[0m     data \u001b[39m=\u001b[39m delete_triple(data,t[\u001b[39m0\u001b[39;49m,\u001b[39m0\u001b[39;49m], t[\u001b[39m0\u001b[39;49m,\u001b[39m1\u001b[39;49m], t[\u001b[39m0\u001b[39;49m,\u001b[39m2\u001b[39;49m] )\n",
      "File \u001b[1;32me:\\00_CODE\\03_Master_Thesis\\rdf-literal-preprocessing\\src\\utils\\data_utils.py:152\u001b[0m, in \u001b[0;36mdelete_triple\u001b[1;34m(data, si, pi, oi, verbose)\u001b[0m\n\u001b[0;32m    150\u001b[0m updated_r2i \u001b[39m=\u001b[39m {}\n\u001b[0;32m    151\u001b[0m \u001b[39mfor\u001b[39;00m i \u001b[39min\u001b[39;00m data\u001b[39m.\u001b[39mi2r:\n\u001b[1;32m--> 152\u001b[0m     updated_r2i[data\u001b[39m.\u001b[39;49mi2r[i]] \u001b[39m=\u001b[39m i\n\u001b[0;32m    153\u001b[0m data\u001b[39m.\u001b[39mr2i \u001b[39m=\u001b[39m updated_r2i\n\u001b[0;32m    154\u001b[0m data\u001b[39m.\u001b[39mnum_relations \u001b[39m-\u001b[39m\u001b[39m=\u001b[39m \u001b[39m1\u001b[39m\n",
      "\u001b[1;31mTypeError\u001b[0m: list indices must be integers or slices, not str"
     ]
    }
   ],
   "source": [
    "i=0\n",
    "while(\"http://dbpedia.org/ontology/codeNationalMonument\" in data.r2i):\n",
    "    if i%200:\n",
    "        print(i)\n",
    "    t = data.triples[data.triples[:,1]== data.r2i[\"http://dbpedia.org/ontology/codeNationalMonument\"]]\n",
    "    data = delete_triple(data,t[0,0], t[0,1], t[0,2] )\n"
   ]
  },
  {
   "cell_type": "code",
   "execution_count": 13,
   "metadata": {},
   "outputs": [
    {
     "data": {
      "text/plain": [
       "tensor([[130685,     28,  54795],\n",
       "        [130685,     31, 201822],\n",
       "        [130690,     28,  58948],\n",
       "        ...,\n",
       "        [271591,     31, 211084],\n",
       "        [271593,     31, 211084],\n",
       "        [271598,     31, 211084]], dtype=torch.int32)"
      ]
     },
     "execution_count": 13,
     "metadata": {},
     "output_type": "execute_result"
    }
   ],
   "source": [
    "data.triples"
   ]
  },
  {
   "cell_type": "code",
   "execution_count": 16,
   "metadata": {},
   "outputs": [
    {
     "data": {
      "text/plain": [
       "tensor([[130685,     28,  54795],\n",
       "        [130685,     31, 201822],\n",
       "        [130690,     28,  58948],\n",
       "        ...,\n",
       "        [271591,     31, 211084],\n",
       "        [271593,     31, 211084],\n",
       "        [271598,     31, 211084]], dtype=torch.int32)"
      ]
     },
     "execution_count": 16,
     "metadata": {},
     "output_type": "execute_result"
    }
   ],
   "source": [
    "triples = data.triples\n",
    "triples"
   ]
  },
  {
   "cell_type": "code",
   "execution_count": 25,
   "metadata": {},
   "outputs": [],
   "source": [
    "filtered = triples[~(triples[:,1]==rr[0])]"
   ]
  },
  {
   "cell_type": "code",
   "execution_count": 28,
   "metadata": {},
   "outputs": [],
   "source": [
    "import torch"
   ]
  },
  {
   "cell_type": "code",
   "execution_count": 55,
   "metadata": {},
   "outputs": [],
   "source": [
    "s = torch.unique(filtered[:,2])"
   ]
  },
  {
   "cell_type": "code",
   "execution_count": 40,
   "metadata": {},
   "outputs": [],
   "source": [
    "st = torch.unique(triples[:,2])"
   ]
  },
  {
   "cell_type": "code",
   "execution_count": 41,
   "metadata": {},
   "outputs": [],
   "source": [
    "neg_filter =  st[~(torch.isin(st, s))]\n"
   ]
  },
  {
   "cell_type": "code",
   "execution_count": 45,
   "metadata": {},
   "outputs": [
    {
     "name": "stdout",
     "output_type": "stream",
     "text": [
      "417\n"
     ]
    }
   ],
   "source": [
    "for n in neg_filter.numpy():\n",
    "    print(n)\n",
    "    break"
   ]
  },
  {
   "cell_type": "code",
   "execution_count": null,
   "metadata": {},
   "outputs": [],
   "source": []
  },
  {
   "cell_type": "code",
   "execution_count": 60,
   "metadata": {},
   "outputs": [
    {
     "data": {
      "text/plain": [
       "tensor([ 54795, 201822,  58948,  ..., 211084, 211084, 211084],\n",
       "       dtype=torch.int32)"
      ]
     },
     "execution_count": 60,
     "metadata": {},
     "output_type": "execute_result"
    }
   ],
   "source": [
    "filtered[:,2]"
   ]
  },
  {
   "cell_type": "code",
   "execution_count": 64,
   "metadata": {},
   "outputs": [
    {
     "data": {
      "text/plain": [
       "tensor([     0,      1,      2,  ..., 341267, 341268, 341269],\n",
       "       dtype=torch.int32)"
      ]
     },
     "execution_count": 64,
     "metadata": {},
     "output_type": "execute_result"
    }
   ],
   "source": [
    "torch.unique(torch.cat([filtered[:,0],filtered[:,2]])) "
   ]
  },
  {
   "cell_type": "code",
   "execution_count": 73,
   "metadata": {},
   "outputs": [],
   "source": [
    "def delete_r(data:Data, r):\n",
    "    # get subset data\n",
    "    filtered = data.triples[~(data.triples[:,1]==r)]\n",
    "    # get neg e filter\n",
    "    base_e_unique = torch.unique(torch.cat([data.triples[:,0],data.triples[:,2]])) \n",
    "    filtered_e_unique = torch.unique(torch.cat([filtered[:,0],filtered[:,2]])) \n",
    "    neg_e_filter =  base_e_unique[~(torch.isin(base_e_unique, filtered_e_unique))]\n",
    "\n",
    "    #get neg r filter\n",
    "    base_r_unique = torch.unique(data.triples[:,1])\n",
    "    filtered_r_unique = torch.unique(filtered[:,1])\n",
    "    neg_r_filter =  base_r_unique[~(torch.isin(base_r_unique, filtered_r_unique))]\n",
    "\n",
    "    #create new e mapping\n",
    "    new_e2i = {}\n",
    "    new_i2e = []\n",
    "\n",
    "    for i in range(len(data.i2e)):\n",
    "        if i not in neg_e_filter.numpy():\n",
    "            new_e2i[data.i2e[i]] = len(new_i2e)\n",
    "            new_i2e.append(data.i2e[i])\n",
    "\n",
    "    #create new r mapping\n",
    "    new_r2i = {}\n",
    "    new_i2r = []\n",
    "\n",
    "    for i in range(len(data.i2r)):\n",
    "        if i not in neg_r_filter.numpy():\n",
    "            new_r2i[data.i2r[i]] = len(new_i2r)\n",
    "            new_i2r.append(data.i2r[i])\n",
    "\n",
    "    # apply new mapping for triples\n",
    "    for t in filtered:\n",
    "        t[0] = torch.tensor(new_e2i[data.i2e[t[0].numpy()]], dtype=torch.int32)\n",
    "        t[1] = torch.tensor(new_r2i[data.i2r[t[1].numpy()]], dtype=torch.int32)\n",
    "        t[2] = torch.tensor(new_e2i[data.i2e[t[2].numpy()]], dtype=torch.int32)\n",
    "\n",
    "    #update metedata\n",
    "    data.num_entities = len(new_i2e)\n",
    "    data.num_relations = len(new_i2r)\n",
    "\n",
    "    #update data\n",
    "    data.triples = filtered\n",
    "    data.i2e = new_i2e\n",
    "    data.e2i = new_e2i\n",
    "    data.i2r = new_i2r\n",
    "    data.r2i = new_r2i\n",
    "    \n",
    "    return data\n",
    "\n"
   ]
  },
  {
   "cell_type": "code",
   "execution_count": 80,
   "metadata": {},
   "outputs": [],
   "source": [
    "rr = get_relevant_relations(data,RDF_NUMBER_TYPES)"
   ]
  },
  {
   "cell_type": "code",
   "execution_count": 81,
   "metadata": {},
   "outputs": [
    {
     "data": {
      "text/plain": [
       "[41]"
      ]
     },
     "execution_count": 81,
     "metadata": {},
     "output_type": "execute_result"
    }
   ],
   "source": [
    "rr"
   ]
  },
  {
   "cell_type": "code",
   "execution_count": 82,
   "metadata": {},
   "outputs": [
    {
     "name": "stdout",
     "output_type": "stream",
     "text": [
      "332379\n",
      "58\n",
      "332089\n",
      "57\n"
     ]
    }
   ],
   "source": [
    "print(data.num_entities)\n",
    "print(data.num_relations)\n",
    "data = delete_r(data, rr[0])\n",
    "print(data.num_entities)\n",
    "print(data.num_relations)"
   ]
  },
  {
   "cell_type": "code",
   "execution_count": 75,
   "metadata": {},
   "outputs": [
    {
     "name": "stdout",
     "output_type": "stream",
     "text": [
      "340775\n",
      "59\n"
     ]
    }
   ],
   "source": [
    "print(data.num_entities)\n",
    "print(data.num_relations)"
   ]
  },
  {
   "cell_type": "code",
   "execution_count": 51,
   "metadata": {},
   "outputs": [
    {
     "data": {
      "text/plain": [
       "495"
      ]
     },
     "execution_count": 51,
     "metadata": {},
     "output_type": "execute_result"
    }
   ],
   "source": [
    "len(neg_filter)"
   ]
  },
  {
   "cell_type": "code",
   "execution_count": 50,
   "metadata": {},
   "outputs": [
    {
     "data": {
      "text/plain": [
       "341270"
      ]
     },
     "execution_count": 50,
     "metadata": {},
     "output_type": "execute_result"
    }
   ],
   "source": [
    "len(data.i2e)"
   ]
  },
  {
   "cell_type": "code",
   "execution_count": 19,
   "metadata": {},
   "outputs": [
    {
     "data": {
      "text/plain": [
       "tensor([[130685,     28,  54795],\n",
       "        [130685,     31, 201822],\n",
       "        [130690,     28,  58948],\n",
       "        ...,\n",
       "        [271591,     31, 211084],\n",
       "        [271593,     31, 211084],\n",
       "        [271598,     31, 211084]], dtype=torch.int32)"
      ]
     },
     "execution_count": 19,
     "metadata": {},
     "output_type": "execute_result"
    }
   ],
   "source": [
    "triples"
   ]
  },
  {
   "cell_type": "code",
   "execution_count": 92,
   "metadata": {},
   "outputs": [
    {
     "data": {
      "text/plain": [
       "tensor([[280064,      0,  43028],\n",
       "        [280064,     26,  46719],\n",
       "        [280064,     29, 192641],\n",
       "        [280064,     29, 192642],\n",
       "        [121501,     29, 192641]], dtype=torch.int32)"
      ]
     },
     "execution_count": 92,
     "metadata": {},
     "output_type": "execute_result"
    }
   ],
   "source": [
    "data.triples[torch.isin(data.triples[:,0], torch.tensor([121501,280064]))]"
   ]
  },
  {
   "cell_type": "code",
   "execution_count": 88,
   "metadata": {},
   "outputs": [
    {
     "data": {
      "text/plain": [
       "tensor([121500, 121501, 121502,  ..., 280064, 280065, 280066],\n",
       "       dtype=torch.int32)"
      ]
     },
     "execution_count": 88,
     "metadata": {},
     "output_type": "execute_result"
    }
   ],
   "source": [
    "torch.unique(data.triples[:,0])"
   ]
  },
  {
   "cell_type": "code",
   "execution_count": null,
   "metadata": {},
   "outputs": [],
   "source": [
    "## bin on subpopulation nr 2\n"
   ]
  },
  {
   "cell_type": "code",
   "execution_count": null,
   "metadata": {},
   "outputs": [],
   "source": [
    "def bin_on_subpopulations(data:Data, base_relation:int, strategy = 'relations', max_depth=2):\n",
    "    #get triples\n",
    "    triples = data.triples\n",
    "    relevant_triples = triples[triples[:,1] == base_relation]\n",
    "    \n",
    "    s_list = [[relevant_triples[:,0].numpy()]] # list with subject for each level of tree\n",
    "    #get all subjects possessing relation 'base_relation'\n",
    "    df = pd.DataFrame(relevant_triples[:,0], columns=['s']) \n",
    "    ## add val column containing numerical values coresponding to the s base_relation o triple, then mapped according to i2e[o]\n",
    "    df['val'] = df.s.apply(lambda s: int(float(data.i2e[relevant_triples[relevant_triples[:,0]==s][0,2]][0])))\n",
    "\n",
    "    #calculate and sort most common relations among entities \n",
    "    r_counts = get_relations_for_entites(data, df.s)\n",
    "    r_counts = r_counts[r_counts['r']!=base_relation] # here better logic is needed\n",
    "\n",
    "\n",
    "    for i in range(1): # not yet implemented for deeper walks\n",
    "        parent = s_list[0][0]\n",
    "        print(len(parent))\n",
    "        c_triples = triples[(triples[:,1] == base_relation) & torch.isin(triples[:,0], torch.tensor(parent) )] #same as relavant triples\n",
    "        print(len(c_triples))\n",
    "        print(c_triples)\n",
    "        #child_reminder = parent\n",
    "        \n",
    "        sub_s_list = [] \n",
    "        #found = False\n",
    "        #j = 0\n",
    "\n",
    "        for j in range(len(r_counts)):\n",
    "            #c_triples = triples[(triples[:,1] == base_relation) & torch.isin(triples[:,0], child_reminder )]\n",
    "\n",
    "            sub_triples = triples[(triples[:,1] == base_relation) & (torch.isin(triples[:,0], triples[triples[:,1] == r_counts.iloc[j].r][:,0])) & (torch.isin(triples[:,0], c_triples[:,0]))]\n",
    "            proportion = len(sub_triples)/len(parent)\n",
    "            kl_div = adapted_kl_divergence(df[df.s.isin(c_triples[:,0].numpy())], df[df.s.isin(sub_triples[:,0].numpy())])\n",
    "            \n",
    "            print(f'j: {j} - prop: {proportion} - kl_div: {kl_div}')\n",
    "\n",
    "            if proportion>0.95 or proportion <0.05:\n",
    "                pass\n",
    "            #need to define value here\n",
    "            elif kl_div<300:\n",
    "                pass\n",
    "            else:\n",
    "                #print(\"was here\")\n",
    "                print(\"added\")\n",
    "                sub_s_list.append(sub_triples[:,0].numpy())\n",
    "                c_triples = c_triples[~torch.isin(c_triples[:,0],sub_triples[:,0])]\n",
    "\n",
    "        sub_s_list.append(c_triples[:,0].numpy())\n",
    "        if len(sub_s_list) >1:\n",
    "            s_list.append(sub_s_list)\n",
    "    return df, s_list"
   ]
  },
  {
   "cell_type": "code",
   "execution_count": 6,
   "metadata": {},
   "outputs": [],
   "source": [
    "rr = get_relevant_relations(data, RDF_NUMBER_TYPES)"
   ]
  },
  {
   "cell_type": "code",
   "execution_count": 57,
   "metadata": {},
   "outputs": [],
   "source": [
    "base_relation= rr[1]"
   ]
  },
  {
   "cell_type": "code",
   "execution_count": 58,
   "metadata": {},
   "outputs": [
    {
     "name": "stdout",
     "output_type": "stream",
     "text": [
      "8396\n",
      "8396\n",
      "tensor([[272082,      2,    420],\n",
      "        [272084,      2,    510],\n",
      "        [272086,      2,    530],\n",
      "        ...,\n",
      "        [288868,      2,  18471],\n",
      "        [288870,      2,  18474],\n",
      "        [288872,      2,  18476]], dtype=torch.int32)\n",
      "j: 0 - prop: 0.07765602667937113 - kl_div: 1670.18967\n",
      "added\n",
      "48\n",
      "j: 1 - prop: 0.06360171510242973 - kl_div: 1433.2539\n",
      "added\n",
      "48\n",
      "j: 0 - prop: 0.0 - kl_div: 0.0\n",
      "j: 1 - prop: 0.0 - kl_div: 0.0\n",
      "j: 0 - prop: 0.05026202953787518 - kl_div: 3265.07566\n",
      "added\n",
      "13\n",
      "j: 1 - prop: 0.004406860409718914 - kl_div: 282.38418\n"
     ]
    }
   ],
   "source": [
    "triples = data.triples\n",
    "relevant_triples = triples[triples[:,1] == base_relation]\n",
    "    \n",
    "s_list = [[relevant_triples[:,0].numpy()]] # list with subject for each level of tree\n",
    "    #get all subjects possessing relation 'base_relation'\n",
    "df = pd.DataFrame(relevant_triples[:,0], columns=['s']) \n",
    "    ## add val column containing numerical values coresponding to the s base_relation o triple, then mapped according to i2e[o]\n",
    "df['val'] = df.s.apply(lambda s: int(float(data.i2e[relevant_triples[relevant_triples[:,0]==s][0,2]][0])))\n",
    "\n",
    "    #calculate and sort most common relations among entities \n",
    "r_counts = get_relations_for_entites(data, df.s)\n",
    "r_counts = r_counts[r_counts['r']!=base_relation] # here better logic is needed\n",
    "o_counts = []\n",
    "for r in r_counts.r.array:\n",
    "    o_count = get_enteties_for_relation_with_entites(data,df.s,r)\n",
    "    if o_count['count'].iloc[0]/o_count['count'].sum() > 0.05 and len(o_count['count'])>1 and o_count['count'].sum()/ df.s.count() > 0.05:\n",
    "        o_counts.append((r,o_count))\n",
    "\n",
    "parent = s_list[0][0]\n",
    "print(len(parent))\n",
    "c_triples = triples[(triples[:,1] == base_relation) & torch.isin(triples[:,0], torch.tensor(parent) )] #same as relavant triples\n",
    "print(len(c_triples))\n",
    "print(c_triples)\n",
    "        #child_reminder = parent\n",
    "        \n",
    "sub_s_list = []\n",
    "      \n",
    "for i in range(len(o_counts)):\n",
    "    for j in range(len(o_counts[i])):    \n",
    "            #c_triples = triples[(triples[:,1] == base_relation) & torch.isin(triples[:,0], child_reminder )]\n",
    "\n",
    "        sub_triples = triples[(triples[:,1] == base_relation) & (torch.isin(triples[:,0], triples[triples[:,1] == o_counts[i][0]][:,0])) & (torch.isin(triples[:,0], c_triples[:,0])) & (torch.isin(triples[:,0], triples[triples[:,2] == o_counts[i][1].iloc[j].o][:,0]))]\n",
    "           \n",
    "           \n",
    "        proportion = len(sub_triples)/len(parent)\n",
    "        kl_div = adapted_kl_divergence(df[df.s.isin(c_triples[:,0].numpy())], df[df.s.isin(sub_triples[:,0].numpy())])\n",
    "            \n",
    "        print(f'j: {j} - prop: {proportion} - kl_div: {kl_div}')\n",
    "\n",
    "        if proportion>0.95 or proportion <0.05:\n",
    "            pass\n",
    "            #need to define value here\n",
    "        elif kl_div<300:\n",
    "            pass\n",
    "        else:\n",
    "                #print(\"was here\")\n",
    "            print(\"added\")\n",
    "            print(o_counts[i][0])\n",
    "            sub_s_list.append(sub_triples[:,0].numpy())\n",
    "            c_triples = c_triples[~torch.isin(c_triples[:,0],sub_triples[:,0])]\n",
    "\n",
    "sub_s_list.append(c_triples[:,0].numpy())\n",
    "if len(sub_s_list) >1:\n",
    "    s_list.append(sub_s_list)"
   ]
  },
  {
   "cell_type": "code",
   "execution_count": 60,
   "metadata": {},
   "outputs": [
    {
     "data": {
      "text/plain": [
       "4"
      ]
     },
     "execution_count": 60,
     "metadata": {},
     "output_type": "execute_result"
    }
   ],
   "source": [
    "len(s_list[1])"
   ]
  },
  {
   "cell_type": "code",
   "execution_count": null,
   "metadata": {},
   "outputs": [],
   "source": [
    "for i in range(1): # not yet implemented for deeper walks\n",
    "        parent = s_list[0][0]\n",
    "        print(len(parent))\n",
    "        c_triples = triples[(triples[:,1] == base_relation) & torch.isin(triples[:,0], torch.tensor(parent) )] #same as relavant triples\n",
    "        print(len(c_triples))\n",
    "        print(c_triples)\n",
    "        #child_reminder = parent\n",
    "        \n",
    "        sub_s_list = [] \n",
    "        #found = False\n",
    "        #j = 0\n",
    "\n",
    "        for j in range(len(r_counts)):\n",
    "            #c_triples = triples[(triples[:,1] == base_relation) & torch.isin(triples[:,0], child_reminder )]\n",
    "\n",
    "            sub_triples = triples[(triples[:,1] == base_relation) & (torch.isin(triples[:,0], triples[triples[:,1] == r_counts.iloc[j].r][:,0])) & (torch.isin(triples[:,0], c_triples[:,0]))]\n",
    "            proportion = len(sub_triples)/len(parent)\n",
    "            kl_div = adapted_kl_divergence(df[df.s.isin(c_triples[:,0].numpy())], df[df.s.isin(sub_triples[:,0].numpy())])\n",
    "            \n",
    "            print(f'j: {j} - prop: {proportion} - kl_div: {kl_div}')\n",
    "\n",
    "            if proportion>0.95 or proportion <0.05:\n",
    "                pass\n",
    "            #need to define value here\n",
    "            elif kl_div<300:\n",
    "                pass\n",
    "            else:\n",
    "                #print(\"was here\")\n",
    "                print(\"added\")\n",
    "                sub_s_list.append(sub_triples[:,0].numpy())\n",
    "                c_triples = c_triples[~torch.isin(c_triples[:,0],sub_triples[:,0])]\n",
    "\n",
    "        sub_s_list.append(c_triples[:,0].numpy())\n",
    "        if len(sub_s_list) >1:\n",
    "            s_list.append(sub_s_list)\n",
    "    return df, s_list"
   ]
  },
  {
   "cell_type": "code",
   "execution_count": 29,
   "metadata": {},
   "outputs": [],
   "source": [
    "from kgbench.load import Data\n",
    "import torch\n",
    "import pandas as pd\n",
    "def get_enteties_for_relation_with_entites(data:Data,entities, r):\n",
    "    df = data.triples\n",
    "    df = df[(torch.isin(df[:,0], torch.tensor(entities))) & (df[:,1]==r)]\n",
    "    o, counts = torch.unique(df[:,2], return_counts=True)\n",
    "    return pd.DataFrame({'o':o.numpy(),'count':counts.numpy()}).sort_values('count',ascending=False).reset_index(drop=True)"
   ]
  },
  {
   "cell_type": "code",
   "execution_count": 41,
   "metadata": {},
   "outputs": [
    {
     "data": {
      "text/html": [
       "<div>\n",
       "<style scoped>\n",
       "    .dataframe tbody tr th:only-of-type {\n",
       "        vertical-align: middle;\n",
       "    }\n",
       "\n",
       "    .dataframe tbody tr th {\n",
       "        vertical-align: top;\n",
       "    }\n",
       "\n",
       "    .dataframe thead th {\n",
       "        text-align: right;\n",
       "    }\n",
       "</style>\n",
       "<table border=\"1\" class=\"dataframe\">\n",
       "  <thead>\n",
       "    <tr style=\"text-align: right;\">\n",
       "      <th></th>\n",
       "      <th>r</th>\n",
       "      <th>count</th>\n",
       "    </tr>\n",
       "  </thead>\n",
       "  <tbody>\n",
       "    <tr>\n",
       "      <th>0</th>\n",
       "      <td>27</td>\n",
       "      <td>3568</td>\n",
       "    </tr>\n",
       "    <tr>\n",
       "      <th>1</th>\n",
       "      <td>14</td>\n",
       "      <td>740</td>\n",
       "    </tr>\n",
       "    <tr>\n",
       "      <th>2</th>\n",
       "      <td>15</td>\n",
       "      <td>510</td>\n",
       "    </tr>\n",
       "    <tr>\n",
       "      <th>3</th>\n",
       "      <td>32</td>\n",
       "      <td>510</td>\n",
       "    </tr>\n",
       "    <tr>\n",
       "      <th>4</th>\n",
       "      <td>31</td>\n",
       "      <td>510</td>\n",
       "    </tr>\n",
       "    <tr>\n",
       "      <th>5</th>\n",
       "      <td>29</td>\n",
       "      <td>510</td>\n",
       "    </tr>\n",
       "    <tr>\n",
       "      <th>7</th>\n",
       "      <td>25</td>\n",
       "      <td>510</td>\n",
       "    </tr>\n",
       "    <tr>\n",
       "      <th>8</th>\n",
       "      <td>24</td>\n",
       "      <td>510</td>\n",
       "    </tr>\n",
       "    <tr>\n",
       "      <th>9</th>\n",
       "      <td>23</td>\n",
       "      <td>510</td>\n",
       "    </tr>\n",
       "    <tr>\n",
       "      <th>10</th>\n",
       "      <td>22</td>\n",
       "      <td>510</td>\n",
       "    </tr>\n",
       "    <tr>\n",
       "      <th>11</th>\n",
       "      <td>20</td>\n",
       "      <td>510</td>\n",
       "    </tr>\n",
       "    <tr>\n",
       "      <th>12</th>\n",
       "      <td>19</td>\n",
       "      <td>510</td>\n",
       "    </tr>\n",
       "    <tr>\n",
       "      <th>13</th>\n",
       "      <td>18</td>\n",
       "      <td>510</td>\n",
       "    </tr>\n",
       "    <tr>\n",
       "      <th>14</th>\n",
       "      <td>17</td>\n",
       "      <td>510</td>\n",
       "    </tr>\n",
       "    <tr>\n",
       "      <th>15</th>\n",
       "      <td>16</td>\n",
       "      <td>510</td>\n",
       "    </tr>\n",
       "    <tr>\n",
       "      <th>16</th>\n",
       "      <td>35</td>\n",
       "      <td>400</td>\n",
       "    </tr>\n",
       "    <tr>\n",
       "      <th>17</th>\n",
       "      <td>21</td>\n",
       "      <td>37</td>\n",
       "    </tr>\n",
       "    <tr>\n",
       "      <th>18</th>\n",
       "      <td>36</td>\n",
       "      <td>2</td>\n",
       "    </tr>\n",
       "  </tbody>\n",
       "</table>\n",
       "</div>"
      ],
      "text/plain": [
       "     r  count\n",
       "0   27   3568\n",
       "1   14    740\n",
       "2   15    510\n",
       "3   32    510\n",
       "4   31    510\n",
       "5   29    510\n",
       "7   25    510\n",
       "8   24    510\n",
       "9   23    510\n",
       "10  22    510\n",
       "11  20    510\n",
       "12  19    510\n",
       "13  18    510\n",
       "14  17    510\n",
       "15  16    510\n",
       "16  35    400\n",
       "17  21     37\n",
       "18  36      2"
      ]
     },
     "execution_count": 41,
     "metadata": {},
     "output_type": "execute_result"
    }
   ],
   "source": [
    "r_counts"
   ]
  },
  {
   "cell_type": "code",
   "execution_count": 53,
   "metadata": {},
   "outputs": [],
   "source": [
    "o_counts = []\n",
    "for r in r_counts.r.array:\n",
    "    o_count = get_enteties_for_relation_with_entites(data,df.s,r)\n",
    "    if o_count['count'].iloc[0]/o_count['count'].sum() > 0.05 and len(o_count['count'])>1 and o_count['count'].sum()/ df.s.count() > 0.05:\n",
    "        o_counts.append((r,o_count))"
   ]
  },
  {
   "cell_type": "code",
   "execution_count": 54,
   "metadata": {},
   "outputs": [
    {
     "data": {
      "text/plain": [
       "[(22,\n",
       "           o  count\n",
       "  0   198066     82\n",
       "  1   197977     76\n",
       "  2   195641     67\n",
       "  3   196374     64\n",
       "  4   192621     62\n",
       "  5   195611     38\n",
       "  6   195062     34\n",
       "  7   193657     31\n",
       "  8   198505     19\n",
       "  9   192721     18\n",
       "  10  197736     17\n",
       "  11  199873      2),\n",
       " (17,\n",
       "          o  count\n",
       "  0  201815    497\n",
       "  1  201816      9\n",
       "  2  201820      2\n",
       "  3  201817      1\n",
       "  4  201819      1)]"
      ]
     },
     "execution_count": 54,
     "metadata": {},
     "output_type": "execute_result"
    }
   ],
   "source": [
    "o_counts"
   ]
  },
  {
   "cell_type": "code",
   "execution_count": 48,
   "metadata": {},
   "outputs": [
    {
     "data": {
      "text/plain": [
       "1.0"
      ]
     },
     "execution_count": 48,
     "metadata": {},
     "output_type": "execute_result"
    }
   ],
   "source": [
    "o_counts[0]['count'].sum()/ df.s.count()"
   ]
  },
  {
   "cell_type": "code",
   "execution_count": 50,
   "metadata": {},
   "outputs": [
    {
     "data": {
      "text/plain": [
       "510"
      ]
     },
     "execution_count": 50,
     "metadata": {},
     "output_type": "execute_result"
    }
   ],
   "source": [
    "df.s.count()"
   ]
  },
  {
   "cell_type": "code",
   "execution_count": 49,
   "metadata": {},
   "outputs": [
    {
     "data": {
      "text/html": [
       "<div>\n",
       "<style scoped>\n",
       "    .dataframe tbody tr th:only-of-type {\n",
       "        vertical-align: middle;\n",
       "    }\n",
       "\n",
       "    .dataframe tbody tr th {\n",
       "        vertical-align: top;\n",
       "    }\n",
       "\n",
       "    .dataframe thead th {\n",
       "        text-align: right;\n",
       "    }\n",
       "</style>\n",
       "<table border=\"1\" class=\"dataframe\">\n",
       "  <thead>\n",
       "    <tr style=\"text-align: right;\">\n",
       "      <th></th>\n",
       "      <th>o</th>\n",
       "      <th>count</th>\n",
       "    </tr>\n",
       "  </thead>\n",
       "  <tbody>\n",
       "    <tr>\n",
       "      <th>0</th>\n",
       "      <td>198066</td>\n",
       "      <td>82</td>\n",
       "    </tr>\n",
       "    <tr>\n",
       "      <th>1</th>\n",
       "      <td>197977</td>\n",
       "      <td>76</td>\n",
       "    </tr>\n",
       "    <tr>\n",
       "      <th>2</th>\n",
       "      <td>195641</td>\n",
       "      <td>67</td>\n",
       "    </tr>\n",
       "    <tr>\n",
       "      <th>3</th>\n",
       "      <td>196374</td>\n",
       "      <td>64</td>\n",
       "    </tr>\n",
       "    <tr>\n",
       "      <th>4</th>\n",
       "      <td>192621</td>\n",
       "      <td>62</td>\n",
       "    </tr>\n",
       "    <tr>\n",
       "      <th>5</th>\n",
       "      <td>195611</td>\n",
       "      <td>38</td>\n",
       "    </tr>\n",
       "    <tr>\n",
       "      <th>6</th>\n",
       "      <td>195062</td>\n",
       "      <td>34</td>\n",
       "    </tr>\n",
       "    <tr>\n",
       "      <th>7</th>\n",
       "      <td>193657</td>\n",
       "      <td>31</td>\n",
       "    </tr>\n",
       "    <tr>\n",
       "      <th>8</th>\n",
       "      <td>198505</td>\n",
       "      <td>19</td>\n",
       "    </tr>\n",
       "    <tr>\n",
       "      <th>9</th>\n",
       "      <td>192721</td>\n",
       "      <td>18</td>\n",
       "    </tr>\n",
       "    <tr>\n",
       "      <th>10</th>\n",
       "      <td>197736</td>\n",
       "      <td>17</td>\n",
       "    </tr>\n",
       "    <tr>\n",
       "      <th>11</th>\n",
       "      <td>199873</td>\n",
       "      <td>2</td>\n",
       "    </tr>\n",
       "  </tbody>\n",
       "</table>\n",
       "</div>"
      ],
      "text/plain": [
       "         o  count\n",
       "0   198066     82\n",
       "1   197977     76\n",
       "2   195641     67\n",
       "3   196374     64\n",
       "4   192621     62\n",
       "5   195611     38\n",
       "6   195062     34\n",
       "7   193657     31\n",
       "8   198505     19\n",
       "9   192721     18\n",
       "10  197736     17\n",
       "11  199873      2"
      ]
     },
     "execution_count": 49,
     "metadata": {},
     "output_type": "execute_result"
    }
   ],
   "source": [
    "o_counts[0]"
   ]
  },
  {
   "cell_type": "code",
   "execution_count": 46,
   "metadata": {},
   "outputs": [
    {
     "data": {
      "text/plain": [
       "[         o  count\n",
       " 0   198066     82\n",
       " 1   197977     76\n",
       " 2   195641     67\n",
       " 3   196374     64\n",
       " 4   192621     62\n",
       " 5   195611     38\n",
       " 6   195062     34\n",
       " 7   193657     31\n",
       " 8   198505     19\n",
       " 9   192721     18\n",
       " 10  197736     17\n",
       " 11  199873      2,\n",
       "         o  count\n",
       " 0  201815    497\n",
       " 1  201816      9\n",
       " 2  201820      2\n",
       " 3  201817      1\n",
       " 4  201819      1,\n",
       "       o  count\n",
       " 0  1444      1\n",
       " 1  7434      1]"
      ]
     },
     "execution_count": 46,
     "metadata": {},
     "output_type": "execute_result"
    }
   ],
   "source": [
    "o_counts"
   ]
  },
  {
   "cell_type": "code",
   "execution_count": 30,
   "metadata": {},
   "outputs": [
    {
     "data": {
      "text/plain": [
       "2"
      ]
     },
     "execution_count": 30,
     "metadata": {},
     "output_type": "execute_result"
    }
   ],
   "source": [
    "ddd['count'].iloc[0]"
   ]
  },
  {
   "cell_type": "code",
   "execution_count": 28,
   "metadata": {},
   "outputs": [
    {
     "name": "stdout",
     "output_type": "stream",
     "text": [
      "2\n"
     ]
    }
   ],
   "source": [
    "for i in ddd['count'].array:\n",
    "    print(i)\n",
    "    break"
   ]
  },
  {
   "cell_type": "code",
   "execution_count": 32,
   "metadata": {},
   "outputs": [
    {
     "data": {
      "text/plain": [
       "740"
      ]
     },
     "execution_count": 32,
     "metadata": {},
     "output_type": "execute_result"
    }
   ],
   "source": [
    "ddd['count'].sum()"
   ]
  },
  {
   "cell_type": "code",
   "execution_count": 35,
   "metadata": {},
   "outputs": [
    {
     "data": {
      "text/plain": [
       "0.002702702702702703"
      ]
     },
     "execution_count": 35,
     "metadata": {},
     "output_type": "execute_result"
    }
   ],
   "source": [
    "2/ddd['count'].sum()"
   ]
  },
  {
   "cell_type": "code",
   "execution_count": 33,
   "metadata": {},
   "outputs": [
    {
     "data": {
      "text/plain": [
       "735"
      ]
     },
     "execution_count": 33,
     "metadata": {},
     "output_type": "execute_result"
    }
   ],
   "source": [
    "ddd['count'].count()"
   ]
  },
  {
   "cell_type": "code",
   "execution_count": 34,
   "metadata": {},
   "outputs": [
    {
     "data": {
      "text/plain": [
       "1.0068027210884354"
      ]
     },
     "execution_count": 34,
     "metadata": {},
     "output_type": "execute_result"
    }
   ],
   "source": [
    "ddd['count'].sum()/ddd['count'].count()"
   ]
  },
  {
   "cell_type": "code",
   "execution_count": 22,
   "metadata": {},
   "outputs": [],
   "source": [
    "for \n",
    "ddd = get_enteties_for_relation_with_entites(data,df.s,14)"
   ]
  },
  {
   "cell_type": "code",
   "execution_count": 9,
   "metadata": {},
   "outputs": [
    {
     "data": {
      "text/html": [
       "<div>\n",
       "<style scoped>\n",
       "    .dataframe tbody tr th:only-of-type {\n",
       "        vertical-align: middle;\n",
       "    }\n",
       "\n",
       "    .dataframe tbody tr th {\n",
       "        vertical-align: top;\n",
       "    }\n",
       "\n",
       "    .dataframe thead th {\n",
       "        text-align: right;\n",
       "    }\n",
       "</style>\n",
       "<table border=\"1\" class=\"dataframe\">\n",
       "  <thead>\n",
       "    <tr style=\"text-align: right;\">\n",
       "      <th></th>\n",
       "      <th>r</th>\n",
       "      <th>count</th>\n",
       "    </tr>\n",
       "  </thead>\n",
       "  <tbody>\n",
       "    <tr>\n",
       "      <th>0</th>\n",
       "      <td>27</td>\n",
       "      <td>3568</td>\n",
       "    </tr>\n",
       "    <tr>\n",
       "      <th>1</th>\n",
       "      <td>14</td>\n",
       "      <td>740</td>\n",
       "    </tr>\n",
       "    <tr>\n",
       "      <th>2</th>\n",
       "      <td>15</td>\n",
       "      <td>510</td>\n",
       "    </tr>\n",
       "    <tr>\n",
       "      <th>3</th>\n",
       "      <td>32</td>\n",
       "      <td>510</td>\n",
       "    </tr>\n",
       "    <tr>\n",
       "      <th>4</th>\n",
       "      <td>31</td>\n",
       "      <td>510</td>\n",
       "    </tr>\n",
       "    <tr>\n",
       "      <th>5</th>\n",
       "      <td>29</td>\n",
       "      <td>510</td>\n",
       "    </tr>\n",
       "    <tr>\n",
       "      <th>7</th>\n",
       "      <td>25</td>\n",
       "      <td>510</td>\n",
       "    </tr>\n",
       "    <tr>\n",
       "      <th>8</th>\n",
       "      <td>24</td>\n",
       "      <td>510</td>\n",
       "    </tr>\n",
       "    <tr>\n",
       "      <th>9</th>\n",
       "      <td>23</td>\n",
       "      <td>510</td>\n",
       "    </tr>\n",
       "    <tr>\n",
       "      <th>10</th>\n",
       "      <td>22</td>\n",
       "      <td>510</td>\n",
       "    </tr>\n",
       "    <tr>\n",
       "      <th>11</th>\n",
       "      <td>20</td>\n",
       "      <td>510</td>\n",
       "    </tr>\n",
       "    <tr>\n",
       "      <th>12</th>\n",
       "      <td>19</td>\n",
       "      <td>510</td>\n",
       "    </tr>\n",
       "    <tr>\n",
       "      <th>13</th>\n",
       "      <td>18</td>\n",
       "      <td>510</td>\n",
       "    </tr>\n",
       "    <tr>\n",
       "      <th>14</th>\n",
       "      <td>17</td>\n",
       "      <td>510</td>\n",
       "    </tr>\n",
       "    <tr>\n",
       "      <th>15</th>\n",
       "      <td>16</td>\n",
       "      <td>510</td>\n",
       "    </tr>\n",
       "    <tr>\n",
       "      <th>16</th>\n",
       "      <td>35</td>\n",
       "      <td>400</td>\n",
       "    </tr>\n",
       "    <tr>\n",
       "      <th>17</th>\n",
       "      <td>21</td>\n",
       "      <td>37</td>\n",
       "    </tr>\n",
       "    <tr>\n",
       "      <th>18</th>\n",
       "      <td>36</td>\n",
       "      <td>2</td>\n",
       "    </tr>\n",
       "  </tbody>\n",
       "</table>\n",
       "</div>"
      ],
      "text/plain": [
       "     r  count\n",
       "0   27   3568\n",
       "1   14    740\n",
       "2   15    510\n",
       "3   32    510\n",
       "4   31    510\n",
       "5   29    510\n",
       "7   25    510\n",
       "8   24    510\n",
       "9   23    510\n",
       "10  22    510\n",
       "11  20    510\n",
       "12  19    510\n",
       "13  18    510\n",
       "14  17    510\n",
       "15  16    510\n",
       "16  35    400\n",
       "17  21     37\n",
       "18  36      2"
      ]
     },
     "execution_count": 9,
     "metadata": {},
     "output_type": "execute_result"
    }
   ],
   "source": [
    "r_counts"
   ]
  }
 ],
 "metadata": {
  "kernelspec": {
   "display_name": "rdf-literal-preprocessing-20b3_M0v",
   "language": "python",
   "name": "python3"
  },
  "language_info": {
   "codemirror_mode": {
    "name": "ipython",
    "version": 3
   },
   "file_extension": ".py",
   "mimetype": "text/x-python",
   "name": "python",
   "nbconvert_exporter": "python",
   "pygments_lexer": "ipython3",
   "version": "3.8.10"
  },
  "orig_nbformat": 4,
  "vscode": {
   "interpreter": {
    "hash": "fce7f7c728e806eecc03f5bf819d9415bfd370bb29c67dd1d9160ffa0efd741f"
   }
  }
 },
 "nbformat": 4,
 "nbformat_minor": 2
}
