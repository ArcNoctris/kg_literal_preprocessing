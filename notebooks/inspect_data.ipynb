{
 "cells": [
  {
   "cell_type": "code",
   "execution_count": 64,
   "metadata": {},
   "outputs": [
    {
     "name": "stdout",
     "output_type": "stream",
     "text": [
      "e:\\00_CODE\\03_Master_Thesis\\rdf-literal-preprocessing\\src\n"
     ]
    }
   ],
   "source": [
    "%cd ../src\n",
    "import pickle\n",
    "import pandas as pd\n",
    "from utils import IMAGE_TYPES, RDF_DATE_TYPES, RDF_NUMBER_TYPES, POTENTIAL_TEXT_TYPES\n",
    "import matplotlib.pyplot as plt"
   ]
  },
  {
   "attachments": {},
   "cell_type": "markdown",
   "metadata": {},
   "source": [
    "# General Functions"
   ]
  },
  {
   "cell_type": "code",
   "execution_count": 65,
   "metadata": {},
   "outputs": [],
   "source": [
    "def load_dataset(dataset):\n",
    "    with open(f\"../data/raw/{dataset}_final_torch_None.pickle\", \"rb\") as f:\n",
    "        data = pickle.load(f)\n",
    "    \n",
    "    print(\"# nodes\")\n",
    "    print(len(data.i2e))\n",
    "    print(\"datatypes\")\n",
    "    print(data.datatypes())\n",
    "    return data"
   ]
  },
  {
   "cell_type": "code",
   "execution_count": 66,
   "metadata": {},
   "outputs": [],
   "source": [
    "def count_all_nodes(data):\n",
    "    data_count = {}\n",
    "    for type in data.datatypes():\n",
    "        data_count[type] = 0 \n",
    "    for entry in data.i2e:\n",
    "        data_count[entry[1]] += 1 \n",
    "    \n",
    "    df = pd.DataFrame.from_dict(data_count, orient=\"index\", columns=[\"count\"])\n",
    "    df[\"percent\"] = df['count'] / len(data.i2e) *100\n",
    "    df[\"percent\"] = df[\"percent\"].round(2)\n",
    "    return data_count, df"
   ]
  },
  {
   "cell_type": "code",
   "execution_count": 67,
   "metadata": {},
   "outputs": [],
   "source": [
    "def grouped_count(data_count):\n",
    "    grouped_count = {}\n",
    "    grouped_count['Nodes'] = 0\n",
    "    grouped_count['IRI'] = 0\n",
    "    grouped_count['Blank Nodes'] = 0\n",
    "    grouped_count['Literals'] = 0\n",
    "    grouped_count['Numbers'] = 0\n",
    "    grouped_count['Dates'] = 0\n",
    "    grouped_count['Text'] = 0\n",
    "    grouped_count['Image'] = 0\n",
    "    grouped_count['Others'] = 0\n",
    "\n",
    "    for key, value in data_count.items():\n",
    "        grouped_count['Nodes'] += value\n",
    "        if key == 'iri':\n",
    "            grouped_count['IRI'] += value\n",
    "        elif key == 'blank_node':\n",
    "            grouped_count['Blank Nodes'] += value\n",
    "        else:\n",
    "            grouped_count['Literals'] += value\n",
    "            if key in RDF_NUMBER_TYPES:\n",
    "                grouped_count['Numbers'] += value\n",
    "            elif key in RDF_DATE_TYPES:\n",
    "                grouped_count['Dates'] += value\n",
    "            elif key in IMAGE_TYPES:\n",
    "                grouped_count['Image'] += value\n",
    "            elif key in POTENTIAL_TEXT_TYPES:\n",
    "                grouped_count['Text'] += value\n",
    "            else:\n",
    "                grouped_count['Others'] += value\n",
    "            \n",
    "    df = pd.DataFrame.from_dict(grouped_count, orient=\"index\", columns=[\"count\"])\n",
    "    df[\"percent\"] = df['count'] / grouped_count['Nodes'] *100\n",
    "    df[\"percent\"] = df[\"percent\"].round(2)\n",
    "    return grouped_count , df"
   ]
  },
  {
   "cell_type": "code",
   "execution_count": 68,
   "metadata": {},
   "outputs": [],
   "source": [
    "def count_all_triple_types(data):\n",
    "    triple_counts = {}\n",
    "    for type in data.datatypes():\n",
    "        triple_counts[type] = 0 \n",
    "    for d in data.triples:\n",
    "        triple_counts[data.i2e[d[2]][1]] += 1 \n",
    "\n",
    "    \n",
    "    df = pd.DataFrame.from_dict(triple_counts, orient=\"index\", columns=[\"count\"])\n",
    "    df[\"percent\"] = df['count'] / len(data.triples) *100\n",
    "    df[\"percent\"] = df[\"percent\"].round(2)\n",
    "    return triple_counts, df"
   ]
  },
  {
   "cell_type": "code",
   "execution_count": 69,
   "metadata": {},
   "outputs": [],
   "source": [
    "def grouped_triple_count(triple_counts):\n",
    "    grouped_count = {}\n",
    "    grouped_count['Triples'] = 0\n",
    "    grouped_count['IRI'] = 0\n",
    "    grouped_count['Blank Nodes'] = 0\n",
    "    grouped_count['Literals'] = 0\n",
    "    grouped_count['Numbers'] = 0\n",
    "    grouped_count['Dates'] = 0\n",
    "    grouped_count['Text'] = 0\n",
    "    grouped_count['Image'] = 0\n",
    "    grouped_count['Others'] = 0\n",
    "\n",
    "    for key, value in triple_counts.items():\n",
    "        grouped_count['Triples'] += value\n",
    "        if key == 'iri':\n",
    "            grouped_count['IRI'] += value\n",
    "        elif key == 'blank_node':\n",
    "            grouped_count['Blank Nodes'] += value\n",
    "        else:\n",
    "            grouped_count['Literals'] += value\n",
    "            if key in RDF_NUMBER_TYPES:\n",
    "                grouped_count['Numbers'] += value\n",
    "            elif key in RDF_DATE_TYPES:\n",
    "                grouped_count['Dates'] += value\n",
    "            elif key in IMAGE_TYPES:\n",
    "                grouped_count['Image'] += value\n",
    "            elif key in POTENTIAL_TEXT_TYPES:\n",
    "                grouped_count['Text'] += value\n",
    "            else:\n",
    "                grouped_count['Others'] += value\n",
    "            \n",
    "    df = pd.DataFrame.from_dict(grouped_count, orient=\"index\", columns=[\"count\"])\n",
    "    df[\"percent\"] = df['count'] / grouped_count['Triples'] *100\n",
    "    df[\"percent\"] = df[\"percent\"].round(2)\n",
    "    return grouped_count , df"
   ]
  },
  {
   "cell_type": "code",
   "execution_count": 70,
   "metadata": {},
   "outputs": [],
   "source": [
    "def get_class_distribution(data):\n",
    "    classes, training_counts = data.training[:,1].unique(return_counts=True)\n",
    "    _, withheld_counts = data.withheld[:,1].unique(return_counts=True)\n",
    "    return classes, training_counts+withheld_counts\n",
    "    "
   ]
  },
  {
   "cell_type": "code",
   "execution_count": 71,
   "metadata": {},
   "outputs": [],
   "source": [
    "class_counts ={}"
   ]
  },
  {
   "attachments": {},
   "cell_type": "markdown",
   "metadata": {},
   "source": [
    "# amplus"
   ]
  },
  {
   "cell_type": "code",
   "execution_count": 72,
   "metadata": {},
   "outputs": [
    {
     "name": "stdout",
     "output_type": "stream",
     "text": [
      "# nodes\n",
      "1153221\n",
      "datatypes\n",
      "['iri', 'blank_node', 'none', 'http://kgbench.info/dt#base64Image', 'http://www.w3.org/2001/XMLSchema#date', 'http://www.w3.org/2001/XMLSchema#decimal', 'http://www.w3.org/2001/XMLSchema#positiveInteger']\n"
     ]
    }
   ],
   "source": [
    "data = load_dataset('amplus')\n"
   ]
  },
  {
   "cell_type": "code",
   "execution_count": null,
   "metadata": {},
   "outputs": [],
   "source": []
  },
  {
   "cell_type": "code",
   "execution_count": 73,
   "metadata": {},
   "outputs": [
    {
     "data": {
      "text/html": [
       "<div>\n",
       "<style scoped>\n",
       "    .dataframe tbody tr th:only-of-type {\n",
       "        vertical-align: middle;\n",
       "    }\n",
       "\n",
       "    .dataframe tbody tr th {\n",
       "        vertical-align: top;\n",
       "    }\n",
       "\n",
       "    .dataframe thead th {\n",
       "        text-align: right;\n",
       "    }\n",
       "</style>\n",
       "<table border=\"1\" class=\"dataframe\">\n",
       "  <thead>\n",
       "    <tr style=\"text-align: right;\">\n",
       "      <th></th>\n",
       "      <th>count</th>\n",
       "      <th>percent</th>\n",
       "    </tr>\n",
       "  </thead>\n",
       "  <tbody>\n",
       "    <tr>\n",
       "      <th>iri</th>\n",
       "      <td>459886</td>\n",
       "      <td>39.88</td>\n",
       "    </tr>\n",
       "    <tr>\n",
       "      <th>blank_node</th>\n",
       "      <td>566276</td>\n",
       "      <td>49.10</td>\n",
       "    </tr>\n",
       "    <tr>\n",
       "      <th>none</th>\n",
       "      <td>55745</td>\n",
       "      <td>4.83</td>\n",
       "    </tr>\n",
       "    <tr>\n",
       "      <th>http://kgbench.info/dt#base64Image</th>\n",
       "      <td>56130</td>\n",
       "      <td>4.87</td>\n",
       "    </tr>\n",
       "    <tr>\n",
       "      <th>http://www.w3.org/2001/XMLSchema#date</th>\n",
       "      <td>6767</td>\n",
       "      <td>0.59</td>\n",
       "    </tr>\n",
       "    <tr>\n",
       "      <th>http://www.w3.org/2001/XMLSchema#decimal</th>\n",
       "      <td>7253</td>\n",
       "      <td>0.63</td>\n",
       "    </tr>\n",
       "    <tr>\n",
       "      <th>http://www.w3.org/2001/XMLSchema#positiveInteger</th>\n",
       "      <td>1164</td>\n",
       "      <td>0.10</td>\n",
       "    </tr>\n",
       "  </tbody>\n",
       "</table>\n",
       "</div>"
      ],
      "text/plain": [
       "                                                   count  percent\n",
       "iri                                               459886    39.88\n",
       "blank_node                                        566276    49.10\n",
       "none                                               55745     4.83\n",
       "http://kgbench.info/dt#base64Image                 56130     4.87\n",
       "http://www.w3.org/2001/XMLSchema#date               6767     0.59\n",
       "http://www.w3.org/2001/XMLSchema#decimal            7253     0.63\n",
       "http://www.w3.org/2001/XMLSchema#positiveInteger    1164     0.10"
      ]
     },
     "execution_count": 73,
     "metadata": {},
     "output_type": "execute_result"
    }
   ],
   "source": [
    "dc, df = count_all_nodes(data)\n",
    "df"
   ]
  },
  {
   "cell_type": "code",
   "execution_count": 74,
   "metadata": {},
   "outputs": [
    {
     "data": {
      "text/html": [
       "<div>\n",
       "<style scoped>\n",
       "    .dataframe tbody tr th:only-of-type {\n",
       "        vertical-align: middle;\n",
       "    }\n",
       "\n",
       "    .dataframe tbody tr th {\n",
       "        vertical-align: top;\n",
       "    }\n",
       "\n",
       "    .dataframe thead th {\n",
       "        text-align: right;\n",
       "    }\n",
       "</style>\n",
       "<table border=\"1\" class=\"dataframe\">\n",
       "  <thead>\n",
       "    <tr style=\"text-align: right;\">\n",
       "      <th></th>\n",
       "      <th>count</th>\n",
       "      <th>percent</th>\n",
       "    </tr>\n",
       "  </thead>\n",
       "  <tbody>\n",
       "    <tr>\n",
       "      <th>Nodes</th>\n",
       "      <td>1153221</td>\n",
       "      <td>100.00</td>\n",
       "    </tr>\n",
       "    <tr>\n",
       "      <th>IRI</th>\n",
       "      <td>459886</td>\n",
       "      <td>39.88</td>\n",
       "    </tr>\n",
       "    <tr>\n",
       "      <th>Blank Nodes</th>\n",
       "      <td>566276</td>\n",
       "      <td>49.10</td>\n",
       "    </tr>\n",
       "    <tr>\n",
       "      <th>Literals</th>\n",
       "      <td>127059</td>\n",
       "      <td>11.02</td>\n",
       "    </tr>\n",
       "    <tr>\n",
       "      <th>Numbers</th>\n",
       "      <td>8417</td>\n",
       "      <td>0.73</td>\n",
       "    </tr>\n",
       "    <tr>\n",
       "      <th>Dates</th>\n",
       "      <td>6767</td>\n",
       "      <td>0.59</td>\n",
       "    </tr>\n",
       "    <tr>\n",
       "      <th>Text</th>\n",
       "      <td>55745</td>\n",
       "      <td>4.83</td>\n",
       "    </tr>\n",
       "    <tr>\n",
       "      <th>Image</th>\n",
       "      <td>56130</td>\n",
       "      <td>4.87</td>\n",
       "    </tr>\n",
       "    <tr>\n",
       "      <th>Others</th>\n",
       "      <td>0</td>\n",
       "      <td>0.00</td>\n",
       "    </tr>\n",
       "  </tbody>\n",
       "</table>\n",
       "</div>"
      ],
      "text/plain": [
       "               count  percent\n",
       "Nodes        1153221   100.00\n",
       "IRI           459886    39.88\n",
       "Blank Nodes   566276    49.10\n",
       "Literals      127059    11.02\n",
       "Numbers         8417     0.73\n",
       "Dates           6767     0.59\n",
       "Text           55745     4.83\n",
       "Image          56130     4.87\n",
       "Others             0     0.00"
      ]
     },
     "execution_count": 74,
     "metadata": {},
     "output_type": "execute_result"
    }
   ],
   "source": [
    "gc, df = grouped_count(dc)\n",
    "df"
   ]
  },
  {
   "cell_type": "code",
   "execution_count": 75,
   "metadata": {},
   "outputs": [
    {
     "data": {
      "text/html": [
       "<div>\n",
       "<style scoped>\n",
       "    .dataframe tbody tr th:only-of-type {\n",
       "        vertical-align: middle;\n",
       "    }\n",
       "\n",
       "    .dataframe tbody tr th {\n",
       "        vertical-align: top;\n",
       "    }\n",
       "\n",
       "    .dataframe thead th {\n",
       "        text-align: right;\n",
       "    }\n",
       "</style>\n",
       "<table border=\"1\" class=\"dataframe\">\n",
       "  <thead>\n",
       "    <tr style=\"text-align: right;\">\n",
       "      <th></th>\n",
       "      <th>count</th>\n",
       "      <th>percent</th>\n",
       "    </tr>\n",
       "  </thead>\n",
       "  <tbody>\n",
       "    <tr>\n",
       "      <th>iri</th>\n",
       "      <td>1464871</td>\n",
       "      <td>58.11</td>\n",
       "    </tr>\n",
       "    <tr>\n",
       "      <th>blank_node</th>\n",
       "      <td>256515</td>\n",
       "      <td>10.17</td>\n",
       "    </tr>\n",
       "    <tr>\n",
       "      <th>none</th>\n",
       "      <td>377542</td>\n",
       "      <td>14.98</td>\n",
       "    </tr>\n",
       "    <tr>\n",
       "      <th>http://kgbench.info/dt#base64Image</th>\n",
       "      <td>58855</td>\n",
       "      <td>2.33</td>\n",
       "    </tr>\n",
       "    <tr>\n",
       "      <th>http://www.w3.org/2001/XMLSchema#date</th>\n",
       "      <td>202304</td>\n",
       "      <td>8.02</td>\n",
       "    </tr>\n",
       "    <tr>\n",
       "      <th>http://www.w3.org/2001/XMLSchema#decimal</th>\n",
       "      <td>150342</td>\n",
       "      <td>5.96</td>\n",
       "    </tr>\n",
       "    <tr>\n",
       "      <th>http://www.w3.org/2001/XMLSchema#positiveInteger</th>\n",
       "      <td>10617</td>\n",
       "      <td>0.42</td>\n",
       "    </tr>\n",
       "  </tbody>\n",
       "</table>\n",
       "</div>"
      ],
      "text/plain": [
       "                                                    count  percent\n",
       "iri                                               1464871    58.11\n",
       "blank_node                                         256515    10.17\n",
       "none                                               377542    14.98\n",
       "http://kgbench.info/dt#base64Image                  58855     2.33\n",
       "http://www.w3.org/2001/XMLSchema#date              202304     8.02\n",
       "http://www.w3.org/2001/XMLSchema#decimal           150342     5.96\n",
       "http://www.w3.org/2001/XMLSchema#positiveInteger    10617     0.42"
      ]
     },
     "execution_count": 75,
     "metadata": {},
     "output_type": "execute_result"
    }
   ],
   "source": [
    "tc, df = count_all_triple_types(data)\n",
    "df"
   ]
  },
  {
   "cell_type": "code",
   "execution_count": 76,
   "metadata": {},
   "outputs": [
    {
     "data": {
      "text/html": [
       "<div>\n",
       "<style scoped>\n",
       "    .dataframe tbody tr th:only-of-type {\n",
       "        vertical-align: middle;\n",
       "    }\n",
       "\n",
       "    .dataframe tbody tr th {\n",
       "        vertical-align: top;\n",
       "    }\n",
       "\n",
       "    .dataframe thead th {\n",
       "        text-align: right;\n",
       "    }\n",
       "</style>\n",
       "<table border=\"1\" class=\"dataframe\">\n",
       "  <thead>\n",
       "    <tr style=\"text-align: right;\">\n",
       "      <th></th>\n",
       "      <th>count</th>\n",
       "      <th>percent</th>\n",
       "    </tr>\n",
       "  </thead>\n",
       "  <tbody>\n",
       "    <tr>\n",
       "      <th>Triples</th>\n",
       "      <td>2521046</td>\n",
       "      <td>100.00</td>\n",
       "    </tr>\n",
       "    <tr>\n",
       "      <th>IRI</th>\n",
       "      <td>1464871</td>\n",
       "      <td>58.11</td>\n",
       "    </tr>\n",
       "    <tr>\n",
       "      <th>Blank Nodes</th>\n",
       "      <td>256515</td>\n",
       "      <td>10.17</td>\n",
       "    </tr>\n",
       "    <tr>\n",
       "      <th>Literals</th>\n",
       "      <td>799660</td>\n",
       "      <td>31.72</td>\n",
       "    </tr>\n",
       "    <tr>\n",
       "      <th>Numbers</th>\n",
       "      <td>160959</td>\n",
       "      <td>6.38</td>\n",
       "    </tr>\n",
       "    <tr>\n",
       "      <th>Dates</th>\n",
       "      <td>202304</td>\n",
       "      <td>8.02</td>\n",
       "    </tr>\n",
       "    <tr>\n",
       "      <th>Text</th>\n",
       "      <td>377542</td>\n",
       "      <td>14.98</td>\n",
       "    </tr>\n",
       "    <tr>\n",
       "      <th>Image</th>\n",
       "      <td>58855</td>\n",
       "      <td>2.33</td>\n",
       "    </tr>\n",
       "    <tr>\n",
       "      <th>Others</th>\n",
       "      <td>0</td>\n",
       "      <td>0.00</td>\n",
       "    </tr>\n",
       "  </tbody>\n",
       "</table>\n",
       "</div>"
      ],
      "text/plain": [
       "               count  percent\n",
       "Triples      2521046   100.00\n",
       "IRI          1464871    58.11\n",
       "Blank Nodes   256515    10.17\n",
       "Literals      799660    31.72\n",
       "Numbers       160959     6.38\n",
       "Dates         202304     8.02\n",
       "Text          377542    14.98\n",
       "Image          58855     2.33\n",
       "Others             0     0.00"
      ]
     },
     "execution_count": 76,
     "metadata": {},
     "output_type": "execute_result"
    }
   ],
   "source": [
    "gtc,df = grouped_triple_count(tc)\n",
    "df"
   ]
  },
  {
   "cell_type": "code",
   "execution_count": 77,
   "metadata": {},
   "outputs": [
    {
     "data": {
      "image/png": "[encoded data removed]",
      "text/plain": [
       "<Figure size 640x480 with 1 Axes>"
      ]
     },
     "metadata": {},
     "output_type": "display_data"
    }
   ],
   "source": [
    "df['id'] = df.index\n",
    "sub_df = df[(df['count']>0) & (df['id'] != \"Triples\") & (df['id'] != \"Literals\")]\n",
    "plt.pie(sub_df['count'], labels=sub_df['id'])\n",
    "plt.show()"
   ]
  },
  {
   "cell_type": "code",
   "execution_count": 78,
   "metadata": {},
   "outputs": [
    {
     "data": {
      "text/plain": [
       "<Figure size 640x480 with 0 Axes>"
      ]
     },
     "metadata": {},
     "output_type": "display_data"
    },
    {
     "data": {
      "image/png": "[encoded data removed]",
      "text/plain": [
       "<Figure size 600x400 with 1 Axes>"
      ]
     },
     "metadata": {},
     "output_type": "display_data"
    }
   ],
   "source": [
    "path = '../docs/plots/'\n",
    "name=\"amplus_classes\"\n",
    "plt.clf()\n",
    "plt.figure(figsize=(6, 4))\n",
    "classes, counts = get_class_distribution(data)\n",
    "plt.bar(x= classes, height= counts,color=(\"#3F51B5\"))\n",
    "# plt.figure(dpi=100)\n",
    "# sns.violinplot(data=scores)\n",
    "# plt.xticks(ticks=np.linspace(0, len(approaches) - 1,\n",
    "#             len(approaches), dtype=np.int32), labels=labels)\n",
    "class_counts['amplus'] = {'classes' : classes,'counts':counts}\n",
    "plt.ylabel('Nr. of Occurences')\n",
    "plt.xlabel('Classes')\n",
    "\n",
    "plt.savefig(f'{path}{name}.pgf', format='pgf', backend='pgf')"
   ]
  },
  {
   "cell_type": "code",
   "execution_count": null,
   "metadata": {},
   "outputs": [],
   "source": []
  },
  {
   "cell_type": "code",
   "execution_count": 79,
   "metadata": {},
   "outputs": [
    {
     "name": "stdout",
     "output_type": "stream",
     "text": [
      "tensor(11729)\n",
      "tensor(33423)\n",
      "tensor(0.3509)\n"
     ]
    }
   ],
   "source": [
    "print(counts.max())\n",
    "print(counts.sum())\n",
    "print(counts.max()/counts.sum())"
   ]
  },
  {
   "attachments": {},
   "cell_type": "markdown",
   "metadata": {},
   "source": [
    "# dmgfull"
   ]
  },
  {
   "cell_type": "code",
   "execution_count": 80,
   "metadata": {},
   "outputs": [
    {
     "name": "stdout",
     "output_type": "stream",
     "text": [
      "# nodes\n",
      "842550\n",
      "datatypes\n",
      "['iri', 'none', '@en-gb', '@es', '@fy', '@nl', '@nl-nl', '@pt', '@ru', 'http://kgbench.info/dt#base64Image', 'http://www.opengis.net/ont/geosparql#wktLiteral', 'http://www.w3.org/2001/XMLSchema#anyURI', 'http://www.w3.org/2001/XMLSchema#boolean', 'http://www.w3.org/2001/XMLSchema#gYear', 'http://www.w3.org/2001/XMLSchema#nonNegativeInteger', 'http://www.w3.org/2001/XMLSchema#positiveInteger']\n"
     ]
    }
   ],
   "source": [
    "data = load_dataset('dmgfull')"
   ]
  },
  {
   "cell_type": "code",
   "execution_count": 81,
   "metadata": {},
   "outputs": [
    {
     "data": {
      "text/html": [
       "<div>\n",
       "<style scoped>\n",
       "    .dataframe tbody tr th:only-of-type {\n",
       "        vertical-align: middle;\n",
       "    }\n",
       "\n",
       "    .dataframe tbody tr th {\n",
       "        vertical-align: top;\n",
       "    }\n",
       "\n",
       "    .dataframe thead th {\n",
       "        text-align: right;\n",
       "    }\n",
       "</style>\n",
       "<table border=\"1\" class=\"dataframe\">\n",
       "  <thead>\n",
       "    <tr style=\"text-align: right;\">\n",
       "      <th></th>\n",
       "      <th>count</th>\n",
       "      <th>percent</th>\n",
       "    </tr>\n",
       "  </thead>\n",
       "  <tbody>\n",
       "    <tr>\n",
       "      <th>iri</th>\n",
       "      <td>262494</td>\n",
       "      <td>31.15</td>\n",
       "    </tr>\n",
       "    <tr>\n",
       "      <th>none</th>\n",
       "      <td>122267</td>\n",
       "      <td>14.51</td>\n",
       "    </tr>\n",
       "    <tr>\n",
       "      <th>@en-gb</th>\n",
       "      <td>1</td>\n",
       "      <td>0.00</td>\n",
       "    </tr>\n",
       "    <tr>\n",
       "      <th>@es</th>\n",
       "      <td>1</td>\n",
       "      <td>0.00</td>\n",
       "    </tr>\n",
       "    <tr>\n",
       "      <th>@fy</th>\n",
       "      <td>17</td>\n",
       "      <td>0.00</td>\n",
       "    </tr>\n",
       "    <tr>\n",
       "      <th>@nl</th>\n",
       "      <td>433</td>\n",
       "      <td>0.05</td>\n",
       "    </tr>\n",
       "    <tr>\n",
       "      <th>@nl-nl</th>\n",
       "      <td>94553</td>\n",
       "      <td>11.22</td>\n",
       "    </tr>\n",
       "    <tr>\n",
       "      <th>@pt</th>\n",
       "      <td>1</td>\n",
       "      <td>0.00</td>\n",
       "    </tr>\n",
       "    <tr>\n",
       "      <th>@ru</th>\n",
       "      <td>19</td>\n",
       "      <td>0.00</td>\n",
       "    </tr>\n",
       "    <tr>\n",
       "      <th>http://kgbench.info/dt#base64Image</th>\n",
       "      <td>58791</td>\n",
       "      <td>6.98</td>\n",
       "    </tr>\n",
       "    <tr>\n",
       "      <th>http://www.opengis.net/ont/geosparql#wktLiteral</th>\n",
       "      <td>116220</td>\n",
       "      <td>13.79</td>\n",
       "    </tr>\n",
       "    <tr>\n",
       "      <th>http://www.w3.org/2001/XMLSchema#anyURI</th>\n",
       "      <td>123104</td>\n",
       "      <td>14.61</td>\n",
       "    </tr>\n",
       "    <tr>\n",
       "      <th>http://www.w3.org/2001/XMLSchema#boolean</th>\n",
       "      <td>2</td>\n",
       "      <td>0.00</td>\n",
       "    </tr>\n",
       "    <tr>\n",
       "      <th>http://www.w3.org/2001/XMLSchema#gYear</th>\n",
       "      <td>463</td>\n",
       "      <td>0.05</td>\n",
       "    </tr>\n",
       "    <tr>\n",
       "      <th>http://www.w3.org/2001/XMLSchema#nonNegativeInteger</th>\n",
       "      <td>63565</td>\n",
       "      <td>7.54</td>\n",
       "    </tr>\n",
       "    <tr>\n",
       "      <th>http://www.w3.org/2001/XMLSchema#positiveInteger</th>\n",
       "      <td>619</td>\n",
       "      <td>0.07</td>\n",
       "    </tr>\n",
       "  </tbody>\n",
       "</table>\n",
       "</div>"
      ],
      "text/plain": [
       "                                                     count  percent\n",
       "iri                                                 262494    31.15\n",
       "none                                                122267    14.51\n",
       "@en-gb                                                   1     0.00\n",
       "@es                                                      1     0.00\n",
       "@fy                                                     17     0.00\n",
       "@nl                                                    433     0.05\n",
       "@nl-nl                                               94553    11.22\n",
       "@pt                                                      1     0.00\n",
       "@ru                                                     19     0.00\n",
       "http://kgbench.info/dt#base64Image                   58791     6.98\n",
       "http://www.opengis.net/ont/geosparql#wktLiteral     116220    13.79\n",
       "http://www.w3.org/2001/XMLSchema#anyURI             123104    14.61\n",
       "http://www.w3.org/2001/XMLSchema#boolean                 2     0.00\n",
       "http://www.w3.org/2001/XMLSchema#gYear                 463     0.05\n",
       "http://www.w3.org/2001/XMLSchema#nonNegativeInt...   63565     7.54\n",
       "http://www.w3.org/2001/XMLSchema#positiveInteger       619     0.07"
      ]
     },
     "execution_count": 81,
     "metadata": {},
     "output_type": "execute_result"
    }
   ],
   "source": [
    "dc, df = count_all_nodes(data)\n",
    "df"
   ]
  },
  {
   "cell_type": "code",
   "execution_count": 82,
   "metadata": {},
   "outputs": [
    {
     "data": {
      "text/html": [
       "<div>\n",
       "<style scoped>\n",
       "    .dataframe tbody tr th:only-of-type {\n",
       "        vertical-align: middle;\n",
       "    }\n",
       "\n",
       "    .dataframe tbody tr th {\n",
       "        vertical-align: top;\n",
       "    }\n",
       "\n",
       "    .dataframe thead th {\n",
       "        text-align: right;\n",
       "    }\n",
       "</style>\n",
       "<table border=\"1\" class=\"dataframe\">\n",
       "  <thead>\n",
       "    <tr style=\"text-align: right;\">\n",
       "      <th></th>\n",
       "      <th>count</th>\n",
       "      <th>percent</th>\n",
       "    </tr>\n",
       "  </thead>\n",
       "  <tbody>\n",
       "    <tr>\n",
       "      <th>Nodes</th>\n",
       "      <td>842550</td>\n",
       "      <td>100.00</td>\n",
       "    </tr>\n",
       "    <tr>\n",
       "      <th>IRI</th>\n",
       "      <td>262494</td>\n",
       "      <td>31.15</td>\n",
       "    </tr>\n",
       "    <tr>\n",
       "      <th>Blank Nodes</th>\n",
       "      <td>0</td>\n",
       "      <td>0.00</td>\n",
       "    </tr>\n",
       "    <tr>\n",
       "      <th>Literals</th>\n",
       "      <td>580056</td>\n",
       "      <td>68.85</td>\n",
       "    </tr>\n",
       "    <tr>\n",
       "      <th>Numbers</th>\n",
       "      <td>64647</td>\n",
       "      <td>7.67</td>\n",
       "    </tr>\n",
       "    <tr>\n",
       "      <th>Dates</th>\n",
       "      <td>0</td>\n",
       "      <td>0.00</td>\n",
       "    </tr>\n",
       "    <tr>\n",
       "      <th>Text</th>\n",
       "      <td>217291</td>\n",
       "      <td>25.79</td>\n",
       "    </tr>\n",
       "    <tr>\n",
       "      <th>Image</th>\n",
       "      <td>58791</td>\n",
       "      <td>6.98</td>\n",
       "    </tr>\n",
       "    <tr>\n",
       "      <th>Others</th>\n",
       "      <td>239327</td>\n",
       "      <td>28.41</td>\n",
       "    </tr>\n",
       "  </tbody>\n",
       "</table>\n",
       "</div>"
      ],
      "text/plain": [
       "              count  percent\n",
       "Nodes        842550   100.00\n",
       "IRI          262494    31.15\n",
       "Blank Nodes       0     0.00\n",
       "Literals     580056    68.85\n",
       "Numbers       64647     7.67\n",
       "Dates             0     0.00\n",
       "Text         217291    25.79\n",
       "Image         58791     6.98\n",
       "Others       239327    28.41"
      ]
     },
     "execution_count": 82,
     "metadata": {},
     "output_type": "execute_result"
    }
   ],
   "source": [
    "gc, df = grouped_count(dc)\n",
    "df"
   ]
  },
  {
   "cell_type": "code",
   "execution_count": 83,
   "metadata": {},
   "outputs": [
    {
     "data": {
      "text/html": [
       "<div>\n",
       "<style scoped>\n",
       "    .dataframe tbody tr th:only-of-type {\n",
       "        vertical-align: middle;\n",
       "    }\n",
       "\n",
       "    .dataframe tbody tr th {\n",
       "        vertical-align: top;\n",
       "    }\n",
       "\n",
       "    .dataframe thead th {\n",
       "        text-align: right;\n",
       "    }\n",
       "</style>\n",
       "<table border=\"1\" class=\"dataframe\">\n",
       "  <thead>\n",
       "    <tr style=\"text-align: right;\">\n",
       "      <th></th>\n",
       "      <th>count</th>\n",
       "      <th>percent</th>\n",
       "    </tr>\n",
       "  </thead>\n",
       "  <tbody>\n",
       "    <tr>\n",
       "      <th>iri</th>\n",
       "      <td>593291</td>\n",
       "      <td>32.06</td>\n",
       "    </tr>\n",
       "    <tr>\n",
       "      <th>none</th>\n",
       "      <td>588219</td>\n",
       "      <td>31.79</td>\n",
       "    </tr>\n",
       "    <tr>\n",
       "      <th>@en-gb</th>\n",
       "      <td>1</td>\n",
       "      <td>0.00</td>\n",
       "    </tr>\n",
       "    <tr>\n",
       "      <th>@es</th>\n",
       "      <td>1</td>\n",
       "      <td>0.00</td>\n",
       "    </tr>\n",
       "    <tr>\n",
       "      <th>@fy</th>\n",
       "      <td>17</td>\n",
       "      <td>0.00</td>\n",
       "    </tr>\n",
       "    <tr>\n",
       "      <th>@nl</th>\n",
       "      <td>434</td>\n",
       "      <td>0.02</td>\n",
       "    </tr>\n",
       "    <tr>\n",
       "      <th>@nl-nl</th>\n",
       "      <td>245553</td>\n",
       "      <td>13.27</td>\n",
       "    </tr>\n",
       "    <tr>\n",
       "      <th>@pt</th>\n",
       "      <td>1</td>\n",
       "      <td>0.00</td>\n",
       "    </tr>\n",
       "    <tr>\n",
       "      <th>@ru</th>\n",
       "      <td>19</td>\n",
       "      <td>0.00</td>\n",
       "    </tr>\n",
       "    <tr>\n",
       "      <th>http://kgbench.info/dt#base64Image</th>\n",
       "      <td>58846</td>\n",
       "      <td>3.18</td>\n",
       "    </tr>\n",
       "    <tr>\n",
       "      <th>http://www.opengis.net/ont/geosparql#wktLiteral</th>\n",
       "      <td>121217</td>\n",
       "      <td>6.55</td>\n",
       "    </tr>\n",
       "    <tr>\n",
       "      <th>http://www.w3.org/2001/XMLSchema#anyURI</th>\n",
       "      <td>145846</td>\n",
       "      <td>7.88</td>\n",
       "    </tr>\n",
       "    <tr>\n",
       "      <th>http://www.w3.org/2001/XMLSchema#boolean</th>\n",
       "      <td>8838</td>\n",
       "      <td>0.48</td>\n",
       "    </tr>\n",
       "    <tr>\n",
       "      <th>http://www.w3.org/2001/XMLSchema#gYear</th>\n",
       "      <td>23944</td>\n",
       "      <td>1.29</td>\n",
       "    </tr>\n",
       "    <tr>\n",
       "      <th>http://www.w3.org/2001/XMLSchema#nonNegativeInteger</th>\n",
       "      <td>63565</td>\n",
       "      <td>3.44</td>\n",
       "    </tr>\n",
       "    <tr>\n",
       "      <th>http://www.w3.org/2001/XMLSchema#positiveInteger</th>\n",
       "      <td>659</td>\n",
       "      <td>0.04</td>\n",
       "    </tr>\n",
       "  </tbody>\n",
       "</table>\n",
       "</div>"
      ],
      "text/plain": [
       "                                                     count  percent\n",
       "iri                                                 593291    32.06\n",
       "none                                                588219    31.79\n",
       "@en-gb                                                   1     0.00\n",
       "@es                                                      1     0.00\n",
       "@fy                                                     17     0.00\n",
       "@nl                                                    434     0.02\n",
       "@nl-nl                                              245553    13.27\n",
       "@pt                                                      1     0.00\n",
       "@ru                                                     19     0.00\n",
       "http://kgbench.info/dt#base64Image                   58846     3.18\n",
       "http://www.opengis.net/ont/geosparql#wktLiteral     121217     6.55\n",
       "http://www.w3.org/2001/XMLSchema#anyURI             145846     7.88\n",
       "http://www.w3.org/2001/XMLSchema#boolean              8838     0.48\n",
       "http://www.w3.org/2001/XMLSchema#gYear               23944     1.29\n",
       "http://www.w3.org/2001/XMLSchema#nonNegativeInt...   63565     3.44\n",
       "http://www.w3.org/2001/XMLSchema#positiveInteger       659     0.04"
      ]
     },
     "execution_count": 83,
     "metadata": {},
     "output_type": "execute_result"
    }
   ],
   "source": [
    "tc, df = count_all_triple_types(data)\n",
    "df"
   ]
  },
  {
   "cell_type": "code",
   "execution_count": 84,
   "metadata": {},
   "outputs": [
    {
     "data": {
      "text/html": [
       "<div>\n",
       "<style scoped>\n",
       "    .dataframe tbody tr th:only-of-type {\n",
       "        vertical-align: middle;\n",
       "    }\n",
       "\n",
       "    .dataframe tbody tr th {\n",
       "        vertical-align: top;\n",
       "    }\n",
       "\n",
       "    .dataframe thead th {\n",
       "        text-align: right;\n",
       "    }\n",
       "</style>\n",
       "<table border=\"1\" class=\"dataframe\">\n",
       "  <thead>\n",
       "    <tr style=\"text-align: right;\">\n",
       "      <th></th>\n",
       "      <th>count</th>\n",
       "      <th>percent</th>\n",
       "    </tr>\n",
       "  </thead>\n",
       "  <tbody>\n",
       "    <tr>\n",
       "      <th>Triples</th>\n",
       "      <td>1850451</td>\n",
       "      <td>100.00</td>\n",
       "    </tr>\n",
       "    <tr>\n",
       "      <th>IRI</th>\n",
       "      <td>593291</td>\n",
       "      <td>32.06</td>\n",
       "    </tr>\n",
       "    <tr>\n",
       "      <th>Blank Nodes</th>\n",
       "      <td>0</td>\n",
       "      <td>0.00</td>\n",
       "    </tr>\n",
       "    <tr>\n",
       "      <th>Literals</th>\n",
       "      <td>1257160</td>\n",
       "      <td>67.94</td>\n",
       "    </tr>\n",
       "    <tr>\n",
       "      <th>Numbers</th>\n",
       "      <td>88168</td>\n",
       "      <td>4.76</td>\n",
       "    </tr>\n",
       "    <tr>\n",
       "      <th>Dates</th>\n",
       "      <td>0</td>\n",
       "      <td>0.00</td>\n",
       "    </tr>\n",
       "    <tr>\n",
       "      <th>Text</th>\n",
       "      <td>834244</td>\n",
       "      <td>45.08</td>\n",
       "    </tr>\n",
       "    <tr>\n",
       "      <th>Image</th>\n",
       "      <td>58846</td>\n",
       "      <td>3.18</td>\n",
       "    </tr>\n",
       "    <tr>\n",
       "      <th>Others</th>\n",
       "      <td>275902</td>\n",
       "      <td>14.91</td>\n",
       "    </tr>\n",
       "  </tbody>\n",
       "</table>\n",
       "</div>"
      ],
      "text/plain": [
       "               count  percent\n",
       "Triples      1850451   100.00\n",
       "IRI           593291    32.06\n",
       "Blank Nodes        0     0.00\n",
       "Literals     1257160    67.94\n",
       "Numbers        88168     4.76\n",
       "Dates              0     0.00\n",
       "Text          834244    45.08\n",
       "Image          58846     3.18\n",
       "Others        275902    14.91"
      ]
     },
     "execution_count": 84,
     "metadata": {},
     "output_type": "execute_result"
    }
   ],
   "source": [
    "gtc,df = grouped_triple_count(tc)\n",
    "df"
   ]
  },
  {
   "cell_type": "code",
   "execution_count": 85,
   "metadata": {},
   "outputs": [
    {
     "data": {
      "image/png": "[encoded data removed]",
      "text/plain": [
       "<Figure size 640x480 with 1 Axes>"
      ]
     },
     "metadata": {},
     "output_type": "display_data"
    }
   ],
   "source": [
    "df['id'] = df.index\n",
    "sub_df = df[(df['count']>0) & (df['id'] != \"Triples\") & (df['id'] != \"Literals\")]\n",
    "plt.pie(sub_df['count'], labels=sub_df['id'])\n",
    "plt.show()"
   ]
  },
  {
   "cell_type": "code",
   "execution_count": 86,
   "metadata": {},
   "outputs": [
    {
     "data": {
      "text/plain": [
       "<Figure size 640x480 with 0 Axes>"
      ]
     },
     "metadata": {},
     "output_type": "display_data"
    },
    {
     "data": {
      "image/png": "[encoded data removed]",
      "text/plain": [
       "<Figure size 600x400 with 1 Axes>"
      ]
     },
     "metadata": {},
     "output_type": "display_data"
    }
   ],
   "source": [
    "path = '../docs/plots/'\n",
    "name=\"dmgfull_classes\"\n",
    "plt.clf()\n",
    "plt.figure(figsize=(6, 4))\n",
    "classes, counts = get_class_distribution(data)\n",
    "plt.bar(x= classes, height= counts,color=(\"#3F51B5\"))\n",
    "# plt.figure(dpi=100)\n",
    "# sns.violinplot(data=scores)\n",
    "# plt.xticks(ticks=np.linspace(0, len(approaches) - 1,\n",
    "#             len(approaches), dtype=np.int32), labels=labels)\n",
    "class_counts['dmgfull'] = {'classes' : classes,'counts':counts}\n",
    "plt.ylabel('Nr. of Occurences')\n",
    "plt.xlabel('Classes')\n",
    "\n",
    "plt.savefig(f'{path}{name}.pgf', format='pgf', backend='pgf')"
   ]
  },
  {
   "cell_type": "code",
   "execution_count": 87,
   "metadata": {},
   "outputs": [
    {
     "name": "stdout",
     "output_type": "stream",
     "text": [
      "tensor(24813)\n",
      "tensor(43565)\n",
      "tensor(0.5696)\n"
     ]
    }
   ],
   "source": [
    "print(counts.max())\n",
    "print(counts.sum())\n",
    "print(counts.max()/counts.sum())"
   ]
  },
  {
   "attachments": {},
   "cell_type": "markdown",
   "metadata": {},
   "source": [
    "# dmg777k"
   ]
  },
  {
   "cell_type": "code",
   "execution_count": 162,
   "metadata": {},
   "outputs": [
    {
     "name": "stdout",
     "output_type": "stream",
     "text": [
      "# nodes\n",
      "341270\n",
      "datatypes\n",
      "['iri', 'none', '@es', '@fy', '@nl', '@nl-nl', '@pt', '@ru', 'http://kgbench.info/dt#base64Image', 'http://www.opengis.net/ont/geosparql#wktLiteral', 'http://www.w3.org/2001/XMLSchema#anyURI', 'http://www.w3.org/2001/XMLSchema#boolean', 'http://www.w3.org/2001/XMLSchema#gYear', 'http://www.w3.org/2001/XMLSchema#nonNegativeInteger', 'http://www.w3.org/2001/XMLSchema#positiveInteger']\n"
     ]
    }
   ],
   "source": [
    "data = load_dataset('dmg777k')"
   ]
  },
  {
   "cell_type": "code",
   "execution_count": 163,
   "metadata": {},
   "outputs": [
    {
     "data": {
      "text/html": [
       "<div>\n",
       "<style scoped>\n",
       "    .dataframe tbody tr th:only-of-type {\n",
       "        vertical-align: middle;\n",
       "    }\n",
       "\n",
       "    .dataframe tbody tr th {\n",
       "        vertical-align: top;\n",
       "    }\n",
       "\n",
       "    .dataframe thead th {\n",
       "        text-align: right;\n",
       "    }\n",
       "</style>\n",
       "<table border=\"1\" class=\"dataframe\">\n",
       "  <thead>\n",
       "    <tr style=\"text-align: right;\">\n",
       "      <th></th>\n",
       "      <th>count</th>\n",
       "      <th>percent</th>\n",
       "    </tr>\n",
       "  </thead>\n",
       "  <tbody>\n",
       "    <tr>\n",
       "      <th>iri</th>\n",
       "      <td>148127</td>\n",
       "      <td>43.40</td>\n",
       "    </tr>\n",
       "    <tr>\n",
       "      <th>none</th>\n",
       "      <td>27886</td>\n",
       "      <td>8.17</td>\n",
       "    </tr>\n",
       "    <tr>\n",
       "      <th>@es</th>\n",
       "      <td>1</td>\n",
       "      <td>0.00</td>\n",
       "    </tr>\n",
       "    <tr>\n",
       "      <th>@fy</th>\n",
       "      <td>11</td>\n",
       "      <td>0.00</td>\n",
       "    </tr>\n",
       "    <tr>\n",
       "      <th>@nl</th>\n",
       "      <td>397</td>\n",
       "      <td>0.12</td>\n",
       "    </tr>\n",
       "    <tr>\n",
       "      <th>@nl-nl</th>\n",
       "      <td>33721</td>\n",
       "      <td>9.88</td>\n",
       "    </tr>\n",
       "    <tr>\n",
       "      <th>@pt</th>\n",
       "      <td>1</td>\n",
       "      <td>0.00</td>\n",
       "    </tr>\n",
       "    <tr>\n",
       "      <th>@ru</th>\n",
       "      <td>14</td>\n",
       "      <td>0.00</td>\n",
       "    </tr>\n",
       "    <tr>\n",
       "      <th>http://kgbench.info/dt#base64Image</th>\n",
       "      <td>46061</td>\n",
       "      <td>13.50</td>\n",
       "    </tr>\n",
       "    <tr>\n",
       "      <th>http://www.opengis.net/ont/geosparql#wktLiteral</th>\n",
       "      <td>20837</td>\n",
       "      <td>6.11</td>\n",
       "    </tr>\n",
       "    <tr>\n",
       "      <th>http://www.w3.org/2001/XMLSchema#anyURI</th>\n",
       "      <td>55031</td>\n",
       "      <td>16.13</td>\n",
       "    </tr>\n",
       "    <tr>\n",
       "      <th>http://www.w3.org/2001/XMLSchema#boolean</th>\n",
       "      <td>2</td>\n",
       "      <td>0.00</td>\n",
       "    </tr>\n",
       "    <tr>\n",
       "      <th>http://www.w3.org/2001/XMLSchema#gYear</th>\n",
       "      <td>290</td>\n",
       "      <td>0.08</td>\n",
       "    </tr>\n",
       "    <tr>\n",
       "      <th>http://www.w3.org/2001/XMLSchema#nonNegativeInteger</th>\n",
       "      <td>8396</td>\n",
       "      <td>2.46</td>\n",
       "    </tr>\n",
       "    <tr>\n",
       "      <th>http://www.w3.org/2001/XMLSchema#positiveInteger</th>\n",
       "      <td>495</td>\n",
       "      <td>0.15</td>\n",
       "    </tr>\n",
       "  </tbody>\n",
       "</table>\n",
       "</div>"
      ],
      "text/plain": [
       "                                                     count  percent\n",
       "iri                                                 148127    43.40\n",
       "none                                                 27886     8.17\n",
       "@es                                                      1     0.00\n",
       "@fy                                                     11     0.00\n",
       "@nl                                                    397     0.12\n",
       "@nl-nl                                               33721     9.88\n",
       "@pt                                                      1     0.00\n",
       "@ru                                                     14     0.00\n",
       "http://kgbench.info/dt#base64Image                   46061    13.50\n",
       "http://www.opengis.net/ont/geosparql#wktLiteral      20837     6.11\n",
       "http://www.w3.org/2001/XMLSchema#anyURI              55031    16.13\n",
       "http://www.w3.org/2001/XMLSchema#boolean                 2     0.00\n",
       "http://www.w3.org/2001/XMLSchema#gYear                 290     0.08\n",
       "http://www.w3.org/2001/XMLSchema#nonNegativeInt...    8396     2.46\n",
       "http://www.w3.org/2001/XMLSchema#positiveInteger       495     0.15"
      ]
     },
     "execution_count": 163,
     "metadata": {},
     "output_type": "execute_result"
    }
   ],
   "source": [
    "dc, df = count_all_nodes(data)\n",
    "df"
   ]
  },
  {
   "cell_type": "code",
   "execution_count": 164,
   "metadata": {},
   "outputs": [
    {
     "data": {
      "text/html": [
       "<div>\n",
       "<style scoped>\n",
       "    .dataframe tbody tr th:only-of-type {\n",
       "        vertical-align: middle;\n",
       "    }\n",
       "\n",
       "    .dataframe tbody tr th {\n",
       "        vertical-align: top;\n",
       "    }\n",
       "\n",
       "    .dataframe thead th {\n",
       "        text-align: right;\n",
       "    }\n",
       "</style>\n",
       "<table border=\"1\" class=\"dataframe\">\n",
       "  <thead>\n",
       "    <tr style=\"text-align: right;\">\n",
       "      <th></th>\n",
       "      <th>count</th>\n",
       "      <th>percent</th>\n",
       "    </tr>\n",
       "  </thead>\n",
       "  <tbody>\n",
       "    <tr>\n",
       "      <th>Nodes</th>\n",
       "      <td>341270</td>\n",
       "      <td>100.00</td>\n",
       "    </tr>\n",
       "    <tr>\n",
       "      <th>IRI</th>\n",
       "      <td>148127</td>\n",
       "      <td>43.40</td>\n",
       "    </tr>\n",
       "    <tr>\n",
       "      <th>Blank Nodes</th>\n",
       "      <td>0</td>\n",
       "      <td>0.00</td>\n",
       "    </tr>\n",
       "    <tr>\n",
       "      <th>Literals</th>\n",
       "      <td>193143</td>\n",
       "      <td>56.60</td>\n",
       "    </tr>\n",
       "    <tr>\n",
       "      <th>Numbers</th>\n",
       "      <td>9181</td>\n",
       "      <td>2.69</td>\n",
       "    </tr>\n",
       "    <tr>\n",
       "      <th>Dates</th>\n",
       "      <td>0</td>\n",
       "      <td>0.00</td>\n",
       "    </tr>\n",
       "    <tr>\n",
       "      <th>Text</th>\n",
       "      <td>62031</td>\n",
       "      <td>18.18</td>\n",
       "    </tr>\n",
       "    <tr>\n",
       "      <th>Image</th>\n",
       "      <td>46061</td>\n",
       "      <td>13.50</td>\n",
       "    </tr>\n",
       "    <tr>\n",
       "      <th>Others</th>\n",
       "      <td>75870</td>\n",
       "      <td>22.23</td>\n",
       "    </tr>\n",
       "  </tbody>\n",
       "</table>\n",
       "</div>"
      ],
      "text/plain": [
       "              count  percent\n",
       "Nodes        341270   100.00\n",
       "IRI          148127    43.40\n",
       "Blank Nodes       0     0.00\n",
       "Literals     193143    56.60\n",
       "Numbers        9181     2.69\n",
       "Dates             0     0.00\n",
       "Text          62031    18.18\n",
       "Image         46061    13.50\n",
       "Others        75870    22.23"
      ]
     },
     "execution_count": 164,
     "metadata": {},
     "output_type": "execute_result"
    }
   ],
   "source": [
    "gc, df = grouped_count(dc)\n",
    "df"
   ]
  },
  {
   "cell_type": "code",
   "execution_count": 165,
   "metadata": {},
   "outputs": [
    {
     "data": {
      "text/html": [
       "<div>\n",
       "<style scoped>\n",
       "    .dataframe tbody tr th:only-of-type {\n",
       "        vertical-align: middle;\n",
       "    }\n",
       "\n",
       "    .dataframe tbody tr th {\n",
       "        vertical-align: top;\n",
       "    }\n",
       "\n",
       "    .dataframe thead th {\n",
       "        text-align: right;\n",
       "    }\n",
       "</style>\n",
       "<table border=\"1\" class=\"dataframe\">\n",
       "  <thead>\n",
       "    <tr style=\"text-align: right;\">\n",
       "      <th></th>\n",
       "      <th>count</th>\n",
       "      <th>percent</th>\n",
       "    </tr>\n",
       "  </thead>\n",
       "  <tbody>\n",
       "    <tr>\n",
       "      <th>iri</th>\n",
       "      <td>288379</td>\n",
       "      <td>37.11</td>\n",
       "    </tr>\n",
       "    <tr>\n",
       "      <th>none</th>\n",
       "      <td>190271</td>\n",
       "      <td>24.48</td>\n",
       "    </tr>\n",
       "    <tr>\n",
       "      <th>@es</th>\n",
       "      <td>1</td>\n",
       "      <td>0.00</td>\n",
       "    </tr>\n",
       "    <tr>\n",
       "      <th>@fy</th>\n",
       "      <td>11</td>\n",
       "      <td>0.00</td>\n",
       "    </tr>\n",
       "    <tr>\n",
       "      <th>@nl</th>\n",
       "      <td>398</td>\n",
       "      <td>0.05</td>\n",
       "    </tr>\n",
       "    <tr>\n",
       "      <th>@nl-nl</th>\n",
       "      <td>139291</td>\n",
       "      <td>17.92</td>\n",
       "    </tr>\n",
       "    <tr>\n",
       "      <th>@pt</th>\n",
       "      <td>1</td>\n",
       "      <td>0.00</td>\n",
       "    </tr>\n",
       "    <tr>\n",
       "      <th>@ru</th>\n",
       "      <td>14</td>\n",
       "      <td>0.00</td>\n",
       "    </tr>\n",
       "    <tr>\n",
       "      <th>http://kgbench.info/dt#base64Image</th>\n",
       "      <td>46108</td>\n",
       "      <td>5.93</td>\n",
       "    </tr>\n",
       "    <tr>\n",
       "      <th>http://www.opengis.net/ont/geosparql#wktLiteral</th>\n",
       "      <td>20866</td>\n",
       "      <td>2.69</td>\n",
       "    </tr>\n",
       "    <tr>\n",
       "      <th>http://www.w3.org/2001/XMLSchema#anyURI</th>\n",
       "      <td>72779</td>\n",
       "      <td>9.37</td>\n",
       "    </tr>\n",
       "    <tr>\n",
       "      <th>http://www.w3.org/2001/XMLSchema#boolean</th>\n",
       "      <td>8299</td>\n",
       "      <td>1.07</td>\n",
       "    </tr>\n",
       "    <tr>\n",
       "      <th>http://www.w3.org/2001/XMLSchema#gYear</th>\n",
       "      <td>1800</td>\n",
       "      <td>0.23</td>\n",
       "    </tr>\n",
       "    <tr>\n",
       "      <th>http://www.w3.org/2001/XMLSchema#nonNegativeInteger</th>\n",
       "      <td>8396</td>\n",
       "      <td>1.08</td>\n",
       "    </tr>\n",
       "    <tr>\n",
       "      <th>http://www.w3.org/2001/XMLSchema#positiveInteger</th>\n",
       "      <td>510</td>\n",
       "      <td>0.07</td>\n",
       "    </tr>\n",
       "  </tbody>\n",
       "</table>\n",
       "</div>"
      ],
      "text/plain": [
       "                                                     count  percent\n",
       "iri                                                 288379    37.11\n",
       "none                                                190271    24.48\n",
       "@es                                                      1     0.00\n",
       "@fy                                                     11     0.00\n",
       "@nl                                                    398     0.05\n",
       "@nl-nl                                              139291    17.92\n",
       "@pt                                                      1     0.00\n",
       "@ru                                                     14     0.00\n",
       "http://kgbench.info/dt#base64Image                   46108     5.93\n",
       "http://www.opengis.net/ont/geosparql#wktLiteral      20866     2.69\n",
       "http://www.w3.org/2001/XMLSchema#anyURI              72779     9.37\n",
       "http://www.w3.org/2001/XMLSchema#boolean              8299     1.07\n",
       "http://www.w3.org/2001/XMLSchema#gYear                1800     0.23\n",
       "http://www.w3.org/2001/XMLSchema#nonNegativeInt...    8396     1.08\n",
       "http://www.w3.org/2001/XMLSchema#positiveInteger       510     0.07"
      ]
     },
     "execution_count": 165,
     "metadata": {},
     "output_type": "execute_result"
    }
   ],
   "source": [
    "tc, df = count_all_triple_types(data)\n",
    "df"
   ]
  },
  {
   "cell_type": "code",
   "execution_count": 92,
   "metadata": {},
   "outputs": [
    {
     "data": {
      "text/html": [
       "<div>\n",
       "<style scoped>\n",
       "    .dataframe tbody tr th:only-of-type {\n",
       "        vertical-align: middle;\n",
       "    }\n",
       "\n",
       "    .dataframe tbody tr th {\n",
       "        vertical-align: top;\n",
       "    }\n",
       "\n",
       "    .dataframe thead th {\n",
       "        text-align: right;\n",
       "    }\n",
       "</style>\n",
       "<table border=\"1\" class=\"dataframe\">\n",
       "  <thead>\n",
       "    <tr style=\"text-align: right;\">\n",
       "      <th></th>\n",
       "      <th>count</th>\n",
       "      <th>percent</th>\n",
       "    </tr>\n",
       "  </thead>\n",
       "  <tbody>\n",
       "    <tr>\n",
       "      <th>Triples</th>\n",
       "      <td>777124</td>\n",
       "      <td>100.00</td>\n",
       "    </tr>\n",
       "    <tr>\n",
       "      <th>IRI</th>\n",
       "      <td>288379</td>\n",
       "      <td>37.11</td>\n",
       "    </tr>\n",
       "    <tr>\n",
       "      <th>Blank Nodes</th>\n",
       "      <td>0</td>\n",
       "      <td>0.00</td>\n",
       "    </tr>\n",
       "    <tr>\n",
       "      <th>Literals</th>\n",
       "      <td>488745</td>\n",
       "      <td>62.89</td>\n",
       "    </tr>\n",
       "    <tr>\n",
       "      <th>Numbers</th>\n",
       "      <td>10706</td>\n",
       "      <td>1.38</td>\n",
       "    </tr>\n",
       "    <tr>\n",
       "      <th>Dates</th>\n",
       "      <td>0</td>\n",
       "      <td>0.00</td>\n",
       "    </tr>\n",
       "    <tr>\n",
       "      <th>Text</th>\n",
       "      <td>329987</td>\n",
       "      <td>42.46</td>\n",
       "    </tr>\n",
       "    <tr>\n",
       "      <th>Image</th>\n",
       "      <td>46108</td>\n",
       "      <td>5.93</td>\n",
       "    </tr>\n",
       "    <tr>\n",
       "      <th>Others</th>\n",
       "      <td>101944</td>\n",
       "      <td>13.12</td>\n",
       "    </tr>\n",
       "  </tbody>\n",
       "</table>\n",
       "</div>"
      ],
      "text/plain": [
       "              count  percent\n",
       "Triples      777124   100.00\n",
       "IRI          288379    37.11\n",
       "Blank Nodes       0     0.00\n",
       "Literals     488745    62.89\n",
       "Numbers       10706     1.38\n",
       "Dates             0     0.00\n",
       "Text         329987    42.46\n",
       "Image         46108     5.93\n",
       "Others       101944    13.12"
      ]
     },
     "execution_count": 92,
     "metadata": {},
     "output_type": "execute_result"
    }
   ],
   "source": [
    "gtc,df = grouped_triple_count(tc)\n",
    "df"
   ]
  },
  {
   "cell_type": "code",
   "execution_count": 166,
   "metadata": {},
   "outputs": [
    {
     "data": {
      "image/png": "[encoded data removed]",
      "text/plain": [
       "<Figure size 640x480 with 1 Axes>"
      ]
     },
     "metadata": {},
     "output_type": "display_data"
    }
   ],
   "source": [
    "df['id'] = df.index\n",
    "sub_df = df[(df['count']>0) & (df['id'] != \"Triples\") & (df['id'] != \"Literals\")]\n",
    "plt.pie(sub_df['count'], labels=sub_df['id'])\n",
    "plt.show()"
   ]
  },
  {
   "cell_type": "code",
   "execution_count": 169,
   "metadata": {},
   "outputs": [],
   "source": []
  },
  {
   "cell_type": "code",
   "execution_count": null,
   "metadata": {},
   "outputs": [],
   "source": [
    "data.triples[torch.isin(data.triples[:, 1],relevant_relations)]"
   ]
  },
  {
   "cell_type": "code",
   "execution_count": 170,
   "metadata": {},
   "outputs": [
    {
     "data": {
      "text/plain": [
       "[26, 2, 43]"
      ]
     },
     "execution_count": 170,
     "metadata": {},
     "output_type": "execute_result"
    }
   ],
   "source": [
    "relevant_relations"
   ]
  },
  {
   "cell_type": "code",
   "execution_count": 171,
   "metadata": {},
   "outputs": [
    {
     "ename": "NameError",
     "evalue": "name 'torch' is not defined",
     "output_type": "error",
     "traceback": [
      "\u001b[1;31m---------------------------------------------------------------------------\u001b[0m",
      "\u001b[1;31mNameError\u001b[0m                                 Traceback (most recent call last)",
      "Cell \u001b[1;32mIn[171], line 1\u001b[0m\n\u001b[1;32m----> 1\u001b[0m \u001b[39mdef\u001b[39;00m \u001b[39mencode_number_sublist\u001b[39m(df: torch\u001b[39m.\u001b[39mTensor, i2e: List[Tuple[\u001b[39mstr\u001b[39m, \u001b[39mstr\u001b[39m]]) \u001b[39m-\u001b[39m\u001b[39m>\u001b[39m torch\u001b[39m.\u001b[39mTensor:\n\u001b[0;32m      2\u001b[0m     sub_df \u001b[39m=\u001b[39m df\u001b[39m.\u001b[39mclone()\n\u001b[0;32m      3\u001b[0m     sub_df \u001b[39m=\u001b[39m sub_df\u001b[39m.\u001b[39mto(torch\u001b[39m.\u001b[39mfloat32)\n",
      "\u001b[1;31mNameError\u001b[0m: name 'torch' is not defined"
     ]
    }
   ],
   "source": []
  },
  {
   "cell_type": "code",
   "execution_count": null,
   "metadata": {},
   "outputs": [],
   "source": []
  },
  {
   "cell_type": "code",
   "execution_count": 94,
   "metadata": {},
   "outputs": [
    {
     "data": {
      "text/plain": [
       "<Figure size 640x480 with 0 Axes>"
      ]
     },
     "metadata": {},
     "output_type": "display_data"
    },
    {
     "data": {
      "image/png": "[encoded data removed]",
      "text/plain": [
       "<Figure size 600x400 with 1 Axes>"
      ]
     },
     "metadata": {},
     "output_type": "display_data"
    }
   ],
   "source": [
    "path = '../docs/plots/'\n",
    "name=\"dmg777k_classes\"\n",
    "plt.clf()\n",
    "plt.figure(figsize=(6, 4))\n",
    "classes, counts = get_class_distribution(data)\n",
    "plt.bar(x= classes, height= counts,color=(\"#3F51B5\"))\n",
    "# plt.figure(dpi=100)\n",
    "# sns.violinplot(data=scores)\n",
    "# plt.xticks(ticks=np.linspace(0, len(approaches) - 1,\n",
    "#             len(approaches), dtype=np.int32), labels=labels)\n",
    "class_counts['dmg777k'] = {'classes' : classes,'counts':counts}\n",
    "plt.ylabel('Nr. of Occurences')\n",
    "plt.xlabel('Classes')\n",
    "\n",
    "plt.savefig(f'{path}{name}.pgf', format='pgf', backend='pgf')"
   ]
  },
  {
   "cell_type": "code",
   "execution_count": 95,
   "metadata": {},
   "outputs": [
    {
     "name": "stdout",
     "output_type": "stream",
     "text": [
      "tensor(3534)\n",
      "tensor(7395)\n",
      "tensor(0.4779)\n"
     ]
    }
   ],
   "source": [
    "print(counts.max())\n",
    "print(counts.sum())\n",
    "print(counts.max()/counts.sum())"
   ]
  },
  {
   "attachments": {},
   "cell_type": "markdown",
   "metadata": {},
   "source": [
    "# mdgenre"
   ]
  },
  {
   "cell_type": "code",
   "execution_count": 184,
   "metadata": {},
   "outputs": [
    {
     "name": "stdout",
     "output_type": "stream",
     "text": [
      "# nodes\n",
      "349344\n",
      "datatypes\n",
      "['iri', 'http://kgbench.info/dt#base64Image', 'http://www.w3.org/1999/02/22-rdf-syntax-ns#langString', 'http://www.w3.org/2001/XMLSchema#dateTime', 'http://www.w3.org/2001/XMLSchema#decimal', 'http://www.w3.org/2001/XMLSchema#string']\n"
     ]
    }
   ],
   "source": [
    "data = load_dataset('mdgenre')"
   ]
  },
  {
   "cell_type": "code",
   "execution_count": 185,
   "metadata": {},
   "outputs": [
    {
     "data": {
      "text/plain": [
       "(array([843.,   0.,   0.,   0.,   0.,   0.,   0.,   0.,   0.,   1.]),\n",
       " array([6.58840027e+01, 9.60000000e+09, 1.92000000e+10, 2.88000000e+10,\n",
       "        3.84000000e+10, 4.80000000e+10, 5.76000000e+10, 6.72000000e+10,\n",
       "        7.68000000e+10, 8.64000000e+10, 9.60000000e+10]),\n",
       " <BarContainer object of 10 artists>)"
      ]
     },
     "execution_count": 185,
     "metadata": {},
     "output_type": "execute_result"
    },
    {
     "data": {
      "image/png": "[encoded data removed]",
      "text/plain": [
       "<Figure size 640x480 with 1 Axes>"
      ]
     },
     "metadata": {},
     "output_type": "display_data"
    }
   ],
   "source": [
    "from utils import get_relevant_relations, RDF_NUMBER_TYPES\n",
    "relevant_relations = get_relevant_relations(data,RDF_NUMBER_TYPES)\n",
    "from preprocess.binning import encode_number_sublist\n"
   ]
  },
  {
   "cell_type": "code",
   "execution_count": 195,
   "metadata": {},
   "outputs": [
    {
     "name": "stdout",
     "output_type": "stream",
     "text": [
      "http://www.wikidata.org/prop/direct/P1971\n",
      "http://www.wikidata.org/prop/direct/P2047\n",
      "http://www.wikidata.org/prop/direct/P2142\n",
      "http://www.wikidata.org/prop/direct/P2130\n",
      "http://www.wikidata.org/prop/direct/P2067\n",
      "http://www.wikidata.org/prop/direct/P2048\n"
     ]
    }
   ],
   "source": [
    "for r in relevant_relations:\n",
    "    print(data.i2r[r])"
   ]
  },
  {
   "cell_type": "code",
   "execution_count": 187,
   "metadata": {},
   "outputs": [
    {
     "data": {
      "text/plain": [
       "[60, 65, 72, 71, 68, 66]"
      ]
     },
     "execution_count": 187,
     "metadata": {},
     "output_type": "execute_result"
    }
   ],
   "source": [
    "relevant_relations"
   ]
  },
  {
   "cell_type": "code",
   "execution_count": 215,
   "metadata": {},
   "outputs": [
    {
     "data": {
      "text/plain": [
       "<Figure size 640x480 with 0 Axes>"
      ]
     },
     "metadata": {},
     "output_type": "display_data"
    },
    {
     "data": {
      "image/png": "[encoded data removed]",
      "text/plain": [
       "<Figure size 380x550 with 2 Axes>"
      ]
     },
     "metadata": {},
     "output_type": "display_data"
    }
   ],
   "source": [
    "sns.set_theme(context=\"paper\", style=\"whitegrid\",font_scale=1,palette='colorblind')\n",
    "\n",
    "plot_names = ['All Predicates','mass'] \n",
    "plt.clf()\n",
    "fix, ax = plt.subplots(2, figsize=(3.8, 5.5))\n",
    "plt.subplots_adjust(left=0.08, right=1, bottom=0.08, top=0.95, wspace=0.22, hspace=0.25)\n",
    "#plt.tight_layout()\n",
    "sub_dfs=[]\n",
    "sub_df = encode_number_sublist(data.triples[torch.isin(data.triples[:, 1],torch.tensor(relevant_relations))],data.i2e)\n",
    "sub_dfs.append(sub_df)\n",
    "#ax[i].hist(sub_df[:,1])\n",
    "sub_df = encode_number_sublist(data.triples[torch.isin(data.triples[:, 1],torch.tensor(relevant_relations[4]))],data.i2e)\n",
    "sub_dfs.append(sub_df)\n",
    "#ax[i].hist(sub_df[:,1])\n",
    "for i in range(2):\n",
    "    name = plot_names[i]\n",
    "    #df = pd.DataFrame(class_counts[name])\n",
    "    #df = df.rename(columns={\"classes\": \"Classes\", \"counts\": \"Occurences\"})\n",
    "    #sub_df = encode_number_sublist(data.triples[torch.isin(data.triples[:, 1],torch.tensor(relevant_relations[4]))],data.i2e)\n",
    "    df=sub_dfs[i]\n",
    "    sns.histplot(df[:,1],bins=100, ax=ax[i])\n",
    "\n",
    "    #sns.barplot(df, x=\"Classes\", y=\"Occurences\",ax=ax[i][j])\n",
    "\n",
    "    ax[i].set_title(name,fontsize=14)\n",
    "\n",
    "\n",
    "\n",
    "\n",
    "plt.savefig(f'{path}binning_hist.pgf', format='pgf', backend='pgf')"
   ]
  },
  {
   "cell_type": "code",
   "execution_count": 194,
   "metadata": {},
   "outputs": [
    {
     "data": {
      "text/plain": [
       "(array([  2., 178., 292.,  99.,  19.,  19.,  31.,  23.,  12.,   9.]),\n",
       " array([  1. ,  31.5,  62. ,  92.5, 123. , 153.5, 184. , 214.5, 245. ,\n",
       "        275.5, 306. ]),\n",
       " <BarContainer object of 10 artists>)"
      ]
     },
     "execution_count": 194,
     "metadata": {},
     "output_type": "execute_result"
    },
    {
     "data": {
      "image/png": "[encoded data removed]",
      "text/plain": [
       "<Figure size 640x480 with 1 Axes>"
      ]
     },
     "metadata": {},
     "output_type": "display_data"
    }
   ],
   "source": [
    "import torch\n",
    "sub_df = encode_number_sublist(data.triples[torch.isin(data.triples[:, 1],torch.tensor(relevant_relations[4]))],data.i2e)\n",
    "plt.hist(sub_df[:,1])"
   ]
  },
  {
   "cell_type": "code",
   "execution_count": 97,
   "metadata": {},
   "outputs": [
    {
     "data": {
      "text/html": [
       "<div>\n",
       "<style scoped>\n",
       "    .dataframe tbody tr th:only-of-type {\n",
       "        vertical-align: middle;\n",
       "    }\n",
       "\n",
       "    .dataframe tbody tr th {\n",
       "        vertical-align: top;\n",
       "    }\n",
       "\n",
       "    .dataframe thead th {\n",
       "        text-align: right;\n",
       "    }\n",
       "</style>\n",
       "<table border=\"1\" class=\"dataframe\">\n",
       "  <thead>\n",
       "    <tr style=\"text-align: right;\">\n",
       "      <th></th>\n",
       "      <th>count</th>\n",
       "      <th>percent</th>\n",
       "    </tr>\n",
       "  </thead>\n",
       "  <tbody>\n",
       "    <tr>\n",
       "      <th>iri</th>\n",
       "      <td>191135</td>\n",
       "      <td>54.71</td>\n",
       "    </tr>\n",
       "    <tr>\n",
       "      <th>http://kgbench.info/dt#base64Image</th>\n",
       "      <td>67528</td>\n",
       "      <td>19.33</td>\n",
       "    </tr>\n",
       "    <tr>\n",
       "      <th>http://www.w3.org/1999/02/22-rdf-syntax-ns#langString</th>\n",
       "      <td>26367</td>\n",
       "      <td>7.55</td>\n",
       "    </tr>\n",
       "    <tr>\n",
       "      <th>http://www.w3.org/2001/XMLSchema#dateTime</th>\n",
       "      <td>37442</td>\n",
       "      <td>10.72</td>\n",
       "    </tr>\n",
       "    <tr>\n",
       "      <th>http://www.w3.org/2001/XMLSchema#decimal</th>\n",
       "      <td>1387</td>\n",
       "      <td>0.40</td>\n",
       "    </tr>\n",
       "    <tr>\n",
       "      <th>http://www.w3.org/2001/XMLSchema#string</th>\n",
       "      <td>25485</td>\n",
       "      <td>7.30</td>\n",
       "    </tr>\n",
       "  </tbody>\n",
       "</table>\n",
       "</div>"
      ],
      "text/plain": [
       "                                                     count  percent\n",
       "iri                                                 191135    54.71\n",
       "http://kgbench.info/dt#base64Image                   67528    19.33\n",
       "http://www.w3.org/1999/02/22-rdf-syntax-ns#lang...   26367     7.55\n",
       "http://www.w3.org/2001/XMLSchema#dateTime            37442    10.72\n",
       "http://www.w3.org/2001/XMLSchema#decimal              1387     0.40\n",
       "http://www.w3.org/2001/XMLSchema#string              25485     7.30"
      ]
     },
     "execution_count": 97,
     "metadata": {},
     "output_type": "execute_result"
    }
   ],
   "source": [
    "dc, df = count_all_nodes(data)\n",
    "df"
   ]
  },
  {
   "cell_type": "code",
   "execution_count": 98,
   "metadata": {},
   "outputs": [
    {
     "data": {
      "text/html": [
       "<div>\n",
       "<style scoped>\n",
       "    .dataframe tbody tr th:only-of-type {\n",
       "        vertical-align: middle;\n",
       "    }\n",
       "\n",
       "    .dataframe tbody tr th {\n",
       "        vertical-align: top;\n",
       "    }\n",
       "\n",
       "    .dataframe thead th {\n",
       "        text-align: right;\n",
       "    }\n",
       "</style>\n",
       "<table border=\"1\" class=\"dataframe\">\n",
       "  <thead>\n",
       "    <tr style=\"text-align: right;\">\n",
       "      <th></th>\n",
       "      <th>count</th>\n",
       "      <th>percent</th>\n",
       "    </tr>\n",
       "  </thead>\n",
       "  <tbody>\n",
       "    <tr>\n",
       "      <th>Nodes</th>\n",
       "      <td>349344</td>\n",
       "      <td>100.00</td>\n",
       "    </tr>\n",
       "    <tr>\n",
       "      <th>IRI</th>\n",
       "      <td>191135</td>\n",
       "      <td>54.71</td>\n",
       "    </tr>\n",
       "    <tr>\n",
       "      <th>Blank Nodes</th>\n",
       "      <td>0</td>\n",
       "      <td>0.00</td>\n",
       "    </tr>\n",
       "    <tr>\n",
       "      <th>Literals</th>\n",
       "      <td>158209</td>\n",
       "      <td>45.29</td>\n",
       "    </tr>\n",
       "    <tr>\n",
       "      <th>Numbers</th>\n",
       "      <td>1387</td>\n",
       "      <td>0.40</td>\n",
       "    </tr>\n",
       "    <tr>\n",
       "      <th>Dates</th>\n",
       "      <td>37442</td>\n",
       "      <td>10.72</td>\n",
       "    </tr>\n",
       "    <tr>\n",
       "      <th>Text</th>\n",
       "      <td>51852</td>\n",
       "      <td>14.84</td>\n",
       "    </tr>\n",
       "    <tr>\n",
       "      <th>Image</th>\n",
       "      <td>67528</td>\n",
       "      <td>19.33</td>\n",
       "    </tr>\n",
       "    <tr>\n",
       "      <th>Others</th>\n",
       "      <td>0</td>\n",
       "      <td>0.00</td>\n",
       "    </tr>\n",
       "  </tbody>\n",
       "</table>\n",
       "</div>"
      ],
      "text/plain": [
       "              count  percent\n",
       "Nodes        349344   100.00\n",
       "IRI          191135    54.71\n",
       "Blank Nodes       0     0.00\n",
       "Literals     158209    45.29\n",
       "Numbers        1387     0.40\n",
       "Dates         37442    10.72\n",
       "Text          51852    14.84\n",
       "Image         67528    19.33\n",
       "Others            0     0.00"
      ]
     },
     "execution_count": 98,
     "metadata": {},
     "output_type": "execute_result"
    }
   ],
   "source": [
    "gc, df = grouped_count(dc)\n",
    "df"
   ]
  },
  {
   "cell_type": "code",
   "execution_count": 99,
   "metadata": {},
   "outputs": [
    {
     "data": {
      "text/html": [
       "<div>\n",
       "<style scoped>\n",
       "    .dataframe tbody tr th:only-of-type {\n",
       "        vertical-align: middle;\n",
       "    }\n",
       "\n",
       "    .dataframe tbody tr th {\n",
       "        vertical-align: top;\n",
       "    }\n",
       "\n",
       "    .dataframe thead th {\n",
       "        text-align: right;\n",
       "    }\n",
       "</style>\n",
       "<table border=\"1\" class=\"dataframe\">\n",
       "  <thead>\n",
       "    <tr style=\"text-align: right;\">\n",
       "      <th></th>\n",
       "      <th>count</th>\n",
       "      <th>percent</th>\n",
       "    </tr>\n",
       "  </thead>\n",
       "  <tbody>\n",
       "    <tr>\n",
       "      <th>iri</th>\n",
       "      <td>1001791</td>\n",
       "      <td>80.00</td>\n",
       "    </tr>\n",
       "    <tr>\n",
       "      <th>http://kgbench.info/dt#base64Image</th>\n",
       "      <td>67804</td>\n",
       "      <td>5.41</td>\n",
       "    </tr>\n",
       "    <tr>\n",
       "      <th>http://www.w3.org/1999/02/22-rdf-syntax-ns#langString</th>\n",
       "      <td>26950</td>\n",
       "      <td>2.15</td>\n",
       "    </tr>\n",
       "    <tr>\n",
       "      <th>http://www.w3.org/2001/XMLSchema#dateTime</th>\n",
       "      <td>113462</td>\n",
       "      <td>9.06</td>\n",
       "    </tr>\n",
       "    <tr>\n",
       "      <th>http://www.w3.org/2001/XMLSchema#decimal</th>\n",
       "      <td>14352</td>\n",
       "      <td>1.15</td>\n",
       "    </tr>\n",
       "    <tr>\n",
       "      <th>http://www.w3.org/2001/XMLSchema#string</th>\n",
       "      <td>27888</td>\n",
       "      <td>2.23</td>\n",
       "    </tr>\n",
       "  </tbody>\n",
       "</table>\n",
       "</div>"
      ],
      "text/plain": [
       "                                                      count  percent\n",
       "iri                                                 1001791    80.00\n",
       "http://kgbench.info/dt#base64Image                    67804     5.41\n",
       "http://www.w3.org/1999/02/22-rdf-syntax-ns#lang...    26950     2.15\n",
       "http://www.w3.org/2001/XMLSchema#dateTime            113462     9.06\n",
       "http://www.w3.org/2001/XMLSchema#decimal              14352     1.15\n",
       "http://www.w3.org/2001/XMLSchema#string               27888     2.23"
      ]
     },
     "execution_count": 99,
     "metadata": {},
     "output_type": "execute_result"
    }
   ],
   "source": [
    "tc, df = count_all_triple_types(data)\n",
    "df"
   ]
  },
  {
   "cell_type": "code",
   "execution_count": 100,
   "metadata": {},
   "outputs": [
    {
     "data": {
      "text/html": [
       "<div>\n",
       "<style scoped>\n",
       "    .dataframe tbody tr th:only-of-type {\n",
       "        vertical-align: middle;\n",
       "    }\n",
       "\n",
       "    .dataframe tbody tr th {\n",
       "        vertical-align: top;\n",
       "    }\n",
       "\n",
       "    .dataframe thead th {\n",
       "        text-align: right;\n",
       "    }\n",
       "</style>\n",
       "<table border=\"1\" class=\"dataframe\">\n",
       "  <thead>\n",
       "    <tr style=\"text-align: right;\">\n",
       "      <th></th>\n",
       "      <th>count</th>\n",
       "      <th>percent</th>\n",
       "    </tr>\n",
       "  </thead>\n",
       "  <tbody>\n",
       "    <tr>\n",
       "      <th>Triples</th>\n",
       "      <td>1252247</td>\n",
       "      <td>100.00</td>\n",
       "    </tr>\n",
       "    <tr>\n",
       "      <th>IRI</th>\n",
       "      <td>1001791</td>\n",
       "      <td>80.00</td>\n",
       "    </tr>\n",
       "    <tr>\n",
       "      <th>Blank Nodes</th>\n",
       "      <td>0</td>\n",
       "      <td>0.00</td>\n",
       "    </tr>\n",
       "    <tr>\n",
       "      <th>Literals</th>\n",
       "      <td>250456</td>\n",
       "      <td>20.00</td>\n",
       "    </tr>\n",
       "    <tr>\n",
       "      <th>Numbers</th>\n",
       "      <td>14352</td>\n",
       "      <td>1.15</td>\n",
       "    </tr>\n",
       "    <tr>\n",
       "      <th>Dates</th>\n",
       "      <td>113462</td>\n",
       "      <td>9.06</td>\n",
       "    </tr>\n",
       "    <tr>\n",
       "      <th>Text</th>\n",
       "      <td>54838</td>\n",
       "      <td>4.38</td>\n",
       "    </tr>\n",
       "    <tr>\n",
       "      <th>Image</th>\n",
       "      <td>67804</td>\n",
       "      <td>5.41</td>\n",
       "    </tr>\n",
       "    <tr>\n",
       "      <th>Others</th>\n",
       "      <td>0</td>\n",
       "      <td>0.00</td>\n",
       "    </tr>\n",
       "  </tbody>\n",
       "</table>\n",
       "</div>"
      ],
      "text/plain": [
       "               count  percent\n",
       "Triples      1252247   100.00\n",
       "IRI          1001791    80.00\n",
       "Blank Nodes        0     0.00\n",
       "Literals      250456    20.00\n",
       "Numbers        14352     1.15\n",
       "Dates         113462     9.06\n",
       "Text           54838     4.38\n",
       "Image          67804     5.41\n",
       "Others             0     0.00"
      ]
     },
     "execution_count": 100,
     "metadata": {},
     "output_type": "execute_result"
    }
   ],
   "source": [
    "gtc,df = grouped_triple_count(tc)\n",
    "df"
   ]
  },
  {
   "cell_type": "code",
   "execution_count": 101,
   "metadata": {},
   "outputs": [
    {
     "data": {
      "image/png": "[encoded data removed]",
      "text/plain": [
       "<Figure size 640x480 with 1 Axes>"
      ]
     },
     "metadata": {},
     "output_type": "display_data"
    }
   ],
   "source": [
    "df['id'] = df.index\n",
    "sub_df = df[(df['count']>0) & (df['id'] != \"Triples\") & (df['id'] != \"Literals\")]\n",
    "plt.pie(sub_df['count'], labels=sub_df['id'])\n",
    "plt.show()"
   ]
  },
  {
   "cell_type": "code",
   "execution_count": 102,
   "metadata": {},
   "outputs": [
    {
     "data": {
      "text/plain": [
       "<Figure size 640x480 with 0 Axes>"
      ]
     },
     "metadata": {},
     "output_type": "display_data"
    },
    {
     "data": {
      "image/png": "[encoded data removed]",
      "text/plain": [
       "<Figure size 600x400 with 1 Axes>"
      ]
     },
     "metadata": {},
     "output_type": "display_data"
    }
   ],
   "source": [
    "path = '../docs/plots/'\n",
    "name=\"mdgenre_classes\"\n",
    "plt.clf()\n",
    "plt.figure(figsize=(6, 4))\n",
    "classes, counts = get_class_distribution(data)\n",
    "plt.bar(x= classes, height= counts,color=(\"#3F51B5\"))\n",
    "# plt.figure(dpi=100)\n",
    "# sns.violinplot(data=scores)\n",
    "# plt.xticks(ticks=np.linspace(0, len(approaches) - 1,\n",
    "#             len(approaches), dtype=np.int32), labels=labels)\n",
    "class_counts['mdgenre'] = {'classes' : classes,'counts':counts}\n",
    "plt.ylabel('Nr. of Occurences')\n",
    "plt.xlabel('Classes')\n",
    "\n",
    "plt.savefig(f'{path}{name}.pgf', format='pgf', backend='pgf')"
   ]
  },
  {
   "cell_type": "code",
   "execution_count": 103,
   "metadata": {},
   "outputs": [
    {
     "name": "stdout",
     "output_type": "stream",
     "text": [
      "tensor(4323)\n",
      "tensor(7863)\n",
      "tensor(0.5498)\n"
     ]
    },
    {
     "data": {
      "text/plain": [
       "tensor(198)"
      ]
     },
     "execution_count": 103,
     "metadata": {},
     "output_type": "execute_result"
    }
   ],
   "source": [
    "print(counts.max())\n",
    "print(counts.sum())\n",
    "print(counts.max()/counts.sum())\n",
    "counts.median()"
   ]
  },
  {
   "cell_type": "code",
   "execution_count": 104,
   "metadata": {},
   "outputs": [
    {
     "data": {
      "text/plain": [
       "tensor([ 1.0174,  1.2082, 54.9790,  1.0174,  8.7371,  2.5436,  8.3810,  1.3481,\n",
       "         2.6199,  1.2209,  2.5181, 14.4093])"
      ]
     },
     "execution_count": 104,
     "metadata": {},
     "output_type": "execute_result"
    }
   ],
   "source": [
    "counts/counts.sum()*100"
   ]
  },
  {
   "cell_type": "code",
   "execution_count": 105,
   "metadata": {},
   "outputs": [
    {
     "data": {
      "text/plain": [
       "tensor([123185,      2])"
      ]
     },
     "execution_count": 105,
     "metadata": {},
     "output_type": "execute_result"
    }
   ],
   "source": [
    "data.withheld[163     ]"
   ]
  },
  {
   "cell_type": "code",
   "execution_count": 106,
   "metadata": {},
   "outputs": [
    {
     "data": {
      "text/plain": [
       "('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',\n",
       " 'http://kgbench.info/dt#base64Image')"
      ]
     },
     "execution_count": 106,
     "metadata": {},
     "output_type": "execute_result"
    }
   ],
   "source": [
    "data.i2e[283258]"
   ]
  },
  {
   "cell_type": "code",
   "execution_count": 108,
   "metadata": {},
   "outputs": [],
   "source": [
    "cnt_iri = 0\n",
    "cnt_all = 0\n",
    "cnt_literal = 0\n",
    "\n",
    "for t in data.triples[data.triples[:,0]== 283678]:\n",
    "    if data.i2e[t[2]][1]== 'iri':\n",
    "        cnt_iri +=1\n",
    "    else:\n",
    "        cnt_literal +=1\n",
    "    cnt_all +=1\n",
    "    print(f'{data.i2e[t[0]]} - {data.i2r[t[1]]} - {data.i2e[t[2]]}')\n",
    "#print(f'{cnt_iri}- {cnt_literal} - {cnt_literal/cnt_all}')"
   ]
  },
  {
   "cell_type": "code",
   "execution_count": 110,
   "metadata": {},
   "outputs": [],
   "source": [
    "cnt_iri = 0\n",
    "cnt_all = 0\n",
    "cnt_literal = 0\n",
    "\n",
    "for t in data.triples[data.triples[:,0]== 284196]:\n",
    "    if data.i2e[t[2]][1]== 'iri':\n",
    "        cnt_iri +=1\n",
    "    else:\n",
    "        cnt_literal +=1\n",
    "    cnt_all +=1\n",
    "    print(f'{data.i2e[t[0]]} - {data.i2r[t[1]]} - {data.i2e[t[2]]}')\n",
    "#print(f'{cnt_iri}- {cnt_literal} - {cnt_literal/cnt_all}')"
   ]
  },
  {
   "cell_type": "code",
   "execution_count": 111,
   "metadata": {},
   "outputs": [],
   "source": [
    "from preprocess.binning import bin_numbers\n"
   ]
  },
  {
   "cell_type": "code",
   "execution_count": 112,
   "metadata": {},
   "outputs": [
    {
     "name": "stdout",
     "output_type": "stream",
     "text": [
      "1\n",
      "13\n",
      "40\n",
      "12\n",
      "7\n",
      "8\n"
     ]
    }
   ],
   "source": [
    "data = bin_numbers(data, num_bins=5, num_bins_as_percent=True)"
   ]
  },
  {
   "cell_type": "code",
   "execution_count": 127,
   "metadata": {},
   "outputs": [
    {
     "data": {
      "text/html": [
       "<div>\n",
       "<style scoped>\n",
       "    .dataframe tbody tr th:only-of-type {\n",
       "        vertical-align: middle;\n",
       "    }\n",
       "\n",
       "    .dataframe tbody tr th {\n",
       "        vertical-align: top;\n",
       "    }\n",
       "\n",
       "    .dataframe thead th {\n",
       "        text-align: right;\n",
       "    }\n",
       "</style>\n",
       "<table border=\"1\" class=\"dataframe\">\n",
       "  <thead>\n",
       "    <tr style=\"text-align: right;\">\n",
       "      <th></th>\n",
       "      <th>classes</th>\n",
       "      <th>counts</th>\n",
       "    </tr>\n",
       "  </thead>\n",
       "  <tbody>\n",
       "    <tr>\n",
       "      <th>0</th>\n",
       "      <td>0</td>\n",
       "      <td>1818</td>\n",
       "    </tr>\n",
       "    <tr>\n",
       "      <th>1</th>\n",
       "      <td>1</td>\n",
       "      <td>11729</td>\n",
       "    </tr>\n",
       "    <tr>\n",
       "      <th>2</th>\n",
       "      <td>2</td>\n",
       "      <td>2462</td>\n",
       "    </tr>\n",
       "    <tr>\n",
       "      <th>3</th>\n",
       "      <td>3</td>\n",
       "      <td>3421</td>\n",
       "    </tr>\n",
       "    <tr>\n",
       "      <th>4</th>\n",
       "      <td>4</td>\n",
       "      <td>1968</td>\n",
       "    </tr>\n",
       "    <tr>\n",
       "      <th>5</th>\n",
       "      <td>5</td>\n",
       "      <td>1206</td>\n",
       "    </tr>\n",
       "    <tr>\n",
       "      <th>6</th>\n",
       "      <td>6</td>\n",
       "      <td>738</td>\n",
       "    </tr>\n",
       "    <tr>\n",
       "      <th>7</th>\n",
       "      <td>7</td>\n",
       "      <td>10081</td>\n",
       "    </tr>\n",
       "  </tbody>\n",
       "</table>\n",
       "</div>"
      ],
      "text/plain": [
       "   classes  counts\n",
       "0        0    1818\n",
       "1        1   11729\n",
       "2        2    2462\n",
       "3        3    3421\n",
       "4        4    1968\n",
       "5        5    1206\n",
       "6        6     738\n",
       "7        7   10081"
      ]
     },
     "execution_count": 127,
     "metadata": {},
     "output_type": "execute_result"
    }
   ],
   "source": [
    "pd.DataFrame(class_counts['amplus'])"
   ]
  },
  {
   "cell_type": "code",
   "execution_count": 125,
   "metadata": {},
   "outputs": [
    {
     "ename": "ValueError",
     "evalue": "2 columns passed, passed data had 8 columns",
     "output_type": "error",
     "traceback": [
      "\u001b[1;31m---------------------------------------------------------------------------\u001b[0m",
      "\u001b[1;31mAssertionError\u001b[0m                            Traceback (most recent call last)",
      "File \u001b[1;32mc:\\Users\\Noctris\\.virtualenvs\\rdf-literal-preprocessing-20b3_M0v\\lib\\site-packages\\pandas\\core\\internals\\construction.py:969\u001b[0m, in \u001b[0;36m_finalize_columns_and_data\u001b[1;34m(content, columns, dtype)\u001b[0m\n\u001b[0;32m    968\u001b[0m \u001b[39mtry\u001b[39;00m:\n\u001b[1;32m--> 969\u001b[0m     columns \u001b[39m=\u001b[39m _validate_or_indexify_columns(contents, columns)\n\u001b[0;32m    970\u001b[0m \u001b[39mexcept\u001b[39;00m \u001b[39mAssertionError\u001b[39;00m \u001b[39mas\u001b[39;00m err:\n\u001b[0;32m    971\u001b[0m     \u001b[39m# GH#26429 do not raise user-facing AssertionError\u001b[39;00m\n",
      "File \u001b[1;32mc:\\Users\\Noctris\\.virtualenvs\\rdf-literal-preprocessing-20b3_M0v\\lib\\site-packages\\pandas\\core\\internals\\construction.py:1017\u001b[0m, in \u001b[0;36m_validate_or_indexify_columns\u001b[1;34m(content, columns)\u001b[0m\n\u001b[0;32m   1015\u001b[0m \u001b[39mif\u001b[39;00m \u001b[39mnot\u001b[39;00m is_mi_list \u001b[39mand\u001b[39;00m \u001b[39mlen\u001b[39m(columns) \u001b[39m!=\u001b[39m \u001b[39mlen\u001b[39m(content):  \u001b[39m# pragma: no cover\u001b[39;00m\n\u001b[0;32m   1016\u001b[0m     \u001b[39m# caller's responsibility to check for this...\u001b[39;00m\n\u001b[1;32m-> 1017\u001b[0m     \u001b[39mraise\u001b[39;00m \u001b[39mAssertionError\u001b[39;00m(\n\u001b[0;32m   1018\u001b[0m         \u001b[39mf\u001b[39m\u001b[39m\"\u001b[39m\u001b[39m{\u001b[39;00m\u001b[39mlen\u001b[39m(columns)\u001b[39m}\u001b[39;00m\u001b[39m columns passed, passed data had \u001b[39m\u001b[39m\"\u001b[39m\n\u001b[0;32m   1019\u001b[0m         \u001b[39mf\u001b[39m\u001b[39m\"\u001b[39m\u001b[39m{\u001b[39;00m\u001b[39mlen\u001b[39m(content)\u001b[39m}\u001b[39;00m\u001b[39m columns\u001b[39m\u001b[39m\"\u001b[39m\n\u001b[0;32m   1020\u001b[0m     )\n\u001b[0;32m   1021\u001b[0m \u001b[39melif\u001b[39;00m is_mi_list:\n\u001b[0;32m   1022\u001b[0m \n\u001b[0;32m   1023\u001b[0m     \u001b[39m# check if nested list column, length of each sub-list should be equal\u001b[39;00m\n",
      "\u001b[1;31mAssertionError\u001b[0m: 2 columns passed, passed data had 8 columns",
      "\nThe above exception was the direct cause of the following exception:\n",
      "\u001b[1;31mValueError\u001b[0m                                Traceback (most recent call last)",
      "Cell \u001b[1;32mIn[125], line 1\u001b[0m\n\u001b[1;32m----> 1\u001b[0m pd\u001b[39m.\u001b[39;49mDataFrame([class_counts[\u001b[39m\"\u001b[39;49m\u001b[39mamplus\u001b[39;49m\u001b[39m\"\u001b[39;49m][\u001b[39m'\u001b[39;49m\u001b[39mclasses\u001b[39;49m\u001b[39m'\u001b[39;49m],class_counts[\u001b[39m\"\u001b[39;49m\u001b[39mamplus\u001b[39;49m\u001b[39m\"\u001b[39;49m][\u001b[39m'\u001b[39;49m\u001b[39mcounts\u001b[39;49m\u001b[39m'\u001b[39;49m]], columns\u001b[39m=\u001b[39;49m[\u001b[39m'\u001b[39;49m\u001b[39mclasses\u001b[39;49m\u001b[39m'\u001b[39;49m,\u001b[39m\"\u001b[39;49m\u001b[39mcounts\u001b[39;49m\u001b[39m\"\u001b[39;49m])\n",
      "File \u001b[1;32mc:\\Users\\Noctris\\.virtualenvs\\rdf-literal-preprocessing-20b3_M0v\\lib\\site-packages\\pandas\\core\\frame.py:745\u001b[0m, in \u001b[0;36mDataFrame.__init__\u001b[1;34m(self, data, index, columns, dtype, copy)\u001b[0m\n\u001b[0;32m    743\u001b[0m     \u001b[39mif\u001b[39;00m columns \u001b[39mis\u001b[39;00m \u001b[39mnot\u001b[39;00m \u001b[39mNone\u001b[39;00m:\n\u001b[0;32m    744\u001b[0m         columns \u001b[39m=\u001b[39m ensure_index(columns)\n\u001b[1;32m--> 745\u001b[0m     arrays, columns, index \u001b[39m=\u001b[39m nested_data_to_arrays(\n\u001b[0;32m    746\u001b[0m         \u001b[39m# error: Argument 3 to \"nested_data_to_arrays\" has incompatible\u001b[39;49;00m\n\u001b[0;32m    747\u001b[0m         \u001b[39m# type \"Optional[Collection[Any]]\"; expected \"Optional[Index]\"\u001b[39;49;00m\n\u001b[0;32m    748\u001b[0m         data,\n\u001b[0;32m    749\u001b[0m         columns,\n\u001b[0;32m    750\u001b[0m         index,  \u001b[39m# type: ignore[arg-type]\u001b[39;49;00m\n\u001b[0;32m    751\u001b[0m         dtype,\n\u001b[0;32m    752\u001b[0m     )\n\u001b[0;32m    753\u001b[0m     mgr \u001b[39m=\u001b[39m arrays_to_mgr(\n\u001b[0;32m    754\u001b[0m         arrays,\n\u001b[0;32m    755\u001b[0m         columns,\n\u001b[1;32m   (...)\u001b[0m\n\u001b[0;32m    758\u001b[0m         typ\u001b[39m=\u001b[39mmanager,\n\u001b[0;32m    759\u001b[0m     )\n\u001b[0;32m    760\u001b[0m \u001b[39melse\u001b[39;00m:\n",
      "File \u001b[1;32mc:\\Users\\Noctris\\.virtualenvs\\rdf-literal-preprocessing-20b3_M0v\\lib\\site-packages\\pandas\\core\\internals\\construction.py:510\u001b[0m, in \u001b[0;36mnested_data_to_arrays\u001b[1;34m(data, columns, index, dtype)\u001b[0m\n\u001b[0;32m    507\u001b[0m \u001b[39mif\u001b[39;00m is_named_tuple(data[\u001b[39m0\u001b[39m]) \u001b[39mand\u001b[39;00m columns \u001b[39mis\u001b[39;00m \u001b[39mNone\u001b[39;00m:\n\u001b[0;32m    508\u001b[0m     columns \u001b[39m=\u001b[39m ensure_index(data[\u001b[39m0\u001b[39m]\u001b[39m.\u001b[39m_fields)\n\u001b[1;32m--> 510\u001b[0m arrays, columns \u001b[39m=\u001b[39m to_arrays(data, columns, dtype\u001b[39m=\u001b[39;49mdtype)\n\u001b[0;32m    511\u001b[0m columns \u001b[39m=\u001b[39m ensure_index(columns)\n\u001b[0;32m    513\u001b[0m \u001b[39mif\u001b[39;00m index \u001b[39mis\u001b[39;00m \u001b[39mNone\u001b[39;00m:\n",
      "File \u001b[1;32mc:\\Users\\Noctris\\.virtualenvs\\rdf-literal-preprocessing-20b3_M0v\\lib\\site-packages\\pandas\\core\\internals\\construction.py:875\u001b[0m, in \u001b[0;36mto_arrays\u001b[1;34m(data, columns, dtype)\u001b[0m\n\u001b[0;32m    872\u001b[0m     data \u001b[39m=\u001b[39m [\u001b[39mtuple\u001b[39m(x) \u001b[39mfor\u001b[39;00m x \u001b[39min\u001b[39;00m data]\n\u001b[0;32m    873\u001b[0m     arr \u001b[39m=\u001b[39m _list_to_arrays(data)\n\u001b[1;32m--> 875\u001b[0m content, columns \u001b[39m=\u001b[39m _finalize_columns_and_data(arr, columns, dtype)\n\u001b[0;32m    876\u001b[0m \u001b[39mreturn\u001b[39;00m content, columns\n",
      "File \u001b[1;32mc:\\Users\\Noctris\\.virtualenvs\\rdf-literal-preprocessing-20b3_M0v\\lib\\site-packages\\pandas\\core\\internals\\construction.py:972\u001b[0m, in \u001b[0;36m_finalize_columns_and_data\u001b[1;34m(content, columns, dtype)\u001b[0m\n\u001b[0;32m    969\u001b[0m     columns \u001b[39m=\u001b[39m _validate_or_indexify_columns(contents, columns)\n\u001b[0;32m    970\u001b[0m \u001b[39mexcept\u001b[39;00m \u001b[39mAssertionError\u001b[39;00m \u001b[39mas\u001b[39;00m err:\n\u001b[0;32m    971\u001b[0m     \u001b[39m# GH#26429 do not raise user-facing AssertionError\u001b[39;00m\n\u001b[1;32m--> 972\u001b[0m     \u001b[39mraise\u001b[39;00m \u001b[39mValueError\u001b[39;00m(err) \u001b[39mfrom\u001b[39;00m \u001b[39merr\u001b[39;00m\n\u001b[0;32m    974\u001b[0m \u001b[39mif\u001b[39;00m \u001b[39mlen\u001b[39m(contents) \u001b[39mand\u001b[39;00m contents[\u001b[39m0\u001b[39m]\u001b[39m.\u001b[39mdtype \u001b[39m==\u001b[39m np\u001b[39m.\u001b[39mobject_:\n\u001b[0;32m    975\u001b[0m     contents \u001b[39m=\u001b[39m _convert_object_array(contents, dtype\u001b[39m=\u001b[39mdtype)\n",
      "\u001b[1;31mValueError\u001b[0m: 2 columns passed, passed data had 8 columns"
     ]
    }
   ],
   "source": [
    "pd.DataFrame([class_counts[\"amplus\"]['classes'],class_counts[\"amplus\"]['counts']], columns=['classes',\"counts\"])"
   ]
  },
  {
   "cell_type": "code",
   "execution_count": 133,
   "metadata": {},
   "outputs": [
    {
     "data": {
      "text/plain": [
       "<AxesSubplot: xlabel='classes', ylabel='counts'>"
      ]
     },
     "execution_count": 133,
     "metadata": {},
     "output_type": "execute_result"
    },
    {
     "data": {
      "image/png": "[encoded data removed]",
      "text/plain": [
       "<Figure size 640x480 with 1 Axes>"
      ]
     },
     "metadata": {},
     "output_type": "display_data"
    }
   ],
   "source": [
    "import seaborn as sns\n",
    "sns.barplot(pd.DataFrame(class_counts['amplus']), x=\"classes\", y=\"counts\", palette=sns.color_palette(\"colorblind\"))"
   ]
  },
  {
   "cell_type": "code",
   "execution_count": null,
   "metadata": {},
   "outputs": [],
   "source": [
    "so.barplot"
   ]
  },
  {
   "cell_type": "code",
   "execution_count": 138,
   "metadata": {},
   "outputs": [
    {
     "data": {
      "text/html": [
       "<div>\n",
       "<style scoped>\n",
       "    .dataframe tbody tr th:only-of-type {\n",
       "        vertical-align: middle;\n",
       "    }\n",
       "\n",
       "    .dataframe tbody tr th {\n",
       "        vertical-align: top;\n",
       "    }\n",
       "\n",
       "    .dataframe thead th {\n",
       "        text-align: right;\n",
       "    }\n",
       "</style>\n",
       "<table border=\"1\" class=\"dataframe\">\n",
       "  <thead>\n",
       "    <tr style=\"text-align: right;\">\n",
       "      <th></th>\n",
       "      <th>count</th>\n",
       "      <th>percent</th>\n",
       "      <th>id</th>\n",
       "    </tr>\n",
       "  </thead>\n",
       "  <tbody>\n",
       "    <tr>\n",
       "      <th>Triples</th>\n",
       "      <td>1252247</td>\n",
       "      <td>100.00</td>\n",
       "      <td>Triples</td>\n",
       "    </tr>\n",
       "    <tr>\n",
       "      <th>IRI</th>\n",
       "      <td>1001791</td>\n",
       "      <td>80.00</td>\n",
       "      <td>IRI</td>\n",
       "    </tr>\n",
       "    <tr>\n",
       "      <th>Blank Nodes</th>\n",
       "      <td>0</td>\n",
       "      <td>0.00</td>\n",
       "      <td>Blank Nodes</td>\n",
       "    </tr>\n",
       "    <tr>\n",
       "      <th>Literals</th>\n",
       "      <td>250456</td>\n",
       "      <td>20.00</td>\n",
       "      <td>Literals</td>\n",
       "    </tr>\n",
       "    <tr>\n",
       "      <th>Numbers</th>\n",
       "      <td>14352</td>\n",
       "      <td>1.15</td>\n",
       "      <td>Numbers</td>\n",
       "    </tr>\n",
       "    <tr>\n",
       "      <th>Dates</th>\n",
       "      <td>113462</td>\n",
       "      <td>9.06</td>\n",
       "      <td>Dates</td>\n",
       "    </tr>\n",
       "    <tr>\n",
       "      <th>Text</th>\n",
       "      <td>54838</td>\n",
       "      <td>4.38</td>\n",
       "      <td>Text</td>\n",
       "    </tr>\n",
       "    <tr>\n",
       "      <th>Image</th>\n",
       "      <td>67804</td>\n",
       "      <td>5.41</td>\n",
       "      <td>Image</td>\n",
       "    </tr>\n",
       "    <tr>\n",
       "      <th>Others</th>\n",
       "      <td>0</td>\n",
       "      <td>0.00</td>\n",
       "      <td>Others</td>\n",
       "    </tr>\n",
       "  </tbody>\n",
       "</table>\n",
       "</div>"
      ],
      "text/plain": [
       "               count  percent           id\n",
       "Triples      1252247   100.00      Triples\n",
       "IRI          1001791    80.00          IRI\n",
       "Blank Nodes        0     0.00  Blank Nodes\n",
       "Literals      250456    20.00     Literals\n",
       "Numbers        14352     1.15      Numbers\n",
       "Dates         113462     9.06        Dates\n",
       "Text           54838     4.38         Text\n",
       "Image          67804     5.41        Image\n",
       "Others             0     0.00       Others"
      ]
     },
     "execution_count": 138,
     "metadata": {},
     "output_type": "execute_result"
    }
   ],
   "source": [
    "df"
   ]
  },
  {
   "attachments": {},
   "cell_type": "markdown",
   "metadata": {},
   "source": [
    "# overall"
   ]
  },
  {
   "cell_type": "code",
   "execution_count": 161,
   "metadata": {},
   "outputs": [
    {
     "data": {
      "text/plain": [
       "<Figure size 640x480 with 0 Axes>"
      ]
     },
     "metadata": {},
     "output_type": "display_data"
    },
    {
     "data": {
      "image/png": "[encoded data removed]",
      "text/plain": [
       "<Figure size 800x600 with 4 Axes>"
      ]
     },
     "metadata": {},
     "output_type": "display_data"
    }
   ],
   "source": [
    "sns.set_theme(context=\"paper\", style=\"whitegrid\",font_scale=1,palette='colorblind')\n",
    "\n",
    "plot_names = [['amplus','dmgfull'],['dmg777k','mdgenre']] \n",
    "plt.clf()\n",
    "fix, ax = plt.subplots(2,2, figsize=(8, 6))\n",
    "plt.subplots_adjust(left=0.08, right=1, bottom=0.08, top=0.95, wspace=0.22, hspace=0.35)\n",
    "#plt.tight_layout()\n",
    "\n",
    "for i in range(2):\n",
    "    for j in range(2):\n",
    "        name = plot_names[i][j]\n",
    "        df = pd.DataFrame(class_counts[name])\n",
    "        df = df.rename(columns={\"classes\": \"Classes\", \"counts\": \"Occurences\"})\n",
    "        sns.barplot(df, x=\"Classes\", y=\"Occurences\",ax=ax[i][j])\n",
    "        #ax[i][j].bar(x= class_counts[name]['classes'], height= class_counts[name]['counts'],color=(\"#7986CB\"))\n",
    "        # ax[i][j].ylabel('Nr. of Occurences')\n",
    "        # ax[i][j].xlabel('Classes')\n",
    "        ax[i][j].set_title(name,fontsize=14)\n",
    "        #ax[i][j].set(xlabel='Classes', ylabel='Nr. of Occurences', xticks=class_counts[name]['classes'])\n",
    "\n",
    "# for a in ax.flat:\n",
    "#     a.set(xlabel='Classes', ylabel='Nr. of Occurences')\n",
    "# path = '../docs/plots/'\n",
    "# name=\"mdgenre_classes\"\n",
    "# plt.clf()\n",
    "# plt.figure(figsize=(6, 4))\n",
    "# classes, counts = get_class_distribution(data)\n",
    "# plt.bar(x= classes, height= counts,color=(\"#3F51B5\"))\n",
    "# plt.figure(dpi=100)\n",
    "# sns.violinplot(data=scores)\n",
    "# plt.xticks(ticks=np.linspace(0, len(approaches) - 1,\n",
    "#             len(approaches), dtype=np.int32), labels=labels)\n",
    "# class_counts['mdgenre'] = {'classes' : classes,'counts':counts}\n",
    "# plt.ylabel('Nr. of Occurences')\n",
    "# plt.xlabel('Classes')\n",
    "\n",
    "plt.savefig(f'{path}all_classes.pgf', format='pgf', backend='pgf')\n"
   ]
  },
  {
   "cell_type": "code",
   "execution_count": null,
   "metadata": {},
   "outputs": [],
   "source": []
  }
 ],
 "metadata": {
  "kernelspec": {
   "display_name": "rdf-literal-preprocessing-20b3_M0v",
   "language": "python",
   "name": "python3"
  },
  "language_info": {
   "codemirror_mode": {
    "name": "ipython",
    "version": 3
   },
   "file_extension": ".py",
   "mimetype": "text/x-python",
   "name": "python",
   "nbconvert_exporter": "python",
   "pygments_lexer": "ipython3",
   "version": "3.8.10"
  },
  "orig_nbformat": 4
 },
 "nbformat": 4,
 "nbformat_minor": 2
}
