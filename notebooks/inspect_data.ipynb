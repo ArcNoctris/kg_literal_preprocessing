{
 "cells": [
  {
   "cell_type": "code",
   "execution_count": 1,
   "metadata": {},
   "outputs": [
    {
     "name": "stdout",
     "output_type": "stream",
     "text": [
      "e:\\00_CODE\\03_Master_Thesis\\rdf-literal-preprocessing\\src\n"
     ]
    },
    {
     "name": "stderr",
     "output_type": "stream",
     "text": [
      "c:\\Users\\Noctris\\.virtualenvs\\rdf-literal-preprocessing-20b3_M0v\\lib\\site-packages\\tqdm\\auto.py:22: TqdmWarning: IProgress not found. Please update jupyter and ipywidgets. See https://ipywidgets.readthedocs.io/en/stable/user_install.html\n",
      "  from .autonotebook import tqdm as notebook_tqdm\n"
     ]
    }
   ],
   "source": [
    "%cd ../src\n",
    "import pickle\n",
    "import pandas as pd\n",
    "from utils import IMAGE_TYPES, RDF_DATE_TYPES, RDF_NUMBER_TYPES, POTENTIAL_TEXT_TYPES\n",
    "import matplotlib.pyplot as plt"
   ]
  },
  {
   "attachments": {},
   "cell_type": "markdown",
   "metadata": {},
   "source": [
    "# General Functions"
   ]
  },
  {
   "cell_type": "code",
   "execution_count": 2,
   "metadata": {},
   "outputs": [],
   "source": [
    "def load_dataset(dataset):\n",
    "    with open(f\"../data/raw/{dataset}_final_torch_None.pickle\", \"rb\") as f:\n",
    "        data = pickle.load(f)\n",
    "    \n",
    "    print(\"# nodes\")\n",
    "    print(len(data.i2e))\n",
    "    print(\"datatypes\")\n",
    "    print(data.datatypes())\n",
    "    return data"
   ]
  },
  {
   "cell_type": "code",
   "execution_count": 3,
   "metadata": {},
   "outputs": [],
   "source": [
    "def count_all_nodes(data):\n",
    "    data_count = {}\n",
    "    for type in data.datatypes():\n",
    "        data_count[type] = 0 \n",
    "    for entry in data.i2e:\n",
    "        data_count[entry[1]] += 1 \n",
    "    \n",
    "    df = pd.DataFrame.from_dict(data_count, orient=\"index\", columns=[\"count\"])\n",
    "    df[\"percent\"] = df['count'] / len(data.i2e) *100\n",
    "    df[\"percent\"] = df[\"percent\"].round(2)\n",
    "    return data_count, df"
   ]
  },
  {
   "cell_type": "code",
   "execution_count": 4,
   "metadata": {},
   "outputs": [],
   "source": [
    "def grouped_count(data_count):\n",
    "    grouped_count = {}\n",
    "    grouped_count['Nodes'] = 0\n",
    "    grouped_count['IRI'] = 0\n",
    "    grouped_count['Blank Nodes'] = 0\n",
    "    grouped_count['Literals'] = 0\n",
    "    grouped_count['Numbers'] = 0\n",
    "    grouped_count['Dates'] = 0\n",
    "    grouped_count['Text'] = 0\n",
    "    grouped_count['Image'] = 0\n",
    "    grouped_count['Others'] = 0\n",
    "\n",
    "    for key, value in data_count.items():\n",
    "        grouped_count['Nodes'] += value\n",
    "        if key == 'iri':\n",
    "            grouped_count['IRI'] += value\n",
    "        elif key == 'blank_node':\n",
    "            grouped_count['Blank Nodes'] += value\n",
    "        else:\n",
    "            grouped_count['Literals'] += value\n",
    "            if key in RDF_NUMBER_TYPES:\n",
    "                grouped_count['Numbers'] += value\n",
    "            elif key in RDF_DATE_TYPES:\n",
    "                grouped_count['Dates'] += value\n",
    "            elif key in IMAGE_TYPES:\n",
    "                grouped_count['Image'] += value\n",
    "            elif key in POTENTIAL_TEXT_TYPES:\n",
    "                grouped_count['Text'] += value\n",
    "            else:\n",
    "                grouped_count['Others'] += value\n",
    "            \n",
    "    df = pd.DataFrame.from_dict(grouped_count, orient=\"index\", columns=[\"count\"])\n",
    "    df[\"percent\"] = df['count'] / grouped_count['Nodes'] *100\n",
    "    df[\"percent\"] = df[\"percent\"].round(2)\n",
    "    return grouped_count , df"
   ]
  },
  {
   "cell_type": "code",
   "execution_count": 5,
   "metadata": {},
   "outputs": [],
   "source": [
    "def count_all_triple_types(data):\n",
    "    triple_counts = {}\n",
    "    for type in data.datatypes():\n",
    "        triple_counts[type] = 0 \n",
    "    for d in data.triples:\n",
    "        triple_counts[data.i2e[d[2]][1]] += 1 \n",
    "\n",
    "    \n",
    "    df = pd.DataFrame.from_dict(triple_counts, orient=\"index\", columns=[\"count\"])\n",
    "    df[\"percent\"] = df['count'] / len(data.triples) *100\n",
    "    df[\"percent\"] = df[\"percent\"].round(2)\n",
    "    return triple_counts, df"
   ]
  },
  {
   "cell_type": "code",
   "execution_count": 6,
   "metadata": {},
   "outputs": [],
   "source": [
    "def grouped_triple_count(triple_counts):\n",
    "    grouped_count = {}\n",
    "    grouped_count['Triples'] = 0\n",
    "    grouped_count['IRI'] = 0\n",
    "    grouped_count['Blank Nodes'] = 0\n",
    "    grouped_count['Literals'] = 0\n",
    "    grouped_count['Numbers'] = 0\n",
    "    grouped_count['Dates'] = 0\n",
    "    grouped_count['Text'] = 0\n",
    "    grouped_count['Image'] = 0\n",
    "    grouped_count['Others'] = 0\n",
    "\n",
    "    for key, value in triple_counts.items():\n",
    "        grouped_count['Triples'] += value\n",
    "        if key == 'iri':\n",
    "            grouped_count['IRI'] += value\n",
    "        elif key == 'blank_node':\n",
    "            grouped_count['Blank Nodes'] += value\n",
    "        else:\n",
    "            grouped_count['Literals'] += value\n",
    "            if key in RDF_NUMBER_TYPES:\n",
    "                grouped_count['Numbers'] += value\n",
    "            elif key in RDF_DATE_TYPES:\n",
    "                grouped_count['Dates'] += value\n",
    "            elif key in IMAGE_TYPES:\n",
    "                grouped_count['Image'] += value\n",
    "            elif key in POTENTIAL_TEXT_TYPES:\n",
    "                grouped_count['Text'] += value\n",
    "            else:\n",
    "                grouped_count['Others'] += value\n",
    "            \n",
    "    df = pd.DataFrame.from_dict(grouped_count, orient=\"index\", columns=[\"count\"])\n",
    "    df[\"percent\"] = df['count'] / grouped_count['Triples'] *100\n",
    "    df[\"percent\"] = df[\"percent\"].round(2)\n",
    "    return grouped_count , df"
   ]
  },
  {
   "cell_type": "code",
   "execution_count": 7,
   "metadata": {},
   "outputs": [],
   "source": [
    "def get_class_distribution(data):\n",
    "    classes, training_counts = data.training[:,1].unique(return_counts=True)\n",
    "    _, withheld_counts = data.withheld[:,1].unique(return_counts=True)\n",
    "    return classes, training_counts+withheld_counts\n",
    "    "
   ]
  },
  {
   "attachments": {},
   "cell_type": "markdown",
   "metadata": {},
   "source": [
    "# amplus"
   ]
  },
  {
   "cell_type": "code",
   "execution_count": 3,
   "metadata": {},
   "outputs": [
    {
     "name": "stdout",
     "output_type": "stream",
     "text": [
      "# nodes\n",
      "341270\n",
      "datatypes\n",
      "['iri', 'none', '@es', '@fy', '@nl', '@nl-nl', '@pt', '@ru', 'http://kgbench.info/dt#base64Image', 'http://www.opengis.net/ont/geosparql#wktLiteral', 'http://www.w3.org/2001/XMLSchema#anyURI', 'http://www.w3.org/2001/XMLSchema#boolean', 'http://www.w3.org/2001/XMLSchema#gYear', 'http://www.w3.org/2001/XMLSchema#nonNegativeInteger', 'http://www.w3.org/2001/XMLSchema#positiveInteger']\n"
     ]
    }
   ],
   "source": [
    "data = load_dataset('dmg777k')\n"
   ]
  },
  {
   "cell_type": "code",
   "execution_count": null,
   "metadata": {},
   "outputs": [],
   "source": []
  },
  {
   "cell_type": "code",
   "execution_count": 9,
   "metadata": {},
   "outputs": [
    {
     "data": {
      "text/html": [
       "<div>\n",
       "<style scoped>\n",
       "    .dataframe tbody tr th:only-of-type {\n",
       "        vertical-align: middle;\n",
       "    }\n",
       "\n",
       "    .dataframe tbody tr th {\n",
       "        vertical-align: top;\n",
       "    }\n",
       "\n",
       "    .dataframe thead th {\n",
       "        text-align: right;\n",
       "    }\n",
       "</style>\n",
       "<table border=\"1\" class=\"dataframe\">\n",
       "  <thead>\n",
       "    <tr style=\"text-align: right;\">\n",
       "      <th></th>\n",
       "      <th>count</th>\n",
       "      <th>percent</th>\n",
       "    </tr>\n",
       "  </thead>\n",
       "  <tbody>\n",
       "    <tr>\n",
       "      <th>iri</th>\n",
       "      <td>459886</td>\n",
       "      <td>39.86</td>\n",
       "    </tr>\n",
       "    <tr>\n",
       "      <th>blank_node</th>\n",
       "      <td>566276</td>\n",
       "      <td>49.08</td>\n",
       "    </tr>\n",
       "    <tr>\n",
       "      <th>none</th>\n",
       "      <td>56202</td>\n",
       "      <td>4.87</td>\n",
       "    </tr>\n",
       "    <tr>\n",
       "      <th>http://kgbench.info/dt#base64Image</th>\n",
       "      <td>56130</td>\n",
       "      <td>4.87</td>\n",
       "    </tr>\n",
       "    <tr>\n",
       "      <th>http://www.w3.org/2001/XMLSchema#date</th>\n",
       "      <td>6767</td>\n",
       "      <td>0.59</td>\n",
       "    </tr>\n",
       "    <tr>\n",
       "      <th>http://www.w3.org/2001/XMLSchema#decimal</th>\n",
       "      <td>7254</td>\n",
       "      <td>0.63</td>\n",
       "    </tr>\n",
       "    <tr>\n",
       "      <th>http://www.w3.org/2001/XMLSchema#positiveInteger</th>\n",
       "      <td>1164</td>\n",
       "      <td>0.10</td>\n",
       "    </tr>\n",
       "  </tbody>\n",
       "</table>\n",
       "</div>"
      ],
      "text/plain": [
       "                                                   count  percent\n",
       "iri                                               459886    39.86\n",
       "blank_node                                        566276    49.08\n",
       "none                                               56202     4.87\n",
       "http://kgbench.info/dt#base64Image                 56130     4.87\n",
       "http://www.w3.org/2001/XMLSchema#date               6767     0.59\n",
       "http://www.w3.org/2001/XMLSchema#decimal            7254     0.63\n",
       "http://www.w3.org/2001/XMLSchema#positiveInteger    1164     0.10"
      ]
     },
     "execution_count": 9,
     "metadata": {},
     "output_type": "execute_result"
    }
   ],
   "source": [
    "dc, df = count_all_nodes(data)\n",
    "df"
   ]
  },
  {
   "cell_type": "code",
   "execution_count": 10,
   "metadata": {},
   "outputs": [
    {
     "data": {
      "text/html": [
       "<div>\n",
       "<style scoped>\n",
       "    .dataframe tbody tr th:only-of-type {\n",
       "        vertical-align: middle;\n",
       "    }\n",
       "\n",
       "    .dataframe tbody tr th {\n",
       "        vertical-align: top;\n",
       "    }\n",
       "\n",
       "    .dataframe thead th {\n",
       "        text-align: right;\n",
       "    }\n",
       "</style>\n",
       "<table border=\"1\" class=\"dataframe\">\n",
       "  <thead>\n",
       "    <tr style=\"text-align: right;\">\n",
       "      <th></th>\n",
       "      <th>count</th>\n",
       "      <th>percent</th>\n",
       "    </tr>\n",
       "  </thead>\n",
       "  <tbody>\n",
       "    <tr>\n",
       "      <th>Nodes</th>\n",
       "      <td>1153679</td>\n",
       "      <td>100.00</td>\n",
       "    </tr>\n",
       "    <tr>\n",
       "      <th>IRI</th>\n",
       "      <td>459886</td>\n",
       "      <td>39.86</td>\n",
       "    </tr>\n",
       "    <tr>\n",
       "      <th>Blank Nodes</th>\n",
       "      <td>566276</td>\n",
       "      <td>49.08</td>\n",
       "    </tr>\n",
       "    <tr>\n",
       "      <th>Literals</th>\n",
       "      <td>127517</td>\n",
       "      <td>11.05</td>\n",
       "    </tr>\n",
       "    <tr>\n",
       "      <th>Numbers</th>\n",
       "      <td>8418</td>\n",
       "      <td>0.73</td>\n",
       "    </tr>\n",
       "    <tr>\n",
       "      <th>Dates</th>\n",
       "      <td>6767</td>\n",
       "      <td>0.59</td>\n",
       "    </tr>\n",
       "    <tr>\n",
       "      <th>Text</th>\n",
       "      <td>56202</td>\n",
       "      <td>4.87</td>\n",
       "    </tr>\n",
       "    <tr>\n",
       "      <th>Image</th>\n",
       "      <td>56130</td>\n",
       "      <td>4.87</td>\n",
       "    </tr>\n",
       "    <tr>\n",
       "      <th>Others</th>\n",
       "      <td>0</td>\n",
       "      <td>0.00</td>\n",
       "    </tr>\n",
       "  </tbody>\n",
       "</table>\n",
       "</div>"
      ],
      "text/plain": [
       "               count  percent\n",
       "Nodes        1153679   100.00\n",
       "IRI           459886    39.86\n",
       "Blank Nodes   566276    49.08\n",
       "Literals      127517    11.05\n",
       "Numbers         8418     0.73\n",
       "Dates           6767     0.59\n",
       "Text           56202     4.87\n",
       "Image          56130     4.87\n",
       "Others             0     0.00"
      ]
     },
     "execution_count": 10,
     "metadata": {},
     "output_type": "execute_result"
    }
   ],
   "source": [
    "gc, df = grouped_count(dc)\n",
    "df"
   ]
  },
  {
   "cell_type": "code",
   "execution_count": 11,
   "metadata": {},
   "outputs": [
    {
     "data": {
      "text/html": [
       "<div>\n",
       "<style scoped>\n",
       "    .dataframe tbody tr th:only-of-type {\n",
       "        vertical-align: middle;\n",
       "    }\n",
       "\n",
       "    .dataframe tbody tr th {\n",
       "        vertical-align: top;\n",
       "    }\n",
       "\n",
       "    .dataframe thead th {\n",
       "        text-align: right;\n",
       "    }\n",
       "</style>\n",
       "<table border=\"1\" class=\"dataframe\">\n",
       "  <thead>\n",
       "    <tr style=\"text-align: right;\">\n",
       "      <th></th>\n",
       "      <th>count</th>\n",
       "      <th>percent</th>\n",
       "    </tr>\n",
       "  </thead>\n",
       "  <tbody>\n",
       "    <tr>\n",
       "      <th>iri</th>\n",
       "      <td>1464871</td>\n",
       "      <td>58.11</td>\n",
       "    </tr>\n",
       "    <tr>\n",
       "      <th>blank_node</th>\n",
       "      <td>256515</td>\n",
       "      <td>10.17</td>\n",
       "    </tr>\n",
       "    <tr>\n",
       "      <th>none</th>\n",
       "      <td>377542</td>\n",
       "      <td>14.98</td>\n",
       "    </tr>\n",
       "    <tr>\n",
       "      <th>http://kgbench.info/dt#base64Image</th>\n",
       "      <td>58855</td>\n",
       "      <td>2.33</td>\n",
       "    </tr>\n",
       "    <tr>\n",
       "      <th>http://www.w3.org/2001/XMLSchema#date</th>\n",
       "      <td>202304</td>\n",
       "      <td>8.02</td>\n",
       "    </tr>\n",
       "    <tr>\n",
       "      <th>http://www.w3.org/2001/XMLSchema#decimal</th>\n",
       "      <td>150342</td>\n",
       "      <td>5.96</td>\n",
       "    </tr>\n",
       "    <tr>\n",
       "      <th>http://www.w3.org/2001/XMLSchema#positiveInteger</th>\n",
       "      <td>10617</td>\n",
       "      <td>0.42</td>\n",
       "    </tr>\n",
       "  </tbody>\n",
       "</table>\n",
       "</div>"
      ],
      "text/plain": [
       "                                                    count  percent\n",
       "iri                                               1464871    58.11\n",
       "blank_node                                         256515    10.17\n",
       "none                                               377542    14.98\n",
       "http://kgbench.info/dt#base64Image                  58855     2.33\n",
       "http://www.w3.org/2001/XMLSchema#date              202304     8.02\n",
       "http://www.w3.org/2001/XMLSchema#decimal           150342     5.96\n",
       "http://www.w3.org/2001/XMLSchema#positiveInteger    10617     0.42"
      ]
     },
     "execution_count": 11,
     "metadata": {},
     "output_type": "execute_result"
    }
   ],
   "source": [
    "tc, df = count_all_triple_types(data)\n",
    "df"
   ]
  },
  {
   "cell_type": "code",
   "execution_count": 12,
   "metadata": {},
   "outputs": [
    {
     "data": {
      "text/html": [
       "<div>\n",
       "<style scoped>\n",
       "    .dataframe tbody tr th:only-of-type {\n",
       "        vertical-align: middle;\n",
       "    }\n",
       "\n",
       "    .dataframe tbody tr th {\n",
       "        vertical-align: top;\n",
       "    }\n",
       "\n",
       "    .dataframe thead th {\n",
       "        text-align: right;\n",
       "    }\n",
       "</style>\n",
       "<table border=\"1\" class=\"dataframe\">\n",
       "  <thead>\n",
       "    <tr style=\"text-align: right;\">\n",
       "      <th></th>\n",
       "      <th>count</th>\n",
       "      <th>percent</th>\n",
       "    </tr>\n",
       "  </thead>\n",
       "  <tbody>\n",
       "    <tr>\n",
       "      <th>Triples</th>\n",
       "      <td>2521046</td>\n",
       "      <td>100.00</td>\n",
       "    </tr>\n",
       "    <tr>\n",
       "      <th>IRI</th>\n",
       "      <td>1464871</td>\n",
       "      <td>58.11</td>\n",
       "    </tr>\n",
       "    <tr>\n",
       "      <th>Blank Nodes</th>\n",
       "      <td>256515</td>\n",
       "      <td>10.17</td>\n",
       "    </tr>\n",
       "    <tr>\n",
       "      <th>Literals</th>\n",
       "      <td>799660</td>\n",
       "      <td>31.72</td>\n",
       "    </tr>\n",
       "    <tr>\n",
       "      <th>Numbers</th>\n",
       "      <td>160959</td>\n",
       "      <td>6.38</td>\n",
       "    </tr>\n",
       "    <tr>\n",
       "      <th>Dates</th>\n",
       "      <td>202304</td>\n",
       "      <td>8.02</td>\n",
       "    </tr>\n",
       "    <tr>\n",
       "      <th>Text</th>\n",
       "      <td>377542</td>\n",
       "      <td>14.98</td>\n",
       "    </tr>\n",
       "    <tr>\n",
       "      <th>Image</th>\n",
       "      <td>58855</td>\n",
       "      <td>2.33</td>\n",
       "    </tr>\n",
       "    <tr>\n",
       "      <th>Others</th>\n",
       "      <td>0</td>\n",
       "      <td>0.00</td>\n",
       "    </tr>\n",
       "  </tbody>\n",
       "</table>\n",
       "</div>"
      ],
      "text/plain": [
       "               count  percent\n",
       "Triples      2521046   100.00\n",
       "IRI          1464871    58.11\n",
       "Blank Nodes   256515    10.17\n",
       "Literals      799660    31.72\n",
       "Numbers       160959     6.38\n",
       "Dates         202304     8.02\n",
       "Text          377542    14.98\n",
       "Image          58855     2.33\n",
       "Others             0     0.00"
      ]
     },
     "execution_count": 12,
     "metadata": {},
     "output_type": "execute_result"
    }
   ],
   "source": [
    "gtc,df = grouped_triple_count(tc)\n",
    "df"
   ]
  },
  {
   "cell_type": "code",
   "execution_count": 13,
   "metadata": {},
   "outputs": [
    {
     "data": {
      "image/png": "[encoded data removed]",
      "text/plain": [
       "<Figure size 640x480 with 1 Axes>"
      ]
     },
     "metadata": {},
     "output_type": "display_data"
    }
   ],
   "source": [
    "df['id'] = df.index\n",
    "sub_df = df[(df['count']>0) & (df['id'] != \"Triples\") & (df['id'] != \"Literals\")]\n",
    "plt.pie(sub_df['count'], labels=sub_df['id'])\n",
    "plt.show()"
   ]
  },
  {
   "cell_type": "code",
   "execution_count": 45,
   "metadata": {},
   "outputs": [
    {
     "data": {
      "text/plain": [
       "<BarContainer object of 8 artists>"
      ]
     },
     "execution_count": 45,
     "metadata": {},
     "output_type": "execute_result"
    },
    {
     "data": {
      "image/png": "[encoded data removed]",
      "text/plain": [
       "<Figure size 640x480 with 1 Axes>"
      ]
     },
     "metadata": {},
     "output_type": "display_data"
    }
   ],
   "source": [
    "classes, counts = get_class_distribution(data)\n",
    "plt.bar(x= classes, height= counts)"
   ]
  },
  {
   "cell_type": "code",
   "execution_count": 46,
   "metadata": {},
   "outputs": [
    {
     "name": "stdout",
     "output_type": "stream",
     "text": [
      "tensor(11729)\n",
      "tensor(33423)\n",
      "tensor(0.3509)\n"
     ]
    }
   ],
   "source": [
    "print(counts.max())\n",
    "print(counts.sum())\n",
    "print(counts.max()/counts.sum())"
   ]
  },
  {
   "attachments": {},
   "cell_type": "markdown",
   "metadata": {},
   "source": [
    "# dmgfull"
   ]
  },
  {
   "cell_type": "code",
   "execution_count": 36,
   "metadata": {},
   "outputs": [
    {
     "name": "stdout",
     "output_type": "stream",
     "text": [
      "# nodes\n",
      "842550\n",
      "datatypes\n",
      "['iri', 'none', '@en-gb', '@es', '@fy', '@nl', '@nl-nl', '@pt', '@ru', 'http://kgbench.info/dt#base64Image', 'http://www.opengis.net/ont/geosparql#wktLiteral', 'http://www.w3.org/2001/XMLSchema#anyURI', 'http://www.w3.org/2001/XMLSchema#boolean', 'http://www.w3.org/2001/XMLSchema#gYear', 'http://www.w3.org/2001/XMLSchema#nonNegativeInteger', 'http://www.w3.org/2001/XMLSchema#positiveInteger']\n"
     ]
    }
   ],
   "source": [
    "data = load_dataset('dmgfull')"
   ]
  },
  {
   "cell_type": "code",
   "execution_count": 16,
   "metadata": {},
   "outputs": [
    {
     "data": {
      "text/html": [
       "<div>\n",
       "<style scoped>\n",
       "    .dataframe tbody tr th:only-of-type {\n",
       "        vertical-align: middle;\n",
       "    }\n",
       "\n",
       "    .dataframe tbody tr th {\n",
       "        vertical-align: top;\n",
       "    }\n",
       "\n",
       "    .dataframe thead th {\n",
       "        text-align: right;\n",
       "    }\n",
       "</style>\n",
       "<table border=\"1\" class=\"dataframe\">\n",
       "  <thead>\n",
       "    <tr style=\"text-align: right;\">\n",
       "      <th></th>\n",
       "      <th>count</th>\n",
       "      <th>percent</th>\n",
       "    </tr>\n",
       "  </thead>\n",
       "  <tbody>\n",
       "    <tr>\n",
       "      <th>iri</th>\n",
       "      <td>262494</td>\n",
       "      <td>31.15</td>\n",
       "    </tr>\n",
       "    <tr>\n",
       "      <th>none</th>\n",
       "      <td>122267</td>\n",
       "      <td>14.51</td>\n",
       "    </tr>\n",
       "    <tr>\n",
       "      <th>@en-gb</th>\n",
       "      <td>1</td>\n",
       "      <td>0.00</td>\n",
       "    </tr>\n",
       "    <tr>\n",
       "      <th>@es</th>\n",
       "      <td>1</td>\n",
       "      <td>0.00</td>\n",
       "    </tr>\n",
       "    <tr>\n",
       "      <th>@fy</th>\n",
       "      <td>17</td>\n",
       "      <td>0.00</td>\n",
       "    </tr>\n",
       "    <tr>\n",
       "      <th>@nl</th>\n",
       "      <td>433</td>\n",
       "      <td>0.05</td>\n",
       "    </tr>\n",
       "    <tr>\n",
       "      <th>@nl-nl</th>\n",
       "      <td>94553</td>\n",
       "      <td>11.22</td>\n",
       "    </tr>\n",
       "    <tr>\n",
       "      <th>@pt</th>\n",
       "      <td>1</td>\n",
       "      <td>0.00</td>\n",
       "    </tr>\n",
       "    <tr>\n",
       "      <th>@ru</th>\n",
       "      <td>19</td>\n",
       "      <td>0.00</td>\n",
       "    </tr>\n",
       "    <tr>\n",
       "      <th>http://kgbench.info/dt#base64Image</th>\n",
       "      <td>58791</td>\n",
       "      <td>6.98</td>\n",
       "    </tr>\n",
       "    <tr>\n",
       "      <th>http://www.opengis.net/ont/geosparql#wktLiteral</th>\n",
       "      <td>116220</td>\n",
       "      <td>13.79</td>\n",
       "    </tr>\n",
       "    <tr>\n",
       "      <th>http://www.w3.org/2001/XMLSchema#anyURI</th>\n",
       "      <td>123104</td>\n",
       "      <td>14.61</td>\n",
       "    </tr>\n",
       "    <tr>\n",
       "      <th>http://www.w3.org/2001/XMLSchema#boolean</th>\n",
       "      <td>2</td>\n",
       "      <td>0.00</td>\n",
       "    </tr>\n",
       "    <tr>\n",
       "      <th>http://www.w3.org/2001/XMLSchema#gYear</th>\n",
       "      <td>463</td>\n",
       "      <td>0.05</td>\n",
       "    </tr>\n",
       "    <tr>\n",
       "      <th>http://www.w3.org/2001/XMLSchema#nonNegativeInteger</th>\n",
       "      <td>63565</td>\n",
       "      <td>7.54</td>\n",
       "    </tr>\n",
       "    <tr>\n",
       "      <th>http://www.w3.org/2001/XMLSchema#positiveInteger</th>\n",
       "      <td>619</td>\n",
       "      <td>0.07</td>\n",
       "    </tr>\n",
       "  </tbody>\n",
       "</table>\n",
       "</div>"
      ],
      "text/plain": [
       "                                                     count  percent\n",
       "iri                                                 262494    31.15\n",
       "none                                                122267    14.51\n",
       "@en-gb                                                   1     0.00\n",
       "@es                                                      1     0.00\n",
       "@fy                                                     17     0.00\n",
       "@nl                                                    433     0.05\n",
       "@nl-nl                                               94553    11.22\n",
       "@pt                                                      1     0.00\n",
       "@ru                                                     19     0.00\n",
       "http://kgbench.info/dt#base64Image                   58791     6.98\n",
       "http://www.opengis.net/ont/geosparql#wktLiteral     116220    13.79\n",
       "http://www.w3.org/2001/XMLSchema#anyURI             123104    14.61\n",
       "http://www.w3.org/2001/XMLSchema#boolean                 2     0.00\n",
       "http://www.w3.org/2001/XMLSchema#gYear                 463     0.05\n",
       "http://www.w3.org/2001/XMLSchema#nonNegativeInt...   63565     7.54\n",
       "http://www.w3.org/2001/XMLSchema#positiveInteger       619     0.07"
      ]
     },
     "execution_count": 16,
     "metadata": {},
     "output_type": "execute_result"
    }
   ],
   "source": [
    "dc, df = count_all_nodes(data)\n",
    "df"
   ]
  },
  {
   "cell_type": "code",
   "execution_count": 17,
   "metadata": {},
   "outputs": [
    {
     "data": {
      "text/html": [
       "<div>\n",
       "<style scoped>\n",
       "    .dataframe tbody tr th:only-of-type {\n",
       "        vertical-align: middle;\n",
       "    }\n",
       "\n",
       "    .dataframe tbody tr th {\n",
       "        vertical-align: top;\n",
       "    }\n",
       "\n",
       "    .dataframe thead th {\n",
       "        text-align: right;\n",
       "    }\n",
       "</style>\n",
       "<table border=\"1\" class=\"dataframe\">\n",
       "  <thead>\n",
       "    <tr style=\"text-align: right;\">\n",
       "      <th></th>\n",
       "      <th>count</th>\n",
       "      <th>percent</th>\n",
       "    </tr>\n",
       "  </thead>\n",
       "  <tbody>\n",
       "    <tr>\n",
       "      <th>Nodes</th>\n",
       "      <td>842550</td>\n",
       "      <td>100.00</td>\n",
       "    </tr>\n",
       "    <tr>\n",
       "      <th>IRI</th>\n",
       "      <td>262494</td>\n",
       "      <td>31.15</td>\n",
       "    </tr>\n",
       "    <tr>\n",
       "      <th>Blank Nodes</th>\n",
       "      <td>0</td>\n",
       "      <td>0.00</td>\n",
       "    </tr>\n",
       "    <tr>\n",
       "      <th>Literals</th>\n",
       "      <td>580056</td>\n",
       "      <td>68.85</td>\n",
       "    </tr>\n",
       "    <tr>\n",
       "      <th>Numbers</th>\n",
       "      <td>64647</td>\n",
       "      <td>7.67</td>\n",
       "    </tr>\n",
       "    <tr>\n",
       "      <th>Dates</th>\n",
       "      <td>0</td>\n",
       "      <td>0.00</td>\n",
       "    </tr>\n",
       "    <tr>\n",
       "      <th>Text</th>\n",
       "      <td>217291</td>\n",
       "      <td>25.79</td>\n",
       "    </tr>\n",
       "    <tr>\n",
       "      <th>Image</th>\n",
       "      <td>58791</td>\n",
       "      <td>6.98</td>\n",
       "    </tr>\n",
       "    <tr>\n",
       "      <th>Others</th>\n",
       "      <td>239327</td>\n",
       "      <td>28.41</td>\n",
       "    </tr>\n",
       "  </tbody>\n",
       "</table>\n",
       "</div>"
      ],
      "text/plain": [
       "              count  percent\n",
       "Nodes        842550   100.00\n",
       "IRI          262494    31.15\n",
       "Blank Nodes       0     0.00\n",
       "Literals     580056    68.85\n",
       "Numbers       64647     7.67\n",
       "Dates             0     0.00\n",
       "Text         217291    25.79\n",
       "Image         58791     6.98\n",
       "Others       239327    28.41"
      ]
     },
     "execution_count": 17,
     "metadata": {},
     "output_type": "execute_result"
    }
   ],
   "source": [
    "gc, df = grouped_count(dc)\n",
    "df"
   ]
  },
  {
   "cell_type": "code",
   "execution_count": 18,
   "metadata": {},
   "outputs": [
    {
     "data": {
      "text/html": [
       "<div>\n",
       "<style scoped>\n",
       "    .dataframe tbody tr th:only-of-type {\n",
       "        vertical-align: middle;\n",
       "    }\n",
       "\n",
       "    .dataframe tbody tr th {\n",
       "        vertical-align: top;\n",
       "    }\n",
       "\n",
       "    .dataframe thead th {\n",
       "        text-align: right;\n",
       "    }\n",
       "</style>\n",
       "<table border=\"1\" class=\"dataframe\">\n",
       "  <thead>\n",
       "    <tr style=\"text-align: right;\">\n",
       "      <th></th>\n",
       "      <th>count</th>\n",
       "      <th>percent</th>\n",
       "    </tr>\n",
       "  </thead>\n",
       "  <tbody>\n",
       "    <tr>\n",
       "      <th>iri</th>\n",
       "      <td>593291</td>\n",
       "      <td>32.06</td>\n",
       "    </tr>\n",
       "    <tr>\n",
       "      <th>none</th>\n",
       "      <td>588219</td>\n",
       "      <td>31.79</td>\n",
       "    </tr>\n",
       "    <tr>\n",
       "      <th>@en-gb</th>\n",
       "      <td>1</td>\n",
       "      <td>0.00</td>\n",
       "    </tr>\n",
       "    <tr>\n",
       "      <th>@es</th>\n",
       "      <td>1</td>\n",
       "      <td>0.00</td>\n",
       "    </tr>\n",
       "    <tr>\n",
       "      <th>@fy</th>\n",
       "      <td>17</td>\n",
       "      <td>0.00</td>\n",
       "    </tr>\n",
       "    <tr>\n",
       "      <th>@nl</th>\n",
       "      <td>434</td>\n",
       "      <td>0.02</td>\n",
       "    </tr>\n",
       "    <tr>\n",
       "      <th>@nl-nl</th>\n",
       "      <td>245553</td>\n",
       "      <td>13.27</td>\n",
       "    </tr>\n",
       "    <tr>\n",
       "      <th>@pt</th>\n",
       "      <td>1</td>\n",
       "      <td>0.00</td>\n",
       "    </tr>\n",
       "    <tr>\n",
       "      <th>@ru</th>\n",
       "      <td>19</td>\n",
       "      <td>0.00</td>\n",
       "    </tr>\n",
       "    <tr>\n",
       "      <th>http://kgbench.info/dt#base64Image</th>\n",
       "      <td>58846</td>\n",
       "      <td>3.18</td>\n",
       "    </tr>\n",
       "    <tr>\n",
       "      <th>http://www.opengis.net/ont/geosparql#wktLiteral</th>\n",
       "      <td>121217</td>\n",
       "      <td>6.55</td>\n",
       "    </tr>\n",
       "    <tr>\n",
       "      <th>http://www.w3.org/2001/XMLSchema#anyURI</th>\n",
       "      <td>145846</td>\n",
       "      <td>7.88</td>\n",
       "    </tr>\n",
       "    <tr>\n",
       "      <th>http://www.w3.org/2001/XMLSchema#boolean</th>\n",
       "      <td>8838</td>\n",
       "      <td>0.48</td>\n",
       "    </tr>\n",
       "    <tr>\n",
       "      <th>http://www.w3.org/2001/XMLSchema#gYear</th>\n",
       "      <td>23944</td>\n",
       "      <td>1.29</td>\n",
       "    </tr>\n",
       "    <tr>\n",
       "      <th>http://www.w3.org/2001/XMLSchema#nonNegativeInteger</th>\n",
       "      <td>63565</td>\n",
       "      <td>3.44</td>\n",
       "    </tr>\n",
       "    <tr>\n",
       "      <th>http://www.w3.org/2001/XMLSchema#positiveInteger</th>\n",
       "      <td>659</td>\n",
       "      <td>0.04</td>\n",
       "    </tr>\n",
       "  </tbody>\n",
       "</table>\n",
       "</div>"
      ],
      "text/plain": [
       "                                                     count  percent\n",
       "iri                                                 593291    32.06\n",
       "none                                                588219    31.79\n",
       "@en-gb                                                   1     0.00\n",
       "@es                                                      1     0.00\n",
       "@fy                                                     17     0.00\n",
       "@nl                                                    434     0.02\n",
       "@nl-nl                                              245553    13.27\n",
       "@pt                                                      1     0.00\n",
       "@ru                                                     19     0.00\n",
       "http://kgbench.info/dt#base64Image                   58846     3.18\n",
       "http://www.opengis.net/ont/geosparql#wktLiteral     121217     6.55\n",
       "http://www.w3.org/2001/XMLSchema#anyURI             145846     7.88\n",
       "http://www.w3.org/2001/XMLSchema#boolean              8838     0.48\n",
       "http://www.w3.org/2001/XMLSchema#gYear               23944     1.29\n",
       "http://www.w3.org/2001/XMLSchema#nonNegativeInt...   63565     3.44\n",
       "http://www.w3.org/2001/XMLSchema#positiveInteger       659     0.04"
      ]
     },
     "execution_count": 18,
     "metadata": {},
     "output_type": "execute_result"
    }
   ],
   "source": [
    "tc, df = count_all_triple_types(data)\n",
    "df"
   ]
  },
  {
   "cell_type": "code",
   "execution_count": 19,
   "metadata": {},
   "outputs": [
    {
     "data": {
      "text/html": [
       "<div>\n",
       "<style scoped>\n",
       "    .dataframe tbody tr th:only-of-type {\n",
       "        vertical-align: middle;\n",
       "    }\n",
       "\n",
       "    .dataframe tbody tr th {\n",
       "        vertical-align: top;\n",
       "    }\n",
       "\n",
       "    .dataframe thead th {\n",
       "        text-align: right;\n",
       "    }\n",
       "</style>\n",
       "<table border=\"1\" class=\"dataframe\">\n",
       "  <thead>\n",
       "    <tr style=\"text-align: right;\">\n",
       "      <th></th>\n",
       "      <th>count</th>\n",
       "      <th>percent</th>\n",
       "    </tr>\n",
       "  </thead>\n",
       "  <tbody>\n",
       "    <tr>\n",
       "      <th>Triples</th>\n",
       "      <td>1850451</td>\n",
       "      <td>100.00</td>\n",
       "    </tr>\n",
       "    <tr>\n",
       "      <th>IRI</th>\n",
       "      <td>593291</td>\n",
       "      <td>32.06</td>\n",
       "    </tr>\n",
       "    <tr>\n",
       "      <th>Blank Nodes</th>\n",
       "      <td>0</td>\n",
       "      <td>0.00</td>\n",
       "    </tr>\n",
       "    <tr>\n",
       "      <th>Literals</th>\n",
       "      <td>1257160</td>\n",
       "      <td>67.94</td>\n",
       "    </tr>\n",
       "    <tr>\n",
       "      <th>Numbers</th>\n",
       "      <td>88168</td>\n",
       "      <td>4.76</td>\n",
       "    </tr>\n",
       "    <tr>\n",
       "      <th>Dates</th>\n",
       "      <td>0</td>\n",
       "      <td>0.00</td>\n",
       "    </tr>\n",
       "    <tr>\n",
       "      <th>Text</th>\n",
       "      <td>834244</td>\n",
       "      <td>45.08</td>\n",
       "    </tr>\n",
       "    <tr>\n",
       "      <th>Image</th>\n",
       "      <td>58846</td>\n",
       "      <td>3.18</td>\n",
       "    </tr>\n",
       "    <tr>\n",
       "      <th>Others</th>\n",
       "      <td>275902</td>\n",
       "      <td>14.91</td>\n",
       "    </tr>\n",
       "  </tbody>\n",
       "</table>\n",
       "</div>"
      ],
      "text/plain": [
       "               count  percent\n",
       "Triples      1850451   100.00\n",
       "IRI           593291    32.06\n",
       "Blank Nodes        0     0.00\n",
       "Literals     1257160    67.94\n",
       "Numbers        88168     4.76\n",
       "Dates              0     0.00\n",
       "Text          834244    45.08\n",
       "Image          58846     3.18\n",
       "Others        275902    14.91"
      ]
     },
     "execution_count": 19,
     "metadata": {},
     "output_type": "execute_result"
    }
   ],
   "source": [
    "gtc,df = grouped_triple_count(tc)\n",
    "df"
   ]
  },
  {
   "cell_type": "code",
   "execution_count": 20,
   "metadata": {},
   "outputs": [
    {
     "data": {
      "image/png": "[encoded data removed]",
      "text/plain": [
       "<Figure size 640x480 with 1 Axes>"
      ]
     },
     "metadata": {},
     "output_type": "display_data"
    }
   ],
   "source": [
    "df['id'] = df.index\n",
    "sub_df = df[(df['count']>0) & (df['id'] != \"Triples\") & (df['id'] != \"Literals\")]\n",
    "plt.pie(sub_df['count'], labels=sub_df['id'])\n",
    "plt.show()"
   ]
  },
  {
   "cell_type": "code",
   "execution_count": 37,
   "metadata": {},
   "outputs": [
    {
     "data": {
      "text/plain": [
       "<BarContainer object of 14 artists>"
      ]
     },
     "execution_count": 37,
     "metadata": {},
     "output_type": "execute_result"
    },
    {
     "data": {
      "image/png": "[encoded data removed]",
      "text/plain": [
       "<Figure size 640x480 with 1 Axes>"
      ]
     },
     "metadata": {},
     "output_type": "display_data"
    }
   ],
   "source": [
    "classes, counts = get_class_distribution(data)\n",
    "plt.bar(x= classes, height= counts)"
   ]
  },
  {
   "cell_type": "code",
   "execution_count": 43,
   "metadata": {},
   "outputs": [
    {
     "name": "stdout",
     "output_type": "stream",
     "text": [
      "tensor(24813)\n",
      "tensor(43565)\n",
      "tensor(0.5696)\n"
     ]
    }
   ],
   "source": [
    "print(counts.max())\n",
    "print(counts.sum())\n",
    "print(counts.max()/counts.sum())"
   ]
  },
  {
   "attachments": {},
   "cell_type": "markdown",
   "metadata": {},
   "source": [
    "# dmg777k"
   ]
  },
  {
   "cell_type": "code",
   "execution_count": 47,
   "metadata": {},
   "outputs": [
    {
     "name": "stdout",
     "output_type": "stream",
     "text": [
      "# nodes\n",
      "341270\n",
      "datatypes\n",
      "['iri', 'none', '@es', '@fy', '@nl', '@nl-nl', '@pt', '@ru', 'http://kgbench.info/dt#base64Image', 'http://www.opengis.net/ont/geosparql#wktLiteral', 'http://www.w3.org/2001/XMLSchema#anyURI', 'http://www.w3.org/2001/XMLSchema#boolean', 'http://www.w3.org/2001/XMLSchema#gYear', 'http://www.w3.org/2001/XMLSchema#nonNegativeInteger', 'http://www.w3.org/2001/XMLSchema#positiveInteger']\n"
     ]
    }
   ],
   "source": [
    "data = load_dataset('dmg777k')"
   ]
  },
  {
   "cell_type": "code",
   "execution_count": 23,
   "metadata": {},
   "outputs": [
    {
     "data": {
      "text/html": [
       "<div>\n",
       "<style scoped>\n",
       "    .dataframe tbody tr th:only-of-type {\n",
       "        vertical-align: middle;\n",
       "    }\n",
       "\n",
       "    .dataframe tbody tr th {\n",
       "        vertical-align: top;\n",
       "    }\n",
       "\n",
       "    .dataframe thead th {\n",
       "        text-align: right;\n",
       "    }\n",
       "</style>\n",
       "<table border=\"1\" class=\"dataframe\">\n",
       "  <thead>\n",
       "    <tr style=\"text-align: right;\">\n",
       "      <th></th>\n",
       "      <th>count</th>\n",
       "      <th>percent</th>\n",
       "    </tr>\n",
       "  </thead>\n",
       "  <tbody>\n",
       "    <tr>\n",
       "      <th>iri</th>\n",
       "      <td>148127</td>\n",
       "      <td>43.40</td>\n",
       "    </tr>\n",
       "    <tr>\n",
       "      <th>none</th>\n",
       "      <td>27886</td>\n",
       "      <td>8.17</td>\n",
       "    </tr>\n",
       "    <tr>\n",
       "      <th>@es</th>\n",
       "      <td>1</td>\n",
       "      <td>0.00</td>\n",
       "    </tr>\n",
       "    <tr>\n",
       "      <th>@fy</th>\n",
       "      <td>11</td>\n",
       "      <td>0.00</td>\n",
       "    </tr>\n",
       "    <tr>\n",
       "      <th>@nl</th>\n",
       "      <td>397</td>\n",
       "      <td>0.12</td>\n",
       "    </tr>\n",
       "    <tr>\n",
       "      <th>@nl-nl</th>\n",
       "      <td>33721</td>\n",
       "      <td>9.88</td>\n",
       "    </tr>\n",
       "    <tr>\n",
       "      <th>@pt</th>\n",
       "      <td>1</td>\n",
       "      <td>0.00</td>\n",
       "    </tr>\n",
       "    <tr>\n",
       "      <th>@ru</th>\n",
       "      <td>14</td>\n",
       "      <td>0.00</td>\n",
       "    </tr>\n",
       "    <tr>\n",
       "      <th>http://kgbench.info/dt#base64Image</th>\n",
       "      <td>46061</td>\n",
       "      <td>13.50</td>\n",
       "    </tr>\n",
       "    <tr>\n",
       "      <th>http://www.opengis.net/ont/geosparql#wktLiteral</th>\n",
       "      <td>20837</td>\n",
       "      <td>6.11</td>\n",
       "    </tr>\n",
       "    <tr>\n",
       "      <th>http://www.w3.org/2001/XMLSchema#anyURI</th>\n",
       "      <td>55031</td>\n",
       "      <td>16.13</td>\n",
       "    </tr>\n",
       "    <tr>\n",
       "      <th>http://www.w3.org/2001/XMLSchema#boolean</th>\n",
       "      <td>2</td>\n",
       "      <td>0.00</td>\n",
       "    </tr>\n",
       "    <tr>\n",
       "      <th>http://www.w3.org/2001/XMLSchema#gYear</th>\n",
       "      <td>290</td>\n",
       "      <td>0.08</td>\n",
       "    </tr>\n",
       "    <tr>\n",
       "      <th>http://www.w3.org/2001/XMLSchema#nonNegativeInteger</th>\n",
       "      <td>8396</td>\n",
       "      <td>2.46</td>\n",
       "    </tr>\n",
       "    <tr>\n",
       "      <th>http://www.w3.org/2001/XMLSchema#positiveInteger</th>\n",
       "      <td>495</td>\n",
       "      <td>0.15</td>\n",
       "    </tr>\n",
       "  </tbody>\n",
       "</table>\n",
       "</div>"
      ],
      "text/plain": [
       "                                                     count  percent\n",
       "iri                                                 148127    43.40\n",
       "none                                                 27886     8.17\n",
       "@es                                                      1     0.00\n",
       "@fy                                                     11     0.00\n",
       "@nl                                                    397     0.12\n",
       "@nl-nl                                               33721     9.88\n",
       "@pt                                                      1     0.00\n",
       "@ru                                                     14     0.00\n",
       "http://kgbench.info/dt#base64Image                   46061    13.50\n",
       "http://www.opengis.net/ont/geosparql#wktLiteral      20837     6.11\n",
       "http://www.w3.org/2001/XMLSchema#anyURI              55031    16.13\n",
       "http://www.w3.org/2001/XMLSchema#boolean                 2     0.00\n",
       "http://www.w3.org/2001/XMLSchema#gYear                 290     0.08\n",
       "http://www.w3.org/2001/XMLSchema#nonNegativeInt...    8396     2.46\n",
       "http://www.w3.org/2001/XMLSchema#positiveInteger       495     0.15"
      ]
     },
     "execution_count": 23,
     "metadata": {},
     "output_type": "execute_result"
    }
   ],
   "source": [
    "dc, df = count_all_nodes(data)\n",
    "df"
   ]
  },
  {
   "cell_type": "code",
   "execution_count": 24,
   "metadata": {},
   "outputs": [
    {
     "data": {
      "text/html": [
       "<div>\n",
       "<style scoped>\n",
       "    .dataframe tbody tr th:only-of-type {\n",
       "        vertical-align: middle;\n",
       "    }\n",
       "\n",
       "    .dataframe tbody tr th {\n",
       "        vertical-align: top;\n",
       "    }\n",
       "\n",
       "    .dataframe thead th {\n",
       "        text-align: right;\n",
       "    }\n",
       "</style>\n",
       "<table border=\"1\" class=\"dataframe\">\n",
       "  <thead>\n",
       "    <tr style=\"text-align: right;\">\n",
       "      <th></th>\n",
       "      <th>count</th>\n",
       "      <th>percent</th>\n",
       "    </tr>\n",
       "  </thead>\n",
       "  <tbody>\n",
       "    <tr>\n",
       "      <th>Nodes</th>\n",
       "      <td>341270</td>\n",
       "      <td>100.00</td>\n",
       "    </tr>\n",
       "    <tr>\n",
       "      <th>IRI</th>\n",
       "      <td>148127</td>\n",
       "      <td>43.40</td>\n",
       "    </tr>\n",
       "    <tr>\n",
       "      <th>Blank Nodes</th>\n",
       "      <td>0</td>\n",
       "      <td>0.00</td>\n",
       "    </tr>\n",
       "    <tr>\n",
       "      <th>Literals</th>\n",
       "      <td>193143</td>\n",
       "      <td>56.60</td>\n",
       "    </tr>\n",
       "    <tr>\n",
       "      <th>Numbers</th>\n",
       "      <td>9181</td>\n",
       "      <td>2.69</td>\n",
       "    </tr>\n",
       "    <tr>\n",
       "      <th>Dates</th>\n",
       "      <td>0</td>\n",
       "      <td>0.00</td>\n",
       "    </tr>\n",
       "    <tr>\n",
       "      <th>Text</th>\n",
       "      <td>62031</td>\n",
       "      <td>18.18</td>\n",
       "    </tr>\n",
       "    <tr>\n",
       "      <th>Image</th>\n",
       "      <td>46061</td>\n",
       "      <td>13.50</td>\n",
       "    </tr>\n",
       "    <tr>\n",
       "      <th>Others</th>\n",
       "      <td>75870</td>\n",
       "      <td>22.23</td>\n",
       "    </tr>\n",
       "  </tbody>\n",
       "</table>\n",
       "</div>"
      ],
      "text/plain": [
       "              count  percent\n",
       "Nodes        341270   100.00\n",
       "IRI          148127    43.40\n",
       "Blank Nodes       0     0.00\n",
       "Literals     193143    56.60\n",
       "Numbers        9181     2.69\n",
       "Dates             0     0.00\n",
       "Text          62031    18.18\n",
       "Image         46061    13.50\n",
       "Others        75870    22.23"
      ]
     },
     "execution_count": 24,
     "metadata": {},
     "output_type": "execute_result"
    }
   ],
   "source": [
    "gc, df = grouped_count(dc)\n",
    "df"
   ]
  },
  {
   "cell_type": "code",
   "execution_count": 25,
   "metadata": {},
   "outputs": [
    {
     "data": {
      "text/html": [
       "<div>\n",
       "<style scoped>\n",
       "    .dataframe tbody tr th:only-of-type {\n",
       "        vertical-align: middle;\n",
       "    }\n",
       "\n",
       "    .dataframe tbody tr th {\n",
       "        vertical-align: top;\n",
       "    }\n",
       "\n",
       "    .dataframe thead th {\n",
       "        text-align: right;\n",
       "    }\n",
       "</style>\n",
       "<table border=\"1\" class=\"dataframe\">\n",
       "  <thead>\n",
       "    <tr style=\"text-align: right;\">\n",
       "      <th></th>\n",
       "      <th>count</th>\n",
       "      <th>percent</th>\n",
       "    </tr>\n",
       "  </thead>\n",
       "  <tbody>\n",
       "    <tr>\n",
       "      <th>iri</th>\n",
       "      <td>288379</td>\n",
       "      <td>37.11</td>\n",
       "    </tr>\n",
       "    <tr>\n",
       "      <th>none</th>\n",
       "      <td>190271</td>\n",
       "      <td>24.48</td>\n",
       "    </tr>\n",
       "    <tr>\n",
       "      <th>@es</th>\n",
       "      <td>1</td>\n",
       "      <td>0.00</td>\n",
       "    </tr>\n",
       "    <tr>\n",
       "      <th>@fy</th>\n",
       "      <td>11</td>\n",
       "      <td>0.00</td>\n",
       "    </tr>\n",
       "    <tr>\n",
       "      <th>@nl</th>\n",
       "      <td>398</td>\n",
       "      <td>0.05</td>\n",
       "    </tr>\n",
       "    <tr>\n",
       "      <th>@nl-nl</th>\n",
       "      <td>139291</td>\n",
       "      <td>17.92</td>\n",
       "    </tr>\n",
       "    <tr>\n",
       "      <th>@pt</th>\n",
       "      <td>1</td>\n",
       "      <td>0.00</td>\n",
       "    </tr>\n",
       "    <tr>\n",
       "      <th>@ru</th>\n",
       "      <td>14</td>\n",
       "      <td>0.00</td>\n",
       "    </tr>\n",
       "    <tr>\n",
       "      <th>http://kgbench.info/dt#base64Image</th>\n",
       "      <td>46108</td>\n",
       "      <td>5.93</td>\n",
       "    </tr>\n",
       "    <tr>\n",
       "      <th>http://www.opengis.net/ont/geosparql#wktLiteral</th>\n",
       "      <td>20866</td>\n",
       "      <td>2.69</td>\n",
       "    </tr>\n",
       "    <tr>\n",
       "      <th>http://www.w3.org/2001/XMLSchema#anyURI</th>\n",
       "      <td>72779</td>\n",
       "      <td>9.37</td>\n",
       "    </tr>\n",
       "    <tr>\n",
       "      <th>http://www.w3.org/2001/XMLSchema#boolean</th>\n",
       "      <td>8299</td>\n",
       "      <td>1.07</td>\n",
       "    </tr>\n",
       "    <tr>\n",
       "      <th>http://www.w3.org/2001/XMLSchema#gYear</th>\n",
       "      <td>1800</td>\n",
       "      <td>0.23</td>\n",
       "    </tr>\n",
       "    <tr>\n",
       "      <th>http://www.w3.org/2001/XMLSchema#nonNegativeInteger</th>\n",
       "      <td>8396</td>\n",
       "      <td>1.08</td>\n",
       "    </tr>\n",
       "    <tr>\n",
       "      <th>http://www.w3.org/2001/XMLSchema#positiveInteger</th>\n",
       "      <td>510</td>\n",
       "      <td>0.07</td>\n",
       "    </tr>\n",
       "  </tbody>\n",
       "</table>\n",
       "</div>"
      ],
      "text/plain": [
       "                                                     count  percent\n",
       "iri                                                 288379    37.11\n",
       "none                                                190271    24.48\n",
       "@es                                                      1     0.00\n",
       "@fy                                                     11     0.00\n",
       "@nl                                                    398     0.05\n",
       "@nl-nl                                              139291    17.92\n",
       "@pt                                                      1     0.00\n",
       "@ru                                                     14     0.00\n",
       "http://kgbench.info/dt#base64Image                   46108     5.93\n",
       "http://www.opengis.net/ont/geosparql#wktLiteral      20866     2.69\n",
       "http://www.w3.org/2001/XMLSchema#anyURI              72779     9.37\n",
       "http://www.w3.org/2001/XMLSchema#boolean              8299     1.07\n",
       "http://www.w3.org/2001/XMLSchema#gYear                1800     0.23\n",
       "http://www.w3.org/2001/XMLSchema#nonNegativeInt...    8396     1.08\n",
       "http://www.w3.org/2001/XMLSchema#positiveInteger       510     0.07"
      ]
     },
     "execution_count": 25,
     "metadata": {},
     "output_type": "execute_result"
    }
   ],
   "source": [
    "tc, df = count_all_triple_types(data)\n",
    "df"
   ]
  },
  {
   "cell_type": "code",
   "execution_count": 26,
   "metadata": {},
   "outputs": [
    {
     "data": {
      "text/html": [
       "<div>\n",
       "<style scoped>\n",
       "    .dataframe tbody tr th:only-of-type {\n",
       "        vertical-align: middle;\n",
       "    }\n",
       "\n",
       "    .dataframe tbody tr th {\n",
       "        vertical-align: top;\n",
       "    }\n",
       "\n",
       "    .dataframe thead th {\n",
       "        text-align: right;\n",
       "    }\n",
       "</style>\n",
       "<table border=\"1\" class=\"dataframe\">\n",
       "  <thead>\n",
       "    <tr style=\"text-align: right;\">\n",
       "      <th></th>\n",
       "      <th>count</th>\n",
       "      <th>percent</th>\n",
       "    </tr>\n",
       "  </thead>\n",
       "  <tbody>\n",
       "    <tr>\n",
       "      <th>Triples</th>\n",
       "      <td>777124</td>\n",
       "      <td>100.00</td>\n",
       "    </tr>\n",
       "    <tr>\n",
       "      <th>IRI</th>\n",
       "      <td>288379</td>\n",
       "      <td>37.11</td>\n",
       "    </tr>\n",
       "    <tr>\n",
       "      <th>Blank Nodes</th>\n",
       "      <td>0</td>\n",
       "      <td>0.00</td>\n",
       "    </tr>\n",
       "    <tr>\n",
       "      <th>Literals</th>\n",
       "      <td>488745</td>\n",
       "      <td>62.89</td>\n",
       "    </tr>\n",
       "    <tr>\n",
       "      <th>Numbers</th>\n",
       "      <td>10706</td>\n",
       "      <td>1.38</td>\n",
       "    </tr>\n",
       "    <tr>\n",
       "      <th>Dates</th>\n",
       "      <td>0</td>\n",
       "      <td>0.00</td>\n",
       "    </tr>\n",
       "    <tr>\n",
       "      <th>Text</th>\n",
       "      <td>329987</td>\n",
       "      <td>42.46</td>\n",
       "    </tr>\n",
       "    <tr>\n",
       "      <th>Image</th>\n",
       "      <td>46108</td>\n",
       "      <td>5.93</td>\n",
       "    </tr>\n",
       "    <tr>\n",
       "      <th>Others</th>\n",
       "      <td>101944</td>\n",
       "      <td>13.12</td>\n",
       "    </tr>\n",
       "  </tbody>\n",
       "</table>\n",
       "</div>"
      ],
      "text/plain": [
       "              count  percent\n",
       "Triples      777124   100.00\n",
       "IRI          288379    37.11\n",
       "Blank Nodes       0     0.00\n",
       "Literals     488745    62.89\n",
       "Numbers       10706     1.38\n",
       "Dates             0     0.00\n",
       "Text         329987    42.46\n",
       "Image         46108     5.93\n",
       "Others       101944    13.12"
      ]
     },
     "execution_count": 26,
     "metadata": {},
     "output_type": "execute_result"
    }
   ],
   "source": [
    "gtc,df = grouped_triple_count(tc)\n",
    "df"
   ]
  },
  {
   "cell_type": "code",
   "execution_count": 27,
   "metadata": {},
   "outputs": [
    {
     "data": {
      "image/png": "[encoded data removed]",
      "text/plain": [
       "<Figure size 640x480 with 1 Axes>"
      ]
     },
     "metadata": {},
     "output_type": "display_data"
    }
   ],
   "source": [
    "df['id'] = df.index\n",
    "sub_df = df[(df['count']>0) & (df['id'] != \"Triples\") & (df['id'] != \"Literals\")]\n",
    "plt.pie(sub_df['count'], labels=sub_df['id'])\n",
    "plt.show()"
   ]
  },
  {
   "cell_type": "code",
   "execution_count": 48,
   "metadata": {},
   "outputs": [
    {
     "data": {
      "text/plain": [
       "<BarContainer object of 5 artists>"
      ]
     },
     "execution_count": 48,
     "metadata": {},
     "output_type": "execute_result"
    },
    {
     "data": {
      "image/png": "[encoded data removed]",
      "text/plain": [
       "<Figure size 640x480 with 1 Axes>"
      ]
     },
     "metadata": {},
     "output_type": "display_data"
    }
   ],
   "source": [
    "classes, counts = get_class_distribution(data)\n",
    "plt.bar(x= classes, height= counts)"
   ]
  },
  {
   "cell_type": "code",
   "execution_count": 49,
   "metadata": {},
   "outputs": [
    {
     "name": "stdout",
     "output_type": "stream",
     "text": [
      "tensor(3534)\n",
      "tensor(7395)\n",
      "tensor(0.4779)\n"
     ]
    }
   ],
   "source": [
    "print(counts.max())\n",
    "print(counts.sum())\n",
    "print(counts.max()/counts.sum())"
   ]
  },
  {
   "attachments": {},
   "cell_type": "markdown",
   "metadata": {},
   "source": [
    "# mdgenre"
   ]
  },
  {
   "cell_type": "code",
   "execution_count": 50,
   "metadata": {},
   "outputs": [
    {
     "name": "stdout",
     "output_type": "stream",
     "text": [
      "# nodes\n",
      "349344\n",
      "datatypes\n",
      "['iri', 'http://kgbench.info/dt#base64Image', 'http://www.w3.org/1999/02/22-rdf-syntax-ns#langString', 'http://www.w3.org/2001/XMLSchema#dateTime', 'http://www.w3.org/2001/XMLSchema#decimal', 'http://www.w3.org/2001/XMLSchema#string']\n"
     ]
    }
   ],
   "source": [
    "data = load_dataset('mdgenre')"
   ]
  },
  {
   "cell_type": "code",
   "execution_count": 30,
   "metadata": {},
   "outputs": [
    {
     "data": {
      "text/html": [
       "<div>\n",
       "<style scoped>\n",
       "    .dataframe tbody tr th:only-of-type {\n",
       "        vertical-align: middle;\n",
       "    }\n",
       "\n",
       "    .dataframe tbody tr th {\n",
       "        vertical-align: top;\n",
       "    }\n",
       "\n",
       "    .dataframe thead th {\n",
       "        text-align: right;\n",
       "    }\n",
       "</style>\n",
       "<table border=\"1\" class=\"dataframe\">\n",
       "  <thead>\n",
       "    <tr style=\"text-align: right;\">\n",
       "      <th></th>\n",
       "      <th>count</th>\n",
       "      <th>percent</th>\n",
       "    </tr>\n",
       "  </thead>\n",
       "  <tbody>\n",
       "    <tr>\n",
       "      <th>iri</th>\n",
       "      <td>191135</td>\n",
       "      <td>54.71</td>\n",
       "    </tr>\n",
       "    <tr>\n",
       "      <th>http://kgbench.info/dt#base64Image</th>\n",
       "      <td>67528</td>\n",
       "      <td>19.33</td>\n",
       "    </tr>\n",
       "    <tr>\n",
       "      <th>http://www.w3.org/1999/02/22-rdf-syntax-ns#langString</th>\n",
       "      <td>26367</td>\n",
       "      <td>7.55</td>\n",
       "    </tr>\n",
       "    <tr>\n",
       "      <th>http://www.w3.org/2001/XMLSchema#dateTime</th>\n",
       "      <td>37442</td>\n",
       "      <td>10.72</td>\n",
       "    </tr>\n",
       "    <tr>\n",
       "      <th>http://www.w3.org/2001/XMLSchema#decimal</th>\n",
       "      <td>1387</td>\n",
       "      <td>0.40</td>\n",
       "    </tr>\n",
       "    <tr>\n",
       "      <th>http://www.w3.org/2001/XMLSchema#string</th>\n",
       "      <td>25485</td>\n",
       "      <td>7.30</td>\n",
       "    </tr>\n",
       "  </tbody>\n",
       "</table>\n",
       "</div>"
      ],
      "text/plain": [
       "                                                     count  percent\n",
       "iri                                                 191135    54.71\n",
       "http://kgbench.info/dt#base64Image                   67528    19.33\n",
       "http://www.w3.org/1999/02/22-rdf-syntax-ns#lang...   26367     7.55\n",
       "http://www.w3.org/2001/XMLSchema#dateTime            37442    10.72\n",
       "http://www.w3.org/2001/XMLSchema#decimal              1387     0.40\n",
       "http://www.w3.org/2001/XMLSchema#string              25485     7.30"
      ]
     },
     "execution_count": 30,
     "metadata": {},
     "output_type": "execute_result"
    }
   ],
   "source": [
    "dc, df = count_all_nodes(data)\n",
    "df"
   ]
  },
  {
   "cell_type": "code",
   "execution_count": 31,
   "metadata": {},
   "outputs": [
    {
     "data": {
      "text/html": [
       "<div>\n",
       "<style scoped>\n",
       "    .dataframe tbody tr th:only-of-type {\n",
       "        vertical-align: middle;\n",
       "    }\n",
       "\n",
       "    .dataframe tbody tr th {\n",
       "        vertical-align: top;\n",
       "    }\n",
       "\n",
       "    .dataframe thead th {\n",
       "        text-align: right;\n",
       "    }\n",
       "</style>\n",
       "<table border=\"1\" class=\"dataframe\">\n",
       "  <thead>\n",
       "    <tr style=\"text-align: right;\">\n",
       "      <th></th>\n",
       "      <th>count</th>\n",
       "      <th>percent</th>\n",
       "    </tr>\n",
       "  </thead>\n",
       "  <tbody>\n",
       "    <tr>\n",
       "      <th>Nodes</th>\n",
       "      <td>349344</td>\n",
       "      <td>100.00</td>\n",
       "    </tr>\n",
       "    <tr>\n",
       "      <th>IRI</th>\n",
       "      <td>191135</td>\n",
       "      <td>54.71</td>\n",
       "    </tr>\n",
       "    <tr>\n",
       "      <th>Blank Nodes</th>\n",
       "      <td>0</td>\n",
       "      <td>0.00</td>\n",
       "    </tr>\n",
       "    <tr>\n",
       "      <th>Literals</th>\n",
       "      <td>158209</td>\n",
       "      <td>45.29</td>\n",
       "    </tr>\n",
       "    <tr>\n",
       "      <th>Numbers</th>\n",
       "      <td>1387</td>\n",
       "      <td>0.40</td>\n",
       "    </tr>\n",
       "    <tr>\n",
       "      <th>Dates</th>\n",
       "      <td>37442</td>\n",
       "      <td>10.72</td>\n",
       "    </tr>\n",
       "    <tr>\n",
       "      <th>Text</th>\n",
       "      <td>51852</td>\n",
       "      <td>14.84</td>\n",
       "    </tr>\n",
       "    <tr>\n",
       "      <th>Image</th>\n",
       "      <td>67528</td>\n",
       "      <td>19.33</td>\n",
       "    </tr>\n",
       "    <tr>\n",
       "      <th>Others</th>\n",
       "      <td>0</td>\n",
       "      <td>0.00</td>\n",
       "    </tr>\n",
       "  </tbody>\n",
       "</table>\n",
       "</div>"
      ],
      "text/plain": [
       "              count  percent\n",
       "Nodes        349344   100.00\n",
       "IRI          191135    54.71\n",
       "Blank Nodes       0     0.00\n",
       "Literals     158209    45.29\n",
       "Numbers        1387     0.40\n",
       "Dates         37442    10.72\n",
       "Text          51852    14.84\n",
       "Image         67528    19.33\n",
       "Others            0     0.00"
      ]
     },
     "execution_count": 31,
     "metadata": {},
     "output_type": "execute_result"
    }
   ],
   "source": [
    "gc, df = grouped_count(dc)\n",
    "df"
   ]
  },
  {
   "cell_type": "code",
   "execution_count": 32,
   "metadata": {},
   "outputs": [
    {
     "data": {
      "text/html": [
       "<div>\n",
       "<style scoped>\n",
       "    .dataframe tbody tr th:only-of-type {\n",
       "        vertical-align: middle;\n",
       "    }\n",
       "\n",
       "    .dataframe tbody tr th {\n",
       "        vertical-align: top;\n",
       "    }\n",
       "\n",
       "    .dataframe thead th {\n",
       "        text-align: right;\n",
       "    }\n",
       "</style>\n",
       "<table border=\"1\" class=\"dataframe\">\n",
       "  <thead>\n",
       "    <tr style=\"text-align: right;\">\n",
       "      <th></th>\n",
       "      <th>count</th>\n",
       "      <th>percent</th>\n",
       "    </tr>\n",
       "  </thead>\n",
       "  <tbody>\n",
       "    <tr>\n",
       "      <th>iri</th>\n",
       "      <td>1001791</td>\n",
       "      <td>80.00</td>\n",
       "    </tr>\n",
       "    <tr>\n",
       "      <th>http://kgbench.info/dt#base64Image</th>\n",
       "      <td>67804</td>\n",
       "      <td>5.41</td>\n",
       "    </tr>\n",
       "    <tr>\n",
       "      <th>http://www.w3.org/1999/02/22-rdf-syntax-ns#langString</th>\n",
       "      <td>26950</td>\n",
       "      <td>2.15</td>\n",
       "    </tr>\n",
       "    <tr>\n",
       "      <th>http://www.w3.org/2001/XMLSchema#dateTime</th>\n",
       "      <td>113462</td>\n",
       "      <td>9.06</td>\n",
       "    </tr>\n",
       "    <tr>\n",
       "      <th>http://www.w3.org/2001/XMLSchema#decimal</th>\n",
       "      <td>14352</td>\n",
       "      <td>1.15</td>\n",
       "    </tr>\n",
       "    <tr>\n",
       "      <th>http://www.w3.org/2001/XMLSchema#string</th>\n",
       "      <td>27888</td>\n",
       "      <td>2.23</td>\n",
       "    </tr>\n",
       "  </tbody>\n",
       "</table>\n",
       "</div>"
      ],
      "text/plain": [
       "                                                      count  percent\n",
       "iri                                                 1001791    80.00\n",
       "http://kgbench.info/dt#base64Image                    67804     5.41\n",
       "http://www.w3.org/1999/02/22-rdf-syntax-ns#lang...    26950     2.15\n",
       "http://www.w3.org/2001/XMLSchema#dateTime            113462     9.06\n",
       "http://www.w3.org/2001/XMLSchema#decimal              14352     1.15\n",
       "http://www.w3.org/2001/XMLSchema#string               27888     2.23"
      ]
     },
     "execution_count": 32,
     "metadata": {},
     "output_type": "execute_result"
    }
   ],
   "source": [
    "tc, df = count_all_triple_types(data)\n",
    "df"
   ]
  },
  {
   "cell_type": "code",
   "execution_count": 33,
   "metadata": {},
   "outputs": [
    {
     "data": {
      "text/html": [
       "<div>\n",
       "<style scoped>\n",
       "    .dataframe tbody tr th:only-of-type {\n",
       "        vertical-align: middle;\n",
       "    }\n",
       "\n",
       "    .dataframe tbody tr th {\n",
       "        vertical-align: top;\n",
       "    }\n",
       "\n",
       "    .dataframe thead th {\n",
       "        text-align: right;\n",
       "    }\n",
       "</style>\n",
       "<table border=\"1\" class=\"dataframe\">\n",
       "  <thead>\n",
       "    <tr style=\"text-align: right;\">\n",
       "      <th></th>\n",
       "      <th>count</th>\n",
       "      <th>percent</th>\n",
       "    </tr>\n",
       "  </thead>\n",
       "  <tbody>\n",
       "    <tr>\n",
       "      <th>Triples</th>\n",
       "      <td>1252247</td>\n",
       "      <td>100.00</td>\n",
       "    </tr>\n",
       "    <tr>\n",
       "      <th>IRI</th>\n",
       "      <td>1001791</td>\n",
       "      <td>80.00</td>\n",
       "    </tr>\n",
       "    <tr>\n",
       "      <th>Blank Nodes</th>\n",
       "      <td>0</td>\n",
       "      <td>0.00</td>\n",
       "    </tr>\n",
       "    <tr>\n",
       "      <th>Literals</th>\n",
       "      <td>250456</td>\n",
       "      <td>20.00</td>\n",
       "    </tr>\n",
       "    <tr>\n",
       "      <th>Numbers</th>\n",
       "      <td>14352</td>\n",
       "      <td>1.15</td>\n",
       "    </tr>\n",
       "    <tr>\n",
       "      <th>Dates</th>\n",
       "      <td>113462</td>\n",
       "      <td>9.06</td>\n",
       "    </tr>\n",
       "    <tr>\n",
       "      <th>Text</th>\n",
       "      <td>54838</td>\n",
       "      <td>4.38</td>\n",
       "    </tr>\n",
       "    <tr>\n",
       "      <th>Image</th>\n",
       "      <td>67804</td>\n",
       "      <td>5.41</td>\n",
       "    </tr>\n",
       "    <tr>\n",
       "      <th>Others</th>\n",
       "      <td>0</td>\n",
       "      <td>0.00</td>\n",
       "    </tr>\n",
       "  </tbody>\n",
       "</table>\n",
       "</div>"
      ],
      "text/plain": [
       "               count  percent\n",
       "Triples      1252247   100.00\n",
       "IRI          1001791    80.00\n",
       "Blank Nodes        0     0.00\n",
       "Literals      250456    20.00\n",
       "Numbers        14352     1.15\n",
       "Dates         113462     9.06\n",
       "Text           54838     4.38\n",
       "Image          67804     5.41\n",
       "Others             0     0.00"
      ]
     },
     "execution_count": 33,
     "metadata": {},
     "output_type": "execute_result"
    }
   ],
   "source": [
    "gtc,df = grouped_triple_count(tc)\n",
    "df"
   ]
  },
  {
   "cell_type": "code",
   "execution_count": 34,
   "metadata": {},
   "outputs": [
    {
     "data": {
      "image/png": "[encoded data removed]",
      "text/plain": [
       "<Figure size 640x480 with 1 Axes>"
      ]
     },
     "metadata": {},
     "output_type": "display_data"
    }
   ],
   "source": [
    "df['id'] = df.index\n",
    "sub_df = df[(df['count']>0) & (df['id'] != \"Triples\") & (df['id'] != \"Literals\")]\n",
    "plt.pie(sub_df['count'], labels=sub_df['id'])\n",
    "plt.show()"
   ]
  },
  {
   "cell_type": "code",
   "execution_count": 51,
   "metadata": {},
   "outputs": [
    {
     "data": {
      "text/plain": [
       "<BarContainer object of 12 artists>"
      ]
     },
     "execution_count": 51,
     "metadata": {},
     "output_type": "execute_result"
    },
    {
     "data": {
      "image/png": "[encoded data removed]",
      "text/plain": [
       "<Figure size 640x480 with 1 Axes>"
      ]
     },
     "metadata": {},
     "output_type": "display_data"
    }
   ],
   "source": [
    "classes, counts = get_class_distribution(data)\n",
    "plt.bar(x= classes, height= counts)"
   ]
  },
  {
   "cell_type": "code",
   "execution_count": 60,
   "metadata": {},
   "outputs": [
    {
     "name": "stdout",
     "output_type": "stream",
     "text": [
      "tensor(4323)\n",
      "tensor(7863)\n",
      "tensor(0.5498)\n"
     ]
    },
    {
     "data": {
      "text/plain": [
       "tensor(198)"
      ]
     },
     "execution_count": 60,
     "metadata": {},
     "output_type": "execute_result"
    }
   ],
   "source": [
    "print(counts.max())\n",
    "print(counts.sum())\n",
    "print(counts.max()/counts.sum())\n",
    "counts.median()"
   ]
  },
  {
   "cell_type": "code",
   "execution_count": 62,
   "metadata": {},
   "outputs": [
    {
     "data": {
      "text/plain": [
       "tensor([ 1.0174,  1.2082, 54.9790,  1.0174,  8.7371,  2.5436,  8.3810,  1.3481,\n",
       "         2.6199,  1.2209,  2.5181, 14.4093])"
      ]
     },
     "execution_count": 62,
     "metadata": {},
     "output_type": "execute_result"
    }
   ],
   "source": [
    "counts/counts.sum()*100"
   ]
  },
  {
   "cell_type": "code",
   "execution_count": 26,
   "metadata": {},
   "outputs": [
    {
     "data": {
      "text/plain": [
       "tensor([284196,      3])"
      ]
     },
     "execution_count": 26,
     "metadata": {},
     "output_type": "execute_result"
    }
   ],
   "source": [
    "data.withheld[163     ]"
   ]
  },
  {
   "cell_type": "code",
   "execution_count": 7,
   "metadata": {},
   "outputs": [
    {
     "data": {
      "text/plain": [
       "('https://data.labs.pdok.nl/rce/id/monument/38859', 'iri')"
      ]
     },
     "execution_count": 7,
     "metadata": {},
     "output_type": "execute_result"
    }
   ],
   "source": [
    "data.i2e[283258]"
   ]
  },
  {
   "cell_type": "code",
   "execution_count": 23,
   "metadata": {},
   "outputs": [
    {
     "name": "stdout",
     "output_type": "stream",
     "text": [
      "('https://data.labs.pdok.nl/rce/id/monument/38859', 'iri') - http://dbpedia.org/ontology/city - ('http://sws.geonames.org/2744631/', 'iri')\n",
      "('https://data.labs.pdok.nl/rce/id/monument/38859', 'iri') - http://dbpedia.org/ontology/codeNationalMonument - ('38859', 'http://www.w3.org/2001/XMLSchema#nonNegativeInteger')\n",
      "('https://data.labs.pdok.nl/rce/id/monument/38859', 'iri') - http://dbpedia.org/ontology/name - ('Mariënhof', 'none')\n",
      "('https://data.labs.pdok.nl/rce/id/monument/38859', 'iri') - http://purl.org/dc/terms/description - ('BOERDERIJ \"Marienhof\". Beschermd wordt alleen het 17e eeuwse gedeelte, bestaande uit een rechthoekig woonhuis zonder verdieping staande uit een rechthoekig woonhuis zonder verdieping onder een rieten schilddak en een hierachter gelegen grote bakstenen stal onder rieten zadeldak. In het woonhuis vensters met geblokte ontlastingsbogen en houten kruiskozijnen met luiken. Schouw XVII.', '@nl-nl')\n",
      "('https://data.labs.pdok.nl/rce/id/monument/38859', 'iri') - http://schema.org/dateCreated - ('1853', 'none')\n",
      "('https://data.labs.pdok.nl/rce/id/monument/38859', 'iri') - http://www.opengis.net/ont/geosparql#hasGeometry - ('http://bag.basisregistraties.overheid.nl/bag/id/geometry/2ED37F494BE45D20CE6D948197C54907', 'iri')\n",
      "('https://data.labs.pdok.nl/rce/id/monument/38859', 'iri') - http://www.opengis.net/ont/geosparql#hasGeometry - ('http://bag.basisregistraties.overheid.nl/bag/id/geometry/3A3820F7984E9F5E78C6955284849A00', 'iri')\n",
      "('https://data.labs.pdok.nl/rce/id/monument/38859', 'iri') - http://www.opengis.net/ont/geosparql#hasGeometry - ('https://data.labs.pdok.nl/.well-known/genid/7740d1d8-395c-11e8-82ad-54e1adc08017', 'iri')\n",
      "('https://data.labs.pdok.nl/rce/id/monument/38859', 'iri') - http://www.opengis.net/ont/geosparql#sfWithin - ('https://data.labs.pdok.nl/cbs/id/gemeente/GM0585', 'iri')\n",
      "('https://data.labs.pdok.nl/rce/id/monument/38859', 'iri') - http://www.w3.org/2000/01/rdf-schema#seeAlso - ('https://data.labs.pdok.nl/rce/id/monument/38859', 'http://www.w3.org/2001/XMLSchema#anyURI')\n",
      "('https://data.labs.pdok.nl/rce/id/monument/38859', 'iri') - http://www.w3.org/2006/vcard/ns#hasStreetAddress - ('Smidsweg', 'none')\n",
      "('https://data.labs.pdok.nl/rce/id/monument/38859', 'iri') - http://www.w3.org/2006/vcard/ns#postal-code - ('3273 LK', 'none')\n",
      "('https://data.labs.pdok.nl/rce/id/monument/38859', 'iri') - http://www.w3.org/2006/vcard/ns#street-address - ('Smidsweg 18 te Westmaas', 'none')\n",
      "('https://data.labs.pdok.nl/rce/id/monument/38859', 'iri') - http://xmlns.com/foaf/0.1/depiction - ('https://data.labs.pdok.nl/rce/id/image/20440910', 'iri')\n",
      "('https://data.labs.pdok.nl/rce/id/monument/38859', 'iri') - http://xmlns.com/foaf/0.1/depiction - ('https://data.labs.pdok.nl/rce/id/image/20440911', 'iri')\n",
      "('https://data.labs.pdok.nl/rce/id/monument/38859', 'iri') - https://data.labs.pdok.nl/rce/def/bouwjaar - ('1853', 'http://www.w3.org/2001/XMLSchema#gYear')\n",
      "('https://data.labs.pdok.nl/rce/id/monument/38859', 'iri') - https://data.labs.pdok.nl/rce/def/huisnummer - ('18', 'none')\n",
      "('https://data.labs.pdok.nl/rce/id/monument/38859', 'iri') - https://data.labs.pdok.nl/rce/def/huisnummerCompleet - ('18', 'none')\n",
      "7- 11 - 0.6111111111111112\n"
     ]
    }
   ],
   "source": [
    "cnt_iri = 0\n",
    "cnt_all = 0\n",
    "cnt_literal = 0\n",
    "\n",
    "for t in data.triples[data.triples[:,0]== 283678]:\n",
    "    if data.i2e[t[2]][1]== 'iri':\n",
    "        cnt_iri +=1\n",
    "    else:\n",
    "        cnt_literal +=1\n",
    "    cnt_all +=1\n",
    "    print(f'{data.i2e[t[0]]} - {data.i2r[t[1]]} - {data.i2e[t[2]]}')\n",
    "print(f'{cnt_iri}- {cnt_literal} - {cnt_literal/cnt_all}')"
   ]
  },
  {
   "cell_type": "code",
   "execution_count": 27,
   "metadata": {},
   "outputs": [
    {
     "name": "stdout",
     "output_type": "stream",
     "text": [
      "('https://data.labs.pdok.nl/rce/id/monument/41069', 'iri') - http://dbpedia.org/ontology/city - ('http://sws.geonames.org/2743807/', 'iri')\n",
      "('https://data.labs.pdok.nl/rce/id/monument/41069', 'iri') - http://dbpedia.org/ontology/codeNationalMonument - ('41069', 'http://www.w3.org/2001/XMLSchema#nonNegativeInteger')\n",
      "('https://data.labs.pdok.nl/rce/id/monument/41069', 'iri') - http://dbpedia.org/ontology/name - ('Dorpzigt', 'none')\n",
      "('https://data.labs.pdok.nl/rce/id/monument/41069', 'iri') - http://purl.org/dc/terms/description - ('\"Dorpzigt\". Hoeve, midden 19e eeuw, waarvan het woonhuis een pannen wolfdak draagt. Voorgevel met ingezwenkte zijkanten en kroonlijst. Deuromlijsting met consoles onder het hoofdgestel. Stal met rieten wolfdak en inrijdeur, waarboven halfrond bovenlicht. Natuurstenen hekpalen met opschrift \"Dorpzigt\".', '@nl-nl')\n",
      "('https://data.labs.pdok.nl/rce/id/monument/41069', 'iri') - http://www.opengis.net/ont/geosparql#hasGeometry - ('http://bag.basisregistraties.overheid.nl/bag/id/geometry/97B67CD08D7D71E6B2A4E8560BA9F2D7', 'iri')\n",
      "('https://data.labs.pdok.nl/rce/id/monument/41069', 'iri') - http://www.opengis.net/ont/geosparql#hasGeometry - ('http://bag.basisregistraties.overheid.nl/bag/id/geometry/A795E0374F81DBCCBC6EC4A61A7BFF97', 'iri')\n",
      "('https://data.labs.pdok.nl/rce/id/monument/41069', 'iri') - http://www.opengis.net/ont/geosparql#hasGeometry - ('https://data.labs.pdok.nl/.well-known/genid/777988f2-395c-11e8-8130-54e1adc08017', 'iri')\n",
      "('https://data.labs.pdok.nl/rce/id/monument/41069', 'iri') - http://www.opengis.net/ont/geosparql#sfWithin - ('https://data.labs.pdok.nl/cbs/id/gemeente/GM0588', 'iri')\n",
      "('https://data.labs.pdok.nl/rce/id/monument/41069', 'iri') - http://www.w3.org/2000/01/rdf-schema#seeAlso - ('https://data.labs.pdok.nl/rce/id/monument/41069', 'http://www.w3.org/2001/XMLSchema#anyURI')\n",
      "('https://data.labs.pdok.nl/rce/id/monument/41069', 'iri') - http://www.w3.org/2006/vcard/ns#hasStreetAddress - ('Dorpzigt', 'none')\n",
      "('https://data.labs.pdok.nl/rce/id/monument/41069', 'iri') - http://www.w3.org/2006/vcard/ns#postal-code - ('3284 CA', 'none')\n",
      "('https://data.labs.pdok.nl/rce/id/monument/41069', 'iri') - http://www.w3.org/2006/vcard/ns#street-address - ('Dorpzigt 1 te Zuid-Beijerland, e.a.', 'none')\n",
      "('https://data.labs.pdok.nl/rce/id/monument/41069', 'iri') - http://xmlns.com/foaf/0.1/depiction - ('https://data.labs.pdok.nl/rce/id/image/20225248', 'iri')\n",
      "('https://data.labs.pdok.nl/rce/id/monument/41069', 'iri') - http://xmlns.com/foaf/0.1/depiction - ('https://data.labs.pdok.nl/rce/id/image/20225249', 'iri')\n",
      "('https://data.labs.pdok.nl/rce/id/monument/41069', 'iri') - http://xmlns.com/foaf/0.1/depiction - ('https://data.labs.pdok.nl/rce/id/image/20225250', 'iri')\n",
      "('https://data.labs.pdok.nl/rce/id/monument/41069', 'iri') - http://xmlns.com/foaf/0.1/depiction - ('https://data.labs.pdok.nl/rce/id/image/20225251', 'iri')\n",
      "('https://data.labs.pdok.nl/rce/id/monument/41069', 'iri') - http://xmlns.com/foaf/0.1/depiction - ('https://data.labs.pdok.nl/rce/id/image/20407712', 'iri')\n",
      "('https://data.labs.pdok.nl/rce/id/monument/41069', 'iri') - http://xmlns.com/foaf/0.1/depiction - ('https://data.labs.pdok.nl/rce/id/image/20407715', 'iri')\n",
      "('https://data.labs.pdok.nl/rce/id/monument/41069', 'iri') - http://xmlns.com/foaf/0.1/depiction - ('https://data.labs.pdok.nl/rce/id/image/20407722', 'iri')\n",
      "('https://data.labs.pdok.nl/rce/id/monument/41069', 'iri') - http://xmlns.com/foaf/0.1/depiction - ('https://data.labs.pdok.nl/rce/id/image/20407724', 'iri')\n",
      "('https://data.labs.pdok.nl/rce/id/monument/41069', 'iri') - http://xmlns.com/foaf/0.1/depiction - ('https://data.labs.pdok.nl/rce/id/image/20407725', 'iri')\n",
      "('https://data.labs.pdok.nl/rce/id/monument/41069', 'iri') - https://data.labs.pdok.nl/rce/def/huisnummer - ('1', 'none')\n",
      "('https://data.labs.pdok.nl/rce/id/monument/41069', 'iri') - https://data.labs.pdok.nl/rce/def/huisnummerCompleet - ('1', 'none')\n",
      "14- 9 - 0.391304347826087\n"
     ]
    }
   ],
   "source": [
    "cnt_iri = 0\n",
    "cnt_all = 0\n",
    "cnt_literal = 0\n",
    "\n",
    "for t in data.triples[data.triples[:,0]== 284196]:\n",
    "    if data.i2e[t[2]][1]== 'iri':\n",
    "        cnt_iri +=1\n",
    "    else:\n",
    "        cnt_literal +=1\n",
    "    cnt_all +=1\n",
    "    print(f'{data.i2e[t[0]]} - {data.i2r[t[1]]} - {data.i2e[t[2]]}')\n",
    "print(f'{cnt_iri}- {cnt_literal} - {cnt_literal/cnt_all}')"
   ]
  },
  {
   "cell_type": "code",
   "execution_count": null,
   "metadata": {},
   "outputs": [],
   "source": []
  },
  {
   "cell_type": "code",
   "execution_count": null,
   "metadata": {},
   "outputs": [],
   "source": []
  }
 ],
 "metadata": {
  "kernelspec": {
   "display_name": "rdf-literal-preprocessing-20b3_M0v",
   "language": "python",
   "name": "python3"
  },
  "language_info": {
   "codemirror_mode": {
    "name": "ipython",
    "version": 3
   },
   "file_extension": ".py",
   "mimetype": "text/x-python",
   "name": "python",
   "nbconvert_exporter": "python",
   "pygments_lexer": "ipython3",
   "version": "3.8.10"
  },
  "orig_nbformat": 4
 },
 "nbformat": 4,
 "nbformat_minor": 2
}
