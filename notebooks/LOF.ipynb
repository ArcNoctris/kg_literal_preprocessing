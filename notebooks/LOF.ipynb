{
 "cells": [
  {
   "cell_type": "code",
   "execution_count": 10,
   "metadata": {},
   "outputs": [
    {
     "name": "stdout",
     "output_type": "stream",
     "text": [
      "e:\\00_CODE\\03_Master_Thesis\\rdf-literal-preprocessing\\src\n"
     ]
    }
   ],
   "source": [
    "%cd ../src\n",
    "import pickle\n",
    "import pandas as pd\n",
    "from utils import IMAGE_TYPES, RDF_DATE_TYPES, RDF_NUMBER_TYPES, POTENTIAL_TEXT_TYPES, RDF_DATE_TYPES, get_relevant_relations\n",
    "import matplotlib.pyplot as plt\n",
    "from preprocess.binning import URI_PREFIX, encode_number_sublist\n",
    "import math\n",
    "from sklearn.neighbors import LocalOutlierFactor\n",
    "import torch\n",
    "import numpy as np"
   ]
  },
  {
   "cell_type": "code",
   "execution_count": 8,
   "metadata": {},
   "outputs": [],
   "source": [
    "\n"
   ]
  },
  {
   "cell_type": "code",
   "execution_count": 3,
   "metadata": {},
   "outputs": [],
   "source": [
    "def load_dataset(dataset):\n",
    "    with open(f\"../data/raw/{dataset}_final_torch_None.pickle\", \"rb\") as f:\n",
    "        data = pickle.load(f)\n",
    "    \n",
    "    print(\"# nodes\")\n",
    "    print(len(data.i2e))\n",
    "    print(\"datatypes\")\n",
    "    print(data.datatypes())\n",
    "    return data"
   ]
  },
  {
   "cell_type": "code",
   "execution_count": 4,
   "metadata": {},
   "outputs": [
    {
     "name": "stdout",
     "output_type": "stream",
     "text": [
      "# nodes\n",
      "1153221\n",
      "datatypes\n",
      "['iri', 'blank_node', 'none', 'http://kgbench.info/dt#base64Image', 'http://www.w3.org/2001/XMLSchema#date', 'http://www.w3.org/2001/XMLSchema#decimal', 'http://www.w3.org/2001/XMLSchema#positiveInteger']\n"
     ]
    }
   ],
   "source": [
    "data = load_dataset('amplus')"
   ]
  },
  {
   "cell_type": "code",
   "execution_count": 5,
   "metadata": {},
   "outputs": [],
   "source": [
    "relevent_relations = get_relevant_relations(\n",
    "    data, relevant_types=RDF_NUMBER_TYPES)"
   ]
  },
  {
   "cell_type": "code",
   "execution_count": 7,
   "metadata": {},
   "outputs": [
    {
     "name": "stdout",
     "output_type": "stream",
     "text": [
      "11\n",
      "http://purl.org/collections/nl/am/dimensionValue\n",
      "15\n",
      "http://purl.org/collections/nl/am/exhibitionLref\n"
     ]
    }
   ],
   "source": [
    "for r in relevent_relations:\n",
    "    print(r)\n",
    "    print(data.i2r[r])"
   ]
  },
  {
   "cell_type": "code",
   "execution_count": 11,
   "metadata": {},
   "outputs": [],
   "source": [
    "sub_df = encode_number_sublist(\n",
    "    data.triples[data.triples[:, 1] == relevent_relations[0]], data.i2e)\n",
    "no_LOF = sub_df.clone()\n",
    "\n",
    "\n",
    "lof = LocalOutlierFactor(n_neighbors=200)\n",
    "lof.fit(sub_df[:, 1].to(torch.int).reshape(-1, 1))\n",
    "outlier_scores = lof.negative_outlier_factor_\n",
    "# Create a new column in the numpy array to store the outlier scores\n",
    "# tensor_np = torch.hstack((encoded_df, outlier_scores.reshape(-1,1)))\n",
    "threshold = np.percentile(outlier_scores, 5)\n",
    "# use the outlier scores to filter out the outliers from the numpy array\n",
    "outliers = sub_df[(outlier_scores <= threshold)\n",
    "                    & (outlier_scores < -1)]\n",
    "sub_df = sub_df[(outlier_scores > threshold)\n",
    "                | (outlier_scores >= -1)]\n",
    "\n",
    "\n",
    "\n"
   ]
  },
  {
   "cell_type": "code",
   "execution_count": 17,
   "metadata": {},
   "outputs": [],
   "source": [
    "import seaborn as sns\n",
    "path = \"../docs/plots/\""
   ]
  },
  {
   "cell_type": "code",
   "execution_count": 23,
   "metadata": {},
   "outputs": [
    {
     "data": {
      "text/plain": [
       "<Figure size 640x480 with 0 Axes>"
      ]
     },
     "metadata": {},
     "output_type": "display_data"
    },
    {
     "data": {
      "image/png": "[encoded data removed]",
      "text/plain": [
       "<Figure size 800x300 with 2 Axes>"
      ]
     },
     "metadata": {},
     "output_type": "display_data"
    }
   ],
   "source": [
    "sns.set_theme(context=\"paper\", style=\"whitegrid\",font_scale=1,palette='colorblind')\n",
    "\n",
    "plot_names = ['Regular Binning','LOF Applied Binning'] \n",
    "plt.clf()\n",
    "fix, ax = plt.subplots(1,2, figsize=(8, 3))\n",
    "plt.subplots_adjust(left=0.11, right=0.98, bottom=0.08, top=0.90, wspace=0.22, hspace=0.3)\n",
    "#plt.tight_layout()\n",
    "sub_dfs=[]\n",
    "sub_dfs.append(no_LOF)\n",
    "sub_dfs.append(sub_df)\n",
    "# sub_df = encode_number_sublist(data.triples[torch.isin(data.triples[:, 1],torch.tensor(relevant_relations))],data.i2e)\n",
    "# sub_dfs.append(sub_df)\n",
    "# #ax[i].hist(sub_df[:,1])\n",
    "# sub_df = encode_number_sublist(data.triples[torch.isin(data.triples[:, 1],torch.tensor(relevant_relations[4]))],data.i2e)\n",
    "# sub_dfs.append(sub_df)\n",
    "#ax[i].hist(sub_df[:,1])\n",
    "for i in range(2):\n",
    "    name = plot_names[i]\n",
    "    #df = pd.DataFrame(class_counts[name])\n",
    "    #df = df.rename(columns={\"classes\": \"Classes\", \"counts\": \"Occurences\"})\n",
    "    #sub_df = encode_number_sublist(data.triples[torch.isin(data.triples[:, 1],torch.tensor(relevant_relations[4]))],data.i2e)\n",
    "    df=sub_dfs[i]\n",
    "    sns.histplot(df[:,1],bins=100, ax=ax[i])\n",
    "\n",
    "    #sns.barplot(df, x=\"Classes\", y=\"Occurences\",ax=ax[i][j])\n",
    "\n",
    "    ax[i].set_title(name,fontsize=14)\n",
    "\n",
    "\n",
    "\n",
    "\n",
    "plt.savefig(f'{path}LOF_HIST.pgf', format='pgf', backend='pgf')"
   ]
  },
  {
   "cell_type": "code",
   "execution_count": 14,
   "metadata": {},
   "outputs": [
    {
     "data": {
      "text/plain": [
       "(array([1.47399e+05, 2.85800e+03, 7.15000e+02, 3.42000e+02, 9.40000e+01,\n",
       "        1.05000e+02, 3.30000e+01, 3.10000e+01, 3.20000e+01, 1.20000e+01,\n",
       "        1.20000e+01, 2.30000e+01, 2.20000e+01, 1.60000e+01, 6.00000e+00,\n",
       "        0.00000e+00, 3.00000e+00, 1.00000e+00, 4.00000e+00, 2.00000e+00,\n",
       "        6.00000e+00, 0.00000e+00, 1.00000e+00, 3.00000e+00, 1.00000e+00,\n",
       "        1.00000e+00, 0.00000e+00, 0.00000e+00, 1.00000e+00, 1.00000e+00,\n",
       "        2.00000e+00, 1.00000e+00, 1.00000e+00, 1.00000e+00, 0.00000e+00,\n",
       "        0.00000e+00, 0.00000e+00, 0.00000e+00, 0.00000e+00, 0.00000e+00,\n",
       "        0.00000e+00, 0.00000e+00, 0.00000e+00, 1.00000e+00, 0.00000e+00,\n",
       "        0.00000e+00, 1.00000e+00, 0.00000e+00, 0.00000e+00, 0.00000e+00,\n",
       "        0.00000e+00, 0.00000e+00, 0.00000e+00, 0.00000e+00, 0.00000e+00,\n",
       "        0.00000e+00, 2.00000e+00, 0.00000e+00, 0.00000e+00, 0.00000e+00,\n",
       "        0.00000e+00, 0.00000e+00, 0.00000e+00, 0.00000e+00, 0.00000e+00,\n",
       "        0.00000e+00, 0.00000e+00, 0.00000e+00, 0.00000e+00, 0.00000e+00,\n",
       "        0.00000e+00, 0.00000e+00, 0.00000e+00, 0.00000e+00, 0.00000e+00,\n",
       "        0.00000e+00, 0.00000e+00, 0.00000e+00, 0.00000e+00, 0.00000e+00,\n",
       "        0.00000e+00, 0.00000e+00, 0.00000e+00, 0.00000e+00, 0.00000e+00,\n",
       "        0.00000e+00, 0.00000e+00, 0.00000e+00, 0.00000e+00, 0.00000e+00,\n",
       "        0.00000e+00, 0.00000e+00, 0.00000e+00, 0.00000e+00, 0.00000e+00,\n",
       "        0.00000e+00, 0.00000e+00, 0.00000e+00, 0.00000e+00, 1.00000e+00]),\n",
       " array([    0.        ,   151.05999756,   302.11999512,   453.17999268,\n",
       "          604.23999023,   755.29998779,   906.35998535,  1057.42004395,\n",
       "         1208.47998047,  1359.54003906,  1510.59997559,  1661.66003418,\n",
       "         1812.7199707 ,  1963.7800293 ,  2114.84008789,  2265.89990234,\n",
       "         2416.95996094,  2568.02001953,  2719.08007812,  2870.13989258,\n",
       "         3021.19995117,  3172.26000977,  3323.32006836,  3474.37988281,\n",
       "         3625.43994141,  3776.5       ,  3927.56005859,  4078.62011719,\n",
       "         4229.68017578,  4380.74023438,  4531.79980469,  4682.85986328,\n",
       "         4833.91992188,  4984.97998047,  5136.04003906,  5287.10009766,\n",
       "         5438.16015625,  5589.22021484,  5740.27978516,  5891.33984375,\n",
       "         6042.39990234,  6193.45996094,  6344.52001953,  6495.58007812,\n",
       "         6646.64013672,  6797.70019531,  6948.75976562,  7099.81982422,\n",
       "         7250.87988281,  7401.93994141,  7553.        ,  7704.06005859,\n",
       "         7855.12011719,  8006.18017578,  8157.24023438,  8308.29980469,\n",
       "         8459.36035156,  8610.41992188,  8761.48046875,  8912.54003906,\n",
       "         9063.59960938,  9214.66015625,  9365.71972656,  9516.78027344,\n",
       "         9667.83984375,  9818.90039062,  9969.95996094, 10121.01953125,\n",
       "        10272.08007812, 10423.13964844, 10574.20019531, 10725.25976562,\n",
       "        10876.3203125 , 11027.37988281, 11178.44042969, 11329.5       ,\n",
       "        11480.55957031, 11631.62011719, 11782.6796875 , 11933.74023438,\n",
       "        12084.79980469, 12235.86035156, 12386.91992188, 12537.98046875,\n",
       "        12689.04003906, 12840.09960938, 12991.16015625, 13142.21972656,\n",
       "        13293.28027344, 13444.33984375, 13595.40039062, 13746.45996094,\n",
       "        13897.51953125, 14048.58007812, 14199.63964844, 14350.70019531,\n",
       "        14501.75976562, 14652.8203125 , 14803.87988281, 14954.94042969,\n",
       "        15106.        ]),\n",
       " <BarContainer object of 100 artists>)"
      ]
     },
     "execution_count": 14,
     "metadata": {},
     "output_type": "execute_result"
    },
    {
     "data": {
      "image/png": "[encoded data removed]",
      "text/plain": [
       "<Figure size 640x480 with 1 Axes>"
      ]
     },
     "metadata": {},
     "output_type": "display_data"
    }
   ],
   "source": [
    "import matplotlib.pyplot as plt\n",
    "plt.hist(no_LOF[:,1],bins=100)"
   ]
  },
  {
   "cell_type": "code",
   "execution_count": 15,
   "metadata": {},
   "outputs": [
    {
     "data": {
      "text/plain": [
       "(array([2.5493e+04, 2.9643e+04, 2.2031e+04, 1.5333e+04, 1.0433e+04,\n",
       "        8.3710e+03, 5.7260e+03, 5.2140e+03, 4.5370e+03, 3.8610e+03,\n",
       "        3.2580e+03, 2.4080e+03, 1.7110e+03, 1.0560e+03, 1.0770e+03,\n",
       "        6.6300e+02, 9.3700e+02, 9.0800e+02, 6.7100e+02, 6.3900e+02,\n",
       "        6.1800e+02, 2.0900e+02, 2.5600e+02, 1.6200e+02, 0.0000e+00,\n",
       "        1.3800e+02, 5.9000e+01, 1.1900e+02, 2.2900e+02, 3.4000e+01,\n",
       "        1.1200e+02, 0.0000e+00, 8.5000e+01, 6.0000e+00, 1.4700e+02,\n",
       "        0.0000e+00, 6.7000e+01, 6.9000e+01, 2.4000e+01, 0.0000e+00,\n",
       "        0.0000e+00, 4.8000e+01, 1.1700e+02, 0.0000e+00, 0.0000e+00,\n",
       "        0.0000e+00, 0.0000e+00, 0.0000e+00, 0.0000e+00, 0.0000e+00,\n",
       "        0.0000e+00, 8.3000e+01, 2.9000e+01, 4.6000e+01, 6.1000e+01,\n",
       "        4.0000e+00, 0.0000e+00, 0.0000e+00, 0.0000e+00, 0.0000e+00,\n",
       "        0.0000e+00, 0.0000e+00, 0.0000e+00, 0.0000e+00, 0.0000e+00,\n",
       "        0.0000e+00, 0.0000e+00, 0.0000e+00, 1.4000e+01, 6.1000e+01,\n",
       "        1.3000e+01, 9.0000e+00, 1.0000e+00, 0.0000e+00, 0.0000e+00,\n",
       "        0.0000e+00, 0.0000e+00, 0.0000e+00, 0.0000e+00, 0.0000e+00,\n",
       "        0.0000e+00, 0.0000e+00, 0.0000e+00, 0.0000e+00, 0.0000e+00,\n",
       "        0.0000e+00, 0.0000e+00, 0.0000e+00, 0.0000e+00, 0.0000e+00,\n",
       "        3.0000e+00, 2.2000e+01, 1.1000e+01, 1.9000e+01, 3.0000e+00,\n",
       "        5.0000e+00, 8.0000e+00, 8.0000e+00, 3.9000e+01, 8.0000e+00]),\n",
       " array([  0.   ,   5.875,  11.75 ,  17.625,  23.5  ,  29.375,  35.25 ,\n",
       "         41.125,  47.   ,  52.875,  58.75 ,  64.625,  70.5  ,  76.375,\n",
       "         82.25 ,  88.125,  94.   ,  99.875, 105.75 , 111.625, 117.5  ,\n",
       "        123.375, 129.25 , 135.125, 141.   , 146.875, 152.75 , 158.625,\n",
       "        164.5  , 170.375, 176.25 , 182.125, 188.   , 193.875, 199.75 ,\n",
       "        205.625, 211.5  , 217.375, 223.25 , 229.125, 235.   , 240.875,\n",
       "        246.75 , 252.625, 258.5  , 264.375, 270.25 , 276.125, 282.   ,\n",
       "        287.875, 293.75 , 299.625, 305.5  , 311.375, 317.25 , 323.125,\n",
       "        329.   , 334.875, 340.75 , 346.625, 352.5  , 358.375, 364.25 ,\n",
       "        370.125, 376.   , 381.875, 387.75 , 393.625, 399.5  , 405.375,\n",
       "        411.25 , 417.125, 423.   , 428.875, 434.75 , 440.625, 446.5  ,\n",
       "        452.375, 458.25 , 464.125, 470.   , 475.875, 481.75 , 487.625,\n",
       "        493.5  , 499.375, 505.25 , 511.125, 517.   , 522.875, 528.75 ,\n",
       "        534.625, 540.5  , 546.375, 552.25 , 558.125, 564.   , 569.875,\n",
       "        575.75 , 581.625, 587.5  ]),\n",
       " <BarContainer object of 100 artists>)"
      ]
     },
     "execution_count": 15,
     "metadata": {},
     "output_type": "execute_result"
    },
    {
     "data": {
      "image/png": "[encoded data removed]",
      "text/plain": [
       "<Figure size 640x480 with 1 Axes>"
      ]
     },
     "metadata": {},
     "output_type": "display_data"
    }
   ],
   "source": [
    "import matplotlib.pyplot as plt\n",
    "plt.hist(sub_df[:,1],bins=100)"
   ]
  },
  {
   "cell_type": "code",
   "execution_count": null,
   "metadata": {},
   "outputs": [],
   "source": [
    "def bin_numbers(data: Data, num_bins=3, use_lof=False, num_bins_as_percent=False, equal_height_binning=False, **kwargs):\n",
    "    relevent_relations = get_relevant_relations(\n",
    "        data, relevant_types=RDF_NUMBER_TYPES)\n",
    "\n",
    "    bin_percent = num_bins / 100\n",
    "\n",
    "    if f'{URI_PREFIX}predicat#prevBin' not in data.r2i:\n",
    "        p = f'{URI_PREFIX}predicat#prevBin'\n",
    "        new_id = len(data.i2r)\n",
    "        data.r2i[p] = new_id\n",
    "        data.i2r.append(p)\n",
    "        data.num_relations += 1\n",
    "\n",
    "        p = f'{URI_PREFIX}predicat#nextBin'\n",
    "        new_id = len(data.i2r)\n",
    "        data.r2i[p] = new_id\n",
    "        data.i2r.append(p)\n",
    "        data.num_relations += 1\n",
    "\n",
    "    for r in relevent_relations:\n",
    "        p = f'{URI_PREFIX}predicat#binning{r}'\n",
    "        new_id = len(data.i2r)\n",
    "        data.r2i[p] = new_id\n",
    "        data.i2r.append(p)\n",
    "        data.num_relations += 1\n",
    "\n",
    "    for relation in relevent_relations:\n",
    "        sub_df = encode_number_sublist(\n",
    "            data.triples[data.triples[:, 1] == relation], data.i2e)\n",
    "\n",
    "        if num_bins_as_percent:\n",
    "            num_bins = math.floor(len(sub_df[:, 1].unique()) * bin_percent)\n",
    "            if num_bins < 1:\n",
    "                num_bins = 1\n",
    "            print(num_bins)\n",
    "\n",
    "        for b in range(num_bins):\n",
    "            o = (f'{URI_PREFIX}entity#binning{b+1}#relation{relation}',\n",
    "                 f'{URI_PREFIX}datatype#bin')\n",
    "            new_id = len(data.i2e)\n",
    "            data.e2i[o] = new_id\n",
    "            data.i2e.append(o)\n",
    "            data.num_entities += 1\n",
    "            if (f'{URI_PREFIX}entity#binning{b}#relation{relation}', f'{URI_PREFIX}datatype#bin') in data.e2i:\n",
    "                data = add_triple(data, o, f'{URI_PREFIX}predicat#prevBin', (\n",
    "                    f'{URI_PREFIX}entity#binning{b}#relation{relation}', f'{URI_PREFIX}datatype#bin'))\n",
    "                data = add_triple(data, (f'{URI_PREFIX}entity#binning{b}#relation{relation}',\n",
    "                                  f'{URI_PREFIX}datatype#bin'), f'{URI_PREFIX}predicat#nextBin', o)\n",
    "\n",
    "        augmented_df = data.triples.clone()\n",
    "        augmented_df = augmented_df[augmented_df[:, 1] == relation]\n",
    "\n",
    "        if (use_lof):\n",
    "            lof = LocalOutlierFactor(n_neighbors=200)\n",
    "            lof.fit(sub_df[:, 1].to(torch.int).reshape(-1, 1))\n",
    "            outlier_scores = lof.negative_outlier_factor_\n",
    "            # Create a new column in the numpy array to store the outlier scores\n",
    "            # tensor_np = torch.hstack((encoded_df, outlier_scores.reshape(-1,1)))\n",
    "            threshold = np.percentile(outlier_scores, 5)\n",
    "            # use the outlier scores to filter out the outliers from the numpy array\n",
    "            outliers = sub_df[(outlier_scores <= threshold)\n",
    "                              & (outlier_scores < -1)]\n",
    "            sub_df = sub_df[(outlier_scores > threshold)\n",
    "                            | (outlier_scores >= -1)]\n",
    "            outlier_df = augmented_df[(outlier_scores <= threshold) & (\n",
    "                outlier_scores < -1)].clone()\n",
    "            augmented_df = augmented_df[(\n",
    "                outlier_scores > threshold) | (outlier_scores >= -1)]\n",
    "            if len(outliers) > 0:\n",
    "\n",
    "                data.i2r.append(\n",
    "                    f'{URI_PREFIX}predicat#outlier-{relation}')\n",
    "                data.r2i[f'{URI_PREFIX}predicat#outlier-{relation}'] = data.num_relations\n",
    "\n",
    "                data.i2e.append(\n",
    "                    (f'{URI_PREFIX}entitys#outlier-{relation}', f'{URI_PREFIX}outlier'))\n",
    "                data.e2i[(f'{URI_PREFIX}entitys#outlier-{relation}',\n",
    "                          f'{URI_PREFIX}outlier')] = data.num_entities\n",
    "\n",
    "                data.num_relations += 1\n",
    "                data.num_entities += 1\n",
    "\n",
    "                object_mapping = np.vectorize(lambda t: data.e2i[(\n",
    "                    f'{URI_PREFIX}entitys#outlier-{relation}', f'{URI_PREFIX}outlier')])\n",
    "\n",
    "                predicat_mapping = np.vectorize(\n",
    "                    lambda t: data.r2i[f'{URI_PREFIX}predicat#outlier-{relation}'])\n",
    "\n",
    "                outlier_df[:, 1] = torch.tensor(\n",
    "                    np.array([predicat_mapping(outliers[:, 0])]), dtype=torch.int32)\n",
    "                outlier_df[:, 2] = torch.tensor(\n",
    "                    np.array([object_mapping(outliers[:, 0])]), dtype=torch.int32)\n",
    "                data.triples = torch.cat((data.triples, outlier_df), 0)\n",
    "\n",
    "        # numpy is used here since torch.histc was not working for some reason.\n",
    "        sub_df = torch.cat(  # put bins and sub_df together\n",
    "            (sub_df, torch.from_numpy(  # get numpy solutions back\n",
    "                np.digitize(  # assign for each value in sub_df the corresponding bin\n",
    "                    sub_df[:, 1], np.histogram(  # calculate n bins based on values in sub_df\n",
    "                        sub_df[:, 1], num_bins)[1][:-1]\n",
    "                )\n",
    "            ).reshape(-1, 1)  # transfrom x tensor into (x,1) tensor to fit (x,2) shape of sub_df\n",
    "            ), 1)\n",
    "\n",
    "        object_mapping = np.vectorize(lambda t: data.e2i[(\n",
    "            f'{URI_PREFIX}entity#binning{int(t)}#relation{relation}', f'{URI_PREFIX}datatype#bin')])\n",
    "\n",
    "        predicat_mapping = np.vectorize(\n",
    "            lambda t: data.r2i[f'{URI_PREFIX}predicat#binning{relation}'])\n",
    "\n",
    "        augmented_df[:, 1] = torch.tensor(\n",
    "            np.array([predicat_mapping(sub_df[:, 2])]), dtype=torch.int32)\n",
    "        augmented_df[:, 2] = torch.tensor(\n",
    "            np.array([object_mapping(sub_df[:, 2])]), dtype=torch.int32)\n",
    "        data.triples = torch.cat((data.triples, augmented_df), 0)\n",
    "\n",
    "    return data"
   ]
  }
 ],
 "metadata": {
  "kernelspec": {
   "display_name": "rdf-literal-preprocessing-20b3_M0v",
   "language": "python",
   "name": "python3"
  },
  "language_info": {
   "codemirror_mode": {
    "name": "ipython",
    "version": 3
   },
   "file_extension": ".py",
   "mimetype": "text/x-python",
   "name": "python",
   "nbconvert_exporter": "python",
   "pygments_lexer": "ipython3",
   "version": "3.8.10"
  },
  "orig_nbformat": 4
 },
 "nbformat": 4,
 "nbformat_minor": 2
}
