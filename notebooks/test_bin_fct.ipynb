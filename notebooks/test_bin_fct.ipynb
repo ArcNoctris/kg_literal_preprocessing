{
 "cells": [
  {
   "cell_type": "code",
   "execution_count": 1,
   "metadata": {},
   "outputs": [
    {
     "name": "stdout",
     "output_type": "stream",
     "text": [
      "e:\\00_CODE\\03_Master_Thesis\\rdf-literal-preprocessing\\src\n"
     ]
    },
    {
     "name": "stderr",
     "output_type": "stream",
     "text": [
      "c:\\Users\\Noctris\\.virtualenvs\\rdf-literal-preprocessing-20b3_M0v\\lib\\site-packages\\tqdm\\auto.py:22: TqdmWarning: IProgress not found. Please update jupyter and ipywidgets. See https://ipywidgets.readthedocs.io/en/stable/user_install.html\n",
      "  from .autonotebook import tqdm as notebook_tqdm\n"
     ]
    }
   ],
   "source": [
    "%cd ../src\n",
    "import pickle\n",
    "import pandas as pd\n",
    "from utils import IMAGE_TYPES, RDF_DATE_TYPES, RDF_NUMBER_TYPES, POTENTIAL_TEXT_TYPES\n",
    "import matplotlib.pyplot as plt\n",
    "import torch\n",
    "import numpy as np"
   ]
  },
  {
   "cell_type": "code",
   "execution_count": 2,
   "metadata": {},
   "outputs": [],
   "source": [
    "def load_dataset(dataset):\n",
    "    with open(f\"../data/raw/{dataset}_final_torch_None.pickle\", \"rb\") as f:\n",
    "        data = pickle.load(f)\n",
    "    \n",
    "    print(\"# nodes\")\n",
    "    print(len(data.i2e))\n",
    "    print(\"datatypes\")\n",
    "    print(data.datatypes())\n",
    "    return data"
   ]
  },
  {
   "cell_type": "code",
   "execution_count": 3,
   "metadata": {},
   "outputs": [
    {
     "name": "stdout",
     "output_type": "stream",
     "text": [
      "# nodes\n",
      "1153221\n",
      "datatypes\n",
      "['iri', 'blank_node', 'none', 'http://kgbench.info/dt#base64Image', 'http://www.w3.org/2001/XMLSchema#date', 'http://www.w3.org/2001/XMLSchema#decimal', 'http://www.w3.org/2001/XMLSchema#positiveInteger']\n"
     ]
    }
   ],
   "source": [
    "data = load_dataset('amplus')"
   ]
  },
  {
   "cell_type": "code",
   "execution_count": 4,
   "metadata": {},
   "outputs": [],
   "source": [
    "from utils import get_relevant_relations, RDF_NUMBER_TYPES\n",
    "relevant_relations = get_relevant_relations(data, RDF_NUMBER_TYPES)"
   ]
  },
  {
   "cell_type": "code",
   "execution_count": 5,
   "metadata": {},
   "outputs": [],
   "source": [
    "\n",
    "from preprocess.binning import encode_number_sublist\n",
    "sub_df = encode_number_sublist(data.triples[data.triples[:,1]== relevant_relations[0]], data.i2e)"
   ]
  },
  {
   "cell_type": "code",
   "execution_count": 12,
   "metadata": {},
   "outputs": [],
   "source": [
    "num_bins = 10"
   ]
  },
  {
   "cell_type": "code",
   "execution_count": 14,
   "metadata": {},
   "outputs": [
    {
     "data": {
      "text/plain": [
       "tensor([[1],\n",
       "        [1],\n",
       "        [1],\n",
       "        ...,\n",
       "        [1],\n",
       "        [1],\n",
       "        [1]])"
      ]
     },
     "execution_count": 14,
     "metadata": {},
     "output_type": "execute_result"
    }
   ],
   "source": [
    "sub_df[:,0].to(torch.int32)\n",
    "torch.from_numpy(  # get numpy solutions back\n",
    "                np.digitize(  # assign for each value in sub_df the corresponding bin\n",
    "                    sub_df[:, 1], np.histogram(  # calculate n bins based on values in sub_df\n",
    "                        sub_df[:, 1].to(torch.int32), num_bins)[1][:-1]\n",
    "                )\n",
    "            ).reshape(-1, 1)"
   ]
  },
  {
   "cell_type": "code",
   "execution_count": 11,
   "metadata": {},
   "outputs": [
    {
     "data": {
      "text/plain": [
       "(array([151621,     89,     14,      5,      2,      2,      0,      0,\n",
       "             0,      1], dtype=int64),\n",
       " array([    0. ,  1510.6,  3021.2,  4531.8,  6042.4,  7553. ,  9063.6,\n",
       "        10574.2, 12084.8, 13595.4, 15106. ]))"
      ]
     },
     "execution_count": 11,
     "metadata": {},
     "output_type": "execute_result"
    }
   ],
   "source": [
    "sub_df[:,0].to(torch.int32)\n",
    "np.histogram(  # calculate n bins based on values in sub_df\n",
    "                        sub_df[:, 1].to(torch.int32), 10)"
   ]
  },
  {
   "cell_type": "code",
   "execution_count": 10,
   "metadata": {},
   "outputs": [
    {
     "data": {
      "text/plain": [
       "[11, 15]"
      ]
     },
     "execution_count": 10,
     "metadata": {},
     "output_type": "execute_result"
    }
   ],
   "source": [
    "relevant_relations"
   ]
  },
  {
   "cell_type": "code",
   "execution_count": 10,
   "metadata": {},
   "outputs": [
    {
     "data": {
      "text/plain": [
       "tensor([[ 123149,       9, 1083089],\n",
       "        [ 123149,      10, 1151011],\n",
       "        [ 123149,      11,   13270],\n",
       "        [ 123149,      30,  778677],\n",
       "        [ 123156,      30,  778681],\n",
       "        [ 123156,      31,  872173]], dtype=torch.int32)"
      ]
     },
     "execution_count": 10,
     "metadata": {},
     "output_type": "execute_result"
    }
   ],
   "source": [
    "data.triples[torch.isin(data.triples[:,0], data.triples[:5,0])]"
   ]
  },
  {
   "cell_type": "code",
   "execution_count": 30,
   "metadata": {},
   "outputs": [],
   "source": [
    "from preprocess import bin_numbers_lof_3, bin_numbers_percentage_15 \n",
    "# data_aug = bin_numbers_lof_3(data)\n",
    "data_aug = bin_numbers_percentage_15(data)"
   ]
  },
  {
   "cell_type": "code",
   "execution_count": 33,
   "metadata": {},
   "outputs": [
    {
     "data": {
      "text/plain": [
       "'http://multimodal-knowledge-graph-augmentation.com/predicat#binning11'"
      ]
     },
     "execution_count": 33,
     "metadata": {},
     "output_type": "execute_result"
    }
   ],
   "source": [
    "data_aug.i2r[39]"
   ]
  },
  {
   "cell_type": "code",
   "execution_count": 25,
   "metadata": {},
   "outputs": [
    {
     "data": {
      "text/plain": [
       "1153225"
      ]
     },
     "execution_count": 25,
     "metadata": {},
     "output_type": "execute_result"
    }
   ],
   "source": [
    "data_aug.e2i[('http://multimodal-knowledge-graph-augmentation.com/entity#binning1#relation15', 'http://multimodal-knowledge-graph-augmentation.com/datatype#bin')]"
   ]
  },
  {
   "cell_type": "code",
   "execution_count": 16,
   "metadata": {},
   "outputs": [
    {
     "data": {
      "text/plain": [
       "'http://multimodal-knowledge-graph-augmentation.com/predicat#outlier-11'"
      ]
     },
     "execution_count": 16,
     "metadata": {},
     "output_type": "execute_result"
    }
   ],
   "source": [
    "data_aug.i2r[37]"
   ]
  },
  {
   "cell_type": "code",
   "execution_count": 34,
   "metadata": {},
   "outputs": [
    {
     "data": {
      "text/plain": [
       "(tensor([1153229, 1153230, 1153231, 1153232, 1153233, 1153234, 1153235, 1153236,\n",
       "         1153237, 1153238, 1153239, 1153240, 1153241, 1153242, 1153243, 1153244,\n",
       "         1153245, 1153246, 1153247, 1153248, 1153249, 1153250, 1153251, 1153252,\n",
       "         1153253, 1153254, 1153255, 1153256, 1153257, 1153258, 1153259, 1153260,\n",
       "         1153261, 1153262, 1153263, 1153264, 1153265, 1153266, 1153267, 1153268,\n",
       "         1153269, 1153270, 1153271, 1153272, 1153273, 1153274, 1153275, 1153276,\n",
       "         1153277, 1153278, 1153279, 1153280, 1153281, 1153282, 1153283, 1153284,\n",
       "         1153285, 1153286, 1153287, 1153288, 1153289, 1153290, 1153291, 1153292,\n",
       "         1153293, 1153294, 1153295, 1153296, 1153298, 1153300, 1153301, 1153302,\n",
       "         1153303, 1153304, 1153305, 1153306, 1153307, 1153308, 1153309, 1153310,\n",
       "         1153311, 1153312, 1153313, 1153314, 1153315, 1153316, 1153317, 1153318,\n",
       "         1153319, 1153322, 1153324, 1153325, 1153326, 1153328, 1153330, 1153331,\n",
       "         1153334, 1153335, 1153336, 1153338, 1153341, 1153342, 1153343, 1153344,\n",
       "         1153345, 1153346, 1153348, 1153349, 1153350, 1153351, 1153352, 1153353,\n",
       "         1153354, 1153355, 1153356, 1153357, 1153358, 1153359, 1153360, 1153361,\n",
       "         1153362, 1153363, 1153365, 1153366, 1153367, 1153372, 1153373, 1153374,\n",
       "         1153376, 1153394, 1153395, 1153412, 1153413, 1153417, 1153422, 1153424,\n",
       "         1153431, 1153434, 1153435, 1153439, 1153441, 1153463, 1153465, 1153467,\n",
       "         1153476, 1153490, 1153523, 1153534, 1153541, 1153542, 1153545, 1153559,\n",
       "         1153569, 1153676, 1153702, 1153803, 1154248], dtype=torch.int32),\n",
       " tensor([67077, 36247, 16613, 11027,  6278,  3463,  2777,  1693,  1254,   770,\n",
       "           629,   478,   421,   382,   273,   211,   236,   148,   130,    82,\n",
       "           124,   120,    84,    90,    69,    49,    30,   101,    44,    41,\n",
       "            39,    43,    26,    38,    17,    35,    40,    18,    19,    85,\n",
       "            13,    12,    16,    14,     6,    10,     4,     8,     5,    13,\n",
       "             6,    10,     5,     6,    15,     4,    41,     4,     2,     5,\n",
       "            12,     7,     6,     3,     3,     4,     6,     2,     2,     1,\n",
       "             5,     2,     5,     5,     2,     2,     3,     2,     2,     4,\n",
       "             4,     1,     5,     3,     3,     3,     3,     3,     6,     2,\n",
       "             1,     1,     3,     3,     2,     3,     2,     2,     4,     1,\n",
       "             2,     1,     3,     1,     1,     4,     4,     2,     4,     2,\n",
       "             3,     3,     2,     1,     3,     3,     3,     1,     2,     3,\n",
       "             5,     5,     1,     1,     1,     1,     3,     1,     1,     2,\n",
       "             1,     1,     1,     1,     2,     1,     1,     2,     1,     2,\n",
       "             1,     2,     1,     1,     1,     1,     1,     1,     1,     1,\n",
       "             1,     1,     1,     1,     1,     2,     1]))"
      ]
     },
     "execution_count": 34,
     "metadata": {},
     "output_type": "execute_result"
    }
   ],
   "source": [
    "data_aug.triples[data_aug.triples[:,1]== 39][:,2].unique(return_counts=True)"
   ]
  },
  {
   "cell_type": "code",
   "execution_count": 24,
   "metadata": {},
   "outputs": [
    {
     "data": {
      "text/plain": [
       "('99', 'http://www.w3.org/2001/XMLSchema#decimal')"
      ]
     },
     "execution_count": 24,
     "metadata": {},
     "output_type": "execute_result"
    }
   ],
   "source": [
    "data_aug.i2e[19420]"
   ]
  },
  {
   "cell_type": "code",
   "execution_count": 23,
   "metadata": {},
   "outputs": [
    {
     "data": {
      "text/plain": [
       "tensor([[ 123314,       9, 1070444],\n",
       "        [ 123314,      10, 1151011],\n",
       "        [ 123314,      11,   19420],\n",
       "        [ 123314,      30,  778677],\n",
       "        [ 123314,      37, 1153224]], dtype=torch.int32)"
      ]
     },
     "execution_count": 23,
     "metadata": {},
     "output_type": "execute_result"
    }
   ],
   "source": [
    "data_aug.triples[data_aug.triples[:,0]== 123314]"
   ]
  },
  {
   "cell_type": "code",
   "execution_count": 9,
   "metadata": {},
   "outputs": [
    {
     "data": {
      "text/plain": [
       "[('ô Manoach, stel ´t hert te vreên; Deeze Eng´le vlucht sterkt de Eng´le-reên, De wetgeving op Sinaï',\n",
       "  'none'),\n",
       " ('‘Eén rechts, één averechts’ (‘knit and purl’)', 'none'),\n",
       " ('http://multimodal-knowledge-graph-augmentation.com/entity#binning1#relation11',\n",
       "  'http://multimodal-knowledge-graph-augmentation.com/datatype#bin'),\n",
       " ('http://multimodal-knowledge-graph-augmentation.com/entity#binning2#relation11',\n",
       "  'http://multimodal-knowledge-graph-augmentation.com/datatype#bin'),\n",
       " ('http://multimodal-knowledge-graph-augmentation.com/entity#binning3#relation11',\n",
       "  'http://multimodal-knowledge-graph-augmentation.com/datatype#bin'),\n",
       " ('http://multimodal-knowledge-graph-augmentation.com/entitys#outlier-11',\n",
       "  'http://multimodal-knowledge-graph-augmentation.com/outlier'),\n",
       " ('http://multimodal-knowledge-graph-augmentation.com/entity#binning1#relation15',\n",
       "  'http://multimodal-knowledge-graph-augmentation.com/datatype#bin'),\n",
       " ('http://multimodal-knowledge-graph-augmentation.com/entity#binning2#relation15',\n",
       "  'http://multimodal-knowledge-graph-augmentation.com/datatype#bin'),\n",
       " ('http://multimodal-knowledge-graph-augmentation.com/entity#binning3#relation15',\n",
       "  'http://multimodal-knowledge-graph-augmentation.com/datatype#bin'),\n",
       " ('http://multimodal-knowledge-graph-augmentation.com/entitys#outlier-15',\n",
       "  'http://multimodal-knowledge-graph-augmentation.com/outlier')]"
      ]
     },
     "execution_count": 9,
     "metadata": {},
     "output_type": "execute_result"
    }
   ],
   "source": [
    "data_aug.i2e[-10:]"
   ]
  },
  {
   "cell_type": "code",
   "execution_count": 6,
   "metadata": {},
   "outputs": [
    {
     "data": {
      "text/plain": [
       "2683405"
      ]
     },
     "execution_count": 6,
     "metadata": {},
     "output_type": "execute_result"
    }
   ],
   "source": [
    "len(data_aug.triples)"
   ]
  },
  {
   "cell_type": "code",
   "execution_count": 8,
   "metadata": {},
   "outputs": [
    {
     "data": {
      "text/plain": [
       "2683433"
      ]
     },
     "execution_count": 8,
     "metadata": {},
     "output_type": "execute_result"
    }
   ],
   "source": [
    "len(data_aug.triples)"
   ]
  },
  {
   "cell_type": "code",
   "execution_count": 15,
   "metadata": {},
   "outputs": [
    {
     "data": {
      "text/plain": [
       "tensor([[670633,     15,  16240]], dtype=torch.int32)"
      ]
     },
     "execution_count": 15,
     "metadata": {},
     "output_type": "execute_result"
    }
   ],
   "source": [
    "data_aug.triples[(data_aug.triples[:,0]==670633)&(data_aug.triples[:,1]==15)]"
   ]
  },
  {
   "cell_type": "code",
   "execution_count": 9,
   "metadata": {},
   "outputs": [
    {
     "data": {
      "text/plain": [
       "tensor([[1153236,      34, 1153237],\n",
       "        [1153238,      33, 1153237],\n",
       "        [ 123821,      36, 1153237],\n",
       "        [ 127216,      36, 1153237],\n",
       "        [ 128683,      36, 1153237],\n",
       "        [ 149083,      36, 1153237],\n",
       "        [ 172239,      36, 1153237],\n",
       "        [ 183097,      36, 1153237],\n",
       "        [ 207964,      36, 1153237],\n",
       "        [ 208382,      36, 1153237],\n",
       "        [ 217638,      36, 1153237],\n",
       "        [ 244136,      36, 1153237],\n",
       "        [ 259362,      36, 1153237],\n",
       "        [ 261619,      36, 1153237],\n",
       "        [ 267153,      36, 1153237],\n",
       "        [ 270919,      36, 1153237],\n",
       "        [ 272760,      36, 1153237],\n",
       "        [ 277309,      36, 1153237],\n",
       "        [ 295323,      36, 1153237],\n",
       "        [ 300775,      36, 1153237],\n",
       "        [ 305186,      36, 1153237],\n",
       "        [ 314590,      36, 1153237],\n",
       "        [ 317800,      36, 1153237],\n",
       "        [ 318826,      36, 1153237],\n",
       "        [ 322370,      36, 1153237],\n",
       "        [ 329642,      36, 1153237],\n",
       "        [ 331956,      36, 1153237],\n",
       "        [ 335644,      36, 1153237],\n",
       "        [ 367131,      36, 1153237],\n",
       "        [ 371645,      36, 1153237],\n",
       "        [ 373406,      36, 1153237],\n",
       "        [ 384615,      36, 1153237],\n",
       "        [ 386016,      36, 1153237],\n",
       "        [ 410284,      36, 1153237],\n",
       "        [ 411467,      36, 1153237],\n",
       "        [ 422255,      36, 1153237],\n",
       "        [ 427416,      36, 1153237],\n",
       "        [ 428237,      36, 1153237],\n",
       "        [ 432484,      36, 1153237],\n",
       "        [ 437617,      36, 1153237],\n",
       "        [ 483483,      36, 1153237],\n",
       "        [ 489890,      36, 1153237],\n",
       "        [ 506849,      36, 1153237],\n",
       "        [ 520614,      36, 1153237],\n",
       "        [ 521444,      36, 1153237],\n",
       "        [ 529670,      36, 1153237],\n",
       "        [ 535734,      36, 1153237],\n",
       "        [ 539384,      36, 1153237],\n",
       "        [ 540127,      36, 1153237],\n",
       "        [ 559112,      36, 1153237],\n",
       "        [ 561362,      36, 1153237],\n",
       "        [ 582733,      36, 1153237],\n",
       "        [ 599405,      36, 1153237],\n",
       "        [ 612604,      36, 1153237],\n",
       "        [ 613985,      36, 1153237],\n",
       "        [ 614914,      36, 1153237],\n",
       "        [ 618739,      36, 1153237],\n",
       "        [ 629718,      36, 1153237],\n",
       "        [ 637751,      36, 1153237],\n",
       "        [ 646463,      36, 1153237],\n",
       "        [ 647706,      36, 1153237],\n",
       "        [ 651433,      36, 1153237],\n",
       "        [ 653038,      36, 1153237],\n",
       "        [ 656899,      36, 1153237],\n",
       "        [ 670633,      36, 1153237],\n",
       "        [ 673530,      36, 1153237]], dtype=torch.int32)"
      ]
     },
     "execution_count": 9,
     "metadata": {},
     "output_type": "execute_result"
    }
   ],
   "source": [
    "data_aug.triples[(data_aug.triples[:,2]==1153237)]"
   ]
  },
  {
   "cell_type": "code",
   "execution_count": 23,
   "metadata": {},
   "outputs": [
    {
     "data": {
      "text/plain": [
       "1153241"
      ]
     },
     "execution_count": 23,
     "metadata": {},
     "output_type": "execute_result"
    }
   ],
   "source": [
    "len(data_aug.i2e)"
   ]
  },
  {
   "cell_type": "code",
   "execution_count": 11,
   "metadata": {},
   "outputs": [
    {
     "data": {
      "text/plain": [
       "('47999', 'http://www.w3.org/2001/XMLSchema#positiveInteger')"
      ]
     },
     "execution_count": 11,
     "metadata": {},
     "output_type": "execute_result"
    }
   ],
   "source": [
    "data.i2e[16240]"
   ]
  },
  {
   "cell_type": "code",
   "execution_count": 12,
   "metadata": {},
   "outputs": [
    {
     "data": {
      "text/plain": [
       "tensor([[ 123149,       9, 1083089],\n",
       "        [ 123149,      10, 1151011],\n",
       "        [ 123149,      11,   13270],\n",
       "        ...,\n",
       "        [ 689268,      36, 1153231],\n",
       "        [ 689313,      36, 1153231],\n",
       "        [ 689381,      36, 1153231]], dtype=torch.int32)"
      ]
     },
     "execution_count": 12,
     "metadata": {},
     "output_type": "execute_result"
    }
   ],
   "source": [
    "data_aug.triples"
   ]
  },
  {
   "cell_type": "code",
   "execution_count": 8,
   "metadata": {},
   "outputs": [
    {
     "data": {
      "text/plain": [
       "1153221"
      ]
     },
     "execution_count": 8,
     "metadata": {},
     "output_type": "execute_result"
    }
   ],
   "source": [
    "data.num_entities"
   ]
  },
  {
   "cell_type": "code",
   "execution_count": 6,
   "metadata": {},
   "outputs": [
    {
     "data": {
      "text/plain": [
       "1153241"
      ]
     },
     "execution_count": 6,
     "metadata": {},
     "output_type": "execute_result"
    }
   ],
   "source": [
    "data_aug.num_entities"
   ]
  },
  {
   "cell_type": "code",
   "execution_count": null,
   "metadata": {},
   "outputs": [],
   "source": []
  }
 ],
 "metadata": {
  "kernelspec": {
   "display_name": "rdf-literal-preprocessing-20b3_M0v",
   "language": "python",
   "name": "python3"
  },
  "language_info": {
   "codemirror_mode": {
    "name": "ipython",
    "version": 3
   },
   "file_extension": ".py",
   "mimetype": "text/x-python",
   "name": "python",
   "nbconvert_exporter": "python",
   "pygments_lexer": "ipython3",
   "version": "3.8.10"
  },
  "orig_nbformat": 4
 },
 "nbformat": 4,
 "nbformat_minor": 2
}
